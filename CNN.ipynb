{
  "nbformat": 4,
  "nbformat_minor": 0,
  "metadata": {
    "colab": {
      "name": "CNN.ipynb",
      "provenance": [],
      "authorship_tag": "ABX9TyNjdqZLBzPCo8BI4YY5EGFr",
      "include_colab_link": true
    },
    "kernelspec": {
      "name": "python3",
      "display_name": "Python 3"
    },
    "language_info": {
      "name": "python"
    }
  },
  "cells": [
    {
      "cell_type": "markdown",
      "metadata": {
        "id": "view-in-github",
        "colab_type": "text"
      },
      "source": [
        "<a href=\"https://colab.research.google.com/github/garfield-gray/NeuralNetwork/blob/main/CNN.ipynb\" target=\"_parent\"><img src=\"https://colab.research.google.com/assets/colab-badge.svg\" alt=\"Open In Colab\"/></a>"
      ]
    },
    {
      "cell_type": "markdown",
      "source": [
        "$$\n",
        "In\\;the\\;name\\;of\\;God\n",
        "\\\\Project\\;of\\;ML\n",
        "\\\\CNN\n",
        "$$"
      ],
      "metadata": {
        "id": "2mrqiwj7To8X"
      }
    },
    {
      "cell_type": "markdown",
      "source": [
        "# Problem 1"
      ],
      "metadata": {
        "id": "lDJbKDg9Xoxn"
      }
    },
    {
      "cell_type": "code",
      "source": [
        "import tensorflow as tf\n",
        "import numpy as np \n",
        "from matplotlib import pyplot as plt\n",
        "import sklearn as sl\n",
        "import seaborn as sb\n"
      ],
      "metadata": {
        "id": "GKvoIWxeXmsJ"
      },
      "execution_count": 66,
      "outputs": []
    },
    {
      "cell_type": "code",
      "source": [
        "(X_train,Y_train), (X_test, Y_test) = tf.keras.datasets.fashion_mnist.load_data()"
      ],
      "metadata": {
        "id": "s8idRcTaUE9A"
      },
      "execution_count": 44,
      "outputs": []
    },
    {
      "cell_type": "code",
      "source": [
        "X_train.shape\n",
        "# it's literally a tensor=)"
      ],
      "metadata": {
        "colab": {
          "base_uri": "https://localhost:8080/"
        },
        "id": "L6cw-UzbjTlv",
        "outputId": "ea6b06fa-effe-4cbd-b1b5-cfde5bdaf367"
      },
      "execution_count": 45,
      "outputs": [
        {
          "output_type": "execute_result",
          "data": {
            "text/plain": [
              "(60000, 28, 28)"
            ]
          },
          "metadata": {},
          "execution_count": 45
        }
      ]
    },
    {
      "cell_type": "code",
      "source": [
        "X_train[0][16][8]"
      ],
      "metadata": {
        "colab": {
          "base_uri": "https://localhost:8080/"
        },
        "id": "0P2EYl6J-UNz",
        "outputId": "1cc6eafd-539f-44f0-fe7e-9b5db89ec19f"
      },
      "execution_count": 46,
      "outputs": [
        {
          "output_type": "execute_result",
          "data": {
            "text/plain": [
              "189"
            ]
          },
          "metadata": {},
          "execution_count": 46
        }
      ]
    },
    {
      "cell_type": "code",
      "source": [
        "#to see how inputs look like:\n",
        "plt.imshow(X_train[8], interpolation='nearest')\n",
        "plt.show()"
      ],
      "metadata": {
        "colab": {
          "base_uri": "https://localhost:8080/",
          "height": 265
        },
        "id": "GQ_xqiDk-ejZ",
        "outputId": "7a98d023-a5ef-4793-8e20-4d8d84175baf"
      },
      "execution_count": 47,
      "outputs": [
        {
          "output_type": "display_data",
          "data": {
            "text/plain": [
              "<Figure size 432x288 with 1 Axes>"
            ],
            "image/png": "[encoded data removed]"
          },
          "metadata": {
            "needs_background": "light"
          }
        }
      ]
    },
    {
      "cell_type": "code",
      "source": [
        "Y_train[6:20]"
      ],
      "metadata": {
        "colab": {
          "base_uri": "https://localhost:8080/"
        },
        "id": "2yTNDGOM_QqL",
        "outputId": "b7a481da-7743-4f51-9c02-6c0362ea79d8"
      },
      "execution_count": 48,
      "outputs": [
        {
          "output_type": "execute_result",
          "data": {
            "text/plain": [
              "array([7, 2, 5, 5, 0, 9, 5, 5, 7, 9, 1, 0, 6, 4], dtype=uint8)"
            ]
          },
          "metadata": {},
          "execution_count": 48
        }
      ]
    },
    {
      "cell_type": "markdown",
      "source": [
        "this data set has 10 classes"
      ],
      "metadata": {
        "id": "RQNWY1hN_23G"
      }
    },
    {
      "cell_type": "code",
      "source": [
        "from keras.models import Sequential\n",
        "from keras.layers import Conv2D, Dense, Activation, MaxPooling2D, Flatten\n"
      ],
      "metadata": {
        "id": "BosOkFQ2Q9X3"
      },
      "execution_count": 49,
      "outputs": []
    },
    {
      "cell_type": "code",
      "source": [
        "# Model\n",
        "cnn = Sequential()\n",
        "# Add convolution 2D\n",
        "cnn.add(Conv2D(32, kernel_size=(3, 3),\n",
        "                 activation='relu',\n",
        "                 kernel_initializer='he_normal',\n",
        "                 input_shape=(28, 28, 1)))\n",
        "cnn.add(MaxPooling2D((2, 2)))\n",
        "cnn.add(Conv2D(64, \n",
        "                 kernel_size=(3, 3), \n",
        "                 activation='relu'))\n",
        "cnn.add(MaxPooling2D(pool_size=(2, 2)))\n",
        "cnn.add(Conv2D(128, (3, 3), activation='relu'))\n",
        "cnn.add(Flatten())\n",
        "cnn.add(Dense(128, activation='relu'))\n",
        "cnn.add(Dense(10, activation='softmax'))\n",
        "\n",
        "\n",
        "cnn.compile(loss=tf.keras.losses.sparse_categorical_crossentropy,\n",
        "              optimizer='adam',\n",
        "              metrics=['accuracy'])\n",
        "cnn.summary()"
      ],
      "metadata": {
        "colab": {
          "base_uri": "https://localhost:8080/"
        },
        "id": "FPqlxZ42EGto",
        "outputId": "b306c054-ccb9-4928-ba2a-f579dfdf7e49"
      },
      "execution_count": 59,
      "outputs": [
        {
          "output_type": "stream",
          "name": "stdout",
          "text": [
            "Model: \"sequential_7\"\n",
            "_________________________________________________________________\n",
            " Layer (type)                Output Shape              Param #   \n",
            "=================================================================\n",
            " conv2d_19 (Conv2D)          (None, 26, 26, 32)        320       \n",
            "                                                                 \n",
            " max_pooling2d_12 (MaxPoolin  (None, 13, 13, 32)       0         \n",
            " g2D)                                                            \n",
            "                                                                 \n",
            " conv2d_20 (Conv2D)          (None, 11, 11, 64)        18496     \n",
            "                                                                 \n",
            " max_pooling2d_13 (MaxPoolin  (None, 5, 5, 64)         0         \n",
            " g2D)                                                            \n",
            "                                                                 \n",
            " conv2d_21 (Conv2D)          (None, 3, 3, 128)         73856     \n",
            "                                                                 \n",
            " flatten_6 (Flatten)         (None, 1152)              0         \n",
            "                                                                 \n",
            " dense_12 (Dense)            (None, 128)               147584    \n",
            "                                                                 \n",
            " dense_13 (Dense)            (None, 10)                1290      \n",
            "                                                                 \n",
            "=================================================================\n",
            "Total params: 241,546\n",
            "Trainable params: 241,546\n",
            "Non-trainable params: 0\n",
            "_________________________________________________________________\n"
          ]
        }
      ]
    },
    {
      "cell_type": "code",
      "source": [
        "#Wow! it takes lots of times!\n",
        "history = cnn.fit(X_train, Y_train, validation_split=0.1,epochs = 50, batch_size = 128, verbose = 1)"
      ],
      "metadata": {
        "colab": {
          "base_uri": "https://localhost:8080/"
        },
        "id": "aDfNpyI3EzkK",
        "outputId": "4fb9e1e1-848f-4699-c356-0101a7028dda"
      },
      "execution_count": 60,
      "outputs": [
        {
          "output_type": "stream",
          "name": "stdout",
          "text": [
            "Epoch 1/50\n",
            "422/422 [==============================] - 34s 79ms/step - loss: 1.7794 - accuracy: 0.7715 - val_loss: 0.4799 - val_accuracy: 0.8360\n",
            "Epoch 2/50\n",
            "422/422 [==============================] - 33s 78ms/step - loss: 0.4042 - accuracy: 0.8550 - val_loss: 0.4057 - val_accuracy: 0.8562\n",
            "Epoch 3/50\n",
            "422/422 [==============================] - 35s 83ms/step - loss: 0.3362 - accuracy: 0.8768 - val_loss: 0.3724 - val_accuracy: 0.8648\n",
            "Epoch 4/50\n",
            "422/422 [==============================] - 33s 78ms/step - loss: 0.3027 - accuracy: 0.8894 - val_loss: 0.3794 - val_accuracy: 0.8668\n",
            "Epoch 5/50\n",
            "422/422 [==============================] - 33s 78ms/step - loss: 0.2745 - accuracy: 0.8971 - val_loss: 0.3539 - val_accuracy: 0.8768\n",
            "Epoch 6/50\n",
            "422/422 [==============================] - 33s 79ms/step - loss: 0.2552 - accuracy: 0.9060 - val_loss: 0.3322 - val_accuracy: 0.8843\n",
            "Epoch 7/50\n",
            "422/422 [==============================] - 35s 82ms/step - loss: 0.2389 - accuracy: 0.9117 - val_loss: 0.3702 - val_accuracy: 0.8748\n",
            "Epoch 8/50\n",
            "422/422 [==============================] - 34s 80ms/step - loss: 0.2396 - accuracy: 0.9103 - val_loss: 0.3506 - val_accuracy: 0.8817\n",
            "Epoch 9/50\n",
            "422/422 [==============================] - 35s 84ms/step - loss: 0.2153 - accuracy: 0.9197 - val_loss: 0.3511 - val_accuracy: 0.8847\n",
            "Epoch 10/50\n",
            "422/422 [==============================] - 35s 83ms/step - loss: 0.2098 - accuracy: 0.9210 - val_loss: 0.3393 - val_accuracy: 0.8898\n",
            "Epoch 11/50\n",
            "422/422 [==============================] - 37s 88ms/step - loss: 0.1990 - accuracy: 0.9256 - val_loss: 0.3601 - val_accuracy: 0.8848\n",
            "Epoch 12/50\n",
            "422/422 [==============================] - 34s 80ms/step - loss: 0.1935 - accuracy: 0.9296 - val_loss: 0.3767 - val_accuracy: 0.8880\n",
            "Epoch 13/50\n",
            "422/422 [==============================] - 33s 79ms/step - loss: 0.1805 - accuracy: 0.9322 - val_loss: 0.3652 - val_accuracy: 0.8895\n",
            "Epoch 14/50\n",
            "422/422 [==============================] - 34s 81ms/step - loss: 0.1697 - accuracy: 0.9355 - val_loss: 0.3597 - val_accuracy: 0.8885\n",
            "Epoch 15/50\n",
            "422/422 [==============================] - 34s 80ms/step - loss: 0.1685 - accuracy: 0.9373 - val_loss: 0.3507 - val_accuracy: 0.8947\n",
            "Epoch 16/50\n",
            "422/422 [==============================] - 34s 79ms/step - loss: 0.1571 - accuracy: 0.9408 - val_loss: 0.3800 - val_accuracy: 0.8895\n",
            "Epoch 17/50\n",
            "422/422 [==============================] - 33s 79ms/step - loss: 0.1527 - accuracy: 0.9432 - val_loss: 0.3659 - val_accuracy: 0.8917\n",
            "Epoch 18/50\n",
            "422/422 [==============================] - 33s 79ms/step - loss: 0.1458 - accuracy: 0.9459 - val_loss: 0.3680 - val_accuracy: 0.8882\n",
            "Epoch 19/50\n",
            "422/422 [==============================] - 33s 79ms/step - loss: 0.1304 - accuracy: 0.9519 - val_loss: 0.4078 - val_accuracy: 0.8900\n",
            "Epoch 20/50\n",
            "422/422 [==============================] - 33s 79ms/step - loss: 0.1321 - accuracy: 0.9512 - val_loss: 0.3867 - val_accuracy: 0.8913\n",
            "Epoch 21/50\n",
            "422/422 [==============================] - 33s 78ms/step - loss: 0.1187 - accuracy: 0.9566 - val_loss: 0.4366 - val_accuracy: 0.8873\n",
            "Epoch 22/50\n",
            "422/422 [==============================] - 34s 80ms/step - loss: 0.1171 - accuracy: 0.9574 - val_loss: 0.4736 - val_accuracy: 0.8868\n",
            "Epoch 23/50\n",
            "422/422 [==============================] - 33s 79ms/step - loss: 0.1181 - accuracy: 0.9571 - val_loss: 0.4421 - val_accuracy: 0.8928\n",
            "Epoch 24/50\n",
            "422/422 [==============================] - 33s 78ms/step - loss: 0.1070 - accuracy: 0.9607 - val_loss: 0.4376 - val_accuracy: 0.8895\n",
            "Epoch 25/50\n",
            "422/422 [==============================] - 33s 78ms/step - loss: 0.0901 - accuracy: 0.9667 - val_loss: 0.4973 - val_accuracy: 0.8858\n",
            "Epoch 26/50\n",
            "422/422 [==============================] - 33s 78ms/step - loss: 0.1014 - accuracy: 0.9632 - val_loss: 0.4798 - val_accuracy: 0.8905\n",
            "Epoch 27/50\n",
            "422/422 [==============================] - 33s 78ms/step - loss: 0.0968 - accuracy: 0.9659 - val_loss: 0.4674 - val_accuracy: 0.8887\n",
            "Epoch 28/50\n",
            "422/422 [==============================] - 33s 79ms/step - loss: 0.0917 - accuracy: 0.9672 - val_loss: 0.5063 - val_accuracy: 0.8892\n",
            "Epoch 29/50\n",
            "422/422 [==============================] - 33s 78ms/step - loss: 0.0856 - accuracy: 0.9693 - val_loss: 0.4692 - val_accuracy: 0.8922\n",
            "Epoch 30/50\n",
            "422/422 [==============================] - 33s 79ms/step - loss: 0.0871 - accuracy: 0.9692 - val_loss: 0.5181 - val_accuracy: 0.8863\n",
            "Epoch 31/50\n",
            "422/422 [==============================] - 33s 78ms/step - loss: 0.0822 - accuracy: 0.9717 - val_loss: 0.5565 - val_accuracy: 0.8913\n",
            "Epoch 32/50\n",
            "422/422 [==============================] - 33s 78ms/step - loss: 0.0744 - accuracy: 0.9730 - val_loss: 0.5779 - val_accuracy: 0.8958\n",
            "Epoch 33/50\n",
            "422/422 [==============================] - 33s 77ms/step - loss: 0.0840 - accuracy: 0.9715 - val_loss: 0.5850 - val_accuracy: 0.8850\n",
            "Epoch 34/50\n",
            "422/422 [==============================] - 33s 77ms/step - loss: 0.0782 - accuracy: 0.9736 - val_loss: 0.6217 - val_accuracy: 0.8892\n",
            "Epoch 35/50\n",
            "422/422 [==============================] - 33s 79ms/step - loss: 0.0703 - accuracy: 0.9756 - val_loss: 0.6634 - val_accuracy: 0.8925\n",
            "Epoch 36/50\n",
            "422/422 [==============================] - 33s 77ms/step - loss: 0.0712 - accuracy: 0.9753 - val_loss: 0.6325 - val_accuracy: 0.8893\n",
            "Epoch 37/50\n",
            "422/422 [==============================] - 33s 77ms/step - loss: 0.0677 - accuracy: 0.9766 - val_loss: 0.6658 - val_accuracy: 0.8880\n",
            "Epoch 38/50\n",
            "422/422 [==============================] - 33s 78ms/step - loss: 0.0719 - accuracy: 0.9765 - val_loss: 0.6410 - val_accuracy: 0.8903\n",
            "Epoch 39/50\n",
            "422/422 [==============================] - 33s 78ms/step - loss: 0.0616 - accuracy: 0.9795 - val_loss: 0.6433 - val_accuracy: 0.8937\n",
            "Epoch 40/50\n",
            "422/422 [==============================] - 33s 78ms/step - loss: 0.0599 - accuracy: 0.9801 - val_loss: 0.7015 - val_accuracy: 0.8888\n",
            "Epoch 41/50\n",
            "422/422 [==============================] - 33s 77ms/step - loss: 0.0779 - accuracy: 0.9753 - val_loss: 0.6791 - val_accuracy: 0.8905\n",
            "Epoch 42/50\n",
            "422/422 [==============================] - 33s 78ms/step - loss: 0.0574 - accuracy: 0.9810 - val_loss: 0.6679 - val_accuracy: 0.8892\n",
            "Epoch 43/50\n",
            "422/422 [==============================] - 39s 91ms/step - loss: 0.0522 - accuracy: 0.9828 - val_loss: 0.7040 - val_accuracy: 0.8867\n",
            "Epoch 44/50\n",
            "422/422 [==============================] - 33s 78ms/step - loss: 0.0614 - accuracy: 0.9800 - val_loss: 0.8766 - val_accuracy: 0.8908\n",
            "Epoch 45/50\n",
            "422/422 [==============================] - 33s 78ms/step - loss: 0.0681 - accuracy: 0.9784 - val_loss: 0.8098 - val_accuracy: 0.8900\n",
            "Epoch 46/50\n",
            "422/422 [==============================] - 33s 79ms/step - loss: 0.0615 - accuracy: 0.9800 - val_loss: 0.7293 - val_accuracy: 0.8882\n",
            "Epoch 47/50\n",
            "422/422 [==============================] - 34s 80ms/step - loss: 0.0498 - accuracy: 0.9835 - val_loss: 0.7544 - val_accuracy: 0.8933\n",
            "Epoch 48/50\n",
            "422/422 [==============================] - 33s 79ms/step - loss: 0.0397 - accuracy: 0.9870 - val_loss: 0.8101 - val_accuracy: 0.8963\n",
            "Epoch 49/50\n",
            "422/422 [==============================] - 33s 78ms/step - loss: 0.0613 - accuracy: 0.9808 - val_loss: 0.8315 - val_accuracy: 0.8843\n",
            "Epoch 50/50\n",
            "422/422 [==============================] - 33s 78ms/step - loss: 0.0674 - accuracy: 0.9786 - val_loss: 0.7865 - val_accuracy: 0.8922\n"
          ]
        }
      ]
    },
    {
      "cell_type": "code",
      "source": [
        "score = cnn.evaluate(X_test, Y_test, verbose=0)\n",
        "print('Test loss:', score[0])\n",
        "print('Test accuracy:', score[1])"
      ],
      "metadata": {
        "colab": {
          "base_uri": "https://localhost:8080/"
        },
        "id": "nRj5iTlNFpsj",
        "outputId": "c66b4e36-63dc-4669-99be-d341dc3ebee0"
      },
      "execution_count": 61,
      "outputs": [
        {
          "output_type": "stream",
          "name": "stdout",
          "text": [
            "Test loss: 0.8643333911895752\n",
            "Test accuracy: 0.8901000022888184\n"
          ]
        }
      ]
    },
    {
      "cell_type": "code",
      "source": [
        "Y_pred_float = cnn.predict_step(X_test)  \n",
        "Y_pred_onehot = np.round(Y_pred_float)\n",
        "Y_pred = np.argmax(Y_pred_onehot, axis=1)"
      ],
      "metadata": {
        "id": "b8r2DtogKkxt"
      },
      "execution_count": 75,
      "outputs": []
    },
    {
      "cell_type": "code",
      "source": [
        "from sklearn.metrics import confusion_matrix\n",
        "CM = confusion_matrix(y_true=Y_test,y_pred=Y_pred)\n",
        "sb.heatmap(CM,annot=True )\n",
        "plt.xlabel('Predicted')\n",
        "plt.ylabel('True')\n",
        "plt.show()"
      ],
      "metadata": {
        "colab": {
          "base_uri": "https://localhost:8080/",
          "height": 279
        },
        "id": "R0pLo9YGKlZv",
        "outputId": "72c8140b-df31-4c3e-90a0-4f492711fb14"
      },
      "execution_count": 79,
      "outputs": [
        {
          "output_type": "display_data",
          "data": {
            "text/plain": [
              "<Figure size 432x288 with 2 Axes>"
            ],
            "image/png": "[encoded data removed]"
          },
          "metadata": {
            "needs_background": "light"
          }
        }
      ]
    },
    {
      "cell_type": "code",
      "source": [
        "Y_pred.shape"
      ],
      "metadata": {
        "colab": {
          "base_uri": "https://localhost:8080/"
        },
        "id": "7RW3SVAcQDXV",
        "outputId": "8cdf8c6f-049c-47c0-9c7d-abad287cbd81"
      },
      "execution_count": 77,
      "outputs": [
        {
          "output_type": "execute_result",
          "data": {
            "text/plain": [
              "(10000,)"
            ]
          },
          "metadata": {},
          "execution_count": 77
        }
      ]
    },
    {
      "cell_type": "code",
      "source": [
        "Y_test.shape"
      ],
      "metadata": {
        "colab": {
          "base_uri": "https://localhost:8080/"
        },
        "id": "nxfV-j1UQyep",
        "outputId": "032ef236-3ee9-41e1-9d50-a2da823068aa"
      },
      "execution_count": 78,
      "outputs": [
        {
          "output_type": "execute_result",
          "data": {
            "text/plain": [
              "(10000,)"
            ]
          },
          "metadata": {},
          "execution_count": 78
        }
      ]
    },
    {
      "cell_type": "code",
      "source": [
        ""
      ],
      "metadata": {
        "id": "5tas7UwQQ8rp"
      },
      "execution_count": null,
      "outputs": []
    }
  ]
}