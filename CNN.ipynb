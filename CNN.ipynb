{
  "nbformat": 4,
  "nbformat_minor": 0,
  "metadata": {
    "colab": {
      "name": "CNN.ipynb",
      "provenance": [],
      "authorship_tag": "ABX9TyOWT+2UUiihrn8rtvC5KBWK",
      "include_colab_link": true
    },
    "kernelspec": {
      "name": "python3",
      "display_name": "Python 3"
    },
    "language_info": {
      "name": "python"
    }
  },
  "cells": [
    {
      "cell_type": "markdown",
      "metadata": {
        "id": "view-in-github",
        "colab_type": "text"
      },
      "source": [
        "<a href=\"https://colab.research.google.com/github/garfield-gray/NeuralNetwork/blob/main/CNN.ipynb\" target=\"_parent\"><img src=\"https://colab.research.google.com/assets/colab-badge.svg\" alt=\"Open In Colab\"/></a>"
      ]
    },
    {
      "cell_type": "markdown",
      "source": [
        "$$\n",
        "In\\;the\\;name\\;of\\;God\n",
        "\\\\Project\\;of\\;ML\n",
        "\\\\CNN\n",
        "$$"
      ],
      "metadata": {
        "id": "2mrqiwj7To8X"
      }
    },
    {
      "cell_type": "markdown",
      "source": [
        "# Problem 1"
      ],
      "metadata": {
        "id": "lDJbKDg9Xoxn"
      }
    },
    {
      "cell_type": "code",
      "source": [
        "import tensorflow as tf"
      ],
      "metadata": {
        "id": "GKvoIWxeXmsJ"
      },
      "execution_count": 1,
      "outputs": []
    },
    {
      "cell_type": "code",
      "source": [
        "(X_train,Y_train), (X_test, Y_test) = tf.keras.datasets.imdb.load_data()"
      ],
      "metadata": {
        "id": "s8idRcTaUE9A"
      },
      "execution_count": null,
      "outputs": []
    }
  ]
}