{
 "cells": [
  {
   "cell_type": "markdown",
   "id": "5396dd0c",
   "metadata": {},
   "source": [
    "$\n",
    "In\\;the\\;name\\;of\\;God \n",
    "\\\\HW3\\;NeuralNetwork\n",
    "\\\\Abbas\\;Mohamadiyan\\;810898059\n",
    "$"
   ]
  },
  {
   "cell_type": "code",
   "execution_count": 8,
   "id": "21f2b063",
   "metadata": {},
   "outputs": [],
   "source": [
    "import numpy as np\n",
    "import matplotlib.pyplot as plt\n",
    "import random\n",
    "from tqdm.notebook import tqdm"
   ]
  },
  {
   "cell_type": "code",
   "execution_count": 2,
   "id": "803804d6",
   "metadata": {},
   "outputs": [],
   "source": [
    "def randcir(X, Y, r): # X & Y represent the center & r is for radius\n",
    "    while True:\n",
    "        x = random.random()*2 -1\n",
    "        y = random.random()*2 -1\n",
    "        if x*x + y*y < 1:\n",
    "            return (x*r+X, y*r+Y)\n",
    "        "
   ]
  },
  {
   "cell_type": "code",
   "execution_count": 3,
   "id": "69d52063",
   "metadata": {},
   "outputs": [
    {
     "data": {
      "image/png": "[encoded data removed]",
      "text/plain": [
       "<Figure size 720x648 with 1 Axes>"
      ]
     },
     "metadata": {
      "needs_background": "light"
     },
     "output_type": "display_data"
    }
   ],
   "source": [
    "l = []\n",
    "w = []\n",
    "y0 = []\n",
    "for i in range(100):\n",
    "    x, y = randcir(2, 2, 1)\n",
    "    l.append(x)\n",
    "    w.append(y)\n",
    "    y0.append(0)\n",
    "    \n",
    "for i in range(100):\n",
    "    x, y = randcir(0, 1.5, 1)\n",
    "    l.append(x)\n",
    "    w.append(y)\n",
    "    y0.append(1)\n",
    "    \n",
    "for i in range(100):\n",
    "    x, y = randcir(1.5, 0, 1)\n",
    "    l.append(x)\n",
    "    w.append(y)\n",
    "    y0.append(2)\n",
    "    \n",
    "plt.figure(figsize=(10,9))    \n",
    "plt.scatter(l, w)\n",
    "\n",
    "plt.show()"
   ]
  },
  {
   "cell_type": "code",
   "execution_count": 14,
   "id": "80b35247",
   "metadata": {},
   "outputs": [],
   "source": [
    "Dy = np.hstack((l, w, y0))\n",
    "Dy = np.reshape(Dy, (300, 3), order='F') #the order 'F' was a tough one!\n",
    "np.random.shuffle(Dy)\n",
    "D = Dy[:,0:2]\n",
    "ys = Dy[:,2]\n",
    "n,d = D.shape\n",
    "k = 3\n",
    "Dic = {0:[1,0,0],\n",
    "       1:[0,1,0],\n",
    "       2:[0,0,1]}\n",
    "\n",
    "#Y = np.array(list(map(lambda x:Dic[x],ys)))\n",
    "Y = ys\n",
    "X = D\n"
   ]
  },
  {
   "cell_type": "code",
   "execution_count": 15,
   "id": "a9cfa280",
   "metadata": {},
   "outputs": [
    {
     "name": "stdout",
     "output_type": "stream",
     "text": [
      "(210, 2)\n",
      "(45, 2)\n",
      "(45, 2)\n"
     ]
    }
   ],
   "source": [
    "trsize = int(0.7*n)\n",
    "vasize = int(0.85*n)\n",
    "Xt = X[0:trsize, :] ; Yt = Y[0:trsize]\n",
    "Xv = X[trsize:vasize, :] ; Yv = Y[trsize:vasize]\n",
    "Xte = X[vasize:n, :] ; Yte = Y[vasize:n]\n",
    "print(Xt.shape)\n",
    "print(Xv.shape)\n",
    "print(Xte.shape)"
   ]
  },
  {
   "cell_type": "code",
   "execution_count": 16,
   "id": "2931d719",
   "metadata": {},
   "outputs": [
    {
     "name": "stdout",
     "output_type": "stream",
     "text": [
      "[ True  True]\n",
      "[ True  True]\n",
      "[ True  True]\n"
     ]
    }
   ],
   "source": [
    "print(X[209,:] == Xt[209,:])\n",
    "print(X[210,:] == Xv[0,:])\n",
    "print(X[255,:] == Xte[0,:])"
   ]
  },
  {
   "cell_type": "code",
   "execution_count": 17,
   "id": "615726ff",
   "metadata": {},
   "outputs": [],
   "source": [
    "def f1(x): return np.tanh(x)\n",
    "def df1(x): return 1 - np.power(np.tanh(x),2)\n",
    "def f2(x): return x\n",
    "def df2(x): return 1\n",
    "\n",
    "def aug(X):                                 #puts a 1 column in front of matrix\n",
    "    n = len(X)\n",
    "    X1 = np.ones((n,1))\n",
    "    return np.hstack((X1,X))\n",
    "\n",
    "def predict(X,W1,W2):                       #the name suggests =)\n",
    "    Z = f1( aug(X) @ W1)\n",
    "    O = f2( aug(Z) @ W2)\n",
    "    return O\n",
    "\n",
    "def update_pars(Y,X,W1,W2):\n",
    "    Xt = aug(X)\n",
    "    Z = f1(Xt @ W1)\n",
    "    Zt = aug(Z)\n",
    "    dZ = df1(Xt @ W1)\n",
    "    O = f2(Zt @ W2)\n",
    "    G2 = (O - Y)/len(Y)\n",
    "    dW2 = Zt.T @ G2\n",
    "    W2 -= eta * dW2\n",
    "    G1 = (G2 @ W2[1:].T)*dZ\n",
    "    dW1 = Xt.T @ G1\n",
    "    W1 -= eta * dW1\n"
   ]
  },
  {
   "cell_type": "code",
   "execution_count": 20,
   "id": "b4659510",
   "metadata": {},
   "outputs": [
    {
     "data": {
      "application/vnd.jupyter.widget-view+json": {
       "model_id": "1adbdf79c1bc497a98c2b0593b9fa39a",
       "version_major": 2,
       "version_minor": 0
      },
      "text/plain": [
       "  0%|          | 0/100000 [00:00<?, ?it/s]"
      ]
     },
     "metadata": {},
     "output_type": "display_data"
    },
    {
     "ename": "ValueError",
     "evalue": "non-broadcastable output operand with shape (4,1) doesn't match the broadcast shape (4,210)",
     "output_type": "error",
     "traceback": [
      "\u001b[0;31m---------------------------------------------------------------------------\u001b[0m",
      "\u001b[0;31mValueError\u001b[0m                                Traceback (most recent call last)",
      "\u001b[0;32m/tmp/ipykernel_7010/564321158.py\u001b[0m in \u001b[0;36m<module>\u001b[0;34m\u001b[0m\n\u001b[1;32m     14\u001b[0m     \u001b[0;31m# idx = np.random.choice(np.arange(n),5)\u001b[0m\u001b[0;34m\u001b[0m\u001b[0;34m\u001b[0m\u001b[0;34m\u001b[0m\u001b[0m\n\u001b[1;32m     15\u001b[0m     \u001b[0;31m# update_pars(Y[idx],X[idx],W1,W2)\u001b[0m\u001b[0;34m\u001b[0m\u001b[0;34m\u001b[0m\u001b[0;34m\u001b[0m\u001b[0m\n\u001b[0;32m---> 16\u001b[0;31m     \u001b[0mupdate_pars\u001b[0m\u001b[0;34m(\u001b[0m\u001b[0mYt\u001b[0m\u001b[0;34m,\u001b[0m\u001b[0mXt\u001b[0m\u001b[0;34m,\u001b[0m\u001b[0mW1\u001b[0m\u001b[0;34m,\u001b[0m\u001b[0mW2\u001b[0m\u001b[0;34m)\u001b[0m\u001b[0;34m\u001b[0m\u001b[0;34m\u001b[0m\u001b[0m\n\u001b[0m",
      "\u001b[0;32m/tmp/ipykernel_7010/3926188877.py\u001b[0m in \u001b[0;36mupdate_pars\u001b[0;34m(Y, X, W1, W2)\u001b[0m\n\u001b[1;32m     22\u001b[0m     \u001b[0mG2\u001b[0m \u001b[0;34m=\u001b[0m \u001b[0;34m(\u001b[0m\u001b[0mO\u001b[0m \u001b[0;34m-\u001b[0m \u001b[0mY\u001b[0m\u001b[0;34m)\u001b[0m\u001b[0;34m/\u001b[0m\u001b[0mlen\u001b[0m\u001b[0;34m(\u001b[0m\u001b[0mY\u001b[0m\u001b[0;34m)\u001b[0m\u001b[0;34m\u001b[0m\u001b[0;34m\u001b[0m\u001b[0m\n\u001b[1;32m     23\u001b[0m     \u001b[0mdW2\u001b[0m \u001b[0;34m=\u001b[0m \u001b[0mZt\u001b[0m\u001b[0;34m.\u001b[0m\u001b[0mT\u001b[0m \u001b[0;34m@\u001b[0m \u001b[0mG2\u001b[0m\u001b[0;34m\u001b[0m\u001b[0;34m\u001b[0m\u001b[0m\n\u001b[0;32m---> 24\u001b[0;31m     \u001b[0mW2\u001b[0m \u001b[0;34m-=\u001b[0m \u001b[0meta\u001b[0m \u001b[0;34m*\u001b[0m \u001b[0mdW2\u001b[0m\u001b[0;34m\u001b[0m\u001b[0;34m\u001b[0m\u001b[0m\n\u001b[0m\u001b[1;32m     25\u001b[0m     \u001b[0mG1\u001b[0m \u001b[0;34m=\u001b[0m \u001b[0;34m(\u001b[0m\u001b[0mG2\u001b[0m \u001b[0;34m@\u001b[0m \u001b[0mW2\u001b[0m\u001b[0;34m[\u001b[0m\u001b[0;36m1\u001b[0m\u001b[0;34m:\u001b[0m\u001b[0;34m]\u001b[0m\u001b[0;34m.\u001b[0m\u001b[0mT\u001b[0m\u001b[0;34m)\u001b[0m\u001b[0;34m*\u001b[0m\u001b[0mdZ\u001b[0m\u001b[0;34m\u001b[0m\u001b[0;34m\u001b[0m\u001b[0m\n\u001b[1;32m     26\u001b[0m     \u001b[0mdW1\u001b[0m \u001b[0;34m=\u001b[0m \u001b[0mXt\u001b[0m\u001b[0;34m.\u001b[0m\u001b[0mT\u001b[0m \u001b[0;34m@\u001b[0m \u001b[0mG1\u001b[0m\u001b[0;34m\u001b[0m\u001b[0;34m\u001b[0m\u001b[0m\n",
      "\u001b[0;31mValueError\u001b[0m: non-broadcastable output operand with shape (4,1) doesn't match the broadcast shape (4,210)"
     ]
    }
   ],
   "source": [
    "n,d,m,p = trsize,2,3,1\n",
    "\n",
    "\n",
    "\n",
    "\n",
    "W1 = np.random.randn(d+1,m)\n",
    "W2 = np.random.randn(m+1,p)\n",
    "\n",
    "\n",
    "eta = 1e-1  # step size (learning rate)\n",
    "num_steps = int(1e5)\n",
    "\n",
    "for i in tqdm(range(num_steps)):\n",
    "\n",
    "    update_pars(Yt,Xt,W1,W2)\n"
   ]
  },
  {
   "cell_type": "code",
   "execution_count": 21,
   "id": "9d6dc922",
   "metadata": {},
   "outputs": [
    {
     "data": {
      "text/plain": [
       "(210,)"
      ]
     },
     "execution_count": 21,
     "metadata": {},
     "output_type": "execute_result"
    }
   ],
   "source": [
    "Yt.shape"
   ]
  },
  {
   "cell_type": "code",
   "execution_count": null,
   "id": "2cd36c92",
   "metadata": {},
   "outputs": [],
   "source": []
  }
 ],
 "metadata": {
  "kernelspec": {
   "display_name": "Python 3 (ipykernel)",
   "language": "python",
   "name": "python3"
  },
  "language_info": {
   "codemirror_mode": {
    "name": "ipython",
    "version": 3
   },
   "file_extension": ".py",
   "mimetype": "text/x-python",
   "name": "python",
   "nbconvert_exporter": "python",
   "pygments_lexer": "ipython3",
   "version": "3.8.12"
  }
 },
 "nbformat": 4,
 "nbformat_minor": 5
}
