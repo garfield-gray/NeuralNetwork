{
 "cells": [
  {
   "cell_type": "markdown",
   "id": "5396dd0c",
   "metadata": {},
   "source": [
    "$\n",
    "In\\;the\\;name\\;of\\;God \n",
    "\\\\HW3\\;NeuralNetwork\n",
    "\\\\Abbas\\;Mohamadiyan\\;810898059\n",
    "$"
   ]
  },
  {
   "cell_type": "markdown",
   "id": "b533f20f",
   "metadata": {},
   "source": [
    "# Part1"
   ]
  },
  {
   "cell_type": "code",
   "execution_count": 1,
   "id": "21f2b063",
   "metadata": {},
   "outputs": [],
   "source": [
    "import numpy as np\n",
    "import matplotlib.pyplot as plt\n",
    "import random\n",
    "from tqdm.notebook import tqdm"
   ]
  },
  {
   "cell_type": "code",
   "execution_count": 2,
   "id": "803804d6",
   "metadata": {},
   "outputs": [],
   "source": [
    "def randcir(X, Y, r): # X & Y represent the center & r is for radius\n",
    "    while True:\n",
    "        x = random.random()*2 -1\n",
    "        y = random.random()*2 -1\n",
    "        if x*x + y*y < 1:\n",
    "            return (x*r+X, y*r+Y)\n",
    "        "
   ]
  },
  {
   "cell_type": "code",
   "execution_count": 3,
   "id": "69d52063",
   "metadata": {},
   "outputs": [
    {
     "data": {
      "image/png": "[encoded data removed]",
      "text/plain": [
       "<Figure size 720x648 with 1 Axes>"
      ]
     },
     "metadata": {
      "needs_background": "light"
     },
     "output_type": "display_data"
    }
   ],
   "source": [
    "l = []\n",
    "w = []\n",
    "y0 = []\n",
    "for i in range(100):\n",
    "    x, y = randcir(2, 2, 1)\n",
    "    l.append(x)\n",
    "    w.append(y)\n",
    "    y0.append(0)\n",
    "    \n",
    "for i in range(100):\n",
    "    x, y = randcir(0, 1.5, 1)\n",
    "    l.append(x)\n",
    "    w.append(y)\n",
    "    y0.append(1)\n",
    "    \n",
    "for i in range(100):\n",
    "    x, y = randcir(1.5, 0, 1)\n",
    "    l.append(x)\n",
    "    w.append(y)\n",
    "    y0.append(2)\n",
    "    \n",
    "plt.figure(figsize=(10,9))    \n",
    "plt.scatter(l, w)\n",
    "\n",
    "plt.show()"
   ]
  },
  {
   "cell_type": "code",
   "execution_count": 4,
   "id": "80b35247",
   "metadata": {},
   "outputs": [],
   "source": [
    "Dy = np.hstack((l, w, y0))\n",
    "Dy = np.reshape(Dy, (300, 3), order='F') #the order 'F' was a tough one!\n",
    "np.random.shuffle(Dy)\n",
    "D = Dy[:,0:2]\n",
    "ys = Dy[:,2]\n",
    "n,d = D.shape\n",
    "k = 3\n",
    "Dic = {0:[1,0,0],\n",
    "       1:[0,1,0],\n",
    "       2:[0,0,1]}\n",
    "\n",
    "#Y = np.array(list(map(lambda x:Dic[x],ys)))\n",
    "Y = ys.reshape(n, 1)\n",
    "X = D\n"
   ]
  },
  {
   "cell_type": "code",
   "execution_count": 5,
   "id": "a9cfa280",
   "metadata": {},
   "outputs": [
    {
     "name": "stdout",
     "output_type": "stream",
     "text": [
      "(210, 2)\n",
      "(45, 2)\n",
      "(45, 2)\n"
     ]
    }
   ],
   "source": [
    "trsize = int(0.7*n)\n",
    "vasize = int(0.85*n)\n",
    "Xt = X[0:trsize, :] ; Yt = Y[0:trsize]\n",
    "Xv = X[trsize:vasize, :] ; Yv = Y[trsize:vasize]\n",
    "Xte = X[vasize:n, :] ; Yte = Y[vasize:n]\n",
    "print(Xt.shape)\n",
    "print(Xv.shape)\n",
    "print(Xte.shape)"
   ]
  },
  {
   "cell_type": "code",
   "execution_count": 6,
   "id": "2931d719",
   "metadata": {},
   "outputs": [
    {
     "name": "stdout",
     "output_type": "stream",
     "text": [
      "[ True  True]\n",
      "[ True  True]\n",
      "[ True  True]\n"
     ]
    }
   ],
   "source": [
    "print(X[209,:] == Xt[209,:])\n",
    "print(X[210,:] == Xv[0,:])\n",
    "print(X[255,:] == Xte[0,:])"
   ]
  },
  {
   "cell_type": "code",
   "execution_count": 7,
   "id": "615726ff",
   "metadata": {},
   "outputs": [],
   "source": [
    "def f1(x): return np.tanh(x)\n",
    "def df1(x): return 1 - np.power(np.tanh(x),2)\n",
    "def f2(x): return x\n",
    "def df2(x): return 1\n",
    "\n",
    "def aug(X):                                 #puts a 1 column in front of matrix\n",
    "    n = len(X)\n",
    "    X1 = np.ones((n,1))\n",
    "    return np.hstack((X1,X))\n",
    "\n",
    "def predict(X,W1,W2):                       #the name suggests =)\n",
    "    Z = f1( aug(X) @ W1)\n",
    "    O = f2( aug(Z) @ W2)\n",
    "    return O\n",
    "\n",
    "def update_pars(Y,X,W1,W2):\n",
    "    Xt = aug(X)\n",
    "    Z = f1(Xt @ W1)\n",
    "    Zt = aug(Z)\n",
    "    dZ = df1(Xt @ W1)\n",
    "    O = f2(Zt @ W2)\n",
    "    G2 = (O - Y)/len(Y)\n",
    "    dW2 = Zt.T @ G2\n",
    "    W2 -= eta * dW2\n",
    "    G1 = (G2 @ W2[1:].T)*dZ\n",
    "    dW1 = Xt.T @ G1\n",
    "    W1 -= eta * dW1\n"
   ]
  },
  {
   "cell_type": "code",
   "execution_count": 8,
   "id": "b4659510",
   "metadata": {},
   "outputs": [
    {
     "data": {
      "application/vnd.jupyter.widget-view+json": {
       "model_id": "da4878d881324661a18ce3e086665702",
       "version_major": 2,
       "version_minor": 0
      },
      "text/plain": [
       "  0%|          | 0/100000 [00:00<?, ?it/s]"
      ]
     },
     "metadata": {},
     "output_type": "display_data"
    }
   ],
   "source": [
    "n,d,m,p = trsize,2,3,1\n",
    "\n",
    "W1 = np.random.randn(d+1,m)\n",
    "W2 = np.random.randn(m+1,p)\n",
    "\n",
    "eta = 1e-1  # step size (learning rate)\n",
    "num_steps = int(1e5)\n",
    "\n",
    "for i in tqdm(range(num_steps)):\n",
    "\n",
    "    update_pars(Yt,Xt,W1,W2)\n"
   ]
  },
  {
   "cell_type": "markdown",
   "id": "80d3c838",
   "metadata": {},
   "source": [
    "# Part 2"
   ]
  },
  {
   "cell_type": "code",
   "execution_count": 9,
   "id": "690926a6",
   "metadata": {},
   "outputs": [],
   "source": [
    "def tuning(m, eta):\n",
    "    n,d,p = trsize,2,1\n",
    "\n",
    "    W1 = np.random.randn(d+1,m)\n",
    "    W2 = np.random.randn(m+1,p)\n",
    "    \n",
    "    num_steps = int(1e5)\n",
    "\n",
    "    for i in range(num_steps):\n",
    "\n",
    "        update_pars(Yv,Xv,W1,W2)\n",
    "    return W1, W2"
   ]
  },
  {
   "cell_type": "code",
   "execution_count": 10,
   "id": "5b04ebea",
   "metadata": {},
   "outputs": [],
   "source": [
    "ms = np.arange(2, 9, 1)\n",
    "Errors = []\n",
    "nu, d = Xv.shape\n",
    "for i in ms:\n",
    "    Ws = tuning(i, 1e-1)\n",
    "    Errors.append(np.linalg.norm(Yv-predict(Xv, Ws[0], Ws[1]))**2/nu)"
   ]
  },
  {
   "cell_type": "code",
   "execution_count": 11,
   "id": "23cb75c8",
   "metadata": {},
   "outputs": [
    {
     "data": {
      "image/png": "[encoded data removed]",
      "text/plain": [
       "<Figure size 432x288 with 1 Axes>"
      ]
     },
     "metadata": {
      "needs_background": "light"
     },
     "output_type": "display_data"
    }
   ],
   "source": [
    "plt.plot(ms, Errors)\n",
    "plt.show()"
   ]
  },
  {
   "cell_type": "markdown",
   "id": "fb0ddbf8",
   "metadata": {},
   "source": [
    "$\n",
    "Assuming\\;the\\;Error\\;function\\;is\\;convex\n",
    "\\\\then\\;the\\;best\"number\\;of\\;hidden\\;layers\"is\\;6\n",
    "$"
   ]
  },
  {
   "cell_type": "code",
   "execution_count": null,
   "id": "ae365f55",
   "metadata": {},
   "outputs": [],
   "source": [
    "etas = np.arange(1e-2, 1e-1, 1e-2)\n",
    "Errors = []\n",
    "for i in etas:\n",
    "    Ws = tuning(6, i)\n",
    "    Errors.append(np.linalg.norm(Yv-predict(Xv, Ws[0], Ws[1]))**2/nu)"
   ]
  },
  {
   "cell_type": "code",
   "execution_count": 41,
   "id": "0601039c",
   "metadata": {},
   "outputs": [
    {
     "data": {
      "image/png": "[encoded data removed]",
      "text/plain": [
       "<Figure size 432x288 with 1 Axes>"
      ]
     },
     "metadata": {
      "needs_background": "light"
     },
     "output_type": "display_data"
    }
   ],
   "source": [
    "plt.plot(etas, Errors)\n",
    "plt.show()"
   ]
  },
  {
   "cell_type": "markdown",
   "id": "f5e7cc36",
   "metadata": {},
   "source": [
    "$$\n",
    "Best\\;\\eta = 0.08\n",
    "\\\\Best\\;m = 5\n",
    "$$"
   ]
  },
  {
   "cell_type": "code",
   "execution_count": 45,
   "id": "fdc2bf98",
   "metadata": {},
   "outputs": [],
   "source": [
    "Ws = tuning(5, 0.08)"
   ]
  },
  {
   "cell_type": "code",
   "execution_count": 48,
   "id": "55472b0a",
   "metadata": {},
   "outputs": [
    {
     "name": "stdout",
     "output_type": "stream",
     "text": [
      "0.08536323263706677\n"
     ]
    }
   ],
   "source": [
    "testerror = np.linalg.norm(Yte-predict(Xte, Ws[0], Ws[1]))**2/nu\n",
    "print(testerror)"
   ]
  },
  {
   "cell_type": "markdown",
   "id": "8ac0ee82",
   "metadata": {},
   "source": [
    "$\n",
    "That's\\;it\n",
    "\\\\Honestly\\;I\\;didn't\\;get\\;how\\;to\\;fit\\;\\alpha\\;into\\;it\\;=)\n",
    "$"
   ]
  },
  {
   "cell_type": "code",
   "execution_count": null,
   "id": "cc6e7906",
   "metadata": {},
   "outputs": [],
   "source": []
  }
 ],
 "metadata": {
  "kernelspec": {
   "display_name": "Python 3 (ipykernel)",
   "language": "python",
   "name": "python3"
  },
  "language_info": {
   "codemirror_mode": {
    "name": "ipython",
    "version": 3
   },
   "file_extension": ".py",
   "mimetype": "text/x-python",
   "name": "python",
   "nbconvert_exporter": "python",
   "pygments_lexer": "ipython3",
   "version": "3.8.12"
  }
 },
 "nbformat": 4,
 "nbformat_minor": 5
}
