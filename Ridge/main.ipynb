{
 "cells": [
  {
   "cell_type": "markdown",
   "id": "d3964d16",
   "metadata": {},
   "source": [
    "$$\n",
    "In\\;the\\;name\\;of\\;God \n",
    "\\\\HW1\\;NeuralNetwork\n",
    "\\\\Abbas\\;Mohamadiyan\\;810898059\n",
    "$$"
   ]
  },
  {
   "cell_type": "code",
   "execution_count": 2,
   "id": "6ca8f93d",
   "metadata": {},
   "outputs": [],
   "source": [
    "#plan of action:\n",
    "    #1-prepare the data:                                       done\n",
    "        #load                                                      done                \n",
    "        #trim                                                      done\n",
    "        #partition (train, validation, test)                       done\n",
    "    #2-write SGD on a train data & determined hyperparameters: done\n",
    "    #3-set hyperparameters on validation data:                 done\n",
    "    #4-submit \n",
    "    "
   ]
  },
  {
   "cell_type": "markdown",
   "id": "5ad3c184",
   "metadata": {},
   "source": [
    "# part 1"
   ]
  },
  {
   "cell_type": "code",
   "execution_count": 3,
   "id": "5cc8e628",
   "metadata": {},
   "outputs": [],
   "source": [
    "from sklearn import datasets\n",
    "import numpy as np\n",
    "data = datasets.load_diabetes()\n",
    "X = data.data\n",
    "Y = data.target"
   ]
  },
  {
   "cell_type": "code",
   "execution_count": 6,
   "id": "cce1ec9e",
   "metadata": {},
   "outputs": [
    {
     "name": "stdout",
     "output_type": "stream",
     "text": [
      "(309, 10)\n",
      "(66, 10)\n",
      "(67, 10)\n"
     ]
    }
   ],
   "source": [
    "n, d = X.shape\n",
    "trsize = int(0.7*n)\n",
    "vasize = int(0.85*n)\n",
    "Xt = X[0:trsize, :] ; Yt = Y[0:trsize]\n",
    "Xv = X[trsize:vasize, :] ; Yv = Y[trsize:vasize]\n",
    "Xte = X[vasize:n, :] ; Yte = Y[vasize:n]\n",
    "print(Xt.shape)\n",
    "print(Xv.shape)\n",
    "print(Xte.shape)"
   ]
  },
  {
   "cell_type": "code",
   "execution_count": 7,
   "id": "825cc86f",
   "metadata": {},
   "outputs": [
    {
     "name": "stdout",
     "output_type": "stream",
     "text": [
      "[ True  True  True  True  True  True  True  True  True  True]\n",
      "[ True  True  True  True  True  True  True  True  True  True]\n",
      "[ True  True  True  True  True  True  True  True  True  True]\n"
     ]
    }
   ],
   "source": [
    "print(X[308,:] == Xt[308,:])\n",
    "print(X[309,:] == Xv[0,:])\n",
    "print(X[375,:] == Xte[0,:])"
   ]
  },
  {
   "cell_type": "markdown",
   "id": "a31fd0f3",
   "metadata": {},
   "source": [
    "$$\n",
    "J(\\tilde{W}) = ||Y-\\tilde{D}\\tilde{W}||^2 + \\alpha ||\\tilde{W}||^2\n",
    "\\\\ SGD:\n",
    "\\\\ \\nabla_{\\tilde{W}} = \\frac{\\partial}{\\partial\\tilde{W}}(J(\\tilde{W}))=-\\tilde{D^T}Y+(\\tilde{D^T}\\tilde{D})\\tilde{W}+ \\alpha \\tilde{W}\n",
    "$$"
   ]
  },
  {
   "cell_type": "markdown",
   "id": "6a1a954b",
   "metadata": {},
   "source": [
    "# part 2"
   ]
  },
  {
   "cell_type": "code",
   "execution_count": 12,
   "id": "4cf458d2",
   "metadata": {},
   "outputs": [
    {
     "name": "stdout",
     "output_type": "stream",
     "text": [
      "epoch 10001 with W change: 0.00010\n",
      "[149.771  26.437 -18.114 136.668  92.407  26.915  13.155 -80.157  77.82\n",
      " 129.298  76.84 ]\n"
     ]
    }
   ],
   "source": [
    "### SGD ###\n",
    "def SGD(X,Y,eta=0.001,eps=1e-4,alpha=0.01):\n",
    "    n,d = X.shape\n",
    "    Dt = np.hstack((np.ones((n,1)),X))\n",
    "    W0 = np.random.randn(d+1)\n",
    "    epoch = 1\n",
    "    while True:\n",
    "        ii = np.arange(n)\n",
    "        np.random.shuffle(ii)\n",
    "        for i in ii:\n",
    "            x,y = Dt[i],Y[i]\n",
    "            Dw = -x*(y-x@W0) + alpha*W0\n",
    "            W = W0 - eta*Dw\n",
    "            chg = sum(abs(W/W0-1))\n",
    "            if chg < eps: break\n",
    "            W0 = W\n",
    "        epoch += 1\n",
    "        if epoch > 10000: break\n",
    "    print(f\"epoch {epoch} with W change: {chg:0.5f}\")\n",
    "    return W\n",
    "    \n",
    "W = SGD(Xt,Yt)\n",
    "print(W.round(3))"
   ]
  },
  {
   "cell_type": "code",
   "execution_count": 9,
   "id": "443fa037",
   "metadata": {},
   "outputs": [],
   "source": [
    "no, d = Xt.shape"
   ]
  },
  {
   "cell_type": "code",
   "execution_count": 10,
   "id": "53dde51f",
   "metadata": {},
   "outputs": [
    {
     "data": {
      "text/plain": [
       "4310.097100652206"
      ]
     },
     "execution_count": 10,
     "metadata": {},
     "output_type": "execute_result"
    }
   ],
   "source": [
    "np.linalg.norm(Yt-np.hstack((np.ones((no,1)), Xt)) @ W)**2/no"
   ]
  },
  {
   "cell_type": "markdown",
   "id": "0386fd8e",
   "metadata": {},
   "source": [
    "# part 3"
   ]
  },
  {
   "cell_type": "code",
   "execution_count": 13,
   "id": "21fe71ff",
   "metadata": {},
   "outputs": [],
   "source": [
    "import matplotlib.pyplot as plt\n",
    "from tqdm.notebook import tqdm"
   ]
  },
  {
   "cell_type": "code",
   "execution_count": 14,
   "id": "e7d86caf",
   "metadata": {},
   "outputs": [],
   "source": [
    "def newSGD(X,Y,W0,alpha,eta=0.001,eps=1e-4):\n",
    "    n,d = X.shape\n",
    "    Dt = np.hstack((np.ones((n,1)),X))\n",
    "    #W0 = np.random.randn(d+1)\n",
    "    epoch = 1\n",
    "    while True:\n",
    "        ii = np.arange(n)\n",
    "        np.random.shuffle(ii)\n",
    "        for i in ii:\n",
    "            x,y = Dt[i],Y[i]\n",
    "            Dw = -x*(y-x@W0) + alpha*W0\n",
    "            W = W0 - eta*Dw\n",
    "            chg = sum(abs(W/W0-1))\n",
    "            if chg < eps: break\n",
    "            W0 = W\n",
    "        epoch += 1\n",
    "        if epoch > 10000: break\n",
    "    print(f\"epoch {epoch} with W change: {chg:0.5f}\")\n",
    "    return W\n"
   ]
  },
  {
   "cell_type": "code",
   "execution_count": 17,
   "id": "965f40fc",
   "metadata": {},
   "outputs": [],
   "source": [
    "Alphas = np.arange(0, 1, 0.1)\n",
    "Errors = []\n",
    "nu, d = Xv.shape"
   ]
  },
  {
   "cell_type": "code",
   "execution_count": 18,
   "id": "f9e0af76",
   "metadata": {},
   "outputs": [
    {
     "data": {
      "application/vnd.jupyter.widget-view+json": {
       "model_id": "f2e75e36275244899351d632d32a5212",
       "version_major": 2,
       "version_minor": 0
      },
      "text/plain": [
       "  0%|          | 0/10 [00:00<?, ?it/s]"
      ]
     },
     "metadata": {},
     "output_type": "display_data"
    },
    {
     "name": "stdout",
     "output_type": "stream",
     "text": [
      "epoch 10001 with W change: 0.00002\n",
      "epoch 10001 with W change: 0.00439\n",
      "epoch 10001 with W change: 0.00524\n",
      "epoch 10001 with W change: 0.00529\n",
      "epoch 10001 with W change: 0.02214\n",
      "epoch 10001 with W change: 0.00644\n",
      "epoch 10001 with W change: 0.02644\n",
      "epoch 10001 with W change: 0.02353\n",
      "epoch 10001 with W change: 0.00767\n",
      "epoch 10001 with W change: 0.02651\n"
     ]
    }
   ],
   "source": [
    "for i in tqdm(Alphas):\n",
    "    newW = newSGD(Xv, Yv, W, i)\n",
    "    Errors.append(np.linalg.norm(Yv-np.hstack((np.ones((nu,1)), Xv)) @ newW)**2/nu)\n",
    "    "
   ]
  },
  {
   "cell_type": "code",
   "execution_count": 19,
   "id": "49b56244",
   "metadata": {},
   "outputs": [
    {
     "data": {
      "image/png": "[encoded data removed]",
      "text/plain": [
       "<Figure size 432x288 with 1 Axes>"
      ]
     },
     "metadata": {
      "needs_background": "light"
     },
     "output_type": "display_data"
    }
   ],
   "source": [
    "plt.plot(Alphas, Errors)\n",
    "plt.show()"
   ]
  },
  {
   "cell_type": "code",
   "execution_count": 20,
   "id": "9932e01b",
   "metadata": {},
   "outputs": [],
   "source": [
    "Alphas = np.arange(0, 0.1, 0.01)\n",
    "Errors = []\n",
    "nu, d = Xv.shape"
   ]
  },
  {
   "cell_type": "code",
   "execution_count": 21,
   "id": "a12a870d",
   "metadata": {},
   "outputs": [
    {
     "data": {
      "application/vnd.jupyter.widget-view+json": {
       "model_id": "d11cf56b9e594d389aac1a0fc7d76ed6",
       "version_major": 2,
       "version_minor": 0
      },
      "text/plain": [
       "  0%|          | 0/10 [00:00<?, ?it/s]"
      ]
     },
     "metadata": {},
     "output_type": "display_data"
    },
    {
     "name": "stdout",
     "output_type": "stream",
     "text": [
      "epoch 10001 with W change: 0.00001\n",
      "epoch 10001 with W change: 0.00009\n",
      "epoch 10001 with W change: 0.00721\n",
      "epoch 10001 with W change: 0.00176\n",
      "epoch 10001 with W change: 0.00091\n",
      "epoch 10001 with W change: 0.00294\n",
      "epoch 10001 with W change: 0.00541\n",
      "epoch 10001 with W change: 0.00716\n",
      "epoch 10001 with W change: 0.00322\n",
      "epoch 10001 with W change: 0.00204\n"
     ]
    }
   ],
   "source": [
    "for i in tqdm(Alphas):\n",
    "    newW = newSGD(Xv, Yv, W, i)\n",
    "    Errors.append(np.linalg.norm(Yv-np.hstack((np.ones((nu,1)), Xv)) @ newW)**2/nu)"
   ]
  },
  {
   "cell_type": "code",
   "execution_count": 22,
   "id": "e9b1a6b7",
   "metadata": {},
   "outputs": [
    {
     "data": {
      "image/png": "[encoded data removed]",
      "text/plain": [
       "<Figure size 432x288 with 1 Axes>"
      ]
     },
     "metadata": {
      "needs_background": "light"
     },
     "output_type": "display_data"
    }
   ],
   "source": [
    "plt.plot(Alphas, Errors)\n",
    "plt.show()"
   ]
  },
  {
   "cell_type": "code",
   "execution_count": 23,
   "id": "fbbb8e97",
   "metadata": {},
   "outputs": [],
   "source": [
    "Alphas = np.arange(0, 0.01, 0.001)\n",
    "Errors = []\n",
    "nu, d = Xv.shape"
   ]
  },
  {
   "cell_type": "code",
   "execution_count": 24,
   "id": "f3907756",
   "metadata": {},
   "outputs": [
    {
     "data": {
      "application/vnd.jupyter.widget-view+json": {
       "model_id": "4f6e747ed7e1415eaed54128566c8cde",
       "version_major": 2,
       "version_minor": 0
      },
      "text/plain": [
       "  0%|          | 0/10 [00:00<?, ?it/s]"
      ]
     },
     "metadata": {},
     "output_type": "display_data"
    },
    {
     "name": "stdout",
     "output_type": "stream",
     "text": [
      "epoch 10001 with W change: 0.00002\n",
      "epoch 10001 with W change: 0.00008\n",
      "epoch 10001 with W change: 0.00008\n",
      "epoch 10001 with W change: 0.00009\n",
      "epoch 10001 with W change: 0.00009\n",
      "epoch 10001 with W change: 0.00004\n",
      "epoch 10001 with W change: 0.00009\n",
      "epoch 10001 with W change: 0.00010\n",
      "epoch 10001 with W change: 0.00009\n",
      "epoch 10001 with W change: 0.00009\n"
     ]
    }
   ],
   "source": [
    "for i in tqdm(Alphas):\n",
    "    newW = newSGD(Xv, Yv, W, i)\n",
    "    Errors.append(np.linalg.norm(Yv-np.hstack((np.ones((nu,1)), Xv)) @ newW)**2/nu)"
   ]
  },
  {
   "cell_type": "code",
   "execution_count": 25,
   "id": "92b5353d",
   "metadata": {},
   "outputs": [
    {
     "data": {
      "image/png": "[encoded data removed]",
      "text/plain": [
       "<Figure size 432x288 with 1 Axes>"
      ]
     },
     "metadata": {
      "needs_background": "light"
     },
     "output_type": "display_data"
    }
   ],
   "source": [
    "plt.plot(Alphas, Errors)\n",
    "plt.show()"
   ]
  },
  {
   "cell_type": "code",
   "execution_count": 26,
   "id": "1e9fdeb6",
   "metadata": {},
   "outputs": [],
   "source": [
    "Alphas = np.arange(0, 0.001, 0.0001)\n",
    "Errors = []\n",
    "nu, d = Xv.shape"
   ]
  },
  {
   "cell_type": "code",
   "execution_count": 27,
   "id": "38bdc02a",
   "metadata": {},
   "outputs": [
    {
     "data": {
      "application/vnd.jupyter.widget-view+json": {
       "model_id": "065bb40189f742808c04a3b6809225b4",
       "version_major": 2,
       "version_minor": 0
      },
      "text/plain": [
       "  0%|          | 0/10 [00:00<?, ?it/s]"
      ]
     },
     "metadata": {},
     "output_type": "display_data"
    },
    {
     "name": "stdout",
     "output_type": "stream",
     "text": [
      "epoch 10001 with W change: 0.00005\n",
      "epoch 10001 with W change: 0.00002\n",
      "epoch 10001 with W change: 0.00002\n",
      "epoch 10001 with W change: 0.00002\n",
      "epoch 10001 with W change: 0.00001\n",
      "epoch 10001 with W change: 0.00009\n",
      "epoch 10001 with W change: 0.00010\n",
      "epoch 10001 with W change: 0.00002\n",
      "epoch 10001 with W change: 0.00001\n",
      "epoch 10001 with W change: 0.00010\n"
     ]
    }
   ],
   "source": [
    "for i in tqdm(Alphas):\n",
    "    newW = newSGD(Xv, Yv, W, i)\n",
    "    Errors.append(np.linalg.norm(Yv-np.hstack((np.ones((nu,1)), Xv)) @ newW)**2/nu)"
   ]
  },
  {
   "cell_type": "code",
   "execution_count": 28,
   "id": "ffadb5ac",
   "metadata": {},
   "outputs": [
    {
     "data": {
      "image/png": "[encoded data removed]",
      "text/plain": [
       "<Figure size 432x288 with 1 Axes>"
      ]
     },
     "metadata": {
      "needs_background": "light"
     },
     "output_type": "display_data"
    }
   ],
   "source": [
    "plt.plot(Alphas, Errors)\n",
    "plt.show()"
   ]
  },
  {
   "cell_type": "code",
   "execution_count": 29,
   "id": "9a80d851",
   "metadata": {},
   "outputs": [
    {
     "name": "stdout",
     "output_type": "stream",
     "text": [
      "epoch 10001 with W change: 0.00009\n"
     ]
    }
   ],
   "source": [
    "finalW = newSGD(Xt, Yt, W, 0.0001)"
   ]
  },
  {
   "cell_type": "code",
   "execution_count": 30,
   "id": "4080be51",
   "metadata": {},
   "outputs": [
    {
     "name": "stdout",
     "output_type": "stream",
     "text": [
      "3183.218755128832\n"
     ]
    }
   ],
   "source": [
    "num, d = Xte.shape\n",
    "MSEtest = np.linalg.norm(Yte-np.hstack((np.ones((num,1)), Xte)) @ finalW)**2/num\n",
    "print(MSEtest)"
   ]
  },
  {
   "cell_type": "code",
   "execution_count": 31,
   "id": "b4d83f8a",
   "metadata": {},
   "outputs": [
    {
     "name": "stdout",
     "output_type": "stream",
     "text": [
      "3326.0611682788926\n"
     ]
    }
   ],
   "source": [
    "MSEtotal = np.linalg.norm(Y-np.hstack((np.ones((n,1)), X)) @ finalW)**2/n\n",
    "print(MSEtotal)"
   ]
  },
  {
   "cell_type": "code",
   "execution_count": null,
   "id": "a78b1f49",
   "metadata": {},
   "outputs": [],
   "source": []
  },
  {
   "cell_type": "code",
   "execution_count": 2,
   "id": "01f89ca7",
   "metadata": {},
   "outputs": [
    {
     "data": {
      "text/html": [
       "<div>\n",
       "<style scoped>\n",
       "    .dataframe tbody tr th:only-of-type {\n",
       "        vertical-align: middle;\n",
       "    }\n",
       "\n",
       "    .dataframe tbody tr th {\n",
       "        vertical-align: top;\n",
       "    }\n",
       "\n",
       "    .dataframe thead th {\n",
       "        text-align: right;\n",
       "    }\n",
       "</style>\n",
       "<table border=\"1\" class=\"dataframe\">\n",
       "  <thead>\n",
       "    <tr style=\"text-align: right;\">\n",
       "      <th></th>\n",
       "      <th>age</th>\n",
       "      <th>sex</th>\n",
       "      <th>bmi</th>\n",
       "      <th>bp</th>\n",
       "      <th>s1</th>\n",
       "      <th>s2</th>\n",
       "      <th>s3</th>\n",
       "      <th>s4</th>\n",
       "      <th>s5</th>\n",
       "      <th>s6</th>\n",
       "    </tr>\n",
       "  </thead>\n",
       "  <tbody>\n",
       "    <tr>\n",
       "      <th>0</th>\n",
       "      <td>0.038076</td>\n",
       "      <td>0.050680</td>\n",
       "      <td>0.061696</td>\n",
       "      <td>0.021872</td>\n",
       "      <td>-0.044223</td>\n",
       "      <td>-0.034821</td>\n",
       "      <td>-0.043401</td>\n",
       "      <td>-0.002592</td>\n",
       "      <td>0.019908</td>\n",
       "      <td>-0.017646</td>\n",
       "    </tr>\n",
       "    <tr>\n",
       "      <th>1</th>\n",
       "      <td>-0.001882</td>\n",
       "      <td>-0.044642</td>\n",
       "      <td>-0.051474</td>\n",
       "      <td>-0.026328</td>\n",
       "      <td>-0.008449</td>\n",
       "      <td>-0.019163</td>\n",
       "      <td>0.074412</td>\n",
       "      <td>-0.039493</td>\n",
       "      <td>-0.068330</td>\n",
       "      <td>-0.092204</td>\n",
       "    </tr>\n",
       "    <tr>\n",
       "      <th>2</th>\n",
       "      <td>0.085299</td>\n",
       "      <td>0.050680</td>\n",
       "      <td>0.044451</td>\n",
       "      <td>-0.005671</td>\n",
       "      <td>-0.045599</td>\n",
       "      <td>-0.034194</td>\n",
       "      <td>-0.032356</td>\n",
       "      <td>-0.002592</td>\n",
       "      <td>0.002864</td>\n",
       "      <td>-0.025930</td>\n",
       "    </tr>\n",
       "    <tr>\n",
       "      <th>3</th>\n",
       "      <td>-0.089063</td>\n",
       "      <td>-0.044642</td>\n",
       "      <td>-0.011595</td>\n",
       "      <td>-0.036656</td>\n",
       "      <td>0.012191</td>\n",
       "      <td>0.024991</td>\n",
       "      <td>-0.036038</td>\n",
       "      <td>0.034309</td>\n",
       "      <td>0.022692</td>\n",
       "      <td>-0.009362</td>\n",
       "    </tr>\n",
       "    <tr>\n",
       "      <th>4</th>\n",
       "      <td>0.005383</td>\n",
       "      <td>-0.044642</td>\n",
       "      <td>-0.036385</td>\n",
       "      <td>0.021872</td>\n",
       "      <td>0.003935</td>\n",
       "      <td>0.015596</td>\n",
       "      <td>0.008142</td>\n",
       "      <td>-0.002592</td>\n",
       "      <td>-0.031991</td>\n",
       "      <td>-0.046641</td>\n",
       "    </tr>\n",
       "    <tr>\n",
       "      <th>...</th>\n",
       "      <td>...</td>\n",
       "      <td>...</td>\n",
       "      <td>...</td>\n",
       "      <td>...</td>\n",
       "      <td>...</td>\n",
       "      <td>...</td>\n",
       "      <td>...</td>\n",
       "      <td>...</td>\n",
       "      <td>...</td>\n",
       "      <td>...</td>\n",
       "    </tr>\n",
       "    <tr>\n",
       "      <th>437</th>\n",
       "      <td>0.041708</td>\n",
       "      <td>0.050680</td>\n",
       "      <td>0.019662</td>\n",
       "      <td>0.059744</td>\n",
       "      <td>-0.005697</td>\n",
       "      <td>-0.002566</td>\n",
       "      <td>-0.028674</td>\n",
       "      <td>-0.002592</td>\n",
       "      <td>0.031193</td>\n",
       "      <td>0.007207</td>\n",
       "    </tr>\n",
       "    <tr>\n",
       "      <th>438</th>\n",
       "      <td>-0.005515</td>\n",
       "      <td>0.050680</td>\n",
       "      <td>-0.015906</td>\n",
       "      <td>-0.067642</td>\n",
       "      <td>0.049341</td>\n",
       "      <td>0.079165</td>\n",
       "      <td>-0.028674</td>\n",
       "      <td>0.034309</td>\n",
       "      <td>-0.018118</td>\n",
       "      <td>0.044485</td>\n",
       "    </tr>\n",
       "    <tr>\n",
       "      <th>439</th>\n",
       "      <td>0.041708</td>\n",
       "      <td>0.050680</td>\n",
       "      <td>-0.015906</td>\n",
       "      <td>0.017282</td>\n",
       "      <td>-0.037344</td>\n",
       "      <td>-0.013840</td>\n",
       "      <td>-0.024993</td>\n",
       "      <td>-0.011080</td>\n",
       "      <td>-0.046879</td>\n",
       "      <td>0.015491</td>\n",
       "    </tr>\n",
       "    <tr>\n",
       "      <th>440</th>\n",
       "      <td>-0.045472</td>\n",
       "      <td>-0.044642</td>\n",
       "      <td>0.039062</td>\n",
       "      <td>0.001215</td>\n",
       "      <td>0.016318</td>\n",
       "      <td>0.015283</td>\n",
       "      <td>-0.028674</td>\n",
       "      <td>0.026560</td>\n",
       "      <td>0.044528</td>\n",
       "      <td>-0.025930</td>\n",
       "    </tr>\n",
       "    <tr>\n",
       "      <th>441</th>\n",
       "      <td>-0.045472</td>\n",
       "      <td>-0.044642</td>\n",
       "      <td>-0.073030</td>\n",
       "      <td>-0.081414</td>\n",
       "      <td>0.083740</td>\n",
       "      <td>0.027809</td>\n",
       "      <td>0.173816</td>\n",
       "      <td>-0.039493</td>\n",
       "      <td>-0.004220</td>\n",
       "      <td>0.003064</td>\n",
       "    </tr>\n",
       "  </tbody>\n",
       "</table>\n",
       "<p>442 rows × 10 columns</p>\n",
       "</div>"
      ],
      "text/plain": [
       "          age       sex       bmi        bp        s1        s2        s3  \\\n",
       "0    0.038076  0.050680  0.061696  0.021872 -0.044223 -0.034821 -0.043401   \n",
       "1   -0.001882 -0.044642 -0.051474 -0.026328 -0.008449 -0.019163  0.074412   \n",
       "2    0.085299  0.050680  0.044451 -0.005671 -0.045599 -0.034194 -0.032356   \n",
       "3   -0.089063 -0.044642 -0.011595 -0.036656  0.012191  0.024991 -0.036038   \n",
       "4    0.005383 -0.044642 -0.036385  0.021872  0.003935  0.015596  0.008142   \n",
       "..        ...       ...       ...       ...       ...       ...       ...   \n",
       "437  0.041708  0.050680  0.019662  0.059744 -0.005697 -0.002566 -0.028674   \n",
       "438 -0.005515  0.050680 -0.015906 -0.067642  0.049341  0.079165 -0.028674   \n",
       "439  0.041708  0.050680 -0.015906  0.017282 -0.037344 -0.013840 -0.024993   \n",
       "440 -0.045472 -0.044642  0.039062  0.001215  0.016318  0.015283 -0.028674   \n",
       "441 -0.045472 -0.044642 -0.073030 -0.081414  0.083740  0.027809  0.173816   \n",
       "\n",
       "           s4        s5        s6  \n",
       "0   -0.002592  0.019908 -0.017646  \n",
       "1   -0.039493 -0.068330 -0.092204  \n",
       "2   -0.002592  0.002864 -0.025930  \n",
       "3    0.034309  0.022692 -0.009362  \n",
       "4   -0.002592 -0.031991 -0.046641  \n",
       "..        ...       ...       ...  \n",
       "437 -0.002592  0.031193  0.007207  \n",
       "438  0.034309 -0.018118  0.044485  \n",
       "439 -0.011080 -0.046879  0.015491  \n",
       "440  0.026560  0.044528 -0.025930  \n",
       "441 -0.039493 -0.004220  0.003064  \n",
       "\n",
       "[442 rows x 10 columns]"
      ]
     },
     "execution_count": 2,
     "metadata": {},
     "output_type": "execute_result"
    }
   ],
   "source": [
    "df"
   ]
  },
  {
   "cell_type": "code",
   "execution_count": null,
   "id": "c0065f5e",
   "metadata": {},
   "outputs": [],
   "source": []
  },
  {
   "cell_type": "code",
   "execution_count": null,
   "id": "429fdef9",
   "metadata": {},
   "outputs": [],
   "source": []
  }
 ],
 "metadata": {
  "kernelspec": {
   "display_name": "Python 3 (ipykernel)",
   "language": "python",
   "name": "python3"
  },
  "language_info": {
   "codemirror_mode": {
    "name": "ipython",
    "version": 3
   },
   "file_extension": ".py",
   "mimetype": "text/x-python",
   "name": "python",
   "nbconvert_exporter": "python",
   "pygments_lexer": "ipython3",
   "version": "3.8.12"
  }
 },
 "nbformat": 4,
 "nbformat_minor": 5
}
