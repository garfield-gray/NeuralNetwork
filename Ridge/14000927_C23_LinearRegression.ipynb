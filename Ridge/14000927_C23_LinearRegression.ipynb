{
 "cells": [
  {
   "cell_type": "markdown",
   "metadata": {
    "id": "lhzjwQqrMPNX"
   },
   "source": [
    "# Example 23.4"
   ]
  },
  {
   "cell_type": "code",
   "execution_count": 2,
   "metadata": {
    "id": "5HcfHd5YMOmm"
   },
   "outputs": [
    {
     "data": {
      "text/html": [
       "<div>\n",
       "<style scoped>\n",
       "    .dataframe tbody tr th:only-of-type {\n",
       "        vertical-align: middle;\n",
       "    }\n",
       "\n",
       "    .dataframe tbody tr th {\n",
       "        vertical-align: top;\n",
       "    }\n",
       "\n",
       "    .dataframe thead th {\n",
       "        text-align: right;\n",
       "    }\n",
       "</style>\n",
       "<table border=\"1\" class=\"dataframe\">\n",
       "  <thead>\n",
       "    <tr style=\"text-align: right;\">\n",
       "      <th></th>\n",
       "      <th>sepal length (cm)</th>\n",
       "      <th>sepal width (cm)</th>\n",
       "      <th>petal length (cm)</th>\n",
       "      <th>petal width (cm)</th>\n",
       "    </tr>\n",
       "  </thead>\n",
       "  <tbody>\n",
       "    <tr>\n",
       "      <th>0</th>\n",
       "      <td>5.1</td>\n",
       "      <td>3.5</td>\n",
       "      <td>1.4</td>\n",
       "      <td>0.2</td>\n",
       "    </tr>\n",
       "    <tr>\n",
       "      <th>1</th>\n",
       "      <td>4.9</td>\n",
       "      <td>3.0</td>\n",
       "      <td>1.4</td>\n",
       "      <td>0.2</td>\n",
       "    </tr>\n",
       "    <tr>\n",
       "      <th>2</th>\n",
       "      <td>4.7</td>\n",
       "      <td>3.2</td>\n",
       "      <td>1.3</td>\n",
       "      <td>0.2</td>\n",
       "    </tr>\n",
       "    <tr>\n",
       "      <th>3</th>\n",
       "      <td>4.6</td>\n",
       "      <td>3.1</td>\n",
       "      <td>1.5</td>\n",
       "      <td>0.2</td>\n",
       "    </tr>\n",
       "    <tr>\n",
       "      <th>4</th>\n",
       "      <td>5.0</td>\n",
       "      <td>3.6</td>\n",
       "      <td>1.4</td>\n",
       "      <td>0.2</td>\n",
       "    </tr>\n",
       "    <tr>\n",
       "      <th>...</th>\n",
       "      <td>...</td>\n",
       "      <td>...</td>\n",
       "      <td>...</td>\n",
       "      <td>...</td>\n",
       "    </tr>\n",
       "    <tr>\n",
       "      <th>145</th>\n",
       "      <td>6.7</td>\n",
       "      <td>3.0</td>\n",
       "      <td>5.2</td>\n",
       "      <td>2.3</td>\n",
       "    </tr>\n",
       "    <tr>\n",
       "      <th>146</th>\n",
       "      <td>6.3</td>\n",
       "      <td>2.5</td>\n",
       "      <td>5.0</td>\n",
       "      <td>1.9</td>\n",
       "    </tr>\n",
       "    <tr>\n",
       "      <th>147</th>\n",
       "      <td>6.5</td>\n",
       "      <td>3.0</td>\n",
       "      <td>5.2</td>\n",
       "      <td>2.0</td>\n",
       "    </tr>\n",
       "    <tr>\n",
       "      <th>148</th>\n",
       "      <td>6.2</td>\n",
       "      <td>3.4</td>\n",
       "      <td>5.4</td>\n",
       "      <td>2.3</td>\n",
       "    </tr>\n",
       "    <tr>\n",
       "      <th>149</th>\n",
       "      <td>5.9</td>\n",
       "      <td>3.0</td>\n",
       "      <td>5.1</td>\n",
       "      <td>1.8</td>\n",
       "    </tr>\n",
       "  </tbody>\n",
       "</table>\n",
       "<p>150 rows × 4 columns</p>\n",
       "</div>"
      ],
      "text/plain": [
       "     sepal length (cm)  sepal width (cm)  petal length (cm)  petal width (cm)\n",
       "0                  5.1               3.5                1.4               0.2\n",
       "1                  4.9               3.0                1.4               0.2\n",
       "2                  4.7               3.2                1.3               0.2\n",
       "3                  4.6               3.1                1.5               0.2\n",
       "4                  5.0               3.6                1.4               0.2\n",
       "..                 ...               ...                ...               ...\n",
       "145                6.7               3.0                5.2               2.3\n",
       "146                6.3               2.5                5.0               1.9\n",
       "147                6.5               3.0                5.2               2.0\n",
       "148                6.2               3.4                5.4               2.3\n",
       "149                5.9               3.0                5.1               1.8\n",
       "\n",
       "[150 rows x 4 columns]"
      ]
     },
     "execution_count": 2,
     "metadata": {},
     "output_type": "execute_result"
    }
   ],
   "source": [
    "from sklearn import datasets\n",
    "import pandas as pd\n",
    "import matplotlib.pyplot as plt\n",
    "\n",
    "import numpy as np\n",
    "from numpy.linalg import norm \n",
    "from numpy import where,eye \n",
    "\n",
    "data = datasets.load_iris()\n",
    "\n",
    "df = pd.DataFrame(data.data,columns=data.feature_names)\n",
    "# ['sepal length (cm)','sepal width (cm)','petal length (cm)','petal width (cm)']\n",
    "D = df.to_numpy()[:,[0,2]]\n",
    "Y = df.to_numpy()[:,3]\n",
    "n,d = D.shape\n",
    "Dt = np.hstack((np.ones((n,1)),D))# augmented data matrix\n",
    "n,d = Dt.shape\n",
    "# Q,R = np.linalg.qr(Dt)\n",
    "df"
   ]
  },
  {
   "cell_type": "code",
   "execution_count": null,
   "metadata": {
    "id": "RewjlHMqL4iD"
   },
   "outputs": [],
   "source": [
    "X0 = Dt[:,0]\n",
    "X1 = Dt[:,1]\n",
    "X2 = Dt[:,2]\n",
    "U0 = X0\n",
    "p10 = (X1.T) @ U0 / norm(U0)**2\n",
    "U1 = X1 - p10*U0\n",
    "p20 = (X2.T) @ U0 / norm(U0)**2\n",
    "p21 = (X2.T) @ U1 / norm(U1)**2\n",
    "U2 = X2 - p20*U0 - p21*U1\n",
    "R = eye(d,d)\n",
    "R[0,1] = p10\n",
    "R[0,2] = p20\n",
    "R[1,2] = p21\n",
    "R"
   ]
  },
  {
   "cell_type": "code",
   "execution_count": null,
   "metadata": {
    "id": "pjGUzEYpY3kz"
   },
   "outputs": [],
   "source": [
    "Q = np.array([U0,U1,U2]).T"
   ]
  },
  {
   "cell_type": "code",
   "execution_count": null,
   "metadata": {
    "id": "Llj85qT4MgI4"
   },
   "outputs": [],
   "source": [
    "Delta = np.diagflat([norm(U0)**2,norm(U1)**2,norm(U2)**2])\n",
    "DeltaInv = np.diagflat([1/norm(U0)**2,1/norm(U1)**2,1/norm(U2)**2])\n",
    "W = np.linalg.inv(R) @ DeltaInv @ Q.T @ Y\n",
    "print(f\"Y = {W[0]:.3f} + {W[1]:.3f} X1 + {W[2]:.3f} X2\")"
   ]
  },
  {
   "cell_type": "markdown",
   "metadata": {
    "id": "YETpRLK94XTp"
   },
   "source": [
    "----------------------------\n",
    "# Example 23.1 "
   ]
  },
  {
   "cell_type": "code",
   "execution_count": 3,
   "metadata": {
    "id": "7UXEes0a4u53"
   },
   "outputs": [
    {
     "data": {
      "image/png": "[encoded data removed]",
      "text/plain": [
       "<Figure size 432x288 with 1 Axes>"
      ]
     },
     "metadata": {
      "needs_background": "light"
     },
     "output_type": "display_data"
    }
   ],
   "source": [
    "from sklearn import datasets\n",
    "import matplotlib.pyplot as plt\n",
    "\n",
    "data = datasets.load_iris()\n",
    "\n",
    "X = data.data[:,2]\n",
    "Y = data.data[:,3]\n",
    "plt.scatter(X,Y,s=100,facecolors=\"white\",edgecolors=\"blue\",alpha=1)\n",
    "plt.xlabel(\"X1: petal length\")\n",
    "plt.ylabel(\"X2: petal width\")\n",
    "plt.show()\n"
   ]
  },
  {
   "cell_type": "code",
   "execution_count": 4,
   "metadata": {
    "id": "2fndoBHH4u2Z"
   },
   "outputs": [],
   "source": [
    "from numpy import cov,mean\n",
    "W = cov(X,Y)[0,1]/cov(X,Y)[0,0]\n",
    "b = mean(Y) - W * mean(X)\n",
    "Yhat = b + W*X\n",
    "SSE = sum((Y - Yhat)**2)"
   ]
  },
  {
   "cell_type": "code",
   "execution_count": 5,
   "metadata": {
    "id": "5n91L9zv8ZOJ"
   },
   "outputs": [
    {
     "data": {
      "image/png": "[encoded data removed]",
      "text/plain": [
       "<Figure size 432x288 with 1 Axes>"
      ]
     },
     "metadata": {
      "needs_background": "light"
     },
     "output_type": "display_data"
    }
   ],
   "source": [
    "from numpy import arange    \n",
    "x = arange(1,8,0.1)\n",
    "y = b+W*x\n",
    "plt.scatter(X,Y,s=100,facecolors=\"white\",edgecolors=\"blue\",alpha=0.5)\n",
    "plt.plot(x,y,\"red\",lw=2)\n",
    "plt.xlabel(\"X1: petal length\")\n",
    "plt.ylabel(\"X2: petal width\")\n",
    "plt.show()"
   ]
  },
  {
   "cell_type": "markdown",
   "metadata": {
    "id": "ecgWNGoi95nf"
   },
   "source": [
    "-----------------------\n",
    "# Example 23.3"
   ]
  },
  {
   "cell_type": "code",
   "execution_count": 6,
   "metadata": {
    "id": "DLF3V_2m-DEZ"
   },
   "outputs": [
    {
     "data": {
      "text/plain": [
       "array([-0.009, -0.082,  0.449])"
      ]
     },
     "execution_count": 6,
     "metadata": {},
     "output_type": "execute_result"
    }
   ],
   "source": [
    "from sklearn import datasets\n",
    "import matplotlib.pyplot as plt\n",
    "from numpy import hstack,ones\n",
    "from numpy.linalg import inv\n",
    "\n",
    "data = datasets.load_iris()\n",
    "\n",
    "X = data.data[:,[0,2]]\n",
    "Y = data.data[:,3]\n",
    "D = hstack((ones((150,1)),X))\n",
    "\n",
    "W = inv(D.T @ D) @ (D.T @ Y)\n",
    "W.round(3)"
   ]
  },
  {
   "cell_type": "markdown",
   "metadata": {
    "id": "_5vWRP1WOOrg"
   },
   "source": [
    "-----------------------\n",
    "# Example 23.5"
   ]
  },
  {
   "cell_type": "code",
   "execution_count": 7,
   "metadata": {
    "id": "tUlE1CFXAa-j"
   },
   "outputs": [
    {
     "name": "stdout",
     "output_type": "stream",
     "text": [
      "epoch 10001 with W change: 0.00295\n",
      "[-0.007 -0.078  0.452]\n"
     ]
    }
   ],
   "source": [
    "from sklearn import datasets\n",
    "data = datasets.load_iris()\n",
    "X = data.data[:,[0,2]]\n",
    "Y = data.data[:,3]\n",
    "\n",
    "### SGD ###\n",
    "def SGD(X,Y,eta=0.001,eps=1e-4):\n",
    "    n,d = X.shape\n",
    "    Dt = hstack((ones((n,1)),X))\n",
    "    W0 = np.random.randn(d+1)\n",
    "    epoch = 1\n",
    "    while True:\n",
    "        ii = np.arange(n)\n",
    "        np.random.shuffle(ii)\n",
    "        for i in ii:\n",
    "            x,y = Dt[i],Y[i]\n",
    "            Dw = -x*(y-x@W0)\n",
    "            W = W0 - eta*Dw\n",
    "            chg = sum(abs(W/W0-1))\n",
    "            if chg < eps: break\n",
    "            W0 = W\n",
    "        epoch += 1\n",
    "        if epoch > 10000: break\n",
    "    print(f\"epoch {epoch} with W change: {chg:0.5f}\")\n",
    "    return W\n",
    "    \n",
    "W = SGD(X,Y)\n",
    "print(W.round(3))"
   ]
  },
  {
   "cell_type": "code",
   "execution_count": null,
   "metadata": {
    "id": "7GGBC8B2Lp_N"
   },
   "outputs": [],
   "source": []
  },
  {
   "cell_type": "code",
   "execution_count": null,
   "metadata": {
    "id": "-X5LKMJoXvEY"
   },
   "outputs": [],
   "source": []
  }
 ],
 "metadata": {
  "colab": {
   "collapsed_sections": [
    "lhzjwQqrMPNX"
   ],
   "name": "14000927_C23_LinearRegression.ipynb",
   "private_outputs": true,
   "provenance": []
  },
  "kernelspec": {
   "display_name": "Python 3 (ipykernel)",
   "language": "python",
   "name": "python3"
  },
  "language_info": {
   "codemirror_mode": {
    "name": "ipython",
    "version": 3
   },
   "file_extension": ".py",
   "mimetype": "text/x-python",
   "name": "python",
   "nbconvert_exporter": "python",
   "pygments_lexer": "ipython3",
   "version": "3.8.12"
  }
 },
 "nbformat": 4,
 "nbformat_minor": 1
}
