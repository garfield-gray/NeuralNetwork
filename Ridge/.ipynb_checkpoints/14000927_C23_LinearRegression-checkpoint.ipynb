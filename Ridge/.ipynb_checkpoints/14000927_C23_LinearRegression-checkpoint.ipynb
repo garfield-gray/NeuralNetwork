{
 "cells": [
  {
   "cell_type": "markdown",
   "metadata": {
    "id": "lhzjwQqrMPNX"
   },
   "source": [
    "# Example 23.4"
   ]
  },
  {
   "cell_type": "code",
   "execution_count": 1,
   "metadata": {
    "id": "5HcfHd5YMOmm"
   },
   "outputs": [],
   "source": [
    "from sklearn import datasets\n",
    "import pandas as pd\n",
    "import matplotlib.pyplot as plt\n",
    "\n",
    "import numpy as np\n",
    "from numpy.linalg import norm \n",
    "from numpy import where,eye \n",
    "\n",
    "data = datasets.load_iris()\n",
    "\n",
    "df = pd.DataFrame(data.data,columns=data.feature_names)\n",
    "# ['sepal length (cm)','sepal width (cm)','petal length (cm)','petal width (cm)']\n",
    "D = df.to_numpy()[:,[0,2]]\n",
    "Y = df.to_numpy()[:,3]\n",
    "n,d = D.shape\n",
    "Dt = np.hstack((np.ones((n,1)),D))# augmented data matrix\n",
    "n,d = Dt.shape\n",
    "# Q,R = np.linalg.qr(Dt)"
   ]
  },
  {
   "cell_type": "code",
   "execution_count": null,
   "metadata": {
    "id": "RewjlHMqL4iD"
   },
   "outputs": [],
   "source": [
    "X0 = Dt[:,0]\n",
    "X1 = Dt[:,1]\n",
    "X2 = Dt[:,2]\n",
    "U0 = X0\n",
    "p10 = (X1.T) @ U0 / norm(U0)**2\n",
    "U1 = X1 - p10*U0\n",
    "p20 = (X2.T) @ U0 / norm(U0)**2\n",
    "p21 = (X2.T) @ U1 / norm(U1)**2\n",
    "U2 = X2 - p20*U0 - p21*U1\n",
    "R = eye(d,d)\n",
    "R[0,1] = p10\n",
    "R[0,2] = p20\n",
    "R[1,2] = p21\n",
    "R"
   ]
  },
  {
   "cell_type": "code",
   "execution_count": null,
   "metadata": {
    "id": "pjGUzEYpY3kz"
   },
   "outputs": [],
   "source": [
    "Q = np.array([U0,U1,U2]).T"
   ]
  },
  {
   "cell_type": "code",
   "execution_count": null,
   "metadata": {
    "id": "Llj85qT4MgI4"
   },
   "outputs": [],
   "source": [
    "Delta = np.diagflat([norm(U0)**2,norm(U1)**2,norm(U2)**2])\n",
    "DeltaInv = np.diagflat([1/norm(U0)**2,1/norm(U1)**2,1/norm(U2)**2])\n",
    "W = np.linalg.inv(R) @ DeltaInv @ Q.T @ Y\n",
    "print(f\"Y = {W[0]:.3f} + {W[1]:.3f} X1 + {W[2]:.3f} X2\")"
   ]
  },
  {
   "cell_type": "markdown",
   "metadata": {
    "id": "YETpRLK94XTp"
   },
   "source": [
    "----------------------------\n",
    "# Example 23.1 "
   ]
  },
  {
   "cell_type": "code",
   "execution_count": null,
   "metadata": {
    "id": "7UXEes0a4u53"
   },
   "outputs": [],
   "source": [
    "from sklearn import datasets\n",
    "import matplotlib.pyplot as plt\n",
    "\n",
    "data = datasets.load_iris()\n",
    "\n",
    "X = data.data[:,2]\n",
    "Y = data.data[:,3]\n",
    "plt.scatter(X,Y,s=100,facecolors=\"white\",edgecolors=\"blue\",alpha=1)\n",
    "plt.xlabel(\"X1: petal length\")\n",
    "plt.ylabel(\"X2: petal width\")\n",
    "plt.show()\n"
   ]
  },
  {
   "cell_type": "code",
   "execution_count": null,
   "metadata": {
    "id": "2fndoBHH4u2Z"
   },
   "outputs": [],
   "source": [
    "from numpy import cov,mean\n",
    "W = cov(X,Y)[0,1]/cov(X,Y)[0,0]\n",
    "b = mean(Y) - W * mean(X)\n",
    "Yhat = b + W*X\n",
    "SSE = sum((Y - Yhat)**2)"
   ]
  },
  {
   "cell_type": "code",
   "execution_count": null,
   "metadata": {
    "id": "5n91L9zv8ZOJ"
   },
   "outputs": [],
   "source": [
    "from numpy import arange    \n",
    "x = arange(1,8,0.1)\n",
    "y = b+W*x\n",
    "plt.scatter(X,Y,s=100,facecolors=\"white\",edgecolors=\"blue\",alpha=0.5)\n",
    "plt.plot(x,y,\"red\",lw=2)\n",
    "plt.xlabel(\"X1: petal length\")\n",
    "plt.ylabel(\"X2: petal width\")\n",
    "plt.show()"
   ]
  },
  {
   "cell_type": "markdown",
   "metadata": {
    "id": "ecgWNGoi95nf"
   },
   "source": [
    "-----------------------\n",
    "# Example 23.3"
   ]
  },
  {
   "cell_type": "code",
   "execution_count": null,
   "metadata": {
    "id": "DLF3V_2m-DEZ"
   },
   "outputs": [],
   "source": [
    "from sklearn import datasets\n",
    "import matplotlib.pyplot as plt\n",
    "from numpy import hstack,ones\n",
    "from numpy.linalg import inv\n",
    "\n",
    "data = datasets.load_iris()\n",
    "\n",
    "X = data.data[:,[0,2]]\n",
    "Y = data.data[:,3]\n",
    "D = hstack((ones((150,1)),X))\n",
    "\n",
    "W = inv(D.T @ D) @ (D.T @ Y)\n",
    "W.round(3)"
   ]
  },
  {
   "cell_type": "markdown",
   "metadata": {
    "id": "_5vWRP1WOOrg"
   },
   "source": [
    "-----------------------\n",
    "# Example 23.5"
   ]
  },
  {
   "cell_type": "code",
   "execution_count": null,
   "metadata": {
    "id": "tUlE1CFXAa-j"
   },
   "outputs": [],
   "source": [
    "from sklearn import datasets\n",
    "data = datasets.load_iris()\n",
    "X = data.data[:,[0,2]]\n",
    "Y = data.data[:,3]\n",
    "\n",
    "### SGD ###\n",
    "def SGD(X,Y,eta=0.001,eps=1e-4):\n",
    "    n,d = X.shape\n",
    "    Dt = hstack((ones((n,1)),X))\n",
    "    W0 = np.random.randn(d+1)\n",
    "    epoch = 1\n",
    "    while True:\n",
    "        ii = np.arange(n)\n",
    "        np.random.shuffle(ii)\n",
    "        for i in ii:\n",
    "            x,y = Dt[i],Y[i]\n",
    "            Dw = -x*(y-x@W0)\n",
    "            W = W0 - eta*Dw\n",
    "            chg = sum(abs(W/W0-1))\n",
    "            if chg < eps: break\n",
    "            W0 = W\n",
    "        epoch += 1\n",
    "        if epoch > 10000: break\n",
    "    print(f\"epoch {epoch} with W change: {chg:0.5f}\")\n",
    "    return W\n",
    "    \n",
    "W = SGD(X,Y)\n",
    "print(W.round(3))"
   ]
  },
  {
   "cell_type": "code",
   "execution_count": null,
   "metadata": {
    "id": "7GGBC8B2Lp_N"
   },
   "outputs": [],
   "source": []
  },
  {
   "cell_type": "code",
   "execution_count": null,
   "metadata": {
    "id": "-X5LKMJoXvEY"
   },
   "outputs": [],
   "source": []
  }
 ],
 "metadata": {
  "colab": {
   "collapsed_sections": [
    "lhzjwQqrMPNX"
   ],
   "name": "14000927_C23_LinearRegression.ipynb",
   "private_outputs": true,
   "provenance": []
  },
  "kernelspec": {
   "display_name": "Python 3 (ipykernel)",
   "language": "python",
   "name": "python3"
  },
  "language_info": {
   "codemirror_mode": {
    "name": "ipython",
    "version": 3
   },
   "file_extension": ".py",
   "mimetype": "text/x-python",
   "name": "python",
   "nbconvert_exporter": "python",
   "pygments_lexer": "ipython3",
   "version": "3.8.12"
  }
 },
 "nbformat": 4,
 "nbformat_minor": 1
}
