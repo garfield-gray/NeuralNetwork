{
  "cells": [
    {
      "cell_type": "markdown",
      "metadata": {
        "id": "view-in-github",
        "colab_type": "text"
      },
      "source": [
        "<a href=\"https://colab.research.google.com/github/garfield-gray/NeuralNetwork/blob/main/RNN.ipynb\" target=\"_parent\"><img src=\"https://colab.research.google.com/assets/colab-badge.svg\" alt=\"Open In Colab\"/></a>"
      ]
    },
    {
      "cell_type": "code",
      "execution_count": 35,
      "metadata": {
        "id": "HY54IdU3UqZc"
      },
      "outputs": [],
      "source": [
        "import numpy as np\n",
        "import tensorflow as tf\n",
        "\n",
        "import sklearn as sl\n",
        "from sklearn import datasets\n",
        "from sklearn.model_selection import train_test_split\n",
        "import pandas as pd \n",
        "import matplotlib.pyplot as plt\n",
        "import seaborn as sb\n"
      ]
    },
    {
      "cell_type": "markdown",
      "source": [
        "# problem 2"
      ],
      "metadata": {
        "id": "Zfrk460k4V4f"
      }
    },
    {
      "cell_type": "code",
      "execution_count": null,
      "metadata": {
        "id": "Rf3sAKGSUxI7"
      },
      "outputs": [],
      "source": [
        "d = datasets.load_breast_cancer()\n",
        "x = d.data\n",
        "y = d.target"
      ]
    },
    {
      "cell_type": "code",
      "source": [
        "x_train,x_test,y_train,y_test = train_test_split(x,y,test_size=0.2,random_state=0)\n",
        "\n",
        "print('Shape of the training set:'+\" \"+str(x_train.shape))\n",
        "print('Size of the training set:'+\" \"+str(x_train.shape[0]))\n",
        "\n",
        "print('Shape of the testing set:'+\" \"+str(x_test.shape))\n",
        "print('Size of the testing set:'+\" \"+str(x_test.shape[0]))"
      ],
      "metadata": {
        "colab": {
          "base_uri": "https://localhost:8080/"
        },
        "id": "AbxXkpo54XgC",
        "outputId": "a3868ba1-3e64-48c8-88a2-f14ed5ad492c"
      },
      "execution_count": null,
      "outputs": [
        {
          "output_type": "stream",
          "name": "stdout",
          "text": [
            "Shape of the training set: (455, 30)\n",
            "Size of the training set: 455\n",
            "Shape of the testing set: (114, 30)\n",
            "Size of the testing set: 114\n"
          ]
        }
      ]
    },
    {
      "cell_type": "code",
      "source": [
        "plt.figure(figsize = (6,6))\n",
        "sb.countplot(y_train)\n",
        "plt.xlabel(\"Classes\")\n",
        "plt.ylabel(\"Freq\")\n",
        "plt.title(\"Y train\")\n",
        "plt.show()"
      ],
      "metadata": {
        "colab": {
          "base_uri": "https://localhost:8080/",
          "height": 459
        },
        "id": "HuVVOcTiNJKT",
        "outputId": "a9b410ad-b6dd-4c1f-95c1-432763f613f1"
      },
      "execution_count": 40,
      "outputs": [
        {
          "output_type": "stream",
          "name": "stderr",
          "text": [
            "/usr/local/lib/python3.7/dist-packages/seaborn/_decorators.py:43: FutureWarning: Pass the following variable as a keyword arg: x. From version 0.12, the only valid positional argument will be `data`, and passing other arguments without an explicit keyword will result in an error or misinterpretation.\n",
            "  FutureWarning\n"
          ]
        },
        {
          "output_type": "display_data",
          "data": {
            "text/plain": [
              "<Figure size 432x432 with 1 Axes>"
            ],
            "image/png": "[encoded data removed]"
          },
          "metadata": {
            "needs_background": "light"
          }
        }
      ]
    },
    {
      "cell_type": "code",
      "source": [
        "model = tf.keras.Sequential([\n",
        "    tf.keras.layers.Dense(32 ,activation='relu',input_shape=(30,)),\n",
        "    tf.keras.layers.Dense(32 ,activation='relu'),\n",
        "    tf.keras.layers.Dense(1,activation='sigmoid')\n",
        "])\n",
        "model.summary()"
      ],
      "metadata": {
        "colab": {
          "base_uri": "https://localhost:8080/"
        },
        "id": "c0nJKOMh5AMq",
        "outputId": "78b065ee-39a4-4d51-8ebd-9d0b48fffb2e"
      },
      "execution_count": null,
      "outputs": [
        {
          "output_type": "stream",
          "name": "stdout",
          "text": [
            "Model: \"sequential\"\n",
            "_________________________________________________________________\n",
            " Layer (type)                Output Shape              Param #   \n",
            "=================================================================\n",
            " dense (Dense)               (None, 32)                992       \n",
            "                                                                 \n",
            " dense_1 (Dense)             (None, 32)                1056      \n",
            "                                                                 \n",
            " dense_2 (Dense)             (None, 1)                 33        \n",
            "                                                                 \n",
            "=================================================================\n",
            "Total params: 2,081\n",
            "Trainable params: 2,081\n",
            "Non-trainable params: 0\n",
            "_________________________________________________________________\n"
          ]
        }
      ]
    },
    {
      "cell_type": "code",
      "source": [
        "def L(epoch , Ir):\n",
        "  if epoch < 2:\n",
        "    return Ir\n",
        "  else:\n",
        "    return Ir*np.exp(-0.2)\n",
        "  \n",
        "E = tf.keras.callbacks.EarlyStopping(patience=3 , monitor = 'val_acc')\n",
        "L = tf.keras.callbacks.LearningRateScheduler(L)"
      ],
      "metadata": {
        "id": "S1uUK2_NTZOg"
      },
      "execution_count": null,
      "outputs": []
    },
    {
      "cell_type": "code",
      "source": [
        "model.compile(optimizer='Adam',loss='binary_crossentropy',metrics=['accuracy'])\n",
        "history = model.fit(x_train, y_train , validation_split=0.1,epochs=100,batch_size=32, callbacks=[E, L])"
      ],
      "metadata": {
        "colab": {
          "base_uri": "https://localhost:8080/"
        },
        "id": "O4k3IzWc60BP",
        "outputId": "59f61a35-89d2-429e-ab1e-223cb0d5e6ea"
      },
      "execution_count": null,
      "outputs": [
        {
          "output_type": "stream",
          "name": "stdout",
          "text": [
            "Epoch 1/100\n",
            " 1/13 [=>............................] - ETA: 9s - loss: 7.2252 - accuracy: 0.6562WARNING:tensorflow:Early stopping conditioned on metric `val_acc` which is not available. Available metrics are: loss,accuracy,val_loss,val_accuracy\n",
            "13/13 [==============================] - 1s 19ms/step - loss: 2.2936 - accuracy: 0.6993 - val_loss: 1.6019 - val_accuracy: 0.7826 - lr: 0.0010\n",
            "Epoch 2/100\n",
            " 1/13 [=>............................] - ETA: 0s - loss: 0.6386 - accuracy: 0.8750WARNING:tensorflow:Early stopping conditioned on metric `val_acc` which is not available. Available metrics are: loss,accuracy,val_loss,val_accuracy\n",
            "13/13 [==============================] - 0s 4ms/step - loss: 0.5219 - accuracy: 0.8778 - val_loss: 0.7831 - val_accuracy: 0.8478 - lr: 0.0010\n",
            "Epoch 3/100\n",
            " 1/13 [=>............................] - ETA: 0s - loss: 0.8910 - accuracy: 0.8750WARNING:tensorflow:Early stopping conditioned on metric `val_acc` which is not available. Available metrics are: loss,accuracy,val_loss,val_accuracy\n",
            "13/13 [==============================] - 0s 5ms/step - loss: 0.5346 - accuracy: 0.8949 - val_loss: 0.5863 - val_accuracy: 0.8913 - lr: 8.1873e-04\n",
            "Epoch 4/100\n",
            " 1/13 [=>............................] - ETA: 0s - loss: 0.1038 - accuracy: 0.9375WARNING:tensorflow:Early stopping conditioned on metric `val_acc` which is not available. Available metrics are: loss,accuracy,val_loss,val_accuracy\n",
            "13/13 [==============================] - 0s 5ms/step - loss: 0.3537 - accuracy: 0.9169 - val_loss: 0.6286 - val_accuracy: 0.8478 - lr: 6.7032e-04\n",
            "Epoch 5/100\n",
            " 1/13 [=>............................] - ETA: 0s - loss: 0.8144 - accuracy: 0.8750WARNING:tensorflow:Early stopping conditioned on metric `val_acc` which is not available. Available metrics are: loss,accuracy,val_loss,val_accuracy\n",
            "13/13 [==============================] - 0s 5ms/step - loss: 0.3455 - accuracy: 0.9144 - val_loss: 0.3807 - val_accuracy: 0.8913 - lr: 5.4881e-04\n",
            "Epoch 6/100\n",
            " 1/13 [=>............................] - ETA: 0s - loss: 0.3232 - accuracy: 0.8750WARNING:tensorflow:Early stopping conditioned on metric `val_acc` which is not available. Available metrics are: loss,accuracy,val_loss,val_accuracy\n",
            "13/13 [==============================] - 0s 4ms/step - loss: 0.2951 - accuracy: 0.9144 - val_loss: 0.3544 - val_accuracy: 0.8913 - lr: 4.4933e-04\n",
            "Epoch 7/100\n",
            " 1/13 [=>............................] - ETA: 0s - loss: 0.6796 - accuracy: 0.8125WARNING:tensorflow:Early stopping conditioned on metric `val_acc` which is not available. Available metrics are: loss,accuracy,val_loss,val_accuracy\n",
            "13/13 [==============================] - 0s 6ms/step - loss: 0.2842 - accuracy: 0.9144 - val_loss: 0.3354 - val_accuracy: 0.8913 - lr: 3.6788e-04\n",
            "Epoch 8/100\n",
            " 1/13 [=>............................] - ETA: 0s - loss: 0.0511 - accuracy: 0.9688WARNING:tensorflow:Early stopping conditioned on metric `val_acc` which is not available. Available metrics are: loss,accuracy,val_loss,val_accuracy\n",
            "13/13 [==============================] - 0s 5ms/step - loss: 0.2675 - accuracy: 0.9144 - val_loss: 0.3212 - val_accuracy: 0.8913 - lr: 3.0119e-04\n",
            "Epoch 9/100\n",
            " 1/13 [=>............................] - ETA: 0s - loss: 0.3278 - accuracy: 0.8750WARNING:tensorflow:Early stopping conditioned on metric `val_acc` which is not available. Available metrics are: loss,accuracy,val_loss,val_accuracy\n",
            "13/13 [==============================] - 0s 4ms/step - loss: 0.2725 - accuracy: 0.9095 - val_loss: 0.3126 - val_accuracy: 0.8913 - lr: 2.4660e-04\n",
            "Epoch 10/100\n",
            " 1/13 [=>............................] - ETA: 0s - loss: 0.4333 - accuracy: 0.9062WARNING:tensorflow:Early stopping conditioned on metric `val_acc` which is not available. Available metrics are: loss,accuracy,val_loss,val_accuracy\n",
            "13/13 [==============================] - 0s 4ms/step - loss: 0.2495 - accuracy: 0.9120 - val_loss: 0.3083 - val_accuracy: 0.8913 - lr: 2.0190e-04\n",
            "Epoch 11/100\n",
            " 1/13 [=>............................] - ETA: 0s - loss: 0.3321 - accuracy: 0.8750WARNING:tensorflow:Early stopping conditioned on metric `val_acc` which is not available. Available metrics are: loss,accuracy,val_loss,val_accuracy\n",
            "13/13 [==============================] - 0s 4ms/step - loss: 0.2529 - accuracy: 0.9144 - val_loss: 0.3169 - val_accuracy: 0.9130 - lr: 1.6530e-04\n",
            "Epoch 12/100\n",
            " 1/13 [=>............................] - ETA: 0s - loss: 0.3036 - accuracy: 0.8750WARNING:tensorflow:Early stopping conditioned on metric `val_acc` which is not available. Available metrics are: loss,accuracy,val_loss,val_accuracy\n",
            "13/13 [==============================] - 0s 4ms/step - loss: 0.2421 - accuracy: 0.9169 - val_loss: 0.3005 - val_accuracy: 0.9130 - lr: 1.3534e-04\n",
            "Epoch 13/100\n",
            " 1/13 [=>............................] - ETA: 0s - loss: 0.1863 - accuracy: 0.9688WARNING:tensorflow:Early stopping conditioned on metric `val_acc` which is not available. Available metrics are: loss,accuracy,val_loss,val_accuracy\n",
            "13/13 [==============================] - 0s 4ms/step - loss: 0.2445 - accuracy: 0.9169 - val_loss: 0.2943 - val_accuracy: 0.8913 - lr: 1.1080e-04\n",
            "Epoch 14/100\n",
            " 1/13 [=>............................] - ETA: 0s - loss: 0.1861 - accuracy: 0.8750WARNING:tensorflow:Early stopping conditioned on metric `val_acc` which is not available. Available metrics are: loss,accuracy,val_loss,val_accuracy\n",
            "13/13 [==============================] - 0s 5ms/step - loss: 0.2304 - accuracy: 0.9193 - val_loss: 0.2997 - val_accuracy: 0.9130 - lr: 9.0718e-05\n",
            "Epoch 15/100\n",
            " 1/13 [=>............................] - ETA: 0s - loss: 0.5482 - accuracy: 0.8125WARNING:tensorflow:Early stopping conditioned on metric `val_acc` which is not available. Available metrics are: loss,accuracy,val_loss,val_accuracy\n",
            "13/13 [==============================] - 0s 4ms/step - loss: 0.2383 - accuracy: 0.9169 - val_loss: 0.3005 - val_accuracy: 0.9130 - lr: 7.4274e-05\n",
            "Epoch 16/100\n",
            " 1/13 [=>............................] - ETA: 0s - loss: 0.2357 - accuracy: 0.8750WARNING:tensorflow:Early stopping conditioned on metric `val_acc` which is not available. Available metrics are: loss,accuracy,val_loss,val_accuracy\n",
            "13/13 [==============================] - 0s 5ms/step - loss: 0.2401 - accuracy: 0.9144 - val_loss: 0.2848 - val_accuracy: 0.8913 - lr: 6.0810e-05\n",
            "Epoch 17/100\n",
            " 1/13 [=>............................] - ETA: 0s - loss: 0.0939 - accuracy: 0.9688WARNING:tensorflow:Early stopping conditioned on metric `val_acc` which is not available. Available metrics are: loss,accuracy,val_loss,val_accuracy\n",
            "13/13 [==============================] - 0s 4ms/step - loss: 0.2300 - accuracy: 0.9169 - val_loss: 0.2890 - val_accuracy: 0.9130 - lr: 4.9787e-05\n",
            "Epoch 18/100\n",
            " 1/13 [=>............................] - ETA: 0s - loss: 0.1608 - accuracy: 0.9375WARNING:tensorflow:Early stopping conditioned on metric `val_acc` which is not available. Available metrics are: loss,accuracy,val_loss,val_accuracy\n",
            "13/13 [==============================] - 0s 4ms/step - loss: 0.2286 - accuracy: 0.9144 - val_loss: 0.2862 - val_accuracy: 0.9130 - lr: 4.0762e-05\n",
            "Epoch 19/100\n",
            " 1/13 [=>............................] - ETA: 0s - loss: 0.0086 - accuracy: 1.0000WARNING:tensorflow:Early stopping conditioned on metric `val_acc` which is not available. Available metrics are: loss,accuracy,val_loss,val_accuracy\n",
            "13/13 [==============================] - 0s 5ms/step - loss: 0.2298 - accuracy: 0.9144 - val_loss: 0.2851 - val_accuracy: 0.9130 - lr: 3.3373e-05\n",
            "Epoch 20/100\n",
            " 1/13 [=>............................] - ETA: 0s - loss: 0.1970 - accuracy: 0.9062WARNING:tensorflow:Early stopping conditioned on metric `val_acc` which is not available. Available metrics are: loss,accuracy,val_loss,val_accuracy\n",
            "13/13 [==============================] - 0s 4ms/step - loss: 0.2278 - accuracy: 0.9144 - val_loss: 0.2788 - val_accuracy: 0.8913 - lr: 2.7324e-05\n",
            "Epoch 21/100\n",
            " 1/13 [=>............................] - ETA: 0s - loss: 0.3477 - accuracy: 0.8438WARNING:tensorflow:Early stopping conditioned on metric `val_acc` which is not available. Available metrics are: loss,accuracy,val_loss,val_accuracy\n",
            "13/13 [==============================] - 0s 5ms/step - loss: 0.2253 - accuracy: 0.9144 - val_loss: 0.2782 - val_accuracy: 0.9130 - lr: 2.2371e-05\n",
            "Epoch 22/100\n",
            " 1/13 [=>............................] - ETA: 0s - loss: 0.4930 - accuracy: 0.8750WARNING:tensorflow:Early stopping conditioned on metric `val_acc` which is not available. Available metrics are: loss,accuracy,val_loss,val_accuracy\n",
            "13/13 [==============================] - 0s 5ms/step - loss: 0.2258 - accuracy: 0.9144 - val_loss: 0.2815 - val_accuracy: 0.9130 - lr: 1.8316e-05\n",
            "Epoch 23/100\n",
            " 1/13 [=>............................] - ETA: 0s - loss: 0.2910 - accuracy: 0.8750WARNING:tensorflow:Early stopping conditioned on metric `val_acc` which is not available. Available metrics are: loss,accuracy,val_loss,val_accuracy\n",
            "13/13 [==============================] - 0s 4ms/step - loss: 0.2240 - accuracy: 0.9169 - val_loss: 0.2800 - val_accuracy: 0.9130 - lr: 1.4996e-05\n",
            "Epoch 24/100\n",
            " 1/13 [=>............................] - ETA: 0s - loss: 0.2459 - accuracy: 0.9062WARNING:tensorflow:Early stopping conditioned on metric `val_acc` which is not available. Available metrics are: loss,accuracy,val_loss,val_accuracy\n",
            "13/13 [==============================] - 0s 4ms/step - loss: 0.2237 - accuracy: 0.9144 - val_loss: 0.2781 - val_accuracy: 0.9130 - lr: 1.2277e-05\n",
            "Epoch 25/100\n",
            " 1/13 [=>............................] - ETA: 0s - loss: 0.0375 - accuracy: 1.0000WARNING:tensorflow:Early stopping conditioned on metric `val_acc` which is not available. Available metrics are: loss,accuracy,val_loss,val_accuracy\n",
            "13/13 [==============================] - 0s 4ms/step - loss: 0.2232 - accuracy: 0.9144 - val_loss: 0.2774 - val_accuracy: 0.9130 - lr: 1.0052e-05\n",
            "Epoch 26/100\n",
            " 1/13 [=>............................] - ETA: 0s - loss: 0.0314 - accuracy: 1.0000WARNING:tensorflow:Early stopping conditioned on metric `val_acc` which is not available. Available metrics are: loss,accuracy,val_loss,val_accuracy\n",
            "13/13 [==============================] - 0s 5ms/step - loss: 0.2225 - accuracy: 0.9144 - val_loss: 0.2765 - val_accuracy: 0.9130 - lr: 8.2297e-06\n",
            "Epoch 27/100\n",
            " 1/13 [=>............................] - ETA: 0s - loss: 0.1147 - accuracy: 0.9375WARNING:tensorflow:Early stopping conditioned on metric `val_acc` which is not available. Available metrics are: loss,accuracy,val_loss,val_accuracy\n",
            "13/13 [==============================] - 0s 4ms/step - loss: 0.2223 - accuracy: 0.9144 - val_loss: 0.2761 - val_accuracy: 0.9130 - lr: 6.7379e-06\n",
            "Epoch 28/100\n",
            " 1/13 [=>............................] - ETA: 0s - loss: 0.1721 - accuracy: 0.9062WARNING:tensorflow:Early stopping conditioned on metric `val_acc` which is not available. Available metrics are: loss,accuracy,val_loss,val_accuracy\n",
            "13/13 [==============================] - 0s 5ms/step - loss: 0.2225 - accuracy: 0.9144 - val_loss: 0.2763 - val_accuracy: 0.9130 - lr: 5.5166e-06\n",
            "Epoch 29/100\n",
            " 1/13 [=>............................] - ETA: 0s - loss: 0.4750 - accuracy: 0.8750WARNING:tensorflow:Early stopping conditioned on metric `val_acc` which is not available. Available metrics are: loss,accuracy,val_loss,val_accuracy\n",
            "13/13 [==============================] - 0s 4ms/step - loss: 0.2222 - accuracy: 0.9144 - val_loss: 0.2760 - val_accuracy: 0.9130 - lr: 4.5166e-06\n",
            "Epoch 30/100\n",
            " 1/13 [=>............................] - ETA: 0s - loss: 0.0879 - accuracy: 0.9688WARNING:tensorflow:Early stopping conditioned on metric `val_acc` which is not available. Available metrics are: loss,accuracy,val_loss,val_accuracy\n",
            "13/13 [==============================] - 0s 5ms/step - loss: 0.2217 - accuracy: 0.9144 - val_loss: 0.2761 - val_accuracy: 0.9130 - lr: 3.6979e-06\n",
            "Epoch 31/100\n",
            " 1/13 [=>............................] - ETA: 0s - loss: 0.0980 - accuracy: 0.9375WARNING:tensorflow:Early stopping conditioned on metric `val_acc` which is not available. Available metrics are: loss,accuracy,val_loss,val_accuracy\n",
            "13/13 [==============================] - 0s 4ms/step - loss: 0.2217 - accuracy: 0.9144 - val_loss: 0.2760 - val_accuracy: 0.9130 - lr: 3.0276e-06\n",
            "Epoch 32/100\n",
            " 1/13 [=>............................] - ETA: 0s - loss: 0.0830 - accuracy: 0.9688WARNING:tensorflow:Early stopping conditioned on metric `val_acc` which is not available. Available metrics are: loss,accuracy,val_loss,val_accuracy\n",
            "13/13 [==============================] - 0s 5ms/step - loss: 0.2216 - accuracy: 0.9144 - val_loss: 0.2760 - val_accuracy: 0.9130 - lr: 2.4788e-06\n",
            "Epoch 33/100\n",
            " 1/13 [=>............................] - ETA: 0s - loss: 0.2934 - accuracy: 0.9375WARNING:tensorflow:Early stopping conditioned on metric `val_acc` which is not available. Available metrics are: loss,accuracy,val_loss,val_accuracy\n",
            "13/13 [==============================] - 0s 5ms/step - loss: 0.2215 - accuracy: 0.9144 - val_loss: 0.2758 - val_accuracy: 0.9130 - lr: 2.0294e-06\n",
            "Epoch 34/100\n",
            " 1/13 [=>............................] - ETA: 0s - loss: 0.2806 - accuracy: 0.9375WARNING:tensorflow:Early stopping conditioned on metric `val_acc` which is not available. Available metrics are: loss,accuracy,val_loss,val_accuracy\n",
            "13/13 [==============================] - 0s 5ms/step - loss: 0.2214 - accuracy: 0.9144 - val_loss: 0.2760 - val_accuracy: 0.9130 - lr: 1.6616e-06\n",
            "Epoch 35/100\n",
            " 1/13 [=>............................] - ETA: 0s - loss: 0.4099 - accuracy: 0.8438WARNING:tensorflow:Early stopping conditioned on metric `val_acc` which is not available. Available metrics are: loss,accuracy,val_loss,val_accuracy\n",
            "13/13 [==============================] - 0s 5ms/step - loss: 0.2214 - accuracy: 0.9144 - val_loss: 0.2758 - val_accuracy: 0.9130 - lr: 1.3604e-06\n",
            "Epoch 36/100\n",
            " 1/13 [=>............................] - ETA: 0s - loss: 0.0708 - accuracy: 0.9688WARNING:tensorflow:Early stopping conditioned on metric `val_acc` which is not available. Available metrics are: loss,accuracy,val_loss,val_accuracy\n",
            "13/13 [==============================] - 0s 4ms/step - loss: 0.2213 - accuracy: 0.9144 - val_loss: 0.2759 - val_accuracy: 0.9130 - lr: 1.1138e-06\n",
            "Epoch 37/100\n",
            " 1/13 [=>............................] - ETA: 0s - loss: 0.1826 - accuracy: 0.9688WARNING:tensorflow:Early stopping conditioned on metric `val_acc` which is not available. Available metrics are: loss,accuracy,val_loss,val_accuracy\n",
            "13/13 [==============================] - 0s 6ms/step - loss: 0.2213 - accuracy: 0.9144 - val_loss: 0.2759 - val_accuracy: 0.9130 - lr: 9.1188e-07\n",
            "Epoch 38/100\n",
            " 1/13 [=>............................] - ETA: 0s - loss: 0.2496 - accuracy: 0.8750WARNING:tensorflow:Early stopping conditioned on metric `val_acc` which is not available. Available metrics are: loss,accuracy,val_loss,val_accuracy\n",
            "13/13 [==============================] - 0s 5ms/step - loss: 0.2212 - accuracy: 0.9144 - val_loss: 0.2758 - val_accuracy: 0.9130 - lr: 7.4659e-07\n",
            "Epoch 39/100\n",
            " 1/13 [=>............................] - ETA: 0s - loss: 0.0697 - accuracy: 0.9688WARNING:tensorflow:Early stopping conditioned on metric `val_acc` which is not available. Available metrics are: loss,accuracy,val_loss,val_accuracy\n",
            "13/13 [==============================] - 0s 5ms/step - loss: 0.2212 - accuracy: 0.9144 - val_loss: 0.2757 - val_accuracy: 0.9130 - lr: 6.1125e-07\n",
            "Epoch 40/100\n",
            " 1/13 [=>............................] - ETA: 0s - loss: 0.1636 - accuracy: 0.9062WARNING:tensorflow:Early stopping conditioned on metric `val_acc` which is not available. Available metrics are: loss,accuracy,val_loss,val_accuracy\n",
            "13/13 [==============================] - 0s 4ms/step - loss: 0.2212 - accuracy: 0.9144 - val_loss: 0.2757 - val_accuracy: 0.9130 - lr: 5.0045e-07\n",
            "Epoch 41/100\n",
            " 1/13 [=>............................] - ETA: 0s - loss: 0.1084 - accuracy: 0.9375WARNING:tensorflow:Early stopping conditioned on metric `val_acc` which is not available. Available metrics are: loss,accuracy,val_loss,val_accuracy\n",
            "13/13 [==============================] - 0s 5ms/step - loss: 0.2212 - accuracy: 0.9144 - val_loss: 0.2757 - val_accuracy: 0.9130 - lr: 4.0973e-07\n",
            "Epoch 42/100\n",
            " 1/13 [=>............................] - ETA: 0s - loss: 0.3138 - accuracy: 0.9062WARNING:tensorflow:Early stopping conditioned on metric `val_acc` which is not available. Available metrics are: loss,accuracy,val_loss,val_accuracy\n",
            "13/13 [==============================] - 0s 5ms/step - loss: 0.2212 - accuracy: 0.9144 - val_loss: 0.2757 - val_accuracy: 0.9130 - lr: 3.3546e-07\n",
            "Epoch 43/100\n",
            " 1/13 [=>............................] - ETA: 0s - loss: 0.1750 - accuracy: 0.9375WARNING:tensorflow:Early stopping conditioned on metric `val_acc` which is not available. Available metrics are: loss,accuracy,val_loss,val_accuracy\n",
            "13/13 [==============================] - 0s 5ms/step - loss: 0.2211 - accuracy: 0.9144 - val_loss: 0.2757 - val_accuracy: 0.9130 - lr: 2.7465e-07\n",
            "Epoch 44/100\n",
            " 1/13 [=>............................] - ETA: 0s - loss: 0.1113 - accuracy: 0.9375WARNING:tensorflow:Early stopping conditioned on metric `val_acc` which is not available. Available metrics are: loss,accuracy,val_loss,val_accuracy\n",
            "13/13 [==============================] - 0s 5ms/step - loss: 0.2211 - accuracy: 0.9144 - val_loss: 0.2756 - val_accuracy: 0.9130 - lr: 2.2487e-07\n",
            "Epoch 45/100\n",
            " 1/13 [=>............................] - ETA: 0s - loss: 0.2283 - accuracy: 0.9062WARNING:tensorflow:Early stopping conditioned on metric `val_acc` which is not available. Available metrics are: loss,accuracy,val_loss,val_accuracy\n",
            "13/13 [==============================] - 0s 5ms/step - loss: 0.2211 - accuracy: 0.9144 - val_loss: 0.2756 - val_accuracy: 0.9130 - lr: 1.8411e-07\n",
            "Epoch 46/100\n",
            " 1/13 [=>............................] - ETA: 0s - loss: 0.2623 - accuracy: 0.9062WARNING:tensorflow:Early stopping conditioned on metric `val_acc` which is not available. Available metrics are: loss,accuracy,val_loss,val_accuracy\n",
            "13/13 [==============================] - 0s 5ms/step - loss: 0.2211 - accuracy: 0.9144 - val_loss: 0.2756 - val_accuracy: 0.9130 - lr: 1.5073e-07\n",
            "Epoch 47/100\n",
            " 1/13 [=>............................] - ETA: 0s - loss: 0.3808 - accuracy: 0.8438WARNING:tensorflow:Early stopping conditioned on metric `val_acc` which is not available. Available metrics are: loss,accuracy,val_loss,val_accuracy\n",
            "13/13 [==============================] - 0s 4ms/step - loss: 0.2211 - accuracy: 0.9144 - val_loss: 0.2756 - val_accuracy: 0.9130 - lr: 1.2341e-07\n",
            "Epoch 48/100\n",
            " 1/13 [=>............................] - ETA: 0s - loss: 0.2897 - accuracy: 0.8438WARNING:tensorflow:Early stopping conditioned on metric `val_acc` which is not available. Available metrics are: loss,accuracy,val_loss,val_accuracy\n",
            "13/13 [==============================] - 0s 5ms/step - loss: 0.2211 - accuracy: 0.9144 - val_loss: 0.2756 - val_accuracy: 0.9130 - lr: 1.0104e-07\n",
            "Epoch 49/100\n",
            " 1/13 [=>............................] - ETA: 0s - loss: 0.0927 - accuracy: 0.9688WARNING:tensorflow:Early stopping conditioned on metric `val_acc` which is not available. Available metrics are: loss,accuracy,val_loss,val_accuracy\n",
            "13/13 [==============================] - 0s 4ms/step - loss: 0.2211 - accuracy: 0.9144 - val_loss: 0.2756 - val_accuracy: 0.9130 - lr: 8.2724e-08\n",
            "Epoch 50/100\n",
            " 1/13 [=>............................] - ETA: 0s - loss: 0.4412 - accuracy: 0.8438WARNING:tensorflow:Early stopping conditioned on metric `val_acc` which is not available. Available metrics are: loss,accuracy,val_loss,val_accuracy\n",
            "13/13 [==============================] - 0s 5ms/step - loss: 0.2211 - accuracy: 0.9144 - val_loss: 0.2756 - val_accuracy: 0.9130 - lr: 6.7729e-08\n",
            "Epoch 51/100\n",
            " 1/13 [=>............................] - ETA: 0s - loss: 0.0738 - accuracy: 0.9688WARNING:tensorflow:Early stopping conditioned on metric `val_acc` which is not available. Available metrics are: loss,accuracy,val_loss,val_accuracy\n",
            "13/13 [==============================] - 0s 5ms/step - loss: 0.2211 - accuracy: 0.9144 - val_loss: 0.2756 - val_accuracy: 0.9130 - lr: 5.5452e-08\n",
            "Epoch 52/100\n",
            " 1/13 [=>............................] - ETA: 0s - loss: 0.1658 - accuracy: 0.9062WARNING:tensorflow:Early stopping conditioned on metric `val_acc` which is not available. Available metrics are: loss,accuracy,val_loss,val_accuracy\n",
            "13/13 [==============================] - 0s 5ms/step - loss: 0.2211 - accuracy: 0.9144 - val_loss: 0.2756 - val_accuracy: 0.9130 - lr: 4.5400e-08\n",
            "Epoch 53/100\n",
            " 1/13 [=>............................] - ETA: 0s - loss: 0.3201 - accuracy: 0.9062WARNING:tensorflow:Early stopping conditioned on metric `val_acc` which is not available. Available metrics are: loss,accuracy,val_loss,val_accuracy\n",
            "13/13 [==============================] - 0s 5ms/step - loss: 0.2211 - accuracy: 0.9144 - val_loss: 0.2756 - val_accuracy: 0.9130 - lr: 3.7170e-08\n",
            "Epoch 54/100\n",
            " 1/13 [=>............................] - ETA: 0s - loss: 0.0538 - accuracy: 0.9688WARNING:tensorflow:Early stopping conditioned on metric `val_acc` which is not available. Available metrics are: loss,accuracy,val_loss,val_accuracy\n",
            "13/13 [==============================] - 0s 4ms/step - loss: 0.2211 - accuracy: 0.9144 - val_loss: 0.2756 - val_accuracy: 0.9130 - lr: 3.0432e-08\n",
            "Epoch 55/100\n",
            " 1/13 [=>............................] - ETA: 0s - loss: 0.3593 - accuracy: 0.8750WARNING:tensorflow:Early stopping conditioned on metric `val_acc` which is not available. Available metrics are: loss,accuracy,val_loss,val_accuracy\n",
            "13/13 [==============================] - 0s 4ms/step - loss: 0.2211 - accuracy: 0.9144 - val_loss: 0.2756 - val_accuracy: 0.9130 - lr: 2.4916e-08\n",
            "Epoch 56/100\n",
            " 1/13 [=>............................] - ETA: 0s - loss: 0.3700 - accuracy: 0.9062WARNING:tensorflow:Early stopping conditioned on metric `val_acc` which is not available. Available metrics are: loss,accuracy,val_loss,val_accuracy\n",
            "13/13 [==============================] - 0s 5ms/step - loss: 0.2211 - accuracy: 0.9144 - val_loss: 0.2756 - val_accuracy: 0.9130 - lr: 2.0400e-08\n",
            "Epoch 57/100\n",
            " 1/13 [=>............................] - ETA: 0s - loss: 0.3173 - accuracy: 0.8750WARNING:tensorflow:Early stopping conditioned on metric `val_acc` which is not available. Available metrics are: loss,accuracy,val_loss,val_accuracy\n",
            "13/13 [==============================] - 0s 5ms/step - loss: 0.2211 - accuracy: 0.9144 - val_loss: 0.2756 - val_accuracy: 0.9130 - lr: 1.6702e-08\n",
            "Epoch 58/100\n",
            " 1/13 [=>............................] - ETA: 0s - loss: 0.1865 - accuracy: 0.9688WARNING:tensorflow:Early stopping conditioned on metric `val_acc` which is not available. Available metrics are: loss,accuracy,val_loss,val_accuracy\n",
            "13/13 [==============================] - 0s 5ms/step - loss: 0.2211 - accuracy: 0.9144 - val_loss: 0.2756 - val_accuracy: 0.9130 - lr: 1.3674e-08\n",
            "Epoch 59/100\n",
            " 1/13 [=>............................] - ETA: 0s - loss: 0.2169 - accuracy: 0.9062WARNING:tensorflow:Early stopping conditioned on metric `val_acc` which is not available. Available metrics are: loss,accuracy,val_loss,val_accuracy\n",
            "13/13 [==============================] - 0s 5ms/step - loss: 0.2211 - accuracy: 0.9144 - val_loss: 0.2756 - val_accuracy: 0.9130 - lr: 1.1195e-08\n",
            "Epoch 60/100\n",
            " 1/13 [=>............................] - ETA: 0s - loss: 0.1863 - accuracy: 0.9375WARNING:tensorflow:Early stopping conditioned on metric `val_acc` which is not available. Available metrics are: loss,accuracy,val_loss,val_accuracy\n",
            "13/13 [==============================] - 0s 5ms/step - loss: 0.2211 - accuracy: 0.9144 - val_loss: 0.2756 - val_accuracy: 0.9130 - lr: 9.1661e-09\n",
            "Epoch 61/100\n",
            " 1/13 [=>............................] - ETA: 0s - loss: 0.0856 - accuracy: 0.9688WARNING:tensorflow:Early stopping conditioned on metric `val_acc` which is not available. Available metrics are: loss,accuracy,val_loss,val_accuracy\n",
            "13/13 [==============================] - 0s 5ms/step - loss: 0.2211 - accuracy: 0.9144 - val_loss: 0.2756 - val_accuracy: 0.9130 - lr: 7.5046e-09\n",
            "Epoch 62/100\n",
            " 1/13 [=>............................] - ETA: 0s - loss: 0.3162 - accuracy: 0.9062WARNING:tensorflow:Early stopping conditioned on metric `val_acc` which is not available. Available metrics are: loss,accuracy,val_loss,val_accuracy\n",
            "13/13 [==============================] - 0s 4ms/step - loss: 0.2211 - accuracy: 0.9144 - val_loss: 0.2756 - val_accuracy: 0.9130 - lr: 6.1442e-09\n",
            "Epoch 63/100\n",
            " 1/13 [=>............................] - ETA: 0s - loss: 0.0948 - accuracy: 0.9375WARNING:tensorflow:Early stopping conditioned on metric `val_acc` which is not available. Available metrics are: loss,accuracy,val_loss,val_accuracy\n",
            "13/13 [==============================] - 0s 4ms/step - loss: 0.2211 - accuracy: 0.9144 - val_loss: 0.2756 - val_accuracy: 0.9130 - lr: 5.0305e-09\n",
            "Epoch 64/100\n",
            " 1/13 [=>............................] - ETA: 0s - loss: 0.0784 - accuracy: 0.9688WARNING:tensorflow:Early stopping conditioned on metric `val_acc` which is not available. Available metrics are: loss,accuracy,val_loss,val_accuracy\n",
            "13/13 [==============================] - 0s 5ms/step - loss: 0.2211 - accuracy: 0.9144 - val_loss: 0.2756 - val_accuracy: 0.9130 - lr: 4.1186e-09\n",
            "Epoch 65/100\n",
            " 1/13 [=>............................] - ETA: 0s - loss: 0.1447 - accuracy: 0.9375WARNING:tensorflow:Early stopping conditioned on metric `val_acc` which is not available. Available metrics are: loss,accuracy,val_loss,val_accuracy\n",
            "13/13 [==============================] - 0s 5ms/step - loss: 0.2211 - accuracy: 0.9144 - val_loss: 0.2756 - val_accuracy: 0.9130 - lr: 3.3720e-09\n",
            "Epoch 66/100\n",
            " 1/13 [=>............................] - ETA: 0s - loss: 0.2195 - accuracy: 0.9062WARNING:tensorflow:Early stopping conditioned on metric `val_acc` which is not available. Available metrics are: loss,accuracy,val_loss,val_accuracy\n",
            "13/13 [==============================] - 0s 4ms/step - loss: 0.2211 - accuracy: 0.9144 - val_loss: 0.2756 - val_accuracy: 0.9130 - lr: 2.7608e-09\n",
            "Epoch 67/100\n",
            " 1/13 [=>............................] - ETA: 0s - loss: 0.1719 - accuracy: 0.9062WARNING:tensorflow:Early stopping conditioned on metric `val_acc` which is not available. Available metrics are: loss,accuracy,val_loss,val_accuracy\n",
            "13/13 [==============================] - 0s 4ms/step - loss: 0.2211 - accuracy: 0.9144 - val_loss: 0.2756 - val_accuracy: 0.9130 - lr: 2.2603e-09\n",
            "Epoch 68/100\n",
            " 1/13 [=>............................] - ETA: 0s - loss: 0.1602 - accuracy: 0.9375WARNING:tensorflow:Early stopping conditioned on metric `val_acc` which is not available. Available metrics are: loss,accuracy,val_loss,val_accuracy\n",
            "13/13 [==============================] - 0s 4ms/step - loss: 0.2211 - accuracy: 0.9144 - val_loss: 0.2756 - val_accuracy: 0.9130 - lr: 1.8506e-09\n",
            "Epoch 69/100\n",
            " 1/13 [=>............................] - ETA: 0s - loss: 0.3035 - accuracy: 0.9062WARNING:tensorflow:Early stopping conditioned on metric `val_acc` which is not available. Available metrics are: loss,accuracy,val_loss,val_accuracy\n",
            "13/13 [==============================] - 0s 5ms/step - loss: 0.2211 - accuracy: 0.9144 - val_loss: 0.2756 - val_accuracy: 0.9130 - lr: 1.5151e-09\n",
            "Epoch 70/100\n",
            " 1/13 [=>............................] - ETA: 0s - loss: 0.3184 - accuracy: 0.8438WARNING:tensorflow:Early stopping conditioned on metric `val_acc` which is not available. Available metrics are: loss,accuracy,val_loss,val_accuracy\n",
            "13/13 [==============================] - 0s 4ms/step - loss: 0.2211 - accuracy: 0.9144 - val_loss: 0.2756 - val_accuracy: 0.9130 - lr: 1.2405e-09\n",
            "Epoch 71/100\n",
            " 1/13 [=>............................] - ETA: 0s - loss: 0.2237 - accuracy: 0.9062WARNING:tensorflow:Early stopping conditioned on metric `val_acc` which is not available. Available metrics are: loss,accuracy,val_loss,val_accuracy\n",
            "13/13 [==============================] - 0s 4ms/step - loss: 0.2211 - accuracy: 0.9144 - val_loss: 0.2756 - val_accuracy: 0.9130 - lr: 1.0156e-09\n",
            "Epoch 72/100\n",
            " 1/13 [=>............................] - ETA: 0s - loss: 0.2368 - accuracy: 0.9375WARNING:tensorflow:Early stopping conditioned on metric `val_acc` which is not available. Available metrics are: loss,accuracy,val_loss,val_accuracy\n",
            "13/13 [==============================] - 0s 5ms/step - loss: 0.2211 - accuracy: 0.9144 - val_loss: 0.2756 - val_accuracy: 0.9130 - lr: 8.3153e-10\n",
            "Epoch 73/100\n",
            " 1/13 [=>............................] - ETA: 0s - loss: 0.3782 - accuracy: 0.8750WARNING:tensorflow:Early stopping conditioned on metric `val_acc` which is not available. Available metrics are: loss,accuracy,val_loss,val_accuracy\n",
            "13/13 [==============================] - 0s 6ms/step - loss: 0.2211 - accuracy: 0.9144 - val_loss: 0.2756 - val_accuracy: 0.9130 - lr: 6.8080e-10\n",
            "Epoch 74/100\n",
            " 1/13 [=>............................] - ETA: 0s - loss: 0.3896 - accuracy: 0.9062WARNING:tensorflow:Early stopping conditioned on metric `val_acc` which is not available. Available metrics are: loss,accuracy,val_loss,val_accuracy\n",
            "13/13 [==============================] - 0s 4ms/step - loss: 0.2211 - accuracy: 0.9144 - val_loss: 0.2756 - val_accuracy: 0.9130 - lr: 5.5739e-10\n",
            "Epoch 75/100\n",
            " 1/13 [=>............................] - ETA: 0s - loss: 0.2153 - accuracy: 0.9062WARNING:tensorflow:Early stopping conditioned on metric `val_acc` which is not available. Available metrics are: loss,accuracy,val_loss,val_accuracy\n",
            "13/13 [==============================] - 0s 5ms/step - loss: 0.2211 - accuracy: 0.9144 - val_loss: 0.2756 - val_accuracy: 0.9130 - lr: 4.5635e-10\n",
            "Epoch 76/100\n",
            " 1/13 [=>............................] - ETA: 0s - loss: 0.2031 - accuracy: 0.9062WARNING:tensorflow:Early stopping conditioned on metric `val_acc` which is not available. Available metrics are: loss,accuracy,val_loss,val_accuracy\n",
            "13/13 [==============================] - 0s 4ms/step - loss: 0.2211 - accuracy: 0.9144 - val_loss: 0.2756 - val_accuracy: 0.9130 - lr: 3.7363e-10\n",
            "Epoch 77/100\n",
            " 1/13 [=>............................] - ETA: 0s - loss: 0.2128 - accuracy: 0.9062WARNING:tensorflow:Early stopping conditioned on metric `val_acc` which is not available. Available metrics are: loss,accuracy,val_loss,val_accuracy\n",
            "13/13 [==============================] - 0s 5ms/step - loss: 0.2211 - accuracy: 0.9144 - val_loss: 0.2756 - val_accuracy: 0.9130 - lr: 3.0590e-10\n",
            "Epoch 78/100\n",
            " 1/13 [=>............................] - ETA: 0s - loss: 0.0361 - accuracy: 1.0000WARNING:tensorflow:Early stopping conditioned on metric `val_acc` which is not available. Available metrics are: loss,accuracy,val_loss,val_accuracy\n",
            "13/13 [==============================] - 0s 4ms/step - loss: 0.2211 - accuracy: 0.9144 - val_loss: 0.2756 - val_accuracy: 0.9130 - lr: 2.5045e-10\n",
            "Epoch 79/100\n",
            " 1/13 [=>............................] - ETA: 0s - loss: 0.1401 - accuracy: 0.9375WARNING:tensorflow:Early stopping conditioned on metric `val_acc` which is not available. Available metrics are: loss,accuracy,val_loss,val_accuracy\n",
            "13/13 [==============================] - 0s 4ms/step - loss: 0.2211 - accuracy: 0.9144 - val_loss: 0.2756 - val_accuracy: 0.9130 - lr: 2.0505e-10\n",
            "Epoch 80/100\n",
            " 1/13 [=>............................] - ETA: 0s - loss: 0.1433 - accuracy: 0.9375WARNING:tensorflow:Early stopping conditioned on metric `val_acc` which is not available. Available metrics are: loss,accuracy,val_loss,val_accuracy\n",
            "13/13 [==============================] - 0s 5ms/step - loss: 0.2211 - accuracy: 0.9144 - val_loss: 0.2756 - val_accuracy: 0.9130 - lr: 1.6788e-10\n",
            "Epoch 81/100\n",
            " 1/13 [=>............................] - ETA: 0s - loss: 0.0720 - accuracy: 0.9688WARNING:tensorflow:Early stopping conditioned on metric `val_acc` which is not available. Available metrics are: loss,accuracy,val_loss,val_accuracy\n",
            "13/13 [==============================] - 0s 5ms/step - loss: 0.2211 - accuracy: 0.9144 - val_loss: 0.2756 - val_accuracy: 0.9130 - lr: 1.3745e-10\n",
            "Epoch 82/100\n",
            " 1/13 [=>............................] - ETA: 0s - loss: 0.5005 - accuracy: 0.7812WARNING:tensorflow:Early stopping conditioned on metric `val_acc` which is not available. Available metrics are: loss,accuracy,val_loss,val_accuracy\n",
            "13/13 [==============================] - 0s 5ms/step - loss: 0.2211 - accuracy: 0.9144 - val_loss: 0.2756 - val_accuracy: 0.9130 - lr: 1.1254e-10\n",
            "Epoch 83/100\n",
            " 1/13 [=>............................] - ETA: 0s - loss: 0.0866 - accuracy: 0.9688WARNING:tensorflow:Early stopping conditioned on metric `val_acc` which is not available. Available metrics are: loss,accuracy,val_loss,val_accuracy\n",
            "13/13 [==============================] - 0s 5ms/step - loss: 0.2211 - accuracy: 0.9144 - val_loss: 0.2756 - val_accuracy: 0.9130 - lr: 9.2136e-11\n",
            "Epoch 84/100\n",
            " 1/13 [=>............................] - ETA: 0s - loss: 0.1319 - accuracy: 0.9688WARNING:tensorflow:Early stopping conditioned on metric `val_acc` which is not available. Available metrics are: loss,accuracy,val_loss,val_accuracy\n",
            "13/13 [==============================] - 0s 4ms/step - loss: 0.2211 - accuracy: 0.9144 - val_loss: 0.2756 - val_accuracy: 0.9130 - lr: 7.5435e-11\n",
            "Epoch 85/100\n",
            " 1/13 [=>............................] - ETA: 0s - loss: 0.3781 - accuracy: 0.9375WARNING:tensorflow:Early stopping conditioned on metric `val_acc` which is not available. Available metrics are: loss,accuracy,val_loss,val_accuracy\n",
            "13/13 [==============================] - 0s 4ms/step - loss: 0.2211 - accuracy: 0.9144 - val_loss: 0.2756 - val_accuracy: 0.9130 - lr: 6.1761e-11\n",
            "Epoch 86/100\n",
            " 1/13 [=>............................] - ETA: 0s - loss: 0.1966 - accuracy: 0.9375WARNING:tensorflow:Early stopping conditioned on metric `val_acc` which is not available. Available metrics are: loss,accuracy,val_loss,val_accuracy\n",
            "13/13 [==============================] - 0s 5ms/step - loss: 0.2211 - accuracy: 0.9144 - val_loss: 0.2756 - val_accuracy: 0.9130 - lr: 5.0565e-11\n",
            "Epoch 87/100\n",
            " 1/13 [=>............................] - ETA: 0s - loss: 0.3183 - accuracy: 0.9062WARNING:tensorflow:Early stopping conditioned on metric `val_acc` which is not available. Available metrics are: loss,accuracy,val_loss,val_accuracy\n",
            "13/13 [==============================] - 0s 5ms/step - loss: 0.2211 - accuracy: 0.9144 - val_loss: 0.2756 - val_accuracy: 0.9130 - lr: 4.1399e-11\n",
            "Epoch 88/100\n",
            " 1/13 [=>............................] - ETA: 0s - loss: 0.2399 - accuracy: 0.8750WARNING:tensorflow:Early stopping conditioned on metric `val_acc` which is not available. Available metrics are: loss,accuracy,val_loss,val_accuracy\n",
            "13/13 [==============================] - 0s 6ms/step - loss: 0.2211 - accuracy: 0.9144 - val_loss: 0.2756 - val_accuracy: 0.9130 - lr: 3.3895e-11\n",
            "Epoch 89/100\n",
            " 1/13 [=>............................] - ETA: 0s - loss: 0.1660 - accuracy: 0.9688WARNING:tensorflow:Early stopping conditioned on metric `val_acc` which is not available. Available metrics are: loss,accuracy,val_loss,val_accuracy\n",
            "13/13 [==============================] - 0s 5ms/step - loss: 0.2211 - accuracy: 0.9144 - val_loss: 0.2756 - val_accuracy: 0.9130 - lr: 2.7751e-11\n",
            "Epoch 90/100\n",
            " 1/13 [=>............................] - ETA: 0s - loss: 0.0409 - accuracy: 0.9688WARNING:tensorflow:Early stopping conditioned on metric `val_acc` which is not available. Available metrics are: loss,accuracy,val_loss,val_accuracy\n",
            "13/13 [==============================] - 0s 5ms/step - loss: 0.2211 - accuracy: 0.9144 - val_loss: 0.2756 - val_accuracy: 0.9130 - lr: 2.2720e-11\n",
            "Epoch 91/100\n",
            " 1/13 [=>............................] - ETA: 0s - loss: 0.2925 - accuracy: 0.9375WARNING:tensorflow:Early stopping conditioned on metric `val_acc` which is not available. Available metrics are: loss,accuracy,val_loss,val_accuracy\n",
            "13/13 [==============================] - 0s 5ms/step - loss: 0.2211 - accuracy: 0.9144 - val_loss: 0.2756 - val_accuracy: 0.9130 - lr: 1.8602e-11\n",
            "Epoch 92/100\n",
            " 1/13 [=>............................] - ETA: 0s - loss: 0.1383 - accuracy: 0.9688WARNING:tensorflow:Early stopping conditioned on metric `val_acc` which is not available. Available metrics are: loss,accuracy,val_loss,val_accuracy\n",
            "13/13 [==============================] - 0s 5ms/step - loss: 0.2211 - accuracy: 0.9144 - val_loss: 0.2756 - val_accuracy: 0.9130 - lr: 1.5230e-11\n",
            "Epoch 93/100\n",
            " 1/13 [=>............................] - ETA: 0s - loss: 0.2216 - accuracy: 0.9062WARNING:tensorflow:Early stopping conditioned on metric `val_acc` which is not available. Available metrics are: loss,accuracy,val_loss,val_accuracy\n",
            "13/13 [==============================] - 0s 5ms/step - loss: 0.2211 - accuracy: 0.9144 - val_loss: 0.2756 - val_accuracy: 0.9130 - lr: 1.2469e-11\n",
            "Epoch 94/100\n",
            " 1/13 [=>............................] - ETA: 0s - loss: 0.3576 - accuracy: 0.8750WARNING:tensorflow:Early stopping conditioned on metric `val_acc` which is not available. Available metrics are: loss,accuracy,val_loss,val_accuracy\n",
            "13/13 [==============================] - 0s 6ms/step - loss: 0.2211 - accuracy: 0.9144 - val_loss: 0.2756 - val_accuracy: 0.9130 - lr: 1.0209e-11\n",
            "Epoch 95/100\n",
            " 1/13 [=>............................] - ETA: 0s - loss: 0.1196 - accuracy: 0.9688WARNING:tensorflow:Early stopping conditioned on metric `val_acc` which is not available. Available metrics are: loss,accuracy,val_loss,val_accuracy\n",
            "13/13 [==============================] - 0s 7ms/step - loss: 0.2211 - accuracy: 0.9144 - val_loss: 0.2756 - val_accuracy: 0.9130 - lr: 8.3584e-12\n",
            "Epoch 96/100\n",
            " 1/13 [=>............................] - ETA: 0s - loss: 0.3214 - accuracy: 0.8750WARNING:tensorflow:Early stopping conditioned on metric `val_acc` which is not available. Available metrics are: loss,accuracy,val_loss,val_accuracy\n",
            "13/13 [==============================] - 0s 5ms/step - loss: 0.2211 - accuracy: 0.9144 - val_loss: 0.2756 - val_accuracy: 0.9130 - lr: 6.8433e-12\n",
            "Epoch 97/100\n",
            " 1/13 [=>............................] - ETA: 0s - loss: 0.2080 - accuracy: 0.9062WARNING:tensorflow:Early stopping conditioned on metric `val_acc` which is not available. Available metrics are: loss,accuracy,val_loss,val_accuracy\n",
            "13/13 [==============================] - 0s 5ms/step - loss: 0.2211 - accuracy: 0.9144 - val_loss: 0.2756 - val_accuracy: 0.9130 - lr: 5.6028e-12\n",
            "Epoch 98/100\n",
            " 1/13 [=>............................] - ETA: 0s - loss: 0.2831 - accuracy: 0.8750WARNING:tensorflow:Early stopping conditioned on metric `val_acc` which is not available. Available metrics are: loss,accuracy,val_loss,val_accuracy\n",
            "13/13 [==============================] - 0s 5ms/step - loss: 0.2211 - accuracy: 0.9144 - val_loss: 0.2756 - val_accuracy: 0.9130 - lr: 4.5872e-12\n",
            "Epoch 99/100\n",
            " 1/13 [=>............................] - ETA: 0s - loss: 0.6151 - accuracy: 0.8125WARNING:tensorflow:Early stopping conditioned on metric `val_acc` which is not available. Available metrics are: loss,accuracy,val_loss,val_accuracy\n",
            "13/13 [==============================] - 0s 6ms/step - loss: 0.2211 - accuracy: 0.9144 - val_loss: 0.2756 - val_accuracy: 0.9130 - lr: 3.7557e-12\n",
            "Epoch 100/100\n",
            " 1/13 [=>............................] - ETA: 0s - loss: 0.1098 - accuracy: 0.9375WARNING:tensorflow:Early stopping conditioned on metric `val_acc` which is not available. Available metrics are: loss,accuracy,val_loss,val_accuracy\n",
            "13/13 [==============================] - 0s 5ms/step - loss: 0.2211 - accuracy: 0.9144 - val_loss: 0.2756 - val_accuracy: 0.9130 - lr: 3.0749e-12\n"
          ]
        }
      ]
    },
    {
      "cell_type": "code",
      "source": [
        "y_pred_float = model.predict_step(x_test)  \n",
        "y_pred = np.round(y_pred_float)"
      ],
      "metadata": {
        "id": "mVpearpm8xyh"
      },
      "execution_count": null,
      "outputs": []
    },
    {
      "cell_type": "code",
      "source": [
        "target_list=['benign','malignant']\n",
        "sl.metrics.classification_report(y_true=y_test,y_pred=y_pred,output_dict = True,target_names=target_list)"
      ],
      "metadata": {
        "colab": {
          "base_uri": "https://localhost:8080/"
        },
        "id": "01MGC88eASmY",
        "outputId": "0298926a-b866-46ed-fb60-3e602772fcd7"
      },
      "execution_count": null,
      "outputs": [
        {
          "output_type": "execute_result",
          "data": {
            "text/plain": [
              "{'accuracy': 0.9298245614035088,\n",
              " 'benign': {'f1-score': 0.9130434782608695,\n",
              "  'precision': 0.9333333333333333,\n",
              "  'recall': 0.8936170212765957,\n",
              "  'support': 47},\n",
              " 'macro avg': {'f1-score': 0.9271099744245523,\n",
              "  'precision': 0.9304347826086956,\n",
              "  'recall': 0.9244204509368052,\n",
              "  'support': 114},\n",
              " 'malignant': {'f1-score': 0.9411764705882353,\n",
              "  'precision': 0.927536231884058,\n",
              "  'recall': 0.9552238805970149,\n",
              "  'support': 67},\n",
              " 'weighted avg': {'f1-score': 0.9295777807690582,\n",
              "  'precision': 0.9299262649377066,\n",
              "  'recall': 0.9298245614035088,\n",
              "  'support': 114}}"
            ]
          },
          "metadata": {},
          "execution_count": 10
        }
      ]
    },
    {
      "cell_type": "code",
      "source": [
        "plt.figure(figsize=(10,6))\n",
        "plt.plot(history.history['loss'], label = 'train', color='r')\n",
        "plt.plot(history.history['val_loss'], label = 'validation', color='g')\n",
        "plt.xlabel('epoch')\n",
        "plt.ylabel('loss')\n",
        "plt.xticks(np.arange(0, 100, 1))\n",
        "plt.show()"
      ],
      "metadata": {
        "colab": {
          "base_uri": "https://localhost:8080/",
          "height": 388
        },
        "id": "2NzVXsOnPF2g",
        "outputId": "0c8e95fa-b60c-4e6c-c613-0d2b1410b54e"
      },
      "execution_count": null,
      "outputs": [
        {
          "output_type": "display_data",
          "data": {
            "text/plain": [
              "<Figure size 720x432 with 1 Axes>"
            ],
            "image/png": "[encoded data removed]"
          },
          "metadata": {
            "needs_background": "light"
          }
        }
      ]
    },
    {
      "cell_type": "code",
      "source": [
        "plt.figure(figsize=(10,6))\n",
        "plt.plot(history.history['accuracy'], label = 'train', color='r')\n",
        "plt.plot(history.history['val_accuracy'], label = 'validation', color='g')\n",
        "plt.xlabel('epoch')\n",
        "plt.ylabel('accuracy')\n",
        "plt.xticks(np.arange(0, 100, 1))\n",
        "plt.show()"
      ],
      "metadata": {
        "colab": {
          "base_uri": "https://localhost:8080/",
          "height": 388
        },
        "id": "6BnbEk7jS-xX",
        "outputId": "7a9a25c0-b773-4925-e8e5-f6e9271f828b"
      },
      "execution_count": null,
      "outputs": [
        {
          "output_type": "display_data",
          "data": {
            "text/plain": [
              "<Figure size 720x432 with 1 Axes>"
            ],
            "image/png": "[encoded data removed]"
          },
          "metadata": {
            "needs_background": "light"
          }
        }
      ]
    },
    {
      "cell_type": "code",
      "source": [
        "CM = sl.metrics.confusion_matrix(y_true=y_test,y_pred=y_pred)\n",
        "sb.heatmap(CM,annot=True )\n",
        "plt.xlabel('Predicted')\n",
        "plt.ylabel('True')\n",
        "plt.show()"
      ],
      "metadata": {
        "colab": {
          "base_uri": "https://localhost:8080/",
          "height": 279
        },
        "id": "F2ZYgN6p-s1A",
        "outputId": "885c100f-2029-41a1-a0bf-944bd2d598d9"
      },
      "execution_count": null,
      "outputs": [
        {
          "output_type": "display_data",
          "data": {
            "text/plain": [
              "<Figure size 432x288 with 2 Axes>"
            ],
            "image/png": "[encoded data removed]"
          },
          "metadata": {
            "needs_background": "light"
          }
        }
      ]
    },
    {
      "cell_type": "markdown",
      "source": [
        "# problem 3"
      ],
      "metadata": {
        "id": "YlkHyW7kFN0W"
      }
    },
    {
      "cell_type": "code",
      "source": [
        "(X_train,Y_train), (X_test, Y_test) = tf.keras.datasets.imdb.load_data(num_words = 15000)"
      ],
      "metadata": {
        "id": "NEOEubXF4m1E"
      },
      "execution_count": 48,
      "outputs": []
    },
    {
      "cell_type": "code",
      "source": [
        "plt.figure(figsize = (6,6))\n",
        "sb.countplot(Y_train)\n",
        "plt.xlabel(\"Classes\")\n",
        "plt.ylabel(\"Freq\")\n",
        "plt.title(\"Y train\")\n",
        "plt.show()"
      ],
      "metadata": {
        "id": "8UStq1rs8gyH",
        "colab": {
          "base_uri": "https://localhost:8080/",
          "height": 459
        },
        "outputId": "8f0113a4-28eb-41df-e699-d090001b07fd"
      },
      "execution_count": 49,
      "outputs": [
        {
          "output_type": "stream",
          "name": "stderr",
          "text": [
            "/usr/local/lib/python3.7/dist-packages/seaborn/_decorators.py:43: FutureWarning: Pass the following variable as a keyword arg: x. From version 0.12, the only valid positional argument will be `data`, and passing other arguments without an explicit keyword will result in an error or misinterpretation.\n",
            "  FutureWarning\n"
          ]
        },
        {
          "output_type": "display_data",
          "data": {
            "text/plain": [
              "<Figure size 432x432 with 1 Axes>"
            ],
            "image/png": "[encoded data removed]"
          },
          "metadata": {
            "needs_background": "light"
          }
        }
      ]
    },
    {
      "cell_type": "code",
      "source": [
        "from keras.models import Sequential\n",
        "from keras.layers.embeddings import Embedding\n",
        "from keras.layers import SimpleRNN,Dense, Activation\n",
        "from keras.preprocessing.sequence import pad_sequences"
      ],
      "metadata": {
        "id": "BosOkFQ2Q9X3"
      },
      "execution_count": 57,
      "outputs": []
    },
    {
      "cell_type": "code",
      "source": [
        "rnn = Sequential()\n",
        "rnn.add(Embedding(15000, 32, input_length = len(X_train[0])))\n",
        "rnn.add(SimpleRNN(16, input_shape = (15000, 130), return_sequences = False, activation = \"relu\"))\n",
        "rnn.add(Dense(1))\n",
        "rnn.add(Activation(\"sigmoid\"))\n",
        "\n",
        "print(rnn.summary())\n",
        "rnn.compile(loss = \"binary_crossentropy\", optimizer = \"rmsprop\", metrics = [\"accuracy\"])"
      ],
      "metadata": {
        "colab": {
          "base_uri": "https://localhost:8080/"
        },
        "id": "4lW5AJKDNaPa",
        "outputId": "f90d8783-0506-4f2a-f4df-8dca4e3e18c8"
      },
      "execution_count": 58,
      "outputs": [
        {
          "output_type": "stream",
          "name": "stdout",
          "text": [
            "Model: \"sequential_5\"\n",
            "_________________________________________________________________\n",
            " Layer (type)                Output Shape              Param #   \n",
            "=================================================================\n",
            " embedding_3 (Embedding)     (None, 218, 32)           480000    \n",
            "                                                                 \n",
            " simple_rnn_1 (SimpleRNN)    (None, 16)                784       \n",
            "                                                                 \n",
            " dense_4 (Dense)             (None, 1)                 17        \n",
            "                                                                 \n",
            " activation_1 (Activation)   (None, 1)                 0         \n",
            "                                                                 \n",
            "=================================================================\n",
            "Total params: 480,801\n",
            "Trainable params: 480,801\n",
            "Non-trainable params: 0\n",
            "_________________________________________________________________\n",
            "None\n"
          ]
        }
      ]
    },
    {
      "cell_type": "code",
      "source": [
        "X_train = pad_sequences(X_train, maxlen = 130)\n",
        "X_test = pad_sequences(X_test, maxlen = 130)"
      ],
      "metadata": {
        "id": "kyrQ5OzBRook"
      },
      "execution_count": 59,
      "outputs": []
    },
    {
      "cell_type": "code",
      "source": [
        "history = rnn.fit(X_train, Y_train, validation_data = (X_test, Y_test),epochs = 20, batch_size = 128, verbose = 1)"
      ],
      "metadata": {
        "colab": {
          "base_uri": "https://localhost:8080/",
          "height": 589
        },
        "id": "8eX0K5YVRAOH",
        "outputId": "ae369c6b-f11f-4c5a-c303-af186d9c874e"
      },
      "execution_count": 60,
      "outputs": [
        {
          "output_type": "stream",
          "name": "stdout",
          "text": [
            "Epoch 1/20\n"
          ]
        },
        {
          "output_type": "error",
          "ename": "ValueError",
          "evalue": "ignored",
          "traceback": [
            "\u001b[0;31m---------------------------------------------------------------------------\u001b[0m",
            "\u001b[0;31mValueError\u001b[0m                                Traceback (most recent call last)",
            "\u001b[0;32m<ipython-input-60-be66eceffc32>\u001b[0m in \u001b[0;36m<module>\u001b[0;34m()\u001b[0m\n\u001b[0;32m----> 1\u001b[0;31m \u001b[0mhistory\u001b[0m \u001b[0;34m=\u001b[0m \u001b[0mrnn\u001b[0m\u001b[0;34m.\u001b[0m\u001b[0mfit\u001b[0m\u001b[0;34m(\u001b[0m\u001b[0mX_train\u001b[0m\u001b[0;34m,\u001b[0m \u001b[0mY_train\u001b[0m\u001b[0;34m,\u001b[0m \u001b[0mvalidation_data\u001b[0m \u001b[0;34m=\u001b[0m \u001b[0;34m(\u001b[0m\u001b[0mX_test\u001b[0m\u001b[0;34m,\u001b[0m \u001b[0mY_test\u001b[0m\u001b[0;34m)\u001b[0m\u001b[0;34m,\u001b[0m\u001b[0mepochs\u001b[0m \u001b[0;34m=\u001b[0m \u001b[0;36m20\u001b[0m\u001b[0;34m,\u001b[0m \u001b[0mbatch_size\u001b[0m \u001b[0;34m=\u001b[0m \u001b[0;36m128\u001b[0m\u001b[0;34m,\u001b[0m \u001b[0mverbose\u001b[0m \u001b[0;34m=\u001b[0m \u001b[0;36m1\u001b[0m\u001b[0;34m)\u001b[0m\u001b[0;34m\u001b[0m\u001b[0;34m\u001b[0m\u001b[0m\n\u001b[0m",
            "\u001b[0;32m/usr/local/lib/python3.7/dist-packages/keras/utils/traceback_utils.py\u001b[0m in \u001b[0;36merror_handler\u001b[0;34m(*args, **kwargs)\u001b[0m\n\u001b[1;32m     65\u001b[0m     \u001b[0;32mexcept\u001b[0m \u001b[0mException\u001b[0m \u001b[0;32mas\u001b[0m \u001b[0me\u001b[0m\u001b[0;34m:\u001b[0m  \u001b[0;31m# pylint: disable=broad-except\u001b[0m\u001b[0;34m\u001b[0m\u001b[0;34m\u001b[0m\u001b[0m\n\u001b[1;32m     66\u001b[0m       \u001b[0mfiltered_tb\u001b[0m \u001b[0;34m=\u001b[0m \u001b[0m_process_traceback_frames\u001b[0m\u001b[0;34m(\u001b[0m\u001b[0me\u001b[0m\u001b[0;34m.\u001b[0m\u001b[0m__traceback__\u001b[0m\u001b[0;34m)\u001b[0m\u001b[0;34m\u001b[0m\u001b[0;34m\u001b[0m\u001b[0m\n\u001b[0;32m---> 67\u001b[0;31m       \u001b[0;32mraise\u001b[0m \u001b[0me\u001b[0m\u001b[0;34m.\u001b[0m\u001b[0mwith_traceback\u001b[0m\u001b[0;34m(\u001b[0m\u001b[0mfiltered_tb\u001b[0m\u001b[0;34m)\u001b[0m \u001b[0;32mfrom\u001b[0m \u001b[0;32mNone\u001b[0m\u001b[0;34m\u001b[0m\u001b[0;34m\u001b[0m\u001b[0m\n\u001b[0m\u001b[1;32m     68\u001b[0m     \u001b[0;32mfinally\u001b[0m\u001b[0;34m:\u001b[0m\u001b[0;34m\u001b[0m\u001b[0;34m\u001b[0m\u001b[0m\n\u001b[1;32m     69\u001b[0m       \u001b[0;32mdel\u001b[0m \u001b[0mfiltered_tb\u001b[0m\u001b[0;34m\u001b[0m\u001b[0;34m\u001b[0m\u001b[0m\n",
            "\u001b[0;32m/usr/local/lib/python3.7/dist-packages/tensorflow/python/framework/func_graph.py\u001b[0m in \u001b[0;36mautograph_handler\u001b[0;34m(*args, **kwargs)\u001b[0m\n\u001b[1;32m   1145\u001b[0m           \u001b[0;32mexcept\u001b[0m \u001b[0mException\u001b[0m \u001b[0;32mas\u001b[0m \u001b[0me\u001b[0m\u001b[0;34m:\u001b[0m  \u001b[0;31m# pylint:disable=broad-except\u001b[0m\u001b[0;34m\u001b[0m\u001b[0;34m\u001b[0m\u001b[0m\n\u001b[1;32m   1146\u001b[0m             \u001b[0;32mif\u001b[0m \u001b[0mhasattr\u001b[0m\u001b[0;34m(\u001b[0m\u001b[0me\u001b[0m\u001b[0;34m,\u001b[0m \u001b[0;34m\"ag_error_metadata\"\u001b[0m\u001b[0;34m)\u001b[0m\u001b[0;34m:\u001b[0m\u001b[0;34m\u001b[0m\u001b[0;34m\u001b[0m\u001b[0m\n\u001b[0;32m-> 1147\u001b[0;31m               \u001b[0;32mraise\u001b[0m \u001b[0me\u001b[0m\u001b[0;34m.\u001b[0m\u001b[0mag_error_metadata\u001b[0m\u001b[0;34m.\u001b[0m\u001b[0mto_exception\u001b[0m\u001b[0;34m(\u001b[0m\u001b[0me\u001b[0m\u001b[0;34m)\u001b[0m\u001b[0;34m\u001b[0m\u001b[0;34m\u001b[0m\u001b[0m\n\u001b[0m\u001b[1;32m   1148\u001b[0m             \u001b[0;32melse\u001b[0m\u001b[0;34m:\u001b[0m\u001b[0;34m\u001b[0m\u001b[0;34m\u001b[0m\u001b[0m\n\u001b[1;32m   1149\u001b[0m               \u001b[0;32mraise\u001b[0m\u001b[0;34m\u001b[0m\u001b[0;34m\u001b[0m\u001b[0m\n",
            "\u001b[0;31mValueError\u001b[0m: in user code:\n\n    File \"/usr/local/lib/python3.7/dist-packages/keras/engine/training.py\", line 1021, in train_function  *\n        return step_function(self, iterator)\n    File \"/usr/local/lib/python3.7/dist-packages/keras/engine/training.py\", line 1010, in step_function  **\n        outputs = model.distribute_strategy.run(run_step, args=(data,))\n    File \"/usr/local/lib/python3.7/dist-packages/keras/engine/training.py\", line 1000, in run_step  **\n        outputs = model.train_step(data)\n    File \"/usr/local/lib/python3.7/dist-packages/keras/engine/training.py\", line 859, in train_step\n        y_pred = self(x, training=True)\n    File \"/usr/local/lib/python3.7/dist-packages/keras/utils/traceback_utils.py\", line 67, in error_handler\n        raise e.with_traceback(filtered_tb) from None\n    File \"/usr/local/lib/python3.7/dist-packages/keras/engine/input_spec.py\", line 264, in assert_input_compatibility\n        raise ValueError(f'Input {input_index} of layer \"{layer_name}\" is '\n\n    ValueError: Input 0 of layer \"sequential_5\" is incompatible with the layer: expected shape=(None, 218), found shape=(None, 130)\n"
          ]
        }
      ]
    },
    {
      "cell_type": "code",
      "source": [
        ""
      ],
      "metadata": {
        "id": "1ME98bHgRWpG"
      },
      "execution_count": null,
      "outputs": []
    }
  ],
  "metadata": {
    "colab": {
      "collapsed_sections": [],
      "name": "RNN.ipynb",
      "provenance": [],
      "authorship_tag": "ABX9TyOc+hMmSneSLGxTEZZPttAU",
      "include_colab_link": true
    },
    "kernelspec": {
      "display_name": "Python 3",
      "name": "python3"
    },
    "language_info": {
      "name": "python"
    }
  },
  "nbformat": 4,
  "nbformat_minor": 0
}