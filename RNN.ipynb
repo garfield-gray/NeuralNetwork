{
  "cells": [
    {
      "cell_type": "markdown",
      "metadata": {
        "id": "view-in-github",
        "colab_type": "text"
      },
      "source": [
        "<a href=\"https://colab.research.google.com/github/garfield-gray/NeuralNetwork/blob/main/RNN.ipynb\" target=\"_parent\"><img src=\"https://colab.research.google.com/assets/colab-badge.svg\" alt=\"Open In Colab\"/></a>"
      ]
    },
    {
      "cell_type": "code",
      "execution_count": 1,
      "metadata": {
        "id": "HY54IdU3UqZc"
      },
      "outputs": [],
      "source": [
        "import numpy as np\n",
        "import tensorflow as tf\n",
        "\n",
        "import sklearn as sl\n",
        "from sklearn import datasets\n",
        "from sklearn.model_selection import train_test_split\n",
        "import pandas as pd \n",
        "import matplotlib.pyplot as plt\n",
        "import seaborn as sb\n"
      ]
    },
    {
      "cell_type": "markdown",
      "source": [
        "# problem 2"
      ],
      "metadata": {
        "id": "Zfrk460k4V4f"
      }
    },
    {
      "cell_type": "code",
      "execution_count": null,
      "metadata": {
        "id": "Rf3sAKGSUxI7"
      },
      "outputs": [],
      "source": [
        "d = datasets.load_breast_cancer()\n",
        "x = d.data\n",
        "y = d.target"
      ]
    },
    {
      "cell_type": "code",
      "source": [
        "x_train,x_test,y_train,y_test = train_test_split(x,y,test_size=0.2,random_state=0)\n",
        "\n",
        "print('Shape of the training set:'+\" \"+str(x_train.shape))\n",
        "print('Size of the training set:'+\" \"+str(x_train.shape[0]))\n",
        "\n",
        "print('Shape of the testing set:'+\" \"+str(x_test.shape))\n",
        "print('Size of the testing set:'+\" \"+str(x_test.shape[0]))"
      ],
      "metadata": {
        "colab": {
          "base_uri": "https://localhost:8080/"
        },
        "id": "AbxXkpo54XgC",
        "outputId": "a3868ba1-3e64-48c8-88a2-f14ed5ad492c"
      },
      "execution_count": null,
      "outputs": [
        {
          "output_type": "stream",
          "name": "stdout",
          "text": [
            "Shape of the training set: (455, 30)\n",
            "Size of the training set: 455\n",
            "Shape of the testing set: (114, 30)\n",
            "Size of the testing set: 114\n"
          ]
        }
      ]
    },
    {
      "cell_type": "code",
      "source": [
        "plt.figure(figsize = (6,6))\n",
        "sb.countplot(y_train)\n",
        "plt.xlabel(\"Classes\")\n",
        "plt.ylabel(\"Freq\")\n",
        "plt.title(\"Y train\")\n",
        "plt.show()"
      ],
      "metadata": {
        "colab": {
          "base_uri": "https://localhost:8080/",
          "height": 459
        },
        "id": "HuVVOcTiNJKT",
        "outputId": "a9b410ad-b6dd-4c1f-95c1-432763f613f1"
      },
      "execution_count": null,
      "outputs": [
        {
          "output_type": "stream",
          "name": "stderr",
          "text": [
            "/usr/local/lib/python3.7/dist-packages/seaborn/_decorators.py:43: FutureWarning: Pass the following variable as a keyword arg: x. From version 0.12, the only valid positional argument will be `data`, and passing other arguments without an explicit keyword will result in an error or misinterpretation.\n",
            "  FutureWarning\n"
          ]
        },
        {
          "output_type": "display_data",
          "data": {
            "text/plain": [
              "<Figure size 432x432 with 1 Axes>"
            ],
            "image/png": "[encoded data removed]"
          },
          "metadata": {
            "needs_background": "light"
          }
        }
      ]
    },
    {
      "cell_type": "code",
      "source": [
        "model = tf.keras.Sequential([\n",
        "    tf.keras.layers.Dense(32 ,activation='relu',input_shape=(30,)),\n",
        "    tf.keras.layers.Dense(32 ,activation='relu'),\n",
        "    tf.keras.layers.Dense(1,activation='sigmoid')\n",
        "])\n",
        "model.summary()"
      ],
      "metadata": {
        "colab": {
          "base_uri": "https://localhost:8080/"
        },
        "id": "c0nJKOMh5AMq",
        "outputId": "78b065ee-39a4-4d51-8ebd-9d0b48fffb2e"
      },
      "execution_count": null,
      "outputs": [
        {
          "output_type": "stream",
          "name": "stdout",
          "text": [
            "Model: \"sequential\"\n",
            "_________________________________________________________________\n",
            " Layer (type)                Output Shape              Param #   \n",
            "=================================================================\n",
            " dense (Dense)               (None, 32)                992       \n",
            "                                                                 \n",
            " dense_1 (Dense)             (None, 32)                1056      \n",
            "                                                                 \n",
            " dense_2 (Dense)             (None, 1)                 33        \n",
            "                                                                 \n",
            "=================================================================\n",
            "Total params: 2,081\n",
            "Trainable params: 2,081\n",
            "Non-trainable params: 0\n",
            "_________________________________________________________________\n"
          ]
        }
      ]
    },
    {
      "cell_type": "code",
      "source": [
        "def L(epoch , Ir):\n",
        "  if epoch < 2:\n",
        "    return Ir\n",
        "  else:\n",
        "    return Ir*np.exp(-0.2)\n",
        "  \n",
        "E = tf.keras.callbacks.EarlyStopping(patience=3 , monitor = 'val_acc')\n",
        "L = tf.keras.callbacks.LearningRateScheduler(L)"
      ],
      "metadata": {
        "id": "S1uUK2_NTZOg"
      },
      "execution_count": null,
      "outputs": []
    },
    {
      "cell_type": "code",
      "source": [
        "model.compile(optimizer='Adam',loss='binary_crossentropy',metrics=['accuracy'])\n",
        "history = model.fit(x_train, y_train , validation_split=0.1,epochs=100,batch_size=32, callbacks=[E, L])"
      ],
      "metadata": {
        "colab": {
          "base_uri": "https://localhost:8080/"
        },
        "id": "O4k3IzWc60BP",
        "outputId": "59f61a35-89d2-429e-ab1e-223cb0d5e6ea"
      },
      "execution_count": null,
      "outputs": [
        {
          "output_type": "stream",
          "name": "stdout",
          "text": [
            "Epoch 1/100\n",
            " 1/13 [=>............................] - ETA: 9s - loss: 7.2252 - accuracy: 0.6562WARNING:tensorflow:Early stopping conditioned on metric `val_acc` which is not available. Available metrics are: loss,accuracy,val_loss,val_accuracy\n",
            "13/13 [==============================] - 1s 19ms/step - loss: 2.2936 - accuracy: 0.6993 - val_loss: 1.6019 - val_accuracy: 0.7826 - lr: 0.0010\n",
            "Epoch 2/100\n",
            " 1/13 [=>............................] - ETA: 0s - loss: 0.6386 - accuracy: 0.8750WARNING:tensorflow:Early stopping conditioned on metric `val_acc` which is not available. Available metrics are: loss,accuracy,val_loss,val_accuracy\n",
            "13/13 [==============================] - 0s 4ms/step - loss: 0.5219 - accuracy: 0.8778 - val_loss: 0.7831 - val_accuracy: 0.8478 - lr: 0.0010\n",
            "Epoch 3/100\n",
            " 1/13 [=>............................] - ETA: 0s - loss: 0.8910 - accuracy: 0.8750WARNING:tensorflow:Early stopping conditioned on metric `val_acc` which is not available. Available metrics are: loss,accuracy,val_loss,val_accuracy\n",
            "13/13 [==============================] - 0s 5ms/step - loss: 0.5346 - accuracy: 0.8949 - val_loss: 0.5863 - val_accuracy: 0.8913 - lr: 8.1873e-04\n",
            "Epoch 4/100\n",
            " 1/13 [=>............................] - ETA: 0s - loss: 0.1038 - accuracy: 0.9375WARNING:tensorflow:Early stopping conditioned on metric `val_acc` which is not available. Available metrics are: loss,accuracy,val_loss,val_accuracy\n",
            "13/13 [==============================] - 0s 5ms/step - loss: 0.3537 - accuracy: 0.9169 - val_loss: 0.6286 - val_accuracy: 0.8478 - lr: 6.7032e-04\n",
            "Epoch 5/100\n",
            " 1/13 [=>............................] - ETA: 0s - loss: 0.8144 - accuracy: 0.8750WARNING:tensorflow:Early stopping conditioned on metric `val_acc` which is not available. Available metrics are: loss,accuracy,val_loss,val_accuracy\n",
            "13/13 [==============================] - 0s 5ms/step - loss: 0.3455 - accuracy: 0.9144 - val_loss: 0.3807 - val_accuracy: 0.8913 - lr: 5.4881e-04\n",
            "Epoch 6/100\n",
            " 1/13 [=>............................] - ETA: 0s - loss: 0.3232 - accuracy: 0.8750WARNING:tensorflow:Early stopping conditioned on metric `val_acc` which is not available. Available metrics are: loss,accuracy,val_loss,val_accuracy\n",
            "13/13 [==============================] - 0s 4ms/step - loss: 0.2951 - accuracy: 0.9144 - val_loss: 0.3544 - val_accuracy: 0.8913 - lr: 4.4933e-04\n",
            "Epoch 7/100\n",
            " 1/13 [=>............................] - ETA: 0s - loss: 0.6796 - accuracy: 0.8125WARNING:tensorflow:Early stopping conditioned on metric `val_acc` which is not available. Available metrics are: loss,accuracy,val_loss,val_accuracy\n",
            "13/13 [==============================] - 0s 6ms/step - loss: 0.2842 - accuracy: 0.9144 - val_loss: 0.3354 - val_accuracy: 0.8913 - lr: 3.6788e-04\n",
            "Epoch 8/100\n",
            " 1/13 [=>............................] - ETA: 0s - loss: 0.0511 - accuracy: 0.9688WARNING:tensorflow:Early stopping conditioned on metric `val_acc` which is not available. Available metrics are: loss,accuracy,val_loss,val_accuracy\n",
            "13/13 [==============================] - 0s 5ms/step - loss: 0.2675 - accuracy: 0.9144 - val_loss: 0.3212 - val_accuracy: 0.8913 - lr: 3.0119e-04\n",
            "Epoch 9/100\n",
            " 1/13 [=>............................] - ETA: 0s - loss: 0.3278 - accuracy: 0.8750WARNING:tensorflow:Early stopping conditioned on metric `val_acc` which is not available. Available metrics are: loss,accuracy,val_loss,val_accuracy\n",
            "13/13 [==============================] - 0s 4ms/step - loss: 0.2725 - accuracy: 0.9095 - val_loss: 0.3126 - val_accuracy: 0.8913 - lr: 2.4660e-04\n",
            "Epoch 10/100\n",
            " 1/13 [=>............................] - ETA: 0s - loss: 0.4333 - accuracy: 0.9062WARNING:tensorflow:Early stopping conditioned on metric `val_acc` which is not available. Available metrics are: loss,accuracy,val_loss,val_accuracy\n",
            "13/13 [==============================] - 0s 4ms/step - loss: 0.2495 - accuracy: 0.9120 - val_loss: 0.3083 - val_accuracy: 0.8913 - lr: 2.0190e-04\n",
            "Epoch 11/100\n",
            " 1/13 [=>............................] - ETA: 0s - loss: 0.3321 - accuracy: 0.8750WARNING:tensorflow:Early stopping conditioned on metric `val_acc` which is not available. Available metrics are: loss,accuracy,val_loss,val_accuracy\n",
            "13/13 [==============================] - 0s 4ms/step - loss: 0.2529 - accuracy: 0.9144 - val_loss: 0.3169 - val_accuracy: 0.9130 - lr: 1.6530e-04\n",
            "Epoch 12/100\n",
            " 1/13 [=>............................] - ETA: 0s - loss: 0.3036 - accuracy: 0.8750WARNING:tensorflow:Early stopping conditioned on metric `val_acc` which is not available. Available metrics are: loss,accuracy,val_loss,val_accuracy\n",
            "13/13 [==============================] - 0s 4ms/step - loss: 0.2421 - accuracy: 0.9169 - val_loss: 0.3005 - val_accuracy: 0.9130 - lr: 1.3534e-04\n",
            "Epoch 13/100\n",
            " 1/13 [=>............................] - ETA: 0s - loss: 0.1863 - accuracy: 0.9688WARNING:tensorflow:Early stopping conditioned on metric `val_acc` which is not available. Available metrics are: loss,accuracy,val_loss,val_accuracy\n",
            "13/13 [==============================] - 0s 4ms/step - loss: 0.2445 - accuracy: 0.9169 - val_loss: 0.2943 - val_accuracy: 0.8913 - lr: 1.1080e-04\n",
            "Epoch 14/100\n",
            " 1/13 [=>............................] - ETA: 0s - loss: 0.1861 - accuracy: 0.8750WARNING:tensorflow:Early stopping conditioned on metric `val_acc` which is not available. Available metrics are: loss,accuracy,val_loss,val_accuracy\n",
            "13/13 [==============================] - 0s 5ms/step - loss: 0.2304 - accuracy: 0.9193 - val_loss: 0.2997 - val_accuracy: 0.9130 - lr: 9.0718e-05\n",
            "Epoch 15/100\n",
            " 1/13 [=>............................] - ETA: 0s - loss: 0.5482 - accuracy: 0.8125WARNING:tensorflow:Early stopping conditioned on metric `val_acc` which is not available. Available metrics are: loss,accuracy,val_loss,val_accuracy\n",
            "13/13 [==============================] - 0s 4ms/step - loss: 0.2383 - accuracy: 0.9169 - val_loss: 0.3005 - val_accuracy: 0.9130 - lr: 7.4274e-05\n",
            "Epoch 16/100\n",
            " 1/13 [=>............................] - ETA: 0s - loss: 0.2357 - accuracy: 0.8750WARNING:tensorflow:Early stopping conditioned on metric `val_acc` which is not available. Available metrics are: loss,accuracy,val_loss,val_accuracy\n",
            "13/13 [==============================] - 0s 5ms/step - loss: 0.2401 - accuracy: 0.9144 - val_loss: 0.2848 - val_accuracy: 0.8913 - lr: 6.0810e-05\n",
            "Epoch 17/100\n",
            " 1/13 [=>............................] - ETA: 0s - loss: 0.0939 - accuracy: 0.9688WARNING:tensorflow:Early stopping conditioned on metric `val_acc` which is not available. Available metrics are: loss,accuracy,val_loss,val_accuracy\n",
            "13/13 [==============================] - 0s 4ms/step - loss: 0.2300 - accuracy: 0.9169 - val_loss: 0.2890 - val_accuracy: 0.9130 - lr: 4.9787e-05\n",
            "Epoch 18/100\n",
            " 1/13 [=>............................] - ETA: 0s - loss: 0.1608 - accuracy: 0.9375WARNING:tensorflow:Early stopping conditioned on metric `val_acc` which is not available. Available metrics are: loss,accuracy,val_loss,val_accuracy\n",
            "13/13 [==============================] - 0s 4ms/step - loss: 0.2286 - accuracy: 0.9144 - val_loss: 0.2862 - val_accuracy: 0.9130 - lr: 4.0762e-05\n",
            "Epoch 19/100\n",
            " 1/13 [=>............................] - ETA: 0s - loss: 0.0086 - accuracy: 1.0000WARNING:tensorflow:Early stopping conditioned on metric `val_acc` which is not available. Available metrics are: loss,accuracy,val_loss,val_accuracy\n",
            "13/13 [==============================] - 0s 5ms/step - loss: 0.2298 - accuracy: 0.9144 - val_loss: 0.2851 - val_accuracy: 0.9130 - lr: 3.3373e-05\n",
            "Epoch 20/100\n",
            " 1/13 [=>............................] - ETA: 0s - loss: 0.1970 - accuracy: 0.9062WARNING:tensorflow:Early stopping conditioned on metric `val_acc` which is not available. Available metrics are: loss,accuracy,val_loss,val_accuracy\n",
            "13/13 [==============================] - 0s 4ms/step - loss: 0.2278 - accuracy: 0.9144 - val_loss: 0.2788 - val_accuracy: 0.8913 - lr: 2.7324e-05\n",
            "Epoch 21/100\n",
            " 1/13 [=>............................] - ETA: 0s - loss: 0.3477 - accuracy: 0.8438WARNING:tensorflow:Early stopping conditioned on metric `val_acc` which is not available. Available metrics are: loss,accuracy,val_loss,val_accuracy\n",
            "13/13 [==============================] - 0s 5ms/step - loss: 0.2253 - accuracy: 0.9144 - val_loss: 0.2782 - val_accuracy: 0.9130 - lr: 2.2371e-05\n",
            "Epoch 22/100\n",
            " 1/13 [=>............................] - ETA: 0s - loss: 0.4930 - accuracy: 0.8750WARNING:tensorflow:Early stopping conditioned on metric `val_acc` which is not available. Available metrics are: loss,accuracy,val_loss,val_accuracy\n",
            "13/13 [==============================] - 0s 5ms/step - loss: 0.2258 - accuracy: 0.9144 - val_loss: 0.2815 - val_accuracy: 0.9130 - lr: 1.8316e-05\n",
            "Epoch 23/100\n",
            " 1/13 [=>............................] - ETA: 0s - loss: 0.2910 - accuracy: 0.8750WARNING:tensorflow:Early stopping conditioned on metric `val_acc` which is not available. Available metrics are: loss,accuracy,val_loss,val_accuracy\n",
            "13/13 [==============================] - 0s 4ms/step - loss: 0.2240 - accuracy: 0.9169 - val_loss: 0.2800 - val_accuracy: 0.9130 - lr: 1.4996e-05\n",
            "Epoch 24/100\n",
            " 1/13 [=>............................] - ETA: 0s - loss: 0.2459 - accuracy: 0.9062WARNING:tensorflow:Early stopping conditioned on metric `val_acc` which is not available. Available metrics are: loss,accuracy,val_loss,val_accuracy\n",
            "13/13 [==============================] - 0s 4ms/step - loss: 0.2237 - accuracy: 0.9144 - val_loss: 0.2781 - val_accuracy: 0.9130 - lr: 1.2277e-05\n",
            "Epoch 25/100\n",
            " 1/13 [=>............................] - ETA: 0s - loss: 0.0375 - accuracy: 1.0000WARNING:tensorflow:Early stopping conditioned on metric `val_acc` which is not available. Available metrics are: loss,accuracy,val_loss,val_accuracy\n",
            "13/13 [==============================] - 0s 4ms/step - loss: 0.2232 - accuracy: 0.9144 - val_loss: 0.2774 - val_accuracy: 0.9130 - lr: 1.0052e-05\n",
            "Epoch 26/100\n",
            " 1/13 [=>............................] - ETA: 0s - loss: 0.0314 - accuracy: 1.0000WARNING:tensorflow:Early stopping conditioned on metric `val_acc` which is not available. Available metrics are: loss,accuracy,val_loss,val_accuracy\n",
            "13/13 [==============================] - 0s 5ms/step - loss: 0.2225 - accuracy: 0.9144 - val_loss: 0.2765 - val_accuracy: 0.9130 - lr: 8.2297e-06\n",
            "Epoch 27/100\n",
            " 1/13 [=>............................] - ETA: 0s - loss: 0.1147 - accuracy: 0.9375WARNING:tensorflow:Early stopping conditioned on metric `val_acc` which is not available. Available metrics are: loss,accuracy,val_loss,val_accuracy\n",
            "13/13 [==============================] - 0s 4ms/step - loss: 0.2223 - accuracy: 0.9144 - val_loss: 0.2761 - val_accuracy: 0.9130 - lr: 6.7379e-06\n",
            "Epoch 28/100\n",
            " 1/13 [=>............................] - ETA: 0s - loss: 0.1721 - accuracy: 0.9062WARNING:tensorflow:Early stopping conditioned on metric `val_acc` which is not available. Available metrics are: loss,accuracy,val_loss,val_accuracy\n",
            "13/13 [==============================] - 0s 5ms/step - loss: 0.2225 - accuracy: 0.9144 - val_loss: 0.2763 - val_accuracy: 0.9130 - lr: 5.5166e-06\n",
            "Epoch 29/100\n",
            " 1/13 [=>............................] - ETA: 0s - loss: 0.4750 - accuracy: 0.8750WARNING:tensorflow:Early stopping conditioned on metric `val_acc` which is not available. Available metrics are: loss,accuracy,val_loss,val_accuracy\n",
            "13/13 [==============================] - 0s 4ms/step - loss: 0.2222 - accuracy: 0.9144 - val_loss: 0.2760 - val_accuracy: 0.9130 - lr: 4.5166e-06\n",
            "Epoch 30/100\n",
            " 1/13 [=>............................] - ETA: 0s - loss: 0.0879 - accuracy: 0.9688WARNING:tensorflow:Early stopping conditioned on metric `val_acc` which is not available. Available metrics are: loss,accuracy,val_loss,val_accuracy\n",
            "13/13 [==============================] - 0s 5ms/step - loss: 0.2217 - accuracy: 0.9144 - val_loss: 0.2761 - val_accuracy: 0.9130 - lr: 3.6979e-06\n",
            "Epoch 31/100\n",
            " 1/13 [=>............................] - ETA: 0s - loss: 0.0980 - accuracy: 0.9375WARNING:tensorflow:Early stopping conditioned on metric `val_acc` which is not available. Available metrics are: loss,accuracy,val_loss,val_accuracy\n",
            "13/13 [==============================] - 0s 4ms/step - loss: 0.2217 - accuracy: 0.9144 - val_loss: 0.2760 - val_accuracy: 0.9130 - lr: 3.0276e-06\n",
            "Epoch 32/100\n",
            " 1/13 [=>............................] - ETA: 0s - loss: 0.0830 - accuracy: 0.9688WARNING:tensorflow:Early stopping conditioned on metric `val_acc` which is not available. Available metrics are: loss,accuracy,val_loss,val_accuracy\n",
            "13/13 [==============================] - 0s 5ms/step - loss: 0.2216 - accuracy: 0.9144 - val_loss: 0.2760 - val_accuracy: 0.9130 - lr: 2.4788e-06\n",
            "Epoch 33/100\n",
            " 1/13 [=>............................] - ETA: 0s - loss: 0.2934 - accuracy: 0.9375WARNING:tensorflow:Early stopping conditioned on metric `val_acc` which is not available. Available metrics are: loss,accuracy,val_loss,val_accuracy\n",
            "13/13 [==============================] - 0s 5ms/step - loss: 0.2215 - accuracy: 0.9144 - val_loss: 0.2758 - val_accuracy: 0.9130 - lr: 2.0294e-06\n",
            "Epoch 34/100\n",
            " 1/13 [=>............................] - ETA: 0s - loss: 0.2806 - accuracy: 0.9375WARNING:tensorflow:Early stopping conditioned on metric `val_acc` which is not available. Available metrics are: loss,accuracy,val_loss,val_accuracy\n",
            "13/13 [==============================] - 0s 5ms/step - loss: 0.2214 - accuracy: 0.9144 - val_loss: 0.2760 - val_accuracy: 0.9130 - lr: 1.6616e-06\n",
            "Epoch 35/100\n",
            " 1/13 [=>............................] - ETA: 0s - loss: 0.4099 - accuracy: 0.8438WARNING:tensorflow:Early stopping conditioned on metric `val_acc` which is not available. Available metrics are: loss,accuracy,val_loss,val_accuracy\n",
            "13/13 [==============================] - 0s 5ms/step - loss: 0.2214 - accuracy: 0.9144 - val_loss: 0.2758 - val_accuracy: 0.9130 - lr: 1.3604e-06\n",
            "Epoch 36/100\n",
            " 1/13 [=>............................] - ETA: 0s - loss: 0.0708 - accuracy: 0.9688WARNING:tensorflow:Early stopping conditioned on metric `val_acc` which is not available. Available metrics are: loss,accuracy,val_loss,val_accuracy\n",
            "13/13 [==============================] - 0s 4ms/step - loss: 0.2213 - accuracy: 0.9144 - val_loss: 0.2759 - val_accuracy: 0.9130 - lr: 1.1138e-06\n",
            "Epoch 37/100\n",
            " 1/13 [=>............................] - ETA: 0s - loss: 0.1826 - accuracy: 0.9688WARNING:tensorflow:Early stopping conditioned on metric `val_acc` which is not available. Available metrics are: loss,accuracy,val_loss,val_accuracy\n",
            "13/13 [==============================] - 0s 6ms/step - loss: 0.2213 - accuracy: 0.9144 - val_loss: 0.2759 - val_accuracy: 0.9130 - lr: 9.1188e-07\n",
            "Epoch 38/100\n",
            " 1/13 [=>............................] - ETA: 0s - loss: 0.2496 - accuracy: 0.8750WARNING:tensorflow:Early stopping conditioned on metric `val_acc` which is not available. Available metrics are: loss,accuracy,val_loss,val_accuracy\n",
            "13/13 [==============================] - 0s 5ms/step - loss: 0.2212 - accuracy: 0.9144 - val_loss: 0.2758 - val_accuracy: 0.9130 - lr: 7.4659e-07\n",
            "Epoch 39/100\n",
            " 1/13 [=>............................] - ETA: 0s - loss: 0.0697 - accuracy: 0.9688WARNING:tensorflow:Early stopping conditioned on metric `val_acc` which is not available. Available metrics are: loss,accuracy,val_loss,val_accuracy\n",
            "13/13 [==============================] - 0s 5ms/step - loss: 0.2212 - accuracy: 0.9144 - val_loss: 0.2757 - val_accuracy: 0.9130 - lr: 6.1125e-07\n",
            "Epoch 40/100\n",
            " 1/13 [=>............................] - ETA: 0s - loss: 0.1636 - accuracy: 0.9062WARNING:tensorflow:Early stopping conditioned on metric `val_acc` which is not available. Available metrics are: loss,accuracy,val_loss,val_accuracy\n",
            "13/13 [==============================] - 0s 4ms/step - loss: 0.2212 - accuracy: 0.9144 - val_loss: 0.2757 - val_accuracy: 0.9130 - lr: 5.0045e-07\n",
            "Epoch 41/100\n",
            " 1/13 [=>............................] - ETA: 0s - loss: 0.1084 - accuracy: 0.9375WARNING:tensorflow:Early stopping conditioned on metric `val_acc` which is not available. Available metrics are: loss,accuracy,val_loss,val_accuracy\n",
            "13/13 [==============================] - 0s 5ms/step - loss: 0.2212 - accuracy: 0.9144 - val_loss: 0.2757 - val_accuracy: 0.9130 - lr: 4.0973e-07\n",
            "Epoch 42/100\n",
            " 1/13 [=>............................] - ETA: 0s - loss: 0.3138 - accuracy: 0.9062WARNING:tensorflow:Early stopping conditioned on metric `val_acc` which is not available. Available metrics are: loss,accuracy,val_loss,val_accuracy\n",
            "13/13 [==============================] - 0s 5ms/step - loss: 0.2212 - accuracy: 0.9144 - val_loss: 0.2757 - val_accuracy: 0.9130 - lr: 3.3546e-07\n",
            "Epoch 43/100\n",
            " 1/13 [=>............................] - ETA: 0s - loss: 0.1750 - accuracy: 0.9375WARNING:tensorflow:Early stopping conditioned on metric `val_acc` which is not available. Available metrics are: loss,accuracy,val_loss,val_accuracy\n",
            "13/13 [==============================] - 0s 5ms/step - loss: 0.2211 - accuracy: 0.9144 - val_loss: 0.2757 - val_accuracy: 0.9130 - lr: 2.7465e-07\n",
            "Epoch 44/100\n",
            " 1/13 [=>............................] - ETA: 0s - loss: 0.1113 - accuracy: 0.9375WARNING:tensorflow:Early stopping conditioned on metric `val_acc` which is not available. Available metrics are: loss,accuracy,val_loss,val_accuracy\n",
            "13/13 [==============================] - 0s 5ms/step - loss: 0.2211 - accuracy: 0.9144 - val_loss: 0.2756 - val_accuracy: 0.9130 - lr: 2.2487e-07\n",
            "Epoch 45/100\n",
            " 1/13 [=>............................] - ETA: 0s - loss: 0.2283 - accuracy: 0.9062WARNING:tensorflow:Early stopping conditioned on metric `val_acc` which is not available. Available metrics are: loss,accuracy,val_loss,val_accuracy\n",
            "13/13 [==============================] - 0s 5ms/step - loss: 0.2211 - accuracy: 0.9144 - val_loss: 0.2756 - val_accuracy: 0.9130 - lr: 1.8411e-07\n",
            "Epoch 46/100\n",
            " 1/13 [=>............................] - ETA: 0s - loss: 0.2623 - accuracy: 0.9062WARNING:tensorflow:Early stopping conditioned on metric `val_acc` which is not available. Available metrics are: loss,accuracy,val_loss,val_accuracy\n",
            "13/13 [==============================] - 0s 5ms/step - loss: 0.2211 - accuracy: 0.9144 - val_loss: 0.2756 - val_accuracy: 0.9130 - lr: 1.5073e-07\n",
            "Epoch 47/100\n",
            " 1/13 [=>............................] - ETA: 0s - loss: 0.3808 - accuracy: 0.8438WARNING:tensorflow:Early stopping conditioned on metric `val_acc` which is not available. Available metrics are: loss,accuracy,val_loss,val_accuracy\n",
            "13/13 [==============================] - 0s 4ms/step - loss: 0.2211 - accuracy: 0.9144 - val_loss: 0.2756 - val_accuracy: 0.9130 - lr: 1.2341e-07\n",
            "Epoch 48/100\n",
            " 1/13 [=>............................] - ETA: 0s - loss: 0.2897 - accuracy: 0.8438WARNING:tensorflow:Early stopping conditioned on metric `val_acc` which is not available. Available metrics are: loss,accuracy,val_loss,val_accuracy\n",
            "13/13 [==============================] - 0s 5ms/step - loss: 0.2211 - accuracy: 0.9144 - val_loss: 0.2756 - val_accuracy: 0.9130 - lr: 1.0104e-07\n",
            "Epoch 49/100\n",
            " 1/13 [=>............................] - ETA: 0s - loss: 0.0927 - accuracy: 0.9688WARNING:tensorflow:Early stopping conditioned on metric `val_acc` which is not available. Available metrics are: loss,accuracy,val_loss,val_accuracy\n",
            "13/13 [==============================] - 0s 4ms/step - loss: 0.2211 - accuracy: 0.9144 - val_loss: 0.2756 - val_accuracy: 0.9130 - lr: 8.2724e-08\n",
            "Epoch 50/100\n",
            " 1/13 [=>............................] - ETA: 0s - loss: 0.4412 - accuracy: 0.8438WARNING:tensorflow:Early stopping conditioned on metric `val_acc` which is not available. Available metrics are: loss,accuracy,val_loss,val_accuracy\n",
            "13/13 [==============================] - 0s 5ms/step - loss: 0.2211 - accuracy: 0.9144 - val_loss: 0.2756 - val_accuracy: 0.9130 - lr: 6.7729e-08\n",
            "Epoch 51/100\n",
            " 1/13 [=>............................] - ETA: 0s - loss: 0.0738 - accuracy: 0.9688WARNING:tensorflow:Early stopping conditioned on metric `val_acc` which is not available. Available metrics are: loss,accuracy,val_loss,val_accuracy\n",
            "13/13 [==============================] - 0s 5ms/step - loss: 0.2211 - accuracy: 0.9144 - val_loss: 0.2756 - val_accuracy: 0.9130 - lr: 5.5452e-08\n",
            "Epoch 52/100\n",
            " 1/13 [=>............................] - ETA: 0s - loss: 0.1658 - accuracy: 0.9062WARNING:tensorflow:Early stopping conditioned on metric `val_acc` which is not available. Available metrics are: loss,accuracy,val_loss,val_accuracy\n",
            "13/13 [==============================] - 0s 5ms/step - loss: 0.2211 - accuracy: 0.9144 - val_loss: 0.2756 - val_accuracy: 0.9130 - lr: 4.5400e-08\n",
            "Epoch 53/100\n",
            " 1/13 [=>............................] - ETA: 0s - loss: 0.3201 - accuracy: 0.9062WARNING:tensorflow:Early stopping conditioned on metric `val_acc` which is not available. Available metrics are: loss,accuracy,val_loss,val_accuracy\n",
            "13/13 [==============================] - 0s 5ms/step - loss: 0.2211 - accuracy: 0.9144 - val_loss: 0.2756 - val_accuracy: 0.9130 - lr: 3.7170e-08\n",
            "Epoch 54/100\n",
            " 1/13 [=>............................] - ETA: 0s - loss: 0.0538 - accuracy: 0.9688WARNING:tensorflow:Early stopping conditioned on metric `val_acc` which is not available. Available metrics are: loss,accuracy,val_loss,val_accuracy\n",
            "13/13 [==============================] - 0s 4ms/step - loss: 0.2211 - accuracy: 0.9144 - val_loss: 0.2756 - val_accuracy: 0.9130 - lr: 3.0432e-08\n",
            "Epoch 55/100\n",
            " 1/13 [=>............................] - ETA: 0s - loss: 0.3593 - accuracy: 0.8750WARNING:tensorflow:Early stopping conditioned on metric `val_acc` which is not available. Available metrics are: loss,accuracy,val_loss,val_accuracy\n",
            "13/13 [==============================] - 0s 4ms/step - loss: 0.2211 - accuracy: 0.9144 - val_loss: 0.2756 - val_accuracy: 0.9130 - lr: 2.4916e-08\n",
            "Epoch 56/100\n",
            " 1/13 [=>............................] - ETA: 0s - loss: 0.3700 - accuracy: 0.9062WARNING:tensorflow:Early stopping conditioned on metric `val_acc` which is not available. Available metrics are: loss,accuracy,val_loss,val_accuracy\n",
            "13/13 [==============================] - 0s 5ms/step - loss: 0.2211 - accuracy: 0.9144 - val_loss: 0.2756 - val_accuracy: 0.9130 - lr: 2.0400e-08\n",
            "Epoch 57/100\n",
            " 1/13 [=>............................] - ETA: 0s - loss: 0.3173 - accuracy: 0.8750WARNING:tensorflow:Early stopping conditioned on metric `val_acc` which is not available. Available metrics are: loss,accuracy,val_loss,val_accuracy\n",
            "13/13 [==============================] - 0s 5ms/step - loss: 0.2211 - accuracy: 0.9144 - val_loss: 0.2756 - val_accuracy: 0.9130 - lr: 1.6702e-08\n",
            "Epoch 58/100\n",
            " 1/13 [=>............................] - ETA: 0s - loss: 0.1865 - accuracy: 0.9688WARNING:tensorflow:Early stopping conditioned on metric `val_acc` which is not available. Available metrics are: loss,accuracy,val_loss,val_accuracy\n",
            "13/13 [==============================] - 0s 5ms/step - loss: 0.2211 - accuracy: 0.9144 - val_loss: 0.2756 - val_accuracy: 0.9130 - lr: 1.3674e-08\n",
            "Epoch 59/100\n",
            " 1/13 [=>............................] - ETA: 0s - loss: 0.2169 - accuracy: 0.9062WARNING:tensorflow:Early stopping conditioned on metric `val_acc` which is not available. Available metrics are: loss,accuracy,val_loss,val_accuracy\n",
            "13/13 [==============================] - 0s 5ms/step - loss: 0.2211 - accuracy: 0.9144 - val_loss: 0.2756 - val_accuracy: 0.9130 - lr: 1.1195e-08\n",
            "Epoch 60/100\n",
            " 1/13 [=>............................] - ETA: 0s - loss: 0.1863 - accuracy: 0.9375WARNING:tensorflow:Early stopping conditioned on metric `val_acc` which is not available. Available metrics are: loss,accuracy,val_loss,val_accuracy\n",
            "13/13 [==============================] - 0s 5ms/step - loss: 0.2211 - accuracy: 0.9144 - val_loss: 0.2756 - val_accuracy: 0.9130 - lr: 9.1661e-09\n",
            "Epoch 61/100\n",
            " 1/13 [=>............................] - ETA: 0s - loss: 0.0856 - accuracy: 0.9688WARNING:tensorflow:Early stopping conditioned on metric `val_acc` which is not available. Available metrics are: loss,accuracy,val_loss,val_accuracy\n",
            "13/13 [==============================] - 0s 5ms/step - loss: 0.2211 - accuracy: 0.9144 - val_loss: 0.2756 - val_accuracy: 0.9130 - lr: 7.5046e-09\n",
            "Epoch 62/100\n",
            " 1/13 [=>............................] - ETA: 0s - loss: 0.3162 - accuracy: 0.9062WARNING:tensorflow:Early stopping conditioned on metric `val_acc` which is not available. Available metrics are: loss,accuracy,val_loss,val_accuracy\n",
            "13/13 [==============================] - 0s 4ms/step - loss: 0.2211 - accuracy: 0.9144 - val_loss: 0.2756 - val_accuracy: 0.9130 - lr: 6.1442e-09\n",
            "Epoch 63/100\n",
            " 1/13 [=>............................] - ETA: 0s - loss: 0.0948 - accuracy: 0.9375WARNING:tensorflow:Early stopping conditioned on metric `val_acc` which is not available. Available metrics are: loss,accuracy,val_loss,val_accuracy\n",
            "13/13 [==============================] - 0s 4ms/step - loss: 0.2211 - accuracy: 0.9144 - val_loss: 0.2756 - val_accuracy: 0.9130 - lr: 5.0305e-09\n",
            "Epoch 64/100\n",
            " 1/13 [=>............................] - ETA: 0s - loss: 0.0784 - accuracy: 0.9688WARNING:tensorflow:Early stopping conditioned on metric `val_acc` which is not available. Available metrics are: loss,accuracy,val_loss,val_accuracy\n",
            "13/13 [==============================] - 0s 5ms/step - loss: 0.2211 - accuracy: 0.9144 - val_loss: 0.2756 - val_accuracy: 0.9130 - lr: 4.1186e-09\n",
            "Epoch 65/100\n",
            " 1/13 [=>............................] - ETA: 0s - loss: 0.1447 - accuracy: 0.9375WARNING:tensorflow:Early stopping conditioned on metric `val_acc` which is not available. Available metrics are: loss,accuracy,val_loss,val_accuracy\n",
            "13/13 [==============================] - 0s 5ms/step - loss: 0.2211 - accuracy: 0.9144 - val_loss: 0.2756 - val_accuracy: 0.9130 - lr: 3.3720e-09\n",
            "Epoch 66/100\n",
            " 1/13 [=>............................] - ETA: 0s - loss: 0.2195 - accuracy: 0.9062WARNING:tensorflow:Early stopping conditioned on metric `val_acc` which is not available. Available metrics are: loss,accuracy,val_loss,val_accuracy\n",
            "13/13 [==============================] - 0s 4ms/step - loss: 0.2211 - accuracy: 0.9144 - val_loss: 0.2756 - val_accuracy: 0.9130 - lr: 2.7608e-09\n",
            "Epoch 67/100\n",
            " 1/13 [=>............................] - ETA: 0s - loss: 0.1719 - accuracy: 0.9062WARNING:tensorflow:Early stopping conditioned on metric `val_acc` which is not available. Available metrics are: loss,accuracy,val_loss,val_accuracy\n",
            "13/13 [==============================] - 0s 4ms/step - loss: 0.2211 - accuracy: 0.9144 - val_loss: 0.2756 - val_accuracy: 0.9130 - lr: 2.2603e-09\n",
            "Epoch 68/100\n",
            " 1/13 [=>............................] - ETA: 0s - loss: 0.1602 - accuracy: 0.9375WARNING:tensorflow:Early stopping conditioned on metric `val_acc` which is not available. Available metrics are: loss,accuracy,val_loss,val_accuracy\n",
            "13/13 [==============================] - 0s 4ms/step - loss: 0.2211 - accuracy: 0.9144 - val_loss: 0.2756 - val_accuracy: 0.9130 - lr: 1.8506e-09\n",
            "Epoch 69/100\n",
            " 1/13 [=>............................] - ETA: 0s - loss: 0.3035 - accuracy: 0.9062WARNING:tensorflow:Early stopping conditioned on metric `val_acc` which is not available. Available metrics are: loss,accuracy,val_loss,val_accuracy\n",
            "13/13 [==============================] - 0s 5ms/step - loss: 0.2211 - accuracy: 0.9144 - val_loss: 0.2756 - val_accuracy: 0.9130 - lr: 1.5151e-09\n",
            "Epoch 70/100\n",
            " 1/13 [=>............................] - ETA: 0s - loss: 0.3184 - accuracy: 0.8438WARNING:tensorflow:Early stopping conditioned on metric `val_acc` which is not available. Available metrics are: loss,accuracy,val_loss,val_accuracy\n",
            "13/13 [==============================] - 0s 4ms/step - loss: 0.2211 - accuracy: 0.9144 - val_loss: 0.2756 - val_accuracy: 0.9130 - lr: 1.2405e-09\n",
            "Epoch 71/100\n",
            " 1/13 [=>............................] - ETA: 0s - loss: 0.2237 - accuracy: 0.9062WARNING:tensorflow:Early stopping conditioned on metric `val_acc` which is not available. Available metrics are: loss,accuracy,val_loss,val_accuracy\n",
            "13/13 [==============================] - 0s 4ms/step - loss: 0.2211 - accuracy: 0.9144 - val_loss: 0.2756 - val_accuracy: 0.9130 - lr: 1.0156e-09\n",
            "Epoch 72/100\n",
            " 1/13 [=>............................] - ETA: 0s - loss: 0.2368 - accuracy: 0.9375WARNING:tensorflow:Early stopping conditioned on metric `val_acc` which is not available. Available metrics are: loss,accuracy,val_loss,val_accuracy\n",
            "13/13 [==============================] - 0s 5ms/step - loss: 0.2211 - accuracy: 0.9144 - val_loss: 0.2756 - val_accuracy: 0.9130 - lr: 8.3153e-10\n",
            "Epoch 73/100\n",
            " 1/13 [=>............................] - ETA: 0s - loss: 0.3782 - accuracy: 0.8750WARNING:tensorflow:Early stopping conditioned on metric `val_acc` which is not available. Available metrics are: loss,accuracy,val_loss,val_accuracy\n",
            "13/13 [==============================] - 0s 6ms/step - loss: 0.2211 - accuracy: 0.9144 - val_loss: 0.2756 - val_accuracy: 0.9130 - lr: 6.8080e-10\n",
            "Epoch 74/100\n",
            " 1/13 [=>............................] - ETA: 0s - loss: 0.3896 - accuracy: 0.9062WARNING:tensorflow:Early stopping conditioned on metric `val_acc` which is not available. Available metrics are: loss,accuracy,val_loss,val_accuracy\n",
            "13/13 [==============================] - 0s 4ms/step - loss: 0.2211 - accuracy: 0.9144 - val_loss: 0.2756 - val_accuracy: 0.9130 - lr: 5.5739e-10\n",
            "Epoch 75/100\n",
            " 1/13 [=>............................] - ETA: 0s - loss: 0.2153 - accuracy: 0.9062WARNING:tensorflow:Early stopping conditioned on metric `val_acc` which is not available. Available metrics are: loss,accuracy,val_loss,val_accuracy\n",
            "13/13 [==============================] - 0s 5ms/step - loss: 0.2211 - accuracy: 0.9144 - val_loss: 0.2756 - val_accuracy: 0.9130 - lr: 4.5635e-10\n",
            "Epoch 76/100\n",
            " 1/13 [=>............................] - ETA: 0s - loss: 0.2031 - accuracy: 0.9062WARNING:tensorflow:Early stopping conditioned on metric `val_acc` which is not available. Available metrics are: loss,accuracy,val_loss,val_accuracy\n",
            "13/13 [==============================] - 0s 4ms/step - loss: 0.2211 - accuracy: 0.9144 - val_loss: 0.2756 - val_accuracy: 0.9130 - lr: 3.7363e-10\n",
            "Epoch 77/100\n",
            " 1/13 [=>............................] - ETA: 0s - loss: 0.2128 - accuracy: 0.9062WARNING:tensorflow:Early stopping conditioned on metric `val_acc` which is not available. Available metrics are: loss,accuracy,val_loss,val_accuracy\n",
            "13/13 [==============================] - 0s 5ms/step - loss: 0.2211 - accuracy: 0.9144 - val_loss: 0.2756 - val_accuracy: 0.9130 - lr: 3.0590e-10\n",
            "Epoch 78/100\n",
            " 1/13 [=>............................] - ETA: 0s - loss: 0.0361 - accuracy: 1.0000WARNING:tensorflow:Early stopping conditioned on metric `val_acc` which is not available. Available metrics are: loss,accuracy,val_loss,val_accuracy\n",
            "13/13 [==============================] - 0s 4ms/step - loss: 0.2211 - accuracy: 0.9144 - val_loss: 0.2756 - val_accuracy: 0.9130 - lr: 2.5045e-10\n",
            "Epoch 79/100\n",
            " 1/13 [=>............................] - ETA: 0s - loss: 0.1401 - accuracy: 0.9375WARNING:tensorflow:Early stopping conditioned on metric `val_acc` which is not available. Available metrics are: loss,accuracy,val_loss,val_accuracy\n",
            "13/13 [==============================] - 0s 4ms/step - loss: 0.2211 - accuracy: 0.9144 - val_loss: 0.2756 - val_accuracy: 0.9130 - lr: 2.0505e-10\n",
            "Epoch 80/100\n",
            " 1/13 [=>............................] - ETA: 0s - loss: 0.1433 - accuracy: 0.9375WARNING:tensorflow:Early stopping conditioned on metric `val_acc` which is not available. Available metrics are: loss,accuracy,val_loss,val_accuracy\n",
            "13/13 [==============================] - 0s 5ms/step - loss: 0.2211 - accuracy: 0.9144 - val_loss: 0.2756 - val_accuracy: 0.9130 - lr: 1.6788e-10\n",
            "Epoch 81/100\n",
            " 1/13 [=>............................] - ETA: 0s - loss: 0.0720 - accuracy: 0.9688WARNING:tensorflow:Early stopping conditioned on metric `val_acc` which is not available. Available metrics are: loss,accuracy,val_loss,val_accuracy\n",
            "13/13 [==============================] - 0s 5ms/step - loss: 0.2211 - accuracy: 0.9144 - val_loss: 0.2756 - val_accuracy: 0.9130 - lr: 1.3745e-10\n",
            "Epoch 82/100\n",
            " 1/13 [=>............................] - ETA: 0s - loss: 0.5005 - accuracy: 0.7812WARNING:tensorflow:Early stopping conditioned on metric `val_acc` which is not available. Available metrics are: loss,accuracy,val_loss,val_accuracy\n",
            "13/13 [==============================] - 0s 5ms/step - loss: 0.2211 - accuracy: 0.9144 - val_loss: 0.2756 - val_accuracy: 0.9130 - lr: 1.1254e-10\n",
            "Epoch 83/100\n",
            " 1/13 [=>............................] - ETA: 0s - loss: 0.0866 - accuracy: 0.9688WARNING:tensorflow:Early stopping conditioned on metric `val_acc` which is not available. Available metrics are: loss,accuracy,val_loss,val_accuracy\n",
            "13/13 [==============================] - 0s 5ms/step - loss: 0.2211 - accuracy: 0.9144 - val_loss: 0.2756 - val_accuracy: 0.9130 - lr: 9.2136e-11\n",
            "Epoch 84/100\n",
            " 1/13 [=>............................] - ETA: 0s - loss: 0.1319 - accuracy: 0.9688WARNING:tensorflow:Early stopping conditioned on metric `val_acc` which is not available. Available metrics are: loss,accuracy,val_loss,val_accuracy\n",
            "13/13 [==============================] - 0s 4ms/step - loss: 0.2211 - accuracy: 0.9144 - val_loss: 0.2756 - val_accuracy: 0.9130 - lr: 7.5435e-11\n",
            "Epoch 85/100\n",
            " 1/13 [=>............................] - ETA: 0s - loss: 0.3781 - accuracy: 0.9375WARNING:tensorflow:Early stopping conditioned on metric `val_acc` which is not available. Available metrics are: loss,accuracy,val_loss,val_accuracy\n",
            "13/13 [==============================] - 0s 4ms/step - loss: 0.2211 - accuracy: 0.9144 - val_loss: 0.2756 - val_accuracy: 0.9130 - lr: 6.1761e-11\n",
            "Epoch 86/100\n",
            " 1/13 [=>............................] - ETA: 0s - loss: 0.1966 - accuracy: 0.9375WARNING:tensorflow:Early stopping conditioned on metric `val_acc` which is not available. Available metrics are: loss,accuracy,val_loss,val_accuracy\n",
            "13/13 [==============================] - 0s 5ms/step - loss: 0.2211 - accuracy: 0.9144 - val_loss: 0.2756 - val_accuracy: 0.9130 - lr: 5.0565e-11\n",
            "Epoch 87/100\n",
            " 1/13 [=>............................] - ETA: 0s - loss: 0.3183 - accuracy: 0.9062WARNING:tensorflow:Early stopping conditioned on metric `val_acc` which is not available. Available metrics are: loss,accuracy,val_loss,val_accuracy\n",
            "13/13 [==============================] - 0s 5ms/step - loss: 0.2211 - accuracy: 0.9144 - val_loss: 0.2756 - val_accuracy: 0.9130 - lr: 4.1399e-11\n",
            "Epoch 88/100\n",
            " 1/13 [=>............................] - ETA: 0s - loss: 0.2399 - accuracy: 0.8750WARNING:tensorflow:Early stopping conditioned on metric `val_acc` which is not available. Available metrics are: loss,accuracy,val_loss,val_accuracy\n",
            "13/13 [==============================] - 0s 6ms/step - loss: 0.2211 - accuracy: 0.9144 - val_loss: 0.2756 - val_accuracy: 0.9130 - lr: 3.3895e-11\n",
            "Epoch 89/100\n",
            " 1/13 [=>............................] - ETA: 0s - loss: 0.1660 - accuracy: 0.9688WARNING:tensorflow:Early stopping conditioned on metric `val_acc` which is not available. Available metrics are: loss,accuracy,val_loss,val_accuracy\n",
            "13/13 [==============================] - 0s 5ms/step - loss: 0.2211 - accuracy: 0.9144 - val_loss: 0.2756 - val_accuracy: 0.9130 - lr: 2.7751e-11\n",
            "Epoch 90/100\n",
            " 1/13 [=>............................] - ETA: 0s - loss: 0.0409 - accuracy: 0.9688WARNING:tensorflow:Early stopping conditioned on metric `val_acc` which is not available. Available metrics are: loss,accuracy,val_loss,val_accuracy\n",
            "13/13 [==============================] - 0s 5ms/step - loss: 0.2211 - accuracy: 0.9144 - val_loss: 0.2756 - val_accuracy: 0.9130 - lr: 2.2720e-11\n",
            "Epoch 91/100\n",
            " 1/13 [=>............................] - ETA: 0s - loss: 0.2925 - accuracy: 0.9375WARNING:tensorflow:Early stopping conditioned on metric `val_acc` which is not available. Available metrics are: loss,accuracy,val_loss,val_accuracy\n",
            "13/13 [==============================] - 0s 5ms/step - loss: 0.2211 - accuracy: 0.9144 - val_loss: 0.2756 - val_accuracy: 0.9130 - lr: 1.8602e-11\n",
            "Epoch 92/100\n",
            " 1/13 [=>............................] - ETA: 0s - loss: 0.1383 - accuracy: 0.9688WARNING:tensorflow:Early stopping conditioned on metric `val_acc` which is not available. Available metrics are: loss,accuracy,val_loss,val_accuracy\n",
            "13/13 [==============================] - 0s 5ms/step - loss: 0.2211 - accuracy: 0.9144 - val_loss: 0.2756 - val_accuracy: 0.9130 - lr: 1.5230e-11\n",
            "Epoch 93/100\n",
            " 1/13 [=>............................] - ETA: 0s - loss: 0.2216 - accuracy: 0.9062WARNING:tensorflow:Early stopping conditioned on metric `val_acc` which is not available. Available metrics are: loss,accuracy,val_loss,val_accuracy\n",
            "13/13 [==============================] - 0s 5ms/step - loss: 0.2211 - accuracy: 0.9144 - val_loss: 0.2756 - val_accuracy: 0.9130 - lr: 1.2469e-11\n",
            "Epoch 94/100\n",
            " 1/13 [=>............................] - ETA: 0s - loss: 0.3576 - accuracy: 0.8750WARNING:tensorflow:Early stopping conditioned on metric `val_acc` which is not available. Available metrics are: loss,accuracy,val_loss,val_accuracy\n",
            "13/13 [==============================] - 0s 6ms/step - loss: 0.2211 - accuracy: 0.9144 - val_loss: 0.2756 - val_accuracy: 0.9130 - lr: 1.0209e-11\n",
            "Epoch 95/100\n",
            " 1/13 [=>............................] - ETA: 0s - loss: 0.1196 - accuracy: 0.9688WARNING:tensorflow:Early stopping conditioned on metric `val_acc` which is not available. Available metrics are: loss,accuracy,val_loss,val_accuracy\n",
            "13/13 [==============================] - 0s 7ms/step - loss: 0.2211 - accuracy: 0.9144 - val_loss: 0.2756 - val_accuracy: 0.9130 - lr: 8.3584e-12\n",
            "Epoch 96/100\n",
            " 1/13 [=>............................] - ETA: 0s - loss: 0.3214 - accuracy: 0.8750WARNING:tensorflow:Early stopping conditioned on metric `val_acc` which is not available. Available metrics are: loss,accuracy,val_loss,val_accuracy\n",
            "13/13 [==============================] - 0s 5ms/step - loss: 0.2211 - accuracy: 0.9144 - val_loss: 0.2756 - val_accuracy: 0.9130 - lr: 6.8433e-12\n",
            "Epoch 97/100\n",
            " 1/13 [=>............................] - ETA: 0s - loss: 0.2080 - accuracy: 0.9062WARNING:tensorflow:Early stopping conditioned on metric `val_acc` which is not available. Available metrics are: loss,accuracy,val_loss,val_accuracy\n",
            "13/13 [==============================] - 0s 5ms/step - loss: 0.2211 - accuracy: 0.9144 - val_loss: 0.2756 - val_accuracy: 0.9130 - lr: 5.6028e-12\n",
            "Epoch 98/100\n",
            " 1/13 [=>............................] - ETA: 0s - loss: 0.2831 - accuracy: 0.8750WARNING:tensorflow:Early stopping conditioned on metric `val_acc` which is not available. Available metrics are: loss,accuracy,val_loss,val_accuracy\n",
            "13/13 [==============================] - 0s 5ms/step - loss: 0.2211 - accuracy: 0.9144 - val_loss: 0.2756 - val_accuracy: 0.9130 - lr: 4.5872e-12\n",
            "Epoch 99/100\n",
            " 1/13 [=>............................] - ETA: 0s - loss: 0.6151 - accuracy: 0.8125WARNING:tensorflow:Early stopping conditioned on metric `val_acc` which is not available. Available metrics are: loss,accuracy,val_loss,val_accuracy\n",
            "13/13 [==============================] - 0s 6ms/step - loss: 0.2211 - accuracy: 0.9144 - val_loss: 0.2756 - val_accuracy: 0.9130 - lr: 3.7557e-12\n",
            "Epoch 100/100\n",
            " 1/13 [=>............................] - ETA: 0s - loss: 0.1098 - accuracy: 0.9375WARNING:tensorflow:Early stopping conditioned on metric `val_acc` which is not available. Available metrics are: loss,accuracy,val_loss,val_accuracy\n",
            "13/13 [==============================] - 0s 5ms/step - loss: 0.2211 - accuracy: 0.9144 - val_loss: 0.2756 - val_accuracy: 0.9130 - lr: 3.0749e-12\n"
          ]
        }
      ]
    },
    {
      "cell_type": "code",
      "source": [
        "y_pred_float = model.predict_step(x_test)  \n",
        "y_pred = np.round(y_pred_float)"
      ],
      "metadata": {
        "id": "mVpearpm8xyh"
      },
      "execution_count": null,
      "outputs": []
    },
    {
      "cell_type": "code",
      "source": [
        "target_list=['benign','malignant']\n",
        "sl.metrics.classification_report(y_true=y_test,y_pred=y_pred,output_dict = True,target_names=target_list)"
      ],
      "metadata": {
        "colab": {
          "base_uri": "https://localhost:8080/"
        },
        "id": "01MGC88eASmY",
        "outputId": "0298926a-b866-46ed-fb60-3e602772fcd7"
      },
      "execution_count": null,
      "outputs": [
        {
          "output_type": "execute_result",
          "data": {
            "text/plain": [
              "{'accuracy': 0.9298245614035088,\n",
              " 'benign': {'f1-score': 0.9130434782608695,\n",
              "  'precision': 0.9333333333333333,\n",
              "  'recall': 0.8936170212765957,\n",
              "  'support': 47},\n",
              " 'macro avg': {'f1-score': 0.9271099744245523,\n",
              "  'precision': 0.9304347826086956,\n",
              "  'recall': 0.9244204509368052,\n",
              "  'support': 114},\n",
              " 'malignant': {'f1-score': 0.9411764705882353,\n",
              "  'precision': 0.927536231884058,\n",
              "  'recall': 0.9552238805970149,\n",
              "  'support': 67},\n",
              " 'weighted avg': {'f1-score': 0.9295777807690582,\n",
              "  'precision': 0.9299262649377066,\n",
              "  'recall': 0.9298245614035088,\n",
              "  'support': 114}}"
            ]
          },
          "metadata": {},
          "execution_count": 10
        }
      ]
    },
    {
      "cell_type": "code",
      "source": [
        "plt.figure(figsize=(10,6))\n",
        "plt.plot(history.history['loss'], label = 'train', color='r')\n",
        "plt.plot(history.history['val_loss'], label = 'validation', color='g')\n",
        "plt.xlabel('epoch')\n",
        "plt.ylabel('loss')\n",
        "plt.xticks(np.arange(0, 100, 1))\n",
        "plt.show()"
      ],
      "metadata": {
        "colab": {
          "base_uri": "https://localhost:8080/",
          "height": 388
        },
        "id": "2NzVXsOnPF2g",
        "outputId": "0c8e95fa-b60c-4e6c-c613-0d2b1410b54e"
      },
      "execution_count": null,
      "outputs": [
        {
          "output_type": "display_data",
          "data": {
            "text/plain": [
              "<Figure size 720x432 with 1 Axes>"
            ],
            "image/png": "[encoded data removed]"
          },
          "metadata": {
            "needs_background": "light"
          }
        }
      ]
    },
    {
      "cell_type": "code",
      "source": [
        "plt.figure(figsize=(10,6))\n",
        "plt.plot(history.history['accuracy'], label = 'train', color='r')\n",
        "plt.plot(history.history['val_accuracy'], label = 'validation', color='g')\n",
        "plt.xlabel('epoch')\n",
        "plt.ylabel('accuracy')\n",
        "plt.xticks(np.arange(0, 100, 1))\n",
        "plt.show()"
      ],
      "metadata": {
        "colab": {
          "base_uri": "https://localhost:8080/",
          "height": 388
        },
        "id": "6BnbEk7jS-xX",
        "outputId": "7a9a25c0-b773-4925-e8e5-f6e9271f828b"
      },
      "execution_count": null,
      "outputs": [
        {
          "output_type": "display_data",
          "data": {
            "text/plain": [
              "<Figure size 720x432 with 1 Axes>"
            ],
            "image/png": "[encoded data removed]"
          },
          "metadata": {
            "needs_background": "light"
          }
        }
      ]
    },
    {
      "cell_type": "code",
      "source": [
        "CM = sl.metrics.confusion_matrix(y_true=y_test,y_pred=y_pred)\n",
        "sb.heatmap(CM,annot=True )\n",
        "plt.xlabel('Predicted')\n",
        "plt.ylabel('True')\n",
        "plt.show()"
      ],
      "metadata": {
        "colab": {
          "base_uri": "https://localhost:8080/",
          "height": 279
        },
        "id": "F2ZYgN6p-s1A",
        "outputId": "885c100f-2029-41a1-a0bf-944bd2d598d9"
      },
      "execution_count": null,
      "outputs": [
        {
          "output_type": "display_data",
          "data": {
            "text/plain": [
              "<Figure size 432x288 with 2 Axes>"
            ],
            "image/png": "[encoded data removed]"
          },
          "metadata": {
            "needs_background": "light"
          }
        }
      ]
    },
    {
      "cell_type": "markdown",
      "source": [
        "# problem 3"
      ],
      "metadata": {
        "id": "YlkHyW7kFN0W"
      }
    },
    {
      "cell_type": "code",
      "source": [
        "(X_train,Y_train), (X_test, Y_test) = tf.keras.datasets.imdb.load_data(num_words = 15000)"
      ],
      "metadata": {
        "id": "NEOEubXF4m1E",
        "colab": {
          "base_uri": "https://localhost:8080/"
        },
        "outputId": "f5f4341b-fcee-424d-ee06-06c8b0ffa5aa"
      },
      "execution_count": 2,
      "outputs": [
        {
          "output_type": "stream",
          "name": "stdout",
          "text": [
            "Downloading data from https://storage.googleapis.com/tensorflow/tf-keras-datasets/imdb.npz\n",
            "17465344/17464789 [==============================] - 0s 0us/step\n",
            "17473536/17464789 [==============================] - 0s 0us/step\n"
          ]
        }
      ]
    },
    {
      "cell_type": "code",
      "source": [
        "plt.figure(figsize = (6,6))\n",
        "sb.countplot(Y_train)\n",
        "plt.xlabel(\"Classes\")\n",
        "plt.ylabel(\"Freq\")\n",
        "plt.title(\"Y train\")\n",
        "plt.show()"
      ],
      "metadata": {
        "id": "8UStq1rs8gyH",
        "colab": {
          "base_uri": "https://localhost:8080/",
          "height": 459
        },
        "outputId": "4b7e3ade-c3fc-49a6-be5a-b53d68a62add"
      },
      "execution_count": 3,
      "outputs": [
        {
          "output_type": "stream",
          "name": "stderr",
          "text": [
            "/usr/local/lib/python3.7/dist-packages/seaborn/_decorators.py:43: FutureWarning: Pass the following variable as a keyword arg: x. From version 0.12, the only valid positional argument will be `data`, and passing other arguments without an explicit keyword will result in an error or misinterpretation.\n",
            "  FutureWarning\n"
          ]
        },
        {
          "output_type": "display_data",
          "data": {
            "text/plain": [
              "<Figure size 432x432 with 1 Axes>"
            ],
            "image/png": "[encoded data removed]"
          },
          "metadata": {
            "needs_background": "light"
          }
        }
      ]
    },
    {
      "cell_type": "code",
      "source": [
        "from keras.models import Sequential\n",
        "from keras.layers.embeddings import Embedding\n",
        "from keras.layers import SimpleRNN,Dense, Activation\n",
        "from keras.preprocessing.sequence import pad_sequences"
      ],
      "metadata": {
        "id": "BosOkFQ2Q9X3"
      },
      "execution_count": 5,
      "outputs": []
    },
    {
      "cell_type": "code",
      "source": [
        "X_train = pad_sequences(X_train, maxlen = 130)\n",
        "X_test = pad_sequences(X_test, maxlen = 130)\n",
        "\n",
        "print(X_train[5])\n",
        "\n",
        "for i in X_train[0:10]:\n",
        "    print(len(i))\n",
        "    "
      ],
      "metadata": {
        "colab": {
          "base_uri": "https://localhost:8080/"
        },
        "id": "4lJ-pG6HA1Zh",
        "outputId": "cc53c537-2e13-424e-84d2-98eb68e774f7"
      },
      "execution_count": 6,
      "outputs": [
        {
          "output_type": "stream",
          "name": "stdout",
          "text": [
            "[   0    0    0    0    0    0    0    0    0    0    0    0    0    0\n",
            "    0    0    0    0    0    0    0    0    0    0    0    0    0    0\n",
            "    0    0    0    0    0    0    0    0    0    0    0    0    0    0\n",
            "    0    0    0    0    0    0    0    0    0    0    0    0    0    0\n",
            "    0    0    0    0    0    0    0    0    0    0    0    0    0    0\n",
            "    0    0    0    0    0    0    0    0    0    0    0    0    0    0\n",
            "    0    0    0    1  778  128   74   12  630  163   15    4 1766 7982\n",
            " 1051    2   32   85  156   45   40  148  139  121  664  665   10   10\n",
            " 1361  173    4  749    2   16 3804    8    4  226   65   12   43  127\n",
            "   24    2   10   10]\n",
            "130\n",
            "130\n",
            "130\n",
            "130\n",
            "130\n",
            "130\n",
            "130\n",
            "130\n",
            "130\n",
            "130\n"
          ]
        }
      ]
    },
    {
      "cell_type": "markdown",
      "source": [
        "we wanna define what these numbers mean in terms of words"
      ],
      "metadata": {
        "id": "j93u8ZOSDcDk"
      }
    },
    {
      "cell_type": "code",
      "source": [
        "word_index = tf.keras.datasets.imdb.get_word_index()\n",
        "def whatItSay(index = 24):\n",
        "    \n",
        "    reverse_index = dict([(value,key) for (key, value) in word_index.items()])\n",
        "    decode_review = \" \".join([reverse_index.get(i - 3, \"!\") for i in X_train[index]])\n",
        "    print(decode_review)\n",
        "    print(Y_train[index])\n",
        "    return decode_review"
      ],
      "metadata": {
        "colab": {
          "base_uri": "https://localhost:8080/"
        },
        "id": "fcIJIh7OBpqc",
        "outputId": "834178ec-80f3-4264-bc92-a948e6cfaae3"
      },
      "execution_count": 10,
      "outputs": [
        {
          "output_type": "stream",
          "name": "stdout",
          "text": [
            "Downloading data from https://storage.googleapis.com/tensorflow/tf-keras-datasets/imdb_word_index.json\n",
            "1646592/1641221 [==============================] - 0s 0us/step\n",
            "1654784/1641221 [==============================] - 0s 0us/step\n"
          ]
        }
      ]
    },
    {
      "cell_type": "code",
      "source": [
        "decoded_review = whatItSay(7)"
      ],
      "metadata": {
        "colab": {
          "base_uri": "https://localhost:8080/"
        },
        "id": "p57bgpdGBMXG",
        "outputId": "6a52066f-0258-4cc2-821c-64dde1ed7a0a"
      },
      "execution_count": 13,
      "outputs": [
        {
          "output_type": "stream",
          "name": "stdout",
          "text": [
            "got a very middle class suburban setting there's zero atmosphere or mood there's a lesbian suggest incestuous kiss but the hamiltons is low on the exploitation scale there's not much here for the horror crowd br br filmed in ! in california this has that modern low budget look about it it's not badly made but rather forgettable the acting by an unknown to me cast is nothing to write home about i can't say i ever felt anything for anyone br br the hamiltons commits the cardinal sin of being both dull boring from which it never ! add to that an ultra thin story no gore a rubbish ending character's who you don't give a toss about you have a film that did not impress me at all\n",
            "0\n"
          ]
        }
      ]
    },
    {
      "cell_type": "code",
      "source": [
        "decoded_review = whatItSay(3)"
      ],
      "metadata": {
        "colab": {
          "base_uri": "https://localhost:8080/"
        },
        "id": "CfL4Pbc3CVN_",
        "outputId": "7de14d58-95b9-4f6e-99e0-e9db7c93296f"
      },
      "execution_count": 14,
      "outputs": [
        {
          "output_type": "stream",
          "name": "stdout",
          "text": [
            "! as he lives the story of his own life br br ! the ! pinnacle is probably the most honest unpretentious and genuinely beautiful film of scotland ever made like ! i got slightly annoyed with the pretext of hanging stories on more stories but also like ! i ! this once i saw the ! picture ' forget the box office pastiche of braveheart and its like you might even ! the ! famous ! of the wicker man to see a film that is true to scotland this one is probably unique if you maybe ! on it deeply enough you might even re evaluate the power of storytelling and the age old question of whether there are some truths that cannot be told but only experienced\n",
            "1\n"
          ]
        }
      ]
    },
    {
      "cell_type": "code",
      "source": [
        "rnn = Sequential()\n",
        "rnn.add(Embedding(15000, 32, input_length = len(X_train[0])))\n",
        "rnn.add(SimpleRNN(16, input_shape = (15000, 130), return_sequences = False, activation = \"relu\"))\n",
        "rnn.add(Dense(1))\n",
        "rnn.add(Activation(\"sigmoid\"))\n",
        "\n",
        "print(rnn.summary())\n",
        "rnn.compile(loss = \"binary_crossentropy\", optimizer = \"rmsprop\", metrics = [\"accuracy\"])"
      ],
      "metadata": {
        "colab": {
          "base_uri": "https://localhost:8080/"
        },
        "id": "4lW5AJKDNaPa",
        "outputId": "265b98c8-a04a-48dd-bd47-1da35f659009"
      },
      "execution_count": 15,
      "outputs": [
        {
          "output_type": "stream",
          "name": "stdout",
          "text": [
            "Model: \"sequential\"\n",
            "_________________________________________________________________\n",
            " Layer (type)                Output Shape              Param #   \n",
            "=================================================================\n",
            " embedding (Embedding)       (None, 130, 32)           480000    \n",
            "                                                                 \n",
            " simple_rnn (SimpleRNN)      (None, 16)                784       \n",
            "                                                                 \n",
            " dense (Dense)               (None, 1)                 17        \n",
            "                                                                 \n",
            " activation (Activation)     (None, 1)                 0         \n",
            "                                                                 \n",
            "=================================================================\n",
            "Total params: 480,801\n",
            "Trainable params: 480,801\n",
            "Non-trainable params: 0\n",
            "_________________________________________________________________\n",
            "None\n"
          ]
        }
      ]
    },
    {
      "cell_type": "code",
      "source": [
        "X_train = pad_sequences(X_train, maxlen = 130)\n",
        "X_test = pad_sequences(X_test, maxlen = 130)"
      ],
      "metadata": {
        "id": "kyrQ5OzBRook"
      },
      "execution_count": 16,
      "outputs": []
    },
    {
      "cell_type": "code",
      "source": [
        "history = rnn.fit(X_train, Y_train, validation_split=0.1,epochs = 20, batch_size = 128, verbose = 1)"
      ],
      "metadata": {
        "colab": {
          "base_uri": "https://localhost:8080/"
        },
        "id": "8eX0K5YVRAOH",
        "outputId": "4a1416ee-10f7-46f4-8146-c3f283c14ad1"
      },
      "execution_count": 20,
      "outputs": [
        {
          "output_type": "stream",
          "name": "stdout",
          "text": [
            "Epoch 1/20\n",
            "176/176 [==============================] - 7s 40ms/step - loss: 0.0425 - accuracy: 0.9852 - val_loss: 0.0349 - val_accuracy: 0.9888\n",
            "Epoch 2/20\n",
            "176/176 [==============================] - 7s 40ms/step - loss: 0.0382 - accuracy: 0.9878 - val_loss: 0.1978 - val_accuracy: 0.9384\n",
            "Epoch 3/20\n",
            "176/176 [==============================] - 7s 39ms/step - loss: 0.0316 - accuracy: 0.9908 - val_loss: 0.0986 - val_accuracy: 0.9676\n",
            "Epoch 4/20\n",
            "176/176 [==============================] - 7s 39ms/step - loss: 0.0269 - accuracy: 0.9910 - val_loss: 0.0955 - val_accuracy: 0.9668\n",
            "Epoch 5/20\n",
            "176/176 [==============================] - 7s 38ms/step - loss: 0.0279 - accuracy: 0.9906 - val_loss: 0.1219 - val_accuracy: 0.9628\n",
            "Epoch 6/20\n",
            "176/176 [==============================] - 7s 41ms/step - loss: 0.0274 - accuracy: 0.9909 - val_loss: 0.1410 - val_accuracy: 0.9576\n",
            "Epoch 7/20\n",
            "176/176 [==============================] - 7s 39ms/step - loss: 0.0251 - accuracy: 0.9930 - val_loss: 0.1566 - val_accuracy: 0.9540\n",
            "Epoch 8/20\n",
            "176/176 [==============================] - 7s 39ms/step - loss: 0.0240 - accuracy: 0.9937 - val_loss: 0.1727 - val_accuracy: 0.9400\n",
            "Epoch 9/20\n",
            "176/176 [==============================] - 7s 39ms/step - loss: 0.0244 - accuracy: 0.9930 - val_loss: 0.1604 - val_accuracy: 0.9460\n",
            "Epoch 10/20\n",
            "176/176 [==============================] - 8s 43ms/step - loss: 0.0192 - accuracy: 0.9942 - val_loss: 0.1944 - val_accuracy: 0.9404\n",
            "Epoch 11/20\n",
            "176/176 [==============================] - 7s 39ms/step - loss: 0.0188 - accuracy: 0.9945 - val_loss: 0.2287 - val_accuracy: 0.9368\n",
            "Epoch 12/20\n",
            "176/176 [==============================] - 7s 39ms/step - loss: 0.0252 - accuracy: 0.9948 - val_loss: 0.2485 - val_accuracy: 0.9328\n",
            "Epoch 13/20\n",
            "176/176 [==============================] - 7s 39ms/step - loss: 0.0179 - accuracy: 0.9949 - val_loss: 0.2581 - val_accuracy: 0.9364\n",
            "Epoch 14/20\n",
            "176/176 [==============================] - 8s 47ms/step - loss: 0.0214 - accuracy: 0.9952 - val_loss: 0.2533 - val_accuracy: 0.9316\n",
            "Epoch 15/20\n",
            "176/176 [==============================] - 7s 39ms/step - loss: 0.0222 - accuracy: 0.9952 - val_loss: 0.2705 - val_accuracy: 0.9228\n",
            "Epoch 16/20\n",
            "176/176 [==============================] - 8s 43ms/step - loss: 0.0167 - accuracy: 0.9950 - val_loss: 0.3572 - val_accuracy: 0.9292\n",
            "Epoch 17/20\n",
            "176/176 [==============================] - 7s 39ms/step - loss: 0.0177 - accuracy: 0.9953 - val_loss: 0.3123 - val_accuracy: 0.9032\n",
            "Epoch 18/20\n",
            "176/176 [==============================] - 7s 39ms/step - loss: 0.0161 - accuracy: 0.9960 - val_loss: 0.3752 - val_accuracy: 0.9268\n",
            "Epoch 19/20\n",
            "176/176 [==============================] - 7s 39ms/step - loss: 0.0135 - accuracy: 0.9963 - val_loss: 0.3940 - val_accuracy: 0.9260\n",
            "Epoch 20/20\n",
            "176/176 [==============================] - 7s 39ms/step - loss: 0.0175 - accuracy: 0.9963 - val_loss: 0.3929 - val_accuracy: 0.9248\n"
          ]
        }
      ]
    },
    {
      "cell_type": "code",
      "source": [
        "score = rnn.evaluate(X_test, Y_test)\n",
        "print(\"Accuracy: %\",score[1]*100)"
      ],
      "metadata": {
        "id": "1ME98bHgRWpG",
        "colab": {
          "base_uri": "https://localhost:8080/"
        },
        "outputId": "fcf083fb-7769-478d-e2a2-ae1f0f1c971b"
      },
      "execution_count": 21,
      "outputs": [
        {
          "output_type": "stream",
          "name": "stdout",
          "text": [
            "782/782 [==============================] - 6s 8ms/step - loss: 1.1571 - accuracy: 0.8264\n",
            "Accuracy: % 82.63599872589111\n"
          ]
        }
      ]
    },
    {
      "cell_type": "code",
      "source": [
        "plt.figure(figsize=(10,6))\n",
        "plt.plot(history.history[\"accuracy\"], label = \"Train\", color = 'r')\n",
        "plt.plot(history.history[\"val_accuracy\"], label = \"Test\", color = 'g')\n",
        "plt.title(\"Accuracy\")\n",
        "plt.ylabel(\"Accuracy\")\n",
        "plt.xlabel(\"Epochs\")\n",
        "plt.legend()\n",
        "plt.show()"
      ],
      "metadata": {
        "colab": {
          "base_uri": "https://localhost:8080/",
          "height": 404
        },
        "id": "WVDIR4raDuk-",
        "outputId": "2df6ecac-f39e-4060-ff1f-742b2ad47e71"
      },
      "execution_count": 22,
      "outputs": [
        {
          "output_type": "display_data",
          "data": {
            "text/plain": [
              "<Figure size 720x432 with 1 Axes>"
            ],
            "image/png": "[encoded data removed]"
          },
          "metadata": {
            "needs_background": "light"
          }
        }
      ]
    },
    {
      "cell_type": "code",
      "source": [
        "plt.figure(figsize=(10,6))\n",
        "plt.plot(history.history[\"loss\"], label = \"Train\", color = 'r')\n",
        "plt.plot(history.history[\"val_loss\"], label = \"Test\", color = 'g')\n",
        "plt.title(\"Loss\")\n",
        "plt.ylabel(\"Loss\")\n",
        "plt.xlabel(\"Epochs\")\n",
        "plt.legend()\n",
        "plt.show()"
      ],
      "metadata": {
        "colab": {
          "base_uri": "https://localhost:8080/",
          "height": 404
        },
        "id": "GhWJeFnwEKn9",
        "outputId": "8d83f202-3389-439d-fb06-7f8c207678d5"
      },
      "execution_count": 24,
      "outputs": [
        {
          "output_type": "display_data",
          "data": {
            "text/plain": [
              "<Figure size 720x432 with 1 Axes>"
            ],
            "image/png": "[encoded data removed]"
          },
          "metadata": {
            "needs_background": "light"
          }
        }
      ]
    },
    {
      "cell_type": "code",
      "source": [
        "y_pred_float = rnn.predict(X_test)\n",
        "y_pred = np.round(y_pred_float)"
      ],
      "metadata": {
        "id": "E33x-FzMGB7h"
      },
      "execution_count": 28,
      "outputs": []
    },
    {
      "cell_type": "code",
      "source": [
        "y_pred.shape"
      ],
      "metadata": {
        "colab": {
          "base_uri": "https://localhost:8080/"
        },
        "id": "jffhZI5sGHMB",
        "outputId": "95ff85e5-584d-4614-8d99-91c504ee9175"
      },
      "execution_count": 29,
      "outputs": [
        {
          "output_type": "execute_result",
          "data": {
            "text/plain": [
              "(25000, 1)"
            ]
          },
          "metadata": {},
          "execution_count": 29
        }
      ]
    },
    {
      "cell_type": "code",
      "source": [
        "CM = sl.metrics.confusion_matrix(y_true=Y_test,y_pred=y_pred)\n",
        "sb.heatmap(CM,annot=True )\n",
        "plt.xlabel('Predicted')\n",
        "plt.ylabel('True')\n",
        "plt.show()"
      ],
      "metadata": {
        "colab": {
          "base_uri": "https://localhost:8080/",
          "height": 279
        },
        "id": "cJ2nrG2QFlf-",
        "outputId": "f588f82a-8cbd-437d-e33b-1e62267e40d3"
      },
      "execution_count": 31,
      "outputs": [
        {
          "output_type": "display_data",
          "data": {
            "text/plain": [
              "<Figure size 432x288 with 2 Axes>"
            ],
            "image/png": "[encoded data removed]"
          },
          "metadata": {
            "needs_background": "light"
          }
        }
      ]
    },
    {
      "cell_type": "code",
      "source": [
        ""
      ],
      "metadata": {
        "id": "vbNOTg4KGee2"
      },
      "execution_count": null,
      "outputs": []
    }
  ],
  "metadata": {
    "colab": {
      "collapsed_sections": [],
      "name": "RNN.ipynb",
      "provenance": [],
      "authorship_tag": "ABX9TyM5G/GwVY/OnQl7DqwWkW8m",
      "include_colab_link": true
    },
    "kernelspec": {
      "display_name": "Python 3",
      "name": "python3"
    },
    "language_info": {
      "name": "python"
    }
  },
  "nbformat": 4,
  "nbformat_minor": 0
}