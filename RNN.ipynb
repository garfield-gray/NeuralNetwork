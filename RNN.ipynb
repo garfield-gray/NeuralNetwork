{
  "cells": [
    {
      "cell_type": "markdown",
      "metadata": {
        "id": "view-in-github",
        "colab_type": "text"
      },
      "source": [
        "<a href=\"https://colab.research.google.com/github/garfield-gray/NeuralNetwork/blob/main/RNN.ipynb\" target=\"_parent\"><img src=\"https://colab.research.google.com/assets/colab-badge.svg\" alt=\"Open In Colab\"/></a>"
      ]
    },
    {
      "cell_type": "markdown",
      "source": [
        "$$\n",
        "In\\;the\\;name\\;of\\;God \n",
        "$$\n",
        "$$\n",
        "Project\\;of\\;ML\\;RNN \n",
        "$$"
      ],
      "metadata": {
        "id": "v6G0ZY1RImur"
      }
    },
    {
      "cell_type": "markdown",
      "source": [
        "note: cells must be excecuted in order cause they've been written so"
      ],
      "metadata": {
        "id": "LlNtIq6JJDo-"
      }
    },
    {
      "cell_type": "code",
      "execution_count": 1,
      "metadata": {
        "id": "HY54IdU3UqZc"
      },
      "outputs": [],
      "source": [
        "import numpy as np\n",
        "import tensorflow as tf\n",
        "\n",
        "import sklearn as sl\n",
        "from sklearn import datasets\n",
        "from sklearn.model_selection import train_test_split\n",
        "import pandas as pd \n",
        "import matplotlib.pyplot as plt\n",
        "import seaborn as sb\n"
      ]
    },
    {
      "cell_type": "markdown",
      "source": [
        "# problem 2"
      ],
      "metadata": {
        "id": "Zfrk460k4V4f"
      }
    },
    {
      "cell_type": "code",
      "execution_count": 2,
      "metadata": {
        "id": "Rf3sAKGSUxI7"
      },
      "outputs": [],
      "source": [
        "d = datasets.load_breast_cancer()\n",
        "x = d.data\n",
        "y = d.target"
      ]
    },
    {
      "cell_type": "code",
      "source": [
        "x_train,x_test,y_train,y_test = train_test_split(x,y,test_size=0.2,random_state=0)\n",
        "\n",
        "print('Shape of the training set:'+\" \"+str(x_train.shape))\n",
        "print('Size of the training set:'+\" \"+str(x_train.shape[0]))\n",
        "\n",
        "print('Shape of the testing set:'+\" \"+str(x_test.shape))\n",
        "print('Size of the testing set:'+\" \"+str(x_test.shape[0]))"
      ],
      "metadata": {
        "colab": {
          "base_uri": "https://localhost:8080/"
        },
        "id": "AbxXkpo54XgC",
        "outputId": "22008c3d-c3a3-4322-de7e-9ecdb4906c50"
      },
      "execution_count": 3,
      "outputs": [
        {
          "output_type": "stream",
          "name": "stdout",
          "text": [
            "Shape of the training set: (455, 30)\n",
            "Size of the training set: 455\n",
            "Shape of the testing set: (114, 30)\n",
            "Size of the testing set: 114\n"
          ]
        }
      ]
    },
    {
      "cell_type": "code",
      "source": [
        "plt.figure(figsize = (6,6))\n",
        "sb.countplot(y_train)\n",
        "plt.xlabel(\"Classes\")\n",
        "plt.ylabel(\"Freq\")\n",
        "plt.title(\"Y train\")\n",
        "plt.show()"
      ],
      "metadata": {
        "colab": {
          "base_uri": "https://localhost:8080/",
          "height": 459
        },
        "id": "HuVVOcTiNJKT",
        "outputId": "40cb8ec0-64da-442a-acae-3e1c6a7899c5"
      },
      "execution_count": 4,
      "outputs": [
        {
          "output_type": "stream",
          "name": "stderr",
          "text": [
            "/usr/local/lib/python3.7/dist-packages/seaborn/_decorators.py:43: FutureWarning: Pass the following variable as a keyword arg: x. From version 0.12, the only valid positional argument will be `data`, and passing other arguments without an explicit keyword will result in an error or misinterpretation.\n",
            "  FutureWarning\n"
          ]
        },
        {
          "output_type": "display_data",
          "data": {
            "text/plain": [
              "<Figure size 432x432 with 1 Axes>"
            ],
            "image/png": "[encoded data removed]"
          },
          "metadata": {
            "needs_background": "light"
          }
        }
      ]
    },
    {
      "cell_type": "code",
      "source": [
        "model = tf.keras.Sequential([\n",
        "    tf.keras.layers.Dense(32 ,activation='relu',input_shape=(30,)),\n",
        "    tf.keras.layers.Dense(32 ,activation='relu'),\n",
        "    tf.keras.layers.Dense(1,activation='sigmoid')\n",
        "])\n",
        "model.summary()"
      ],
      "metadata": {
        "colab": {
          "base_uri": "https://localhost:8080/"
        },
        "id": "c0nJKOMh5AMq",
        "outputId": "fc1cb3b7-5ea9-4faf-9b88-ca1c708b46e8"
      },
      "execution_count": 5,
      "outputs": [
        {
          "output_type": "stream",
          "name": "stdout",
          "text": [
            "Model: \"sequential\"\n",
            "_________________________________________________________________\n",
            " Layer (type)                Output Shape              Param #   \n",
            "=================================================================\n",
            " dense (Dense)               (None, 32)                992       \n",
            "                                                                 \n",
            " dense_1 (Dense)             (None, 32)                1056      \n",
            "                                                                 \n",
            " dense_2 (Dense)             (None, 1)                 33        \n",
            "                                                                 \n",
            "=================================================================\n",
            "Total params: 2,081\n",
            "Trainable params: 2,081\n",
            "Non-trainable params: 0\n",
            "_________________________________________________________________\n"
          ]
        }
      ]
    },
    {
      "cell_type": "code",
      "source": [
        "def L(epoch , Ir):\n",
        "  if epoch < 2:\n",
        "    return Ir\n",
        "  else:\n",
        "    return Ir*np.exp(-0.2)\n",
        "  \n",
        "E = tf.keras.callbacks.EarlyStopping(patience=3 , monitor = 'val_acc')\n",
        "L = tf.keras.callbacks.LearningRateScheduler(L)"
      ],
      "metadata": {
        "id": "S1uUK2_NTZOg"
      },
      "execution_count": 6,
      "outputs": []
    },
    {
      "cell_type": "code",
      "source": [
        "model.compile(optimizer='Adam',loss='binary_crossentropy',metrics=['accuracy'])\n",
        "history = model.fit(x_train, y_train , validation_split=0.1,epochs=100,batch_size=32, callbacks=[E, L])"
      ],
      "metadata": {
        "colab": {
          "base_uri": "https://localhost:8080/"
        },
        "id": "O4k3IzWc60BP",
        "outputId": "22f503ea-e084-4846-af39-6ba43a366c4f"
      },
      "execution_count": 7,
      "outputs": [
        {
          "output_type": "stream",
          "name": "stdout",
          "text": [
            "Epoch 1/100\n",
            " 1/13 [=>............................] - ETA: 7s - loss: 25.1485 - accuracy: 0.7188WARNING:tensorflow:Early stopping conditioned on metric `val_acc` which is not available. Available metrics are: loss,accuracy,val_loss,val_accuracy\n",
            "13/13 [==============================] - 1s 14ms/step - loss: 13.3218 - accuracy: 0.4988 - val_loss: 6.4057 - val_accuracy: 0.3913 - lr: 0.0010\n",
            "Epoch 2/100\n",
            " 1/13 [=>............................] - ETA: 0s - loss: 6.8982 - accuracy: 0.3438WARNING:tensorflow:Early stopping conditioned on metric `val_acc` which is not available. Available metrics are: loss,accuracy,val_loss,val_accuracy\n",
            "13/13 [==============================] - 0s 3ms/step - loss: 3.4143 - accuracy: 0.5501 - val_loss: 2.4867 - val_accuracy: 0.7174 - lr: 0.0010\n",
            "Epoch 3/100\n",
            " 1/13 [=>............................] - ETA: 0s - loss: 0.6368 - accuracy: 0.8125WARNING:tensorflow:Early stopping conditioned on metric `val_acc` which is not available. Available metrics are: loss,accuracy,val_loss,val_accuracy\n",
            "13/13 [==============================] - 0s 4ms/step - loss: 1.5604 - accuracy: 0.6870 - val_loss: 1.6296 - val_accuracy: 0.7174 - lr: 8.1873e-04\n",
            "Epoch 4/100\n",
            " 1/13 [=>............................] - ETA: 0s - loss: 1.8045 - accuracy: 0.6562WARNING:tensorflow:Early stopping conditioned on metric `val_acc` which is not available. Available metrics are: loss,accuracy,val_loss,val_accuracy\n",
            "13/13 [==============================] - 0s 3ms/step - loss: 1.2600 - accuracy: 0.7824 - val_loss: 2.0468 - val_accuracy: 0.7174 - lr: 6.7032e-04\n",
            "Epoch 5/100\n",
            " 1/13 [=>............................] - ETA: 0s - loss: 4.8139 - accuracy: 0.7812WARNING:tensorflow:Early stopping conditioned on metric `val_acc` which is not available. Available metrics are: loss,accuracy,val_loss,val_accuracy\n",
            "13/13 [==============================] - 0s 3ms/step - loss: 1.2282 - accuracy: 0.7971 - val_loss: 1.5787 - val_accuracy: 0.6957 - lr: 5.4881e-04\n",
            "Epoch 6/100\n",
            " 1/13 [=>............................] - ETA: 0s - loss: 1.9043 - accuracy: 0.6875WARNING:tensorflow:Early stopping conditioned on metric `val_acc` which is not available. Available metrics are: loss,accuracy,val_loss,val_accuracy\n",
            "13/13 [==============================] - 0s 3ms/step - loss: 1.1826 - accuracy: 0.7751 - val_loss: 1.6016 - val_accuracy: 0.6957 - lr: 4.4933e-04\n",
            "Epoch 7/100\n",
            " 1/13 [=>............................] - ETA: 0s - loss: 3.4804 - accuracy: 0.7812WARNING:tensorflow:Early stopping conditioned on metric `val_acc` which is not available. Available metrics are: loss,accuracy,val_loss,val_accuracy\n",
            "13/13 [==============================] - 0s 3ms/step - loss: 1.1436 - accuracy: 0.7995 - val_loss: 1.6809 - val_accuracy: 0.6739 - lr: 3.6788e-04\n",
            "Epoch 8/100\n",
            " 1/13 [=>............................] - ETA: 0s - loss: 0.1264 - accuracy: 0.9375WARNING:tensorflow:Early stopping conditioned on metric `val_acc` which is not available. Available metrics are: loss,accuracy,val_loss,val_accuracy\n",
            "13/13 [==============================] - 0s 4ms/step - loss: 1.1095 - accuracy: 0.8240 - val_loss: 1.5054 - val_accuracy: 0.6957 - lr: 3.0119e-04\n",
            "Epoch 9/100\n",
            " 1/13 [=>............................] - ETA: 0s - loss: 3.2814 - accuracy: 0.7500WARNING:tensorflow:Early stopping conditioned on metric `val_acc` which is not available. Available metrics are: loss,accuracy,val_loss,val_accuracy\n",
            "13/13 [==============================] - 0s 3ms/step - loss: 1.0845 - accuracy: 0.7873 - val_loss: 1.3749 - val_accuracy: 0.7609 - lr: 2.4660e-04\n",
            "Epoch 10/100\n",
            " 1/13 [=>............................] - ETA: 0s - loss: 0.6361 - accuracy: 0.8125WARNING:tensorflow:Early stopping conditioned on metric `val_acc` which is not available. Available metrics are: loss,accuracy,val_loss,val_accuracy\n",
            "13/13 [==============================] - 0s 3ms/step - loss: 1.0450 - accuracy: 0.7995 - val_loss: 1.4399 - val_accuracy: 0.7174 - lr: 2.0190e-04\n",
            "Epoch 11/100\n",
            " 1/13 [=>............................] - ETA: 0s - loss: 1.0134 - accuracy: 0.7500WARNING:tensorflow:Early stopping conditioned on metric `val_acc` which is not available. Available metrics are: loss,accuracy,val_loss,val_accuracy\n",
            "13/13 [==============================] - 0s 3ms/step - loss: 1.0278 - accuracy: 0.8240 - val_loss: 1.4766 - val_accuracy: 0.6957 - lr: 1.6530e-04\n",
            "Epoch 12/100\n",
            " 1/13 [=>............................] - ETA: 0s - loss: 1.1077 - accuracy: 0.7500WARNING:tensorflow:Early stopping conditioned on metric `val_acc` which is not available. Available metrics are: loss,accuracy,val_loss,val_accuracy\n",
            "13/13 [==============================] - 0s 3ms/step - loss: 1.0054 - accuracy: 0.8142 - val_loss: 1.3672 - val_accuracy: 0.7174 - lr: 1.3534e-04\n",
            "Epoch 13/100\n",
            " 1/13 [=>............................] - ETA: 0s - loss: 0.9830 - accuracy: 0.7812WARNING:tensorflow:Early stopping conditioned on metric `val_acc` which is not available. Available metrics are: loss,accuracy,val_loss,val_accuracy\n",
            "13/13 [==============================] - 0s 3ms/step - loss: 0.9928 - accuracy: 0.8068 - val_loss: 1.3174 - val_accuracy: 0.7174 - lr: 1.1080e-04\n",
            "Epoch 14/100\n",
            " 1/13 [=>............................] - ETA: 0s - loss: 0.6606 - accuracy: 0.8438WARNING:tensorflow:Early stopping conditioned on metric `val_acc` which is not available. Available metrics are: loss,accuracy,val_loss,val_accuracy\n",
            "13/13 [==============================] - 0s 3ms/step - loss: 0.9738 - accuracy: 0.8117 - val_loss: 1.3308 - val_accuracy: 0.7174 - lr: 9.0718e-05\n",
            "Epoch 15/100\n",
            " 1/13 [=>............................] - ETA: 0s - loss: 0.8311 - accuracy: 0.7812WARNING:tensorflow:Early stopping conditioned on metric `val_acc` which is not available. Available metrics are: loss,accuracy,val_loss,val_accuracy\n",
            "13/13 [==============================] - 0s 3ms/step - loss: 0.9646 - accuracy: 0.8166 - val_loss: 1.3328 - val_accuracy: 0.7174 - lr: 7.4274e-05\n",
            "Epoch 16/100\n",
            " 1/13 [=>............................] - ETA: 0s - loss: 0.8142 - accuracy: 0.7188WARNING:tensorflow:Early stopping conditioned on metric `val_acc` which is not available. Available metrics are: loss,accuracy,val_loss,val_accuracy\n",
            "13/13 [==============================] - 0s 3ms/step - loss: 0.9551 - accuracy: 0.8166 - val_loss: 1.3101 - val_accuracy: 0.7174 - lr: 6.0810e-05\n",
            "Epoch 17/100\n",
            " 1/13 [=>............................] - ETA: 0s - loss: 0.5430 - accuracy: 0.9688WARNING:tensorflow:Early stopping conditioned on metric `val_acc` which is not available. Available metrics are: loss,accuracy,val_loss,val_accuracy\n",
            "13/13 [==============================] - 0s 3ms/step - loss: 0.9485 - accuracy: 0.8166 - val_loss: 1.2823 - val_accuracy: 0.7391 - lr: 4.9787e-05\n",
            "Epoch 18/100\n",
            " 1/13 [=>............................] - ETA: 0s - loss: 1.3598 - accuracy: 0.6562WARNING:tensorflow:Early stopping conditioned on metric `val_acc` which is not available. Available metrics are: loss,accuracy,val_loss,val_accuracy\n",
            "13/13 [==============================] - 0s 3ms/step - loss: 0.9419 - accuracy: 0.8117 - val_loss: 1.2716 - val_accuracy: 0.7391 - lr: 4.0762e-05\n",
            "Epoch 19/100\n",
            " 1/13 [=>............................] - ETA: 0s - loss: 0.3982 - accuracy: 0.8750WARNING:tensorflow:Early stopping conditioned on metric `val_acc` which is not available. Available metrics are: loss,accuracy,val_loss,val_accuracy\n",
            "13/13 [==============================] - 0s 3ms/step - loss: 0.9359 - accuracy: 0.8142 - val_loss: 1.2696 - val_accuracy: 0.7391 - lr: 3.3373e-05\n",
            "Epoch 20/100\n",
            " 1/13 [=>............................] - ETA: 0s - loss: 1.1545 - accuracy: 0.7812WARNING:tensorflow:Early stopping conditioned on metric `val_acc` which is not available. Available metrics are: loss,accuracy,val_loss,val_accuracy\n",
            "13/13 [==============================] - 0s 3ms/step - loss: 0.9311 - accuracy: 0.8166 - val_loss: 1.2723 - val_accuracy: 0.7174 - lr: 2.7324e-05\n",
            "Epoch 21/100\n",
            " 1/13 [=>............................] - ETA: 0s - loss: 0.4111 - accuracy: 0.8750WARNING:tensorflow:Early stopping conditioned on metric `val_acc` which is not available. Available metrics are: loss,accuracy,val_loss,val_accuracy\n",
            "13/13 [==============================] - 0s 3ms/step - loss: 0.9310 - accuracy: 0.8289 - val_loss: 1.2815 - val_accuracy: 0.7391 - lr: 2.2371e-05\n",
            "Epoch 22/100\n",
            " 1/13 [=>............................] - ETA: 0s - loss: 0.6977 - accuracy: 0.7812WARNING:tensorflow:Early stopping conditioned on metric `val_acc` which is not available. Available metrics are: loss,accuracy,val_loss,val_accuracy\n",
            "13/13 [==============================] - 0s 3ms/step - loss: 0.9256 - accuracy: 0.8289 - val_loss: 1.2744 - val_accuracy: 0.7391 - lr: 1.8316e-05\n",
            "Epoch 23/100\n",
            " 1/13 [=>............................] - ETA: 0s - loss: 0.1585 - accuracy: 0.9375WARNING:tensorflow:Early stopping conditioned on metric `val_acc` which is not available. Available metrics are: loss,accuracy,val_loss,val_accuracy\n",
            "13/13 [==============================] - 0s 3ms/step - loss: 0.9232 - accuracy: 0.8289 - val_loss: 1.2717 - val_accuracy: 0.7391 - lr: 1.4996e-05\n",
            "Epoch 24/100\n",
            " 1/13 [=>............................] - ETA: 0s - loss: 0.3853 - accuracy: 0.8438WARNING:tensorflow:Early stopping conditioned on metric `val_acc` which is not available. Available metrics are: loss,accuracy,val_loss,val_accuracy\n",
            "13/13 [==============================] - 0s 4ms/step - loss: 0.9212 - accuracy: 0.8289 - val_loss: 1.2662 - val_accuracy: 0.7391 - lr: 1.2277e-05\n",
            "Epoch 25/100\n",
            " 1/13 [=>............................] - ETA: 0s - loss: 1.1517 - accuracy: 0.8125WARNING:tensorflow:Early stopping conditioned on metric `val_acc` which is not available. Available metrics are: loss,accuracy,val_loss,val_accuracy\n",
            "13/13 [==============================] - 0s 3ms/step - loss: 0.9195 - accuracy: 0.8289 - val_loss: 1.2620 - val_accuracy: 0.7391 - lr: 1.0052e-05\n",
            "Epoch 26/100\n",
            " 1/13 [=>............................] - ETA: 0s - loss: 0.7409 - accuracy: 0.7812WARNING:tensorflow:Early stopping conditioned on metric `val_acc` which is not available. Available metrics are: loss,accuracy,val_loss,val_accuracy\n",
            "13/13 [==============================] - 0s 3ms/step - loss: 0.9181 - accuracy: 0.8289 - val_loss: 1.2604 - val_accuracy: 0.7609 - lr: 8.2297e-06\n",
            "Epoch 27/100\n",
            " 1/13 [=>............................] - ETA: 0s - loss: 2.7910 - accuracy: 0.8125WARNING:tensorflow:Early stopping conditioned on metric `val_acc` which is not available. Available metrics are: loss,accuracy,val_loss,val_accuracy\n",
            "13/13 [==============================] - 0s 3ms/step - loss: 0.9171 - accuracy: 0.8289 - val_loss: 1.2584 - val_accuracy: 0.7609 - lr: 6.7379e-06\n",
            "Epoch 28/100\n",
            " 1/13 [=>............................] - ETA: 0s - loss: 0.7580 - accuracy: 0.8750WARNING:tensorflow:Early stopping conditioned on metric `val_acc` which is not available. Available metrics are: loss,accuracy,val_loss,val_accuracy\n",
            "13/13 [==============================] - 0s 3ms/step - loss: 0.9164 - accuracy: 0.8264 - val_loss: 1.2550 - val_accuracy: 0.7609 - lr: 5.5166e-06\n",
            "Epoch 29/100\n",
            " 1/13 [=>............................] - ETA: 0s - loss: 0.2828 - accuracy: 0.8750WARNING:tensorflow:Early stopping conditioned on metric `val_acc` which is not available. Available metrics are: loss,accuracy,val_loss,val_accuracy\n",
            "13/13 [==============================] - 0s 4ms/step - loss: 0.9154 - accuracy: 0.8289 - val_loss: 1.2531 - val_accuracy: 0.7609 - lr: 4.5166e-06\n",
            "Epoch 30/100\n",
            " 1/13 [=>............................] - ETA: 0s - loss: 0.2386 - accuracy: 0.8438WARNING:tensorflow:Early stopping conditioned on metric `val_acc` which is not available. Available metrics are: loss,accuracy,val_loss,val_accuracy\n",
            "13/13 [==============================] - 0s 3ms/step - loss: 0.9147 - accuracy: 0.8264 - val_loss: 1.2537 - val_accuracy: 0.7609 - lr: 3.6979e-06\n",
            "Epoch 31/100\n",
            " 1/13 [=>............................] - ETA: 0s - loss: 0.7143 - accuracy: 0.7812WARNING:tensorflow:Early stopping conditioned on metric `val_acc` which is not available. Available metrics are: loss,accuracy,val_loss,val_accuracy\n",
            "13/13 [==============================] - 0s 3ms/step - loss: 0.9143 - accuracy: 0.8289 - val_loss: 1.2524 - val_accuracy: 0.7609 - lr: 3.0276e-06\n",
            "Epoch 32/100\n",
            " 1/13 [=>............................] - ETA: 0s - loss: 1.4861 - accuracy: 0.7188WARNING:tensorflow:Early stopping conditioned on metric `val_acc` which is not available. Available metrics are: loss,accuracy,val_loss,val_accuracy\n",
            "13/13 [==============================] - 0s 3ms/step - loss: 0.9137 - accuracy: 0.8289 - val_loss: 1.2518 - val_accuracy: 0.7609 - lr: 2.4788e-06\n",
            "Epoch 33/100\n",
            " 1/13 [=>............................] - ETA: 0s - loss: 0.5927 - accuracy: 0.8438WARNING:tensorflow:Early stopping conditioned on metric `val_acc` which is not available. Available metrics are: loss,accuracy,val_loss,val_accuracy\n",
            "13/13 [==============================] - 0s 3ms/step - loss: 0.9134 - accuracy: 0.8289 - val_loss: 1.2512 - val_accuracy: 0.7609 - lr: 2.0294e-06\n",
            "Epoch 34/100\n",
            " 1/13 [=>............................] - ETA: 0s - loss: 1.0214 - accuracy: 0.8125WARNING:tensorflow:Early stopping conditioned on metric `val_acc` which is not available. Available metrics are: loss,accuracy,val_loss,val_accuracy\n",
            "13/13 [==============================] - 0s 3ms/step - loss: 0.9131 - accuracy: 0.8289 - val_loss: 1.2507 - val_accuracy: 0.7609 - lr: 1.6616e-06\n",
            "Epoch 35/100\n",
            " 1/13 [=>............................] - ETA: 0s - loss: 0.8704 - accuracy: 0.7812WARNING:tensorflow:Early stopping conditioned on metric `val_acc` which is not available. Available metrics are: loss,accuracy,val_loss,val_accuracy\n",
            "13/13 [==============================] - 0s 3ms/step - loss: 0.9129 - accuracy: 0.8289 - val_loss: 1.2513 - val_accuracy: 0.7609 - lr: 1.3604e-06\n",
            "Epoch 36/100\n",
            " 1/13 [=>............................] - ETA: 0s - loss: 0.5302 - accuracy: 0.8750WARNING:tensorflow:Early stopping conditioned on metric `val_acc` which is not available. Available metrics are: loss,accuracy,val_loss,val_accuracy\n",
            "13/13 [==============================] - 0s 4ms/step - loss: 0.9127 - accuracy: 0.8289 - val_loss: 1.2510 - val_accuracy: 0.7609 - lr: 1.1138e-06\n",
            "Epoch 37/100\n",
            " 1/13 [=>............................] - ETA: 0s - loss: 0.4853 - accuracy: 0.8438WARNING:tensorflow:Early stopping conditioned on metric `val_acc` which is not available. Available metrics are: loss,accuracy,val_loss,val_accuracy\n",
            "13/13 [==============================] - 0s 4ms/step - loss: 0.9125 - accuracy: 0.8289 - val_loss: 1.2507 - val_accuracy: 0.7609 - lr: 9.1188e-07\n",
            "Epoch 38/100\n",
            " 1/13 [=>............................] - ETA: 0s - loss: 0.5629 - accuracy: 0.8438WARNING:tensorflow:Early stopping conditioned on metric `val_acc` which is not available. Available metrics are: loss,accuracy,val_loss,val_accuracy\n",
            "13/13 [==============================] - 0s 3ms/step - loss: 0.9124 - accuracy: 0.8289 - val_loss: 1.2501 - val_accuracy: 0.7609 - lr: 7.4659e-07\n",
            "Epoch 39/100\n",
            " 1/13 [=>............................] - ETA: 0s - loss: 0.9812 - accuracy: 0.8125WARNING:tensorflow:Early stopping conditioned on metric `val_acc` which is not available. Available metrics are: loss,accuracy,val_loss,val_accuracy\n",
            "13/13 [==============================] - 0s 4ms/step - loss: 0.9123 - accuracy: 0.8289 - val_loss: 1.2500 - val_accuracy: 0.7609 - lr: 6.1125e-07\n",
            "Epoch 40/100\n",
            " 1/13 [=>............................] - ETA: 0s - loss: 0.8139 - accuracy: 0.7500WARNING:tensorflow:Early stopping conditioned on metric `val_acc` which is not available. Available metrics are: loss,accuracy,val_loss,val_accuracy\n",
            "13/13 [==============================] - 0s 3ms/step - loss: 0.9122 - accuracy: 0.8289 - val_loss: 1.2499 - val_accuracy: 0.7609 - lr: 5.0045e-07\n",
            "Epoch 41/100\n",
            " 1/13 [=>............................] - ETA: 0s - loss: 2.9525 - accuracy: 0.7188WARNING:tensorflow:Early stopping conditioned on metric `val_acc` which is not available. Available metrics are: loss,accuracy,val_loss,val_accuracy\n",
            "13/13 [==============================] - 0s 4ms/step - loss: 0.9121 - accuracy: 0.8289 - val_loss: 1.2497 - val_accuracy: 0.7609 - lr: 4.0973e-07\n",
            "Epoch 42/100\n",
            " 1/13 [=>............................] - ETA: 0s - loss: 0.2325 - accuracy: 0.9375WARNING:tensorflow:Early stopping conditioned on metric `val_acc` which is not available. Available metrics are: loss,accuracy,val_loss,val_accuracy\n",
            "13/13 [==============================] - 0s 3ms/step - loss: 0.9121 - accuracy: 0.8289 - val_loss: 1.2495 - val_accuracy: 0.7609 - lr: 3.3546e-07\n",
            "Epoch 43/100\n",
            " 1/13 [=>............................] - ETA: 0s - loss: 0.1889 - accuracy: 0.8750WARNING:tensorflow:Early stopping conditioned on metric `val_acc` which is not available. Available metrics are: loss,accuracy,val_loss,val_accuracy\n",
            "13/13 [==============================] - 0s 3ms/step - loss: 0.9120 - accuracy: 0.8289 - val_loss: 1.2495 - val_accuracy: 0.7609 - lr: 2.7465e-07\n",
            "Epoch 44/100\n",
            " 1/13 [=>............................] - ETA: 0s - loss: 0.8800 - accuracy: 0.7812WARNING:tensorflow:Early stopping conditioned on metric `val_acc` which is not available. Available metrics are: loss,accuracy,val_loss,val_accuracy\n",
            "13/13 [==============================] - 0s 4ms/step - loss: 0.9120 - accuracy: 0.8289 - val_loss: 1.2494 - val_accuracy: 0.7609 - lr: 2.2487e-07\n",
            "Epoch 45/100\n",
            " 1/13 [=>............................] - ETA: 0s - loss: 2.6052 - accuracy: 0.7812WARNING:tensorflow:Early stopping conditioned on metric `val_acc` which is not available. Available metrics are: loss,accuracy,val_loss,val_accuracy\n",
            "13/13 [==============================] - 0s 3ms/step - loss: 0.9119 - accuracy: 0.8289 - val_loss: 1.2494 - val_accuracy: 0.7609 - lr: 1.8411e-07\n",
            "Epoch 46/100\n",
            " 1/13 [=>............................] - ETA: 0s - loss: 0.5745 - accuracy: 0.8750WARNING:tensorflow:Early stopping conditioned on metric `val_acc` which is not available. Available metrics are: loss,accuracy,val_loss,val_accuracy\n",
            "13/13 [==============================] - 0s 3ms/step - loss: 0.9119 - accuracy: 0.8289 - val_loss: 1.2494 - val_accuracy: 0.7609 - lr: 1.5073e-07\n",
            "Epoch 47/100\n",
            " 1/13 [=>............................] - ETA: 0s - loss: 0.2885 - accuracy: 0.9062WARNING:tensorflow:Early stopping conditioned on metric `val_acc` which is not available. Available metrics are: loss,accuracy,val_loss,val_accuracy\n",
            "13/13 [==============================] - 0s 3ms/step - loss: 0.9119 - accuracy: 0.8289 - val_loss: 1.2493 - val_accuracy: 0.7609 - lr: 1.2341e-07\n",
            "Epoch 48/100\n",
            " 1/13 [=>............................] - ETA: 0s - loss: 0.4183 - accuracy: 0.7812WARNING:tensorflow:Early stopping conditioned on metric `val_acc` which is not available. Available metrics are: loss,accuracy,val_loss,val_accuracy\n",
            "13/13 [==============================] - 0s 3ms/step - loss: 0.9119 - accuracy: 0.8289 - val_loss: 1.2492 - val_accuracy: 0.7609 - lr: 1.0104e-07\n",
            "Epoch 49/100\n",
            " 1/13 [=>............................] - ETA: 0s - loss: 0.4832 - accuracy: 0.9062WARNING:tensorflow:Early stopping conditioned on metric `val_acc` which is not available. Available metrics are: loss,accuracy,val_loss,val_accuracy\n",
            "13/13 [==============================] - 0s 4ms/step - loss: 0.9119 - accuracy: 0.8289 - val_loss: 1.2493 - val_accuracy: 0.7609 - lr: 8.2724e-08\n",
            "Epoch 50/100\n",
            " 1/13 [=>............................] - ETA: 0s - loss: 0.9811 - accuracy: 0.8750WARNING:tensorflow:Early stopping conditioned on metric `val_acc` which is not available. Available metrics are: loss,accuracy,val_loss,val_accuracy\n",
            "13/13 [==============================] - 0s 3ms/step - loss: 0.9118 - accuracy: 0.8289 - val_loss: 1.2492 - val_accuracy: 0.7609 - lr: 6.7729e-08\n",
            "Epoch 51/100\n",
            " 1/13 [=>............................] - ETA: 0s - loss: 0.1329 - accuracy: 0.9688WARNING:tensorflow:Early stopping conditioned on metric `val_acc` which is not available. Available metrics are: loss,accuracy,val_loss,val_accuracy\n",
            "13/13 [==============================] - 0s 3ms/step - loss: 0.9118 - accuracy: 0.8289 - val_loss: 1.2492 - val_accuracy: 0.7609 - lr: 5.5452e-08\n",
            "Epoch 52/100\n",
            " 1/13 [=>............................] - ETA: 0s - loss: 0.9759 - accuracy: 0.8438WARNING:tensorflow:Early stopping conditioned on metric `val_acc` which is not available. Available metrics are: loss,accuracy,val_loss,val_accuracy\n",
            "13/13 [==============================] - 0s 3ms/step - loss: 0.9118 - accuracy: 0.8289 - val_loss: 1.2492 - val_accuracy: 0.7609 - lr: 4.5400e-08\n",
            "Epoch 53/100\n",
            " 1/13 [=>............................] - ETA: 0s - loss: 3.3677 - accuracy: 0.7500WARNING:tensorflow:Early stopping conditioned on metric `val_acc` which is not available. Available metrics are: loss,accuracy,val_loss,val_accuracy\n",
            "13/13 [==============================] - 0s 4ms/step - loss: 0.9118 - accuracy: 0.8289 - val_loss: 1.2492 - val_accuracy: 0.7609 - lr: 3.7170e-08\n",
            "Epoch 54/100\n",
            " 1/13 [=>............................] - ETA: 0s - loss: 0.9381 - accuracy: 0.8438WARNING:tensorflow:Early stopping conditioned on metric `val_acc` which is not available. Available metrics are: loss,accuracy,val_loss,val_accuracy\n",
            "13/13 [==============================] - 0s 3ms/step - loss: 0.9118 - accuracy: 0.8289 - val_loss: 1.2492 - val_accuracy: 0.7609 - lr: 3.0432e-08\n",
            "Epoch 55/100\n",
            " 1/13 [=>............................] - ETA: 0s - loss: 1.2293 - accuracy: 0.8438WARNING:tensorflow:Early stopping conditioned on metric `val_acc` which is not available. Available metrics are: loss,accuracy,val_loss,val_accuracy\n",
            "13/13 [==============================] - 0s 3ms/step - loss: 0.9118 - accuracy: 0.8289 - val_loss: 1.2492 - val_accuracy: 0.7609 - lr: 2.4916e-08\n",
            "Epoch 56/100\n",
            " 1/13 [=>............................] - ETA: 0s - loss: 0.2585 - accuracy: 0.8750WARNING:tensorflow:Early stopping conditioned on metric `val_acc` which is not available. Available metrics are: loss,accuracy,val_loss,val_accuracy\n",
            "13/13 [==============================] - 0s 3ms/step - loss: 0.9118 - accuracy: 0.8289 - val_loss: 1.2492 - val_accuracy: 0.7609 - lr: 2.0400e-08\n",
            "Epoch 57/100\n",
            " 1/13 [=>............................] - ETA: 0s - loss: 0.5035 - accuracy: 0.9062WARNING:tensorflow:Early stopping conditioned on metric `val_acc` which is not available. Available metrics are: loss,accuracy,val_loss,val_accuracy\n",
            "13/13 [==============================] - 0s 3ms/step - loss: 0.9118 - accuracy: 0.8289 - val_loss: 1.2492 - val_accuracy: 0.7609 - lr: 1.6702e-08\n",
            "Epoch 58/100\n",
            " 1/13 [=>............................] - ETA: 0s - loss: 2.5928 - accuracy: 0.8750WARNING:tensorflow:Early stopping conditioned on metric `val_acc` which is not available. Available metrics are: loss,accuracy,val_loss,val_accuracy\n",
            "13/13 [==============================] - 0s 3ms/step - loss: 0.9118 - accuracy: 0.8289 - val_loss: 1.2492 - val_accuracy: 0.7609 - lr: 1.3674e-08\n",
            "Epoch 59/100\n",
            " 1/13 [=>............................] - ETA: 0s - loss: 3.1857 - accuracy: 0.7500WARNING:tensorflow:Early stopping conditioned on metric `val_acc` which is not available. Available metrics are: loss,accuracy,val_loss,val_accuracy\n",
            "13/13 [==============================] - 0s 3ms/step - loss: 0.9118 - accuracy: 0.8289 - val_loss: 1.2492 - val_accuracy: 0.7609 - lr: 1.1195e-08\n",
            "Epoch 60/100\n",
            " 1/13 [=>............................] - ETA: 0s - loss: 0.6617 - accuracy: 0.8750WARNING:tensorflow:Early stopping conditioned on metric `val_acc` which is not available. Available metrics are: loss,accuracy,val_loss,val_accuracy\n",
            "13/13 [==============================] - 0s 3ms/step - loss: 0.9118 - accuracy: 0.8289 - val_loss: 1.2492 - val_accuracy: 0.7609 - lr: 9.1661e-09\n",
            "Epoch 61/100\n",
            " 1/13 [=>............................] - ETA: 0s - loss: 0.6247 - accuracy: 0.9062WARNING:tensorflow:Early stopping conditioned on metric `val_acc` which is not available. Available metrics are: loss,accuracy,val_loss,val_accuracy\n",
            "13/13 [==============================] - 0s 4ms/step - loss: 0.9118 - accuracy: 0.8289 - val_loss: 1.2492 - val_accuracy: 0.7609 - lr: 7.5046e-09\n",
            "Epoch 62/100\n",
            " 1/13 [=>............................] - ETA: 0s - loss: 0.8886 - accuracy: 0.7500WARNING:tensorflow:Early stopping conditioned on metric `val_acc` which is not available. Available metrics are: loss,accuracy,val_loss,val_accuracy\n",
            "13/13 [==============================] - 0s 3ms/step - loss: 0.9118 - accuracy: 0.8289 - val_loss: 1.2492 - val_accuracy: 0.7609 - lr: 6.1442e-09\n",
            "Epoch 63/100\n",
            " 1/13 [=>............................] - ETA: 0s - loss: 0.6484 - accuracy: 0.8125WARNING:tensorflow:Early stopping conditioned on metric `val_acc` which is not available. Available metrics are: loss,accuracy,val_loss,val_accuracy\n",
            "13/13 [==============================] - 0s 4ms/step - loss: 0.9118 - accuracy: 0.8289 - val_loss: 1.2492 - val_accuracy: 0.7609 - lr: 5.0305e-09\n",
            "Epoch 64/100\n",
            " 1/13 [=>............................] - ETA: 0s - loss: 0.4496 - accuracy: 0.8750WARNING:tensorflow:Early stopping conditioned on metric `val_acc` which is not available. Available metrics are: loss,accuracy,val_loss,val_accuracy\n",
            "13/13 [==============================] - 0s 4ms/step - loss: 0.9118 - accuracy: 0.8289 - val_loss: 1.2492 - val_accuracy: 0.7609 - lr: 4.1186e-09\n",
            "Epoch 65/100\n",
            " 1/13 [=>............................] - ETA: 0s - loss: 0.8695 - accuracy: 0.8125WARNING:tensorflow:Early stopping conditioned on metric `val_acc` which is not available. Available metrics are: loss,accuracy,val_loss,val_accuracy\n",
            "13/13 [==============================] - 0s 5ms/step - loss: 0.9118 - accuracy: 0.8289 - val_loss: 1.2492 - val_accuracy: 0.7609 - lr: 3.3720e-09\n",
            "Epoch 66/100\n",
            " 1/13 [=>............................] - ETA: 0s - loss: 0.6094 - accuracy: 0.8438WARNING:tensorflow:Early stopping conditioned on metric `val_acc` which is not available. Available metrics are: loss,accuracy,val_loss,val_accuracy\n",
            "13/13 [==============================] - 0s 4ms/step - loss: 0.9118 - accuracy: 0.8289 - val_loss: 1.2492 - val_accuracy: 0.7609 - lr: 2.7608e-09\n",
            "Epoch 67/100\n",
            " 1/13 [=>............................] - ETA: 0s - loss: 1.0924 - accuracy: 0.7500WARNING:tensorflow:Early stopping conditioned on metric `val_acc` which is not available. Available metrics are: loss,accuracy,val_loss,val_accuracy\n",
            "13/13 [==============================] - 0s 3ms/step - loss: 0.9118 - accuracy: 0.8289 - val_loss: 1.2492 - val_accuracy: 0.7609 - lr: 2.2603e-09\n",
            "Epoch 68/100\n",
            " 1/13 [=>............................] - ETA: 0s - loss: 0.4232 - accuracy: 0.9062WARNING:tensorflow:Early stopping conditioned on metric `val_acc` which is not available. Available metrics are: loss,accuracy,val_loss,val_accuracy\n",
            "13/13 [==============================] - 0s 4ms/step - loss: 0.9118 - accuracy: 0.8289 - val_loss: 1.2492 - val_accuracy: 0.7609 - lr: 1.8506e-09\n",
            "Epoch 69/100\n",
            " 1/13 [=>............................] - ETA: 0s - loss: 0.2898 - accuracy: 0.8750WARNING:tensorflow:Early stopping conditioned on metric `val_acc` which is not available. Available metrics are: loss,accuracy,val_loss,val_accuracy\n",
            "13/13 [==============================] - 0s 3ms/step - loss: 0.9118 - accuracy: 0.8289 - val_loss: 1.2492 - val_accuracy: 0.7609 - lr: 1.5151e-09\n",
            "Epoch 70/100\n",
            " 1/13 [=>............................] - ETA: 0s - loss: 0.5678 - accuracy: 0.7500WARNING:tensorflow:Early stopping conditioned on metric `val_acc` which is not available. Available metrics are: loss,accuracy,val_loss,val_accuracy\n",
            "13/13 [==============================] - 0s 3ms/step - loss: 0.9118 - accuracy: 0.8289 - val_loss: 1.2492 - val_accuracy: 0.7609 - lr: 1.2405e-09\n",
            "Epoch 71/100\n",
            " 1/13 [=>............................] - ETA: 0s - loss: 0.3667 - accuracy: 0.8438WARNING:tensorflow:Early stopping conditioned on metric `val_acc` which is not available. Available metrics are: loss,accuracy,val_loss,val_accuracy\n",
            "13/13 [==============================] - 0s 4ms/step - loss: 0.9118 - accuracy: 0.8289 - val_loss: 1.2492 - val_accuracy: 0.7609 - lr: 1.0156e-09\n",
            "Epoch 72/100\n",
            " 1/13 [=>............................] - ETA: 0s - loss: 1.1489 - accuracy: 0.7188WARNING:tensorflow:Early stopping conditioned on metric `val_acc` which is not available. Available metrics are: loss,accuracy,val_loss,val_accuracy\n",
            "13/13 [==============================] - 0s 4ms/step - loss: 0.9118 - accuracy: 0.8289 - val_loss: 1.2492 - val_accuracy: 0.7609 - lr: 8.3153e-10\n",
            "Epoch 73/100\n",
            " 1/13 [=>............................] - ETA: 0s - loss: 0.5420 - accuracy: 0.7188WARNING:tensorflow:Early stopping conditioned on metric `val_acc` which is not available. Available metrics are: loss,accuracy,val_loss,val_accuracy\n",
            "13/13 [==============================] - 0s 3ms/step - loss: 0.9118 - accuracy: 0.8289 - val_loss: 1.2492 - val_accuracy: 0.7609 - lr: 6.8080e-10\n",
            "Epoch 74/100\n",
            " 1/13 [=>............................] - ETA: 0s - loss: 1.1504 - accuracy: 0.7500WARNING:tensorflow:Early stopping conditioned on metric `val_acc` which is not available. Available metrics are: loss,accuracy,val_loss,val_accuracy\n",
            "13/13 [==============================] - 0s 3ms/step - loss: 0.9118 - accuracy: 0.8289 - val_loss: 1.2492 - val_accuracy: 0.7609 - lr: 5.5739e-10\n",
            "Epoch 75/100\n",
            " 1/13 [=>............................] - ETA: 0s - loss: 0.6696 - accuracy: 0.7500WARNING:tensorflow:Early stopping conditioned on metric `val_acc` which is not available. Available metrics are: loss,accuracy,val_loss,val_accuracy\n",
            "13/13 [==============================] - 0s 3ms/step - loss: 0.9118 - accuracy: 0.8289 - val_loss: 1.2492 - val_accuracy: 0.7609 - lr: 4.5635e-10\n",
            "Epoch 76/100\n",
            " 1/13 [=>............................] - ETA: 0s - loss: 0.8134 - accuracy: 0.8438WARNING:tensorflow:Early stopping conditioned on metric `val_acc` which is not available. Available metrics are: loss,accuracy,val_loss,val_accuracy\n",
            "13/13 [==============================] - 0s 3ms/step - loss: 0.9118 - accuracy: 0.8289 - val_loss: 1.2492 - val_accuracy: 0.7609 - lr: 3.7363e-10\n",
            "Epoch 77/100\n",
            " 1/13 [=>............................] - ETA: 0s - loss: 0.7396 - accuracy: 0.8438WARNING:tensorflow:Early stopping conditioned on metric `val_acc` which is not available. Available metrics are: loss,accuracy,val_loss,val_accuracy\n",
            "13/13 [==============================] - 0s 3ms/step - loss: 0.9118 - accuracy: 0.8289 - val_loss: 1.2492 - val_accuracy: 0.7609 - lr: 3.0590e-10\n",
            "Epoch 78/100\n",
            " 1/13 [=>............................] - ETA: 0s - loss: 1.0467 - accuracy: 0.8438WARNING:tensorflow:Early stopping conditioned on metric `val_acc` which is not available. Available metrics are: loss,accuracy,val_loss,val_accuracy\n",
            "13/13 [==============================] - 0s 5ms/step - loss: 0.9118 - accuracy: 0.8289 - val_loss: 1.2492 - val_accuracy: 0.7609 - lr: 2.5045e-10\n",
            "Epoch 79/100\n",
            " 1/13 [=>............................] - ETA: 0s - loss: 0.6762 - accuracy: 0.7812WARNING:tensorflow:Early stopping conditioned on metric `val_acc` which is not available. Available metrics are: loss,accuracy,val_loss,val_accuracy\n",
            "13/13 [==============================] - 0s 3ms/step - loss: 0.9118 - accuracy: 0.8289 - val_loss: 1.2492 - val_accuracy: 0.7609 - lr: 2.0505e-10\n",
            "Epoch 80/100\n",
            " 1/13 [=>............................] - ETA: 0s - loss: 0.8213 - accuracy: 0.8438WARNING:tensorflow:Early stopping conditioned on metric `val_acc` which is not available. Available metrics are: loss,accuracy,val_loss,val_accuracy\n",
            "13/13 [==============================] - 0s 3ms/step - loss: 0.9118 - accuracy: 0.8289 - val_loss: 1.2492 - val_accuracy: 0.7609 - lr: 1.6788e-10\n",
            "Epoch 81/100\n",
            " 1/13 [=>............................] - ETA: 0s - loss: 0.2962 - accuracy: 0.9062WARNING:tensorflow:Early stopping conditioned on metric `val_acc` which is not available. Available metrics are: loss,accuracy,val_loss,val_accuracy\n",
            "13/13 [==============================] - 0s 3ms/step - loss: 0.9118 - accuracy: 0.8289 - val_loss: 1.2492 - val_accuracy: 0.7609 - lr: 1.3745e-10\n",
            "Epoch 82/100\n",
            " 1/13 [=>............................] - ETA: 0s - loss: 1.1744 - accuracy: 0.7500WARNING:tensorflow:Early stopping conditioned on metric `val_acc` which is not available. Available metrics are: loss,accuracy,val_loss,val_accuracy\n",
            "13/13 [==============================] - 0s 3ms/step - loss: 0.9118 - accuracy: 0.8289 - val_loss: 1.2492 - val_accuracy: 0.7609 - lr: 1.1254e-10\n",
            "Epoch 83/100\n",
            " 1/13 [=>............................] - ETA: 0s - loss: 0.5498 - accuracy: 0.8125WARNING:tensorflow:Early stopping conditioned on metric `val_acc` which is not available. Available metrics are: loss,accuracy,val_loss,val_accuracy\n",
            "13/13 [==============================] - 0s 4ms/step - loss: 0.9118 - accuracy: 0.8289 - val_loss: 1.2492 - val_accuracy: 0.7609 - lr: 9.2136e-11\n",
            "Epoch 84/100\n",
            " 1/13 [=>............................] - ETA: 0s - loss: 0.6025 - accuracy: 0.9062WARNING:tensorflow:Early stopping conditioned on metric `val_acc` which is not available. Available metrics are: loss,accuracy,val_loss,val_accuracy\n",
            "13/13 [==============================] - 0s 3ms/step - loss: 0.9118 - accuracy: 0.8289 - val_loss: 1.2492 - val_accuracy: 0.7609 - lr: 7.5435e-11\n",
            "Epoch 85/100\n",
            " 1/13 [=>............................] - ETA: 0s - loss: 0.7798 - accuracy: 0.8438WARNING:tensorflow:Early stopping conditioned on metric `val_acc` which is not available. Available metrics are: loss,accuracy,val_loss,val_accuracy\n",
            "13/13 [==============================] - 0s 3ms/step - loss: 0.9118 - accuracy: 0.8289 - val_loss: 1.2492 - val_accuracy: 0.7609 - lr: 6.1761e-11\n",
            "Epoch 86/100\n",
            " 1/13 [=>............................] - ETA: 0s - loss: 0.9120 - accuracy: 0.8438WARNING:tensorflow:Early stopping conditioned on metric `val_acc` which is not available. Available metrics are: loss,accuracy,val_loss,val_accuracy\n",
            "13/13 [==============================] - 0s 3ms/step - loss: 0.9118 - accuracy: 0.8289 - val_loss: 1.2492 - val_accuracy: 0.7609 - lr: 5.0565e-11\n",
            "Epoch 87/100\n",
            " 1/13 [=>............................] - ETA: 0s - loss: 0.6409 - accuracy: 0.9062WARNING:tensorflow:Early stopping conditioned on metric `val_acc` which is not available. Available metrics are: loss,accuracy,val_loss,val_accuracy\n",
            "13/13 [==============================] - 0s 3ms/step - loss: 0.9118 - accuracy: 0.8289 - val_loss: 1.2492 - val_accuracy: 0.7609 - lr: 4.1399e-11\n",
            "Epoch 88/100\n",
            " 1/13 [=>............................] - ETA: 0s - loss: 0.3339 - accuracy: 0.8750WARNING:tensorflow:Early stopping conditioned on metric `val_acc` which is not available. Available metrics are: loss,accuracy,val_loss,val_accuracy\n",
            "13/13 [==============================] - 0s 3ms/step - loss: 0.9118 - accuracy: 0.8289 - val_loss: 1.2492 - val_accuracy: 0.7609 - lr: 3.3895e-11\n",
            "Epoch 89/100\n",
            " 1/13 [=>............................] - ETA: 0s - loss: 0.9916 - accuracy: 0.7188WARNING:tensorflow:Early stopping conditioned on metric `val_acc` which is not available. Available metrics are: loss,accuracy,val_loss,val_accuracy\n",
            "13/13 [==============================] - 0s 3ms/step - loss: 0.9118 - accuracy: 0.8289 - val_loss: 1.2492 - val_accuracy: 0.7609 - lr: 2.7751e-11\n",
            "Epoch 90/100\n",
            " 1/13 [=>............................] - ETA: 0s - loss: 0.7272 - accuracy: 0.8125WARNING:tensorflow:Early stopping conditioned on metric `val_acc` which is not available. Available metrics are: loss,accuracy,val_loss,val_accuracy\n",
            "13/13 [==============================] - 0s 3ms/step - loss: 0.9118 - accuracy: 0.8289 - val_loss: 1.2492 - val_accuracy: 0.7609 - lr: 2.2720e-11\n",
            "Epoch 91/100\n",
            " 1/13 [=>............................] - ETA: 0s - loss: 0.5846 - accuracy: 0.9062WARNING:tensorflow:Early stopping conditioned on metric `val_acc` which is not available. Available metrics are: loss,accuracy,val_loss,val_accuracy\n",
            "13/13 [==============================] - 0s 3ms/step - loss: 0.9118 - accuracy: 0.8289 - val_loss: 1.2492 - val_accuracy: 0.7609 - lr: 1.8602e-11\n",
            "Epoch 92/100\n",
            " 1/13 [=>............................] - ETA: 0s - loss: 0.2019 - accuracy: 0.8750WARNING:tensorflow:Early stopping conditioned on metric `val_acc` which is not available. Available metrics are: loss,accuracy,val_loss,val_accuracy\n",
            "13/13 [==============================] - 0s 3ms/step - loss: 0.9118 - accuracy: 0.8289 - val_loss: 1.2492 - val_accuracy: 0.7609 - lr: 1.5230e-11\n",
            "Epoch 93/100\n",
            " 1/13 [=>............................] - ETA: 0s - loss: 0.2611 - accuracy: 0.9062WARNING:tensorflow:Early stopping conditioned on metric `val_acc` which is not available. Available metrics are: loss,accuracy,val_loss,val_accuracy\n",
            "13/13 [==============================] - 0s 4ms/step - loss: 0.9118 - accuracy: 0.8289 - val_loss: 1.2492 - val_accuracy: 0.7609 - lr: 1.2469e-11\n",
            "Epoch 94/100\n",
            " 1/13 [=>............................] - ETA: 0s - loss: 0.8434 - accuracy: 0.8438WARNING:tensorflow:Early stopping conditioned on metric `val_acc` which is not available. Available metrics are: loss,accuracy,val_loss,val_accuracy\n",
            "13/13 [==============================] - 0s 3ms/step - loss: 0.9118 - accuracy: 0.8289 - val_loss: 1.2492 - val_accuracy: 0.7609 - lr: 1.0209e-11\n",
            "Epoch 95/100\n",
            " 1/13 [=>............................] - ETA: 0s - loss: 0.5246 - accuracy: 0.9375WARNING:tensorflow:Early stopping conditioned on metric `val_acc` which is not available. Available metrics are: loss,accuracy,val_loss,val_accuracy\n",
            "13/13 [==============================] - 0s 4ms/step - loss: 0.9118 - accuracy: 0.8289 - val_loss: 1.2492 - val_accuracy: 0.7609 - lr: 8.3584e-12\n",
            "Epoch 96/100\n",
            " 1/13 [=>............................] - ETA: 0s - loss: 0.9679 - accuracy: 0.8438WARNING:tensorflow:Early stopping conditioned on metric `val_acc` which is not available. Available metrics are: loss,accuracy,val_loss,val_accuracy\n",
            "13/13 [==============================] - 0s 4ms/step - loss: 0.9118 - accuracy: 0.8289 - val_loss: 1.2492 - val_accuracy: 0.7609 - lr: 6.8433e-12\n",
            "Epoch 97/100\n",
            " 1/13 [=>............................] - ETA: 0s - loss: 1.3444 - accuracy: 0.7812WARNING:tensorflow:Early stopping conditioned on metric `val_acc` which is not available. Available metrics are: loss,accuracy,val_loss,val_accuracy\n",
            "13/13 [==============================] - 0s 4ms/step - loss: 0.9118 - accuracy: 0.8289 - val_loss: 1.2492 - val_accuracy: 0.7609 - lr: 5.6028e-12\n",
            "Epoch 98/100\n",
            " 1/13 [=>............................] - ETA: 0s - loss: 1.1760 - accuracy: 0.8125WARNING:tensorflow:Early stopping conditioned on metric `val_acc` which is not available. Available metrics are: loss,accuracy,val_loss,val_accuracy\n",
            "13/13 [==============================] - 0s 4ms/step - loss: 0.9118 - accuracy: 0.8289 - val_loss: 1.2492 - val_accuracy: 0.7609 - lr: 4.5872e-12\n",
            "Epoch 99/100\n",
            " 1/13 [=>............................] - ETA: 0s - loss: 1.0405 - accuracy: 0.7188WARNING:tensorflow:Early stopping conditioned on metric `val_acc` which is not available. Available metrics are: loss,accuracy,val_loss,val_accuracy\n",
            "13/13 [==============================] - 0s 4ms/step - loss: 0.9118 - accuracy: 0.8289 - val_loss: 1.2492 - val_accuracy: 0.7609 - lr: 3.7557e-12\n",
            "Epoch 100/100\n",
            " 1/13 [=>............................] - ETA: 0s - loss: 2.8914 - accuracy: 0.8750WARNING:tensorflow:Early stopping conditioned on metric `val_acc` which is not available. Available metrics are: loss,accuracy,val_loss,val_accuracy\n",
            "13/13 [==============================] - 0s 3ms/step - loss: 0.9118 - accuracy: 0.8289 - val_loss: 1.2492 - val_accuracy: 0.7609 - lr: 3.0749e-12\n"
          ]
        }
      ]
    },
    {
      "cell_type": "code",
      "source": [
        "y_pred_float = model.predict_step(x_test)  \n",
        "y_pred = np.round(y_pred_float)"
      ],
      "metadata": {
        "id": "mVpearpm8xyh"
      },
      "execution_count": 8,
      "outputs": []
    },
    {
      "cell_type": "code",
      "source": [
        "target_list=['benign','malignant']\n",
        "sl.metrics.classification_report(y_true=y_test,y_pred=y_pred,output_dict = True,target_names=target_list)"
      ],
      "metadata": {
        "colab": {
          "base_uri": "https://localhost:8080/"
        },
        "id": "01MGC88eASmY",
        "outputId": "6c84f664-a529-41ca-e8c4-6fd2e2e1b876"
      },
      "execution_count": 9,
      "outputs": [
        {
          "output_type": "execute_result",
          "data": {
            "text/plain": [
              "{'accuracy': 0.8245614035087719,\n",
              " 'benign': {'f1-score': 0.7826086956521738,\n",
              "  'precision': 0.8,\n",
              "  'recall': 0.7659574468085106,\n",
              "  'support': 47},\n",
              " 'macro avg': {'f1-score': 0.8177749360613811,\n",
              "  'precision': 0.8202898550724638,\n",
              "  'recall': 0.8158145442997777,\n",
              "  'support': 114},\n",
              " 'malignant': {'f1-score': 0.8529411764705882,\n",
              "  'precision': 0.8405797101449275,\n",
              "  'recall': 0.8656716417910447,\n",
              "  'support': 67},\n",
              " 'weighted avg': {'f1-score': 0.8239444519226454,\n",
              "  'precision': 0.8238494787693873,\n",
              "  'recall': 0.8245614035087719,\n",
              "  'support': 114}}"
            ]
          },
          "metadata": {},
          "execution_count": 9
        }
      ]
    },
    {
      "cell_type": "code",
      "source": [
        "plt.figure(figsize=(10,6))\n",
        "plt.plot(history.history['loss'], label = 'train', color='r')\n",
        "plt.plot(history.history['val_loss'], label = 'validation', color='g')\n",
        "plt.xlabel('epoch')\n",
        "plt.ylabel('loss')\n",
        "plt.xticks(np.arange(0, 100, 1))\n",
        "plt.show()"
      ],
      "metadata": {
        "colab": {
          "base_uri": "https://localhost:8080/",
          "height": 388
        },
        "id": "2NzVXsOnPF2g",
        "outputId": "8b82cfe1-ddfd-45fc-89ee-3210154483e4"
      },
      "execution_count": 10,
      "outputs": [
        {
          "output_type": "display_data",
          "data": {
            "text/plain": [
              "<Figure size 720x432 with 1 Axes>"
            ],
            "image/png": "[encoded data removed]"
          },
          "metadata": {
            "needs_background": "light"
          }
        }
      ]
    },
    {
      "cell_type": "code",
      "source": [
        "plt.figure(figsize=(10,6))\n",
        "plt.plot(history.history['accuracy'], label = 'train', color='r')\n",
        "plt.plot(history.history['val_accuracy'], label = 'validation', color='g')\n",
        "plt.xlabel('epoch')\n",
        "plt.ylabel('accuracy')\n",
        "plt.xticks(np.arange(0, 100, 1))\n",
        "plt.show()"
      ],
      "metadata": {
        "colab": {
          "base_uri": "https://localhost:8080/",
          "height": 388
        },
        "id": "6BnbEk7jS-xX",
        "outputId": "69053d7e-1c29-41c4-d9f3-b4ec99321f0e"
      },
      "execution_count": 11,
      "outputs": [
        {
          "output_type": "display_data",
          "data": {
            "text/plain": [
              "<Figure size 720x432 with 1 Axes>"
            ],
            "image/png": "[encoded data removed]"
          },
          "metadata": {
            "needs_background": "light"
          }
        }
      ]
    },
    {
      "cell_type": "code",
      "source": [
        "CM = sl.metrics.confusion_matrix(y_true=y_test,y_pred=y_pred)\n",
        "sb.heatmap(CM,annot=True )\n",
        "plt.xlabel('Predicted')\n",
        "plt.ylabel('True')\n",
        "plt.show()"
      ],
      "metadata": {
        "colab": {
          "base_uri": "https://localhost:8080/",
          "height": 279
        },
        "id": "F2ZYgN6p-s1A",
        "outputId": "dcb5daf0-860c-404f-8985-d89c6c6cac1c"
      },
      "execution_count": 12,
      "outputs": [
        {
          "output_type": "display_data",
          "data": {
            "text/plain": [
              "<Figure size 432x288 with 2 Axes>"
            ],
            "image/png": "[encoded data removed]"
          },
          "metadata": {
            "needs_background": "light"
          }
        }
      ]
    },
    {
      "cell_type": "markdown",
      "source": [
        "# problem 3"
      ],
      "metadata": {
        "id": "YlkHyW7kFN0W"
      }
    },
    {
      "cell_type": "code",
      "source": [
        "(X_train,Y_train), (X_test, Y_test) = tf.keras.datasets.imdb.load_data(num_words = 15000)"
      ],
      "metadata": {
        "id": "NEOEubXF4m1E",
        "colab": {
          "base_uri": "https://localhost:8080/"
        },
        "outputId": "17becb5e-770a-4304-9315-8fe6edb25e2b"
      },
      "execution_count": 13,
      "outputs": [
        {
          "output_type": "stream",
          "name": "stdout",
          "text": [
            "Downloading data from https://storage.googleapis.com/tensorflow/tf-keras-datasets/imdb.npz\n",
            "17465344/17464789 [==============================] - 0s 0us/step\n",
            "17473536/17464789 [==============================] - 0s 0us/step\n"
          ]
        }
      ]
    },
    {
      "cell_type": "code",
      "source": [
        "plt.figure(figsize = (6,6))\n",
        "sb.countplot(Y_train)\n",
        "plt.xlabel(\"Classes\")\n",
        "plt.ylabel(\"Freq\")\n",
        "plt.title(\"Y train\")\n",
        "plt.show()"
      ],
      "metadata": {
        "id": "8UStq1rs8gyH",
        "colab": {
          "base_uri": "https://localhost:8080/",
          "height": 459
        },
        "outputId": "46d91d92-3dcc-4f84-eae7-550bb8b91437"
      },
      "execution_count": 14,
      "outputs": [
        {
          "output_type": "stream",
          "name": "stderr",
          "text": [
            "/usr/local/lib/python3.7/dist-packages/seaborn/_decorators.py:43: FutureWarning: Pass the following variable as a keyword arg: x. From version 0.12, the only valid positional argument will be `data`, and passing other arguments without an explicit keyword will result in an error or misinterpretation.\n",
            "  FutureWarning\n"
          ]
        },
        {
          "output_type": "display_data",
          "data": {
            "text/plain": [
              "<Figure size 432x432 with 1 Axes>"
            ],
            "image/png": "[encoded data removed]"
          },
          "metadata": {
            "needs_background": "light"
          }
        }
      ]
    },
    {
      "cell_type": "code",
      "source": [
        "from keras.models import Sequential\n",
        "from keras.layers.embeddings import Embedding\n",
        "from keras.layers import SimpleRNN,Dense, Activation\n",
        "from keras.preprocessing.sequence import pad_sequences"
      ],
      "metadata": {
        "id": "BosOkFQ2Q9X3"
      },
      "execution_count": 15,
      "outputs": []
    },
    {
      "cell_type": "code",
      "source": [
        "x_train = pad_sequences(X_train, maxlen = 130)\n",
        "x_test = pad_sequences(X_test, maxlen = 130)\n",
        "\n",
        "print(x_train[5])\n",
        "\n",
        "for i in x_train[0:10]:\n",
        "    print(len(i))\n",
        "    "
      ],
      "metadata": {
        "colab": {
          "base_uri": "https://localhost:8080/"
        },
        "id": "4lJ-pG6HA1Zh",
        "outputId": "3dd9c8ce-7e82-4c8c-f090-eebc4f4d4ba5"
      },
      "execution_count": 20,
      "outputs": [
        {
          "output_type": "stream",
          "name": "stdout",
          "text": [
            "[   0    0    0    0    0    0    0    0    0    0    0    0    0    0\n",
            "    0    0    0    0    0    0    0    0    0    0    0    0    0    0\n",
            "    0    0    0    0    0    0    0    0    0    0    0    0    0    0\n",
            "    0    0    0    0    0    0    0    0    0    0    0    0    0    0\n",
            "    0    0    0    0    0    0    0    0    0    0    0    0    0    0\n",
            "    0    0    0    0    0    0    0    0    0    0    0    0    0    0\n",
            "    0    0    0    1  778  128   74   12  630  163   15    4 1766 7982\n",
            " 1051    2   32   85  156   45   40  148  139  121  664  665   10   10\n",
            " 1361  173    4  749    2   16 3804    8    4  226   65   12   43  127\n",
            "   24    2   10   10]\n",
            "130\n",
            "130\n",
            "130\n",
            "130\n",
            "130\n",
            "130\n",
            "130\n",
            "130\n",
            "130\n",
            "130\n"
          ]
        }
      ]
    },
    {
      "cell_type": "markdown",
      "source": [
        "we wanna define what these numbers mean in terms of words"
      ],
      "metadata": {
        "id": "j93u8ZOSDcDk"
      }
    },
    {
      "cell_type": "code",
      "source": [
        "word_index = tf.keras.datasets.imdb.get_word_index()\n",
        "def whatItSay(index = 24):\n",
        "    \n",
        "    reverse_index = dict([(value,key) for (key, value) in word_index.items()])\n",
        "    decode_review = \" \".join([reverse_index.get(i - 3, \"!\") for i in X_train[index]])\n",
        "    print(decode_review)\n",
        "    print(Y_train[index])\n",
        "    return decode_review"
      ],
      "metadata": {
        "colab": {
          "base_uri": "https://localhost:8080/"
        },
        "id": "fcIJIh7OBpqc",
        "outputId": "f61cbe9c-8485-4816-ee5b-08abf24d151d"
      },
      "execution_count": 17,
      "outputs": [
        {
          "output_type": "stream",
          "name": "stdout",
          "text": [
            "Downloading data from https://storage.googleapis.com/tensorflow/tf-keras-datasets/imdb_word_index.json\n",
            "1646592/1641221 [==============================] - 0s 0us/step\n",
            "1654784/1641221 [==============================] - 0s 0us/step\n"
          ]
        }
      ]
    },
    {
      "cell_type": "code",
      "source": [
        "decoded_review = whatItSay(7)"
      ],
      "metadata": {
        "colab": {
          "base_uri": "https://localhost:8080/"
        },
        "id": "p57bgpdGBMXG",
        "outputId": "56aa242f-e7da-4764-9394-6bb0219d4974"
      },
      "execution_count": 18,
      "outputs": [
        {
          "output_type": "stream",
          "name": "stdout",
          "text": [
            "! the hamiltons tells the story of the four hamilton siblings teenager francis ! ! twins ! joseph ! darlene ! ! the eldest david samuel who is now the surrogate parent in charge the ! move house a lot ! is unsure why is unhappy with the way things are the fact that his brother's sister kidnap ! murder people in the basement doesn't help relax or calm ! nerves either francis ! something just isn't right when he eventually finds out the truth things will never be the same again br br co written co produced directed by mitchell ! phil ! as the butcher brothers who's only other film director's credit so far is the april ! day 2008 remake enough said this was one of the ! to die ! at the 2006 after dark ! or whatever it's called in keeping with pretty much all the other's i've seen i thought the hamiltons was complete total utter crap i found the character's really poor very unlikable the slow moving story failed to capture my imagination or sustain my interest over it's 85 a half minute too long 86 minute duration the there's the awful twist at the end which had me laughing out loud there's this really big sustained build up to what's inside a ! thing in the hamiltons basement it's eventually revealed to be a little boy with a teddy is that really supposed to scare us is that really supposed to shock us is that really something that is supposed to have us talking about it as the end credits roll is a harmless looking young boy the best ! ending that the makers could come up with the boring plot plods along it's never made clear where the hamiltons get all their money from to buy new houses since none of them seem to work except david in a slaughterhouse i doubt that pays much or why they haven't been caught before now the script tries to mix in every day drama with potent horror it just does a terrible job of combining the two to the extent that neither aspect is memorable or effective a really bad film that i am struggling to say anything good about br br despite being written directed by the extreme sounding butcher brothers there's no gore here there's a bit of blood splatter a few scenes of girls chained up in a basement but nothing you couldn't do at home yourself with a bottle of tomato ketchup a camcorder the film is neither scary since it's got a very middle class suburban setting there's zero atmosphere or mood there's a lesbian suggest incestuous kiss but the hamiltons is low on the exploitation scale there's not much here for the horror crowd br br filmed in ! in california this has that modern low budget look about it it's not badly made but rather forgettable the acting by an unknown to me cast is nothing to write home about i can't say i ever felt anything for anyone br br the hamiltons commits the cardinal sin of being both dull boring from which it never ! add to that an ultra thin story no gore a rubbish ending character's who you don't give a toss about you have a film that did not impress me at all\n",
            "0\n"
          ]
        }
      ]
    },
    {
      "cell_type": "code",
      "source": [
        "decoded_review = whatItSay(3)"
      ],
      "metadata": {
        "colab": {
          "base_uri": "https://localhost:8080/"
        },
        "id": "CfL4Pbc3CVN_",
        "outputId": "57665bb5-864d-4cb3-efaf-439795a79d80"
      },
      "execution_count": 19,
      "outputs": [
        {
          "output_type": "stream",
          "name": "stdout",
          "text": [
            "! the ! ! at storytelling the traditional sort many years after the event i can still see in my ! eye an elderly lady my friend's mother retelling the battle of ! she makes the characters come alive her passion is that of an eye witness one to the events on the ! heath a mile or so from where she lives br br of course it happened many years before she was born but you wouldn't guess from the way she tells it the same story is told in bars the length and ! of scotland as i discussed it with a friend one night in ! a local cut in to give his version the discussion continued to closing time br br stories passed down like this become part of our being who doesn't remember the stories our parents told us when we were children they become our invisible world and as we grow older they maybe still serve as inspiration or as an emotional ! fact and fiction blend with ! role models warning stories ! magic and mystery br br my name is ! like my grandfather and his grandfather before him our protagonist introduces himself to us and also introduces the story that stretches back through generations it produces stories within stories stories that evoke the ! wonder of scotland its rugged mountains ! in ! the stuff of legend yet ! is rooted in reality this is what gives it its special charm it has a rough beauty and authenticity tempered with some of the finest gaelic singing you will ever hear br br ! ! visits his grandfather in hospital shortly before his death he burns with frustration part of him ! to be in the twenty first century to hang out in ! but he is raised on the western ! among a gaelic speaking community br br yet there is a deeper conflict within him he ! to know the truth the truth behind his ! ancient stories where does fiction end and he wants to know the truth behind the death of his parents br br he is pulled to make a last fateful journey to the ! of one of ! most ! mountains can the truth be told or is it all in stories br br in this story about stories we revisit bloody battles poisoned lovers the folklore of old and the sometimes more treacherous folklore of accepted truth in doing so we each connect with ! as he lives the story of his own life br br ! the ! pinnacle is probably the most honest unpretentious and genuinely beautiful film of scotland ever made like ! i got slightly annoyed with the pretext of hanging stories on more stories but also like ! i ! this once i saw the ! picture ' forget the box office pastiche of braveheart and its like you might even ! the ! famous ! of the wicker man to see a film that is true to scotland this one is probably unique if you maybe ! on it deeply enough you might even re evaluate the power of storytelling and the age old question of whether there are some truths that cannot be told but only experienced\n",
            "1\n"
          ]
        }
      ]
    },
    {
      "cell_type": "code",
      "source": [
        "rnn = Sequential()\n",
        "rnn.add(Embedding(15000, 32, input_length = len(x_train[0])))\n",
        "rnn.add(SimpleRNN(16, input_shape = (15000, 130), return_sequences = False, activation = \"relu\"))\n",
        "rnn.add(Dense(1))\n",
        "rnn.add(Activation(\"sigmoid\"))\n",
        "\n",
        "print(rnn.summary())\n",
        "rnn.compile(loss = \"binary_crossentropy\", optimizer = \"rmsprop\", metrics = [\"accuracy\"])"
      ],
      "metadata": {
        "colab": {
          "base_uri": "https://localhost:8080/"
        },
        "id": "4lW5AJKDNaPa",
        "outputId": "ac54ad17-3416-4d4e-9fde-86e01978279f"
      },
      "execution_count": 25,
      "outputs": [
        {
          "output_type": "stream",
          "name": "stdout",
          "text": [
            "Model: \"sequential_1\"\n",
            "_________________________________________________________________\n",
            " Layer (type)                Output Shape              Param #   \n",
            "=================================================================\n",
            " embedding (Embedding)       (None, 130, 32)           480000    \n",
            "                                                                 \n",
            " simple_rnn (SimpleRNN)      (None, 16)                784       \n",
            "                                                                 \n",
            " dense_3 (Dense)             (None, 1)                 17        \n",
            "                                                                 \n",
            " activation (Activation)     (None, 1)                 0         \n",
            "                                                                 \n",
            "=================================================================\n",
            "Total params: 480,801\n",
            "Trainable params: 480,801\n",
            "Non-trainable params: 0\n",
            "_________________________________________________________________\n",
            "None\n"
          ]
        }
      ]
    },
    {
      "cell_type": "code",
      "source": [
        "def L(epoch , Ir):\n",
        "  if epoch < 2:\n",
        "    return Ir\n",
        "  else:\n",
        "    return Ir*np.exp(-0.2)\n",
        "  \n",
        "E = tf.keras.callbacks.EarlyStopping(patience=3 , monitor = 'val_acc')\n",
        "L = tf.keras.callbacks.LearningRateScheduler(L)\n",
        "M = tf.keras.callbacks.ModelCheckpoint(filepath='/tmp/blah')"
      ],
      "metadata": {
        "id": "FBqmBisWMCaz"
      },
      "execution_count": 42,
      "outputs": []
    },
    {
      "cell_type": "code",
      "source": [
        "x_train = pad_sequences(x_train, maxlen = 130)\n",
        "x_test = pad_sequences(x_test, maxlen = 130)"
      ],
      "metadata": {
        "id": "kyrQ5OzBRook"
      },
      "execution_count": 43,
      "outputs": []
    },
    {
      "cell_type": "code",
      "source": [
        "history = rnn.fit(x_train, Y_train, validation_split=0.1,epochs = 20, batch_size = 128, verbose = 1, callbacks=[E, L, M])"
      ],
      "metadata": {
        "colab": {
          "base_uri": "https://localhost:8080/"
        },
        "id": "8eX0K5YVRAOH",
        "outputId": "8b4b41e2-3b07-4759-c67b-daf5cd86f1f6"
      },
      "execution_count": 44,
      "outputs": [
        {
          "output_type": "stream",
          "name": "stdout",
          "text": [
            "Epoch 1/20\n",
            "175/176 [============================>.] - ETA: 0s - loss: 0.0583 - accuracy: 0.9805WARNING:tensorflow:Early stopping conditioned on metric `val_acc` which is not available. Available metrics are: loss,accuracy,val_loss,val_accuracy\n",
            "INFO:tensorflow:Assets written to: /tmp/blah/assets\n",
            "176/176 [==============================] - 6s 32ms/step - loss: 0.0583 - accuracy: 0.9804 - val_loss: 0.5264 - val_accuracy: 0.8556 - lr: 2.7324e-05\n",
            "Epoch 2/20\n",
            "176/176 [==============================] - ETA: 0s - loss: 0.0577 - accuracy: 0.9811WARNING:tensorflow:Early stopping conditioned on metric `val_acc` which is not available. Available metrics are: loss,accuracy,val_loss,val_accuracy\n",
            "INFO:tensorflow:Assets written to: /tmp/blah/assets\n",
            "176/176 [==============================] - 6s 33ms/step - loss: 0.0577 - accuracy: 0.9811 - val_loss: 0.5296 - val_accuracy: 0.8552 - lr: 2.7324e-05\n",
            "Epoch 3/20\n",
            "176/176 [==============================] - ETA: 0s - loss: 0.0570 - accuracy: 0.9812WARNING:tensorflow:Early stopping conditioned on metric `val_acc` which is not available. Available metrics are: loss,accuracy,val_loss,val_accuracy\n",
            "INFO:tensorflow:Assets written to: /tmp/blah/assets\n",
            "176/176 [==============================] - 7s 40ms/step - loss: 0.0570 - accuracy: 0.9812 - val_loss: 0.5230 - val_accuracy: 0.8548 - lr: 2.2371e-05\n",
            "Epoch 4/20\n",
            "176/176 [==============================] - ETA: 0s - loss: 0.0563 - accuracy: 0.9816WARNING:tensorflow:Early stopping conditioned on metric `val_acc` which is not available. Available metrics are: loss,accuracy,val_loss,val_accuracy\n",
            "INFO:tensorflow:Assets written to: /tmp/blah/assets\n",
            "176/176 [==============================] - 5s 31ms/step - loss: 0.0563 - accuracy: 0.9816 - val_loss: 0.5248 - val_accuracy: 0.8588 - lr: 1.8316e-05\n",
            "Epoch 5/20\n",
            "174/176 [============================>.] - ETA: 0s - loss: 0.0559 - accuracy: 0.9814WARNING:tensorflow:Early stopping conditioned on metric `val_acc` which is not available. Available metrics are: loss,accuracy,val_loss,val_accuracy\n",
            "INFO:tensorflow:Assets written to: /tmp/blah/assets\n",
            "176/176 [==============================] - 5s 31ms/step - loss: 0.0559 - accuracy: 0.9814 - val_loss: 0.5298 - val_accuracy: 0.8572 - lr: 1.4996e-05\n",
            "Epoch 6/20\n",
            "176/176 [==============================] - ETA: 0s - loss: 0.0555 - accuracy: 0.9816WARNING:tensorflow:Early stopping conditioned on metric `val_acc` which is not available. Available metrics are: loss,accuracy,val_loss,val_accuracy\n",
            "INFO:tensorflow:Assets written to: /tmp/blah/assets\n",
            "176/176 [==============================] - 6s 32ms/step - loss: 0.0555 - accuracy: 0.9816 - val_loss: 0.5258 - val_accuracy: 0.8548 - lr: 1.2277e-05\n",
            "Epoch 7/20\n",
            "174/176 [============================>.] - ETA: 0s - loss: 0.0551 - accuracy: 0.9820WARNING:tensorflow:Early stopping conditioned on metric `val_acc` which is not available. Available metrics are: loss,accuracy,val_loss,val_accuracy\n",
            "INFO:tensorflow:Assets written to: /tmp/blah/assets\n",
            "176/176 [==============================] - 5s 31ms/step - loss: 0.0550 - accuracy: 0.9820 - val_loss: 0.5355 - val_accuracy: 0.8568 - lr: 1.0052e-05\n",
            "Epoch 8/20\n",
            "175/176 [============================>.] - ETA: 0s - loss: 0.0550 - accuracy: 0.9818WARNING:tensorflow:Early stopping conditioned on metric `val_acc` which is not available. Available metrics are: loss,accuracy,val_loss,val_accuracy\n",
            "INFO:tensorflow:Assets written to: /tmp/blah/assets\n",
            "176/176 [==============================] - 5s 31ms/step - loss: 0.0548 - accuracy: 0.9819 - val_loss: 0.5296 - val_accuracy: 0.8540 - lr: 8.2297e-06\n",
            "Epoch 9/20\n",
            "176/176 [==============================] - ETA: 0s - loss: 0.0546 - accuracy: 0.9820WARNING:tensorflow:Early stopping conditioned on metric `val_acc` which is not available. Available metrics are: loss,accuracy,val_loss,val_accuracy\n",
            "INFO:tensorflow:Assets written to: /tmp/blah/assets\n",
            "176/176 [==============================] - 5s 31ms/step - loss: 0.0546 - accuracy: 0.9820 - val_loss: 0.5320 - val_accuracy: 0.8536 - lr: 6.7379e-06\n",
            "Epoch 10/20\n",
            "175/176 [============================>.] - ETA: 0s - loss: 0.0543 - accuracy: 0.9821WARNING:tensorflow:Early stopping conditioned on metric `val_acc` which is not available. Available metrics are: loss,accuracy,val_loss,val_accuracy\n",
            "INFO:tensorflow:Assets written to: /tmp/blah/assets\n",
            "176/176 [==============================] - 6s 33ms/step - loss: 0.0544 - accuracy: 0.9820 - val_loss: 0.5337 - val_accuracy: 0.8564 - lr: 5.5166e-06\n",
            "Epoch 11/20\n",
            "174/176 [============================>.] - ETA: 0s - loss: 0.0541 - accuracy: 0.9823WARNING:tensorflow:Early stopping conditioned on metric `val_acc` which is not available. Available metrics are: loss,accuracy,val_loss,val_accuracy\n",
            "INFO:tensorflow:Assets written to: /tmp/blah/assets\n",
            "176/176 [==============================] - 6s 34ms/step - loss: 0.0542 - accuracy: 0.9822 - val_loss: 0.5305 - val_accuracy: 0.8544 - lr: 4.5166e-06\n",
            "Epoch 12/20\n",
            "174/176 [============================>.] - ETA: 0s - loss: 0.0541 - accuracy: 0.9822WARNING:tensorflow:Early stopping conditioned on metric `val_acc` which is not available. Available metrics are: loss,accuracy,val_loss,val_accuracy\n",
            "INFO:tensorflow:Assets written to: /tmp/blah/assets\n",
            "176/176 [==============================] - 6s 36ms/step - loss: 0.0541 - accuracy: 0.9821 - val_loss: 0.5356 - val_accuracy: 0.8544 - lr: 3.6979e-06\n",
            "Epoch 13/20\n",
            "176/176 [==============================] - ETA: 0s - loss: 0.0540 - accuracy: 0.9821WARNING:tensorflow:Early stopping conditioned on metric `val_acc` which is not available. Available metrics are: loss,accuracy,val_loss,val_accuracy\n",
            "INFO:tensorflow:Assets written to: /tmp/blah/assets\n",
            "176/176 [==============================] - 5s 31ms/step - loss: 0.0540 - accuracy: 0.9821 - val_loss: 0.5343 - val_accuracy: 0.8540 - lr: 3.0276e-06\n",
            "Epoch 14/20\n",
            "176/176 [==============================] - ETA: 0s - loss: 0.0539 - accuracy: 0.9822WARNING:tensorflow:Early stopping conditioned on metric `val_acc` which is not available. Available metrics are: loss,accuracy,val_loss,val_accuracy\n",
            "INFO:tensorflow:Assets written to: /tmp/blah/assets\n",
            "176/176 [==============================] - 6s 33ms/step - loss: 0.0539 - accuracy: 0.9822 - val_loss: 0.5317 - val_accuracy: 0.8540 - lr: 2.4788e-06\n",
            "Epoch 15/20\n",
            "176/176 [==============================] - ETA: 0s - loss: 0.0539 - accuracy: 0.9822WARNING:tensorflow:Early stopping conditioned on metric `val_acc` which is not available. Available metrics are: loss,accuracy,val_loss,val_accuracy\n",
            "INFO:tensorflow:Assets written to: /tmp/blah/assets\n",
            "176/176 [==============================] - 5s 31ms/step - loss: 0.0539 - accuracy: 0.9822 - val_loss: 0.5361 - val_accuracy: 0.8552 - lr: 2.0294e-06\n",
            "Epoch 16/20\n",
            "175/176 [============================>.] - ETA: 0s - loss: 0.0538 - accuracy: 0.9823WARNING:tensorflow:Early stopping conditioned on metric `val_acc` which is not available. Available metrics are: loss,accuracy,val_loss,val_accuracy\n",
            "INFO:tensorflow:Assets written to: /tmp/blah/assets\n",
            "176/176 [==============================] - 5s 31ms/step - loss: 0.0538 - accuracy: 0.9823 - val_loss: 0.5369 - val_accuracy: 0.8564 - lr: 1.6616e-06\n",
            "Epoch 17/20\n",
            "175/176 [============================>.] - ETA: 0s - loss: 0.0540 - accuracy: 0.9821WARNING:tensorflow:Early stopping conditioned on metric `val_acc` which is not available. Available metrics are: loss,accuracy,val_loss,val_accuracy\n",
            "INFO:tensorflow:Assets written to: /tmp/blah/assets\n",
            "176/176 [==============================] - 5s 31ms/step - loss: 0.0538 - accuracy: 0.9822 - val_loss: 0.5356 - val_accuracy: 0.8540 - lr: 1.3604e-06\n",
            "Epoch 18/20\n",
            "174/176 [============================>.] - ETA: 0s - loss: 0.0538 - accuracy: 0.9822WARNING:tensorflow:Early stopping conditioned on metric `val_acc` which is not available. Available metrics are: loss,accuracy,val_loss,val_accuracy\n",
            "INFO:tensorflow:Assets written to: /tmp/blah/assets\n",
            "176/176 [==============================] - 6s 34ms/step - loss: 0.0538 - accuracy: 0.9822 - val_loss: 0.5369 - val_accuracy: 0.8544 - lr: 1.1138e-06\n",
            "Epoch 19/20\n",
            "176/176 [==============================] - ETA: 0s - loss: 0.0537 - accuracy: 0.9823WARNING:tensorflow:Early stopping conditioned on metric `val_acc` which is not available. Available metrics are: loss,accuracy,val_loss,val_accuracy\n",
            "INFO:tensorflow:Assets written to: /tmp/blah/assets\n",
            "176/176 [==============================] - 6s 31ms/step - loss: 0.0537 - accuracy: 0.9823 - val_loss: 0.5368 - val_accuracy: 0.8552 - lr: 9.1188e-07\n",
            "Epoch 20/20\n",
            "176/176 [==============================] - ETA: 0s - loss: 0.0537 - accuracy: 0.9823WARNING:tensorflow:Early stopping conditioned on metric `val_acc` which is not available. Available metrics are: loss,accuracy,val_loss,val_accuracy\n",
            "INFO:tensorflow:Assets written to: /tmp/blah/assets\n",
            "176/176 [==============================] - 6s 32ms/step - loss: 0.0537 - accuracy: 0.9823 - val_loss: 0.5365 - val_accuracy: 0.8556 - lr: 7.4659e-07\n"
          ]
        }
      ]
    },
    {
      "cell_type": "code",
      "source": [
        "score = rnn.evaluate(x_test, Y_test)\n",
        "print(\"Accuracy: %\",score[1]*100)"
      ],
      "metadata": {
        "id": "1ME98bHgRWpG",
        "colab": {
          "base_uri": "https://localhost:8080/"
        },
        "outputId": "aa9c6b8f-5e99-40a4-9985-f8fe3984db57"
      },
      "execution_count": 45,
      "outputs": [
        {
          "output_type": "stream",
          "name": "stdout",
          "text": [
            "782/782 [==============================] - 4s 5ms/step - loss: 0.5598 - accuracy: 0.8420\n",
            "Accuracy: % 84.19600129127502\n"
          ]
        }
      ]
    },
    {
      "cell_type": "code",
      "source": [
        "plt.figure(figsize=(10,6))\n",
        "plt.plot(history.history[\"accuracy\"], label = \"Train\", color = 'r')\n",
        "plt.plot(history.history[\"val_accuracy\"], label = \"Test\", color = 'g')\n",
        "plt.title(\"Accuracy\")\n",
        "plt.ylabel(\"Accuracy\")\n",
        "plt.xlabel(\"Epochs\")\n",
        "plt.legend()\n",
        "plt.show()"
      ],
      "metadata": {
        "colab": {
          "base_uri": "https://localhost:8080/",
          "height": 404
        },
        "id": "WVDIR4raDuk-",
        "outputId": "2450429f-7813-414e-e8f3-14a7a63c7f46"
      },
      "execution_count": 46,
      "outputs": [
        {
          "output_type": "display_data",
          "data": {
            "text/plain": [
              "<Figure size 720x432 with 1 Axes>"
            ],
            "image/png": "[encoded data removed]"
          },
          "metadata": {
            "needs_background": "light"
          }
        }
      ]
    },
    {
      "cell_type": "code",
      "source": [
        "plt.figure(figsize=(10,6))\n",
        "plt.plot(history.history[\"loss\"], label = \"Train\", color = 'r')\n",
        "plt.plot(history.history[\"val_loss\"], label = \"Test\", color = 'g')\n",
        "plt.title(\"Loss\")\n",
        "plt.ylabel(\"Loss\")\n",
        "plt.xlabel(\"Epochs\")\n",
        "plt.legend()\n",
        "plt.show()"
      ],
      "metadata": {
        "colab": {
          "base_uri": "https://localhost:8080/",
          "height": 404
        },
        "id": "GhWJeFnwEKn9",
        "outputId": "c2951b0b-d758-4444-8f3c-0f1fce36d590"
      },
      "execution_count": 47,
      "outputs": [
        {
          "output_type": "display_data",
          "data": {
            "text/plain": [
              "<Figure size 720x432 with 1 Axes>"
            ],
            "image/png": "[encoded data removed]"
          },
          "metadata": {
            "needs_background": "light"
          }
        }
      ]
    },
    {
      "cell_type": "code",
      "source": [
        "y_pred_float = rnn.predict(x_test)\n",
        "y_pred = np.round(y_pred_float)"
      ],
      "metadata": {
        "id": "E33x-FzMGB7h"
      },
      "execution_count": 48,
      "outputs": []
    },
    {
      "cell_type": "code",
      "source": [
        "CM = sl.metrics.confusion_matrix(y_true=Y_test,y_pred=y_pred)\n",
        "sb.heatmap(CM,annot=True )\n",
        "plt.xlabel('Predicted')\n",
        "plt.ylabel('True')\n",
        "plt.show()"
      ],
      "metadata": {
        "colab": {
          "base_uri": "https://localhost:8080/",
          "height": 279
        },
        "id": "cJ2nrG2QFlf-",
        "outputId": "1cacc504-1ae3-4c80-9a31-a0d6cd4f3849"
      },
      "execution_count": 49,
      "outputs": [
        {
          "output_type": "display_data",
          "data": {
            "text/plain": [
              "<Figure size 432x288 with 2 Axes>"
            ],
            "image/png": "[encoded data removed]"
          },
          "metadata": {
            "needs_background": "light"
          }
        }
      ]
    },
    {
      "cell_type": "code",
      "source": [
        ""
      ],
      "metadata": {
        "id": "vbNOTg4KGee2"
      },
      "execution_count": null,
      "outputs": []
    },
    {
      "cell_type": "code",
      "source": [
        ""
      ],
      "metadata": {
        "id": "ZCWl06BqH6J6"
      },
      "execution_count": null,
      "outputs": []
    },
    {
      "cell_type": "markdown",
      "source": [
        "# Problem 4"
      ],
      "metadata": {
        "id": "qqKGH76HH7Af"
      }
    },
    {
      "cell_type": "code",
      "source": [
        ""
      ],
      "metadata": {
        "id": "lqHOJUQJIAQG"
      },
      "execution_count": null,
      "outputs": []
    }
  ],
  "metadata": {
    "colab": {
      "collapsed_sections": [],
      "name": "RNN.ipynb",
      "provenance": [],
      "authorship_tag": "ABX9TyOry3UcklG+zA3sR7jtYalI",
      "include_colab_link": true
    },
    "kernelspec": {
      "display_name": "Python 3",
      "name": "python3"
    },
    "language_info": {
      "name": "python"
    }
  },
  "nbformat": 4,
  "nbformat_minor": 0
}