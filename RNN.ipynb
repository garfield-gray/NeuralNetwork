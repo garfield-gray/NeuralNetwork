{
  "cells": [
    {
      "cell_type": "markdown",
      "metadata": {
        "id": "view-in-github",
        "colab_type": "text"
      },
      "source": [
        "<a href=\"https://colab.research.google.com/github/garfield-gray/NeuralNetwork/blob/main/RNN.ipynb\" target=\"_parent\"><img src=\"https://colab.research.google.com/assets/colab-badge.svg\" alt=\"Open In Colab\"/></a>"
      ]
    },
    {
      "cell_type": "code",
      "execution_count": 32,
      "metadata": {
        "id": "HY54IdU3UqZc"
      },
      "outputs": [],
      "source": [
        "import numpy as np\n",
        "import tensorflow as tf\n",
        "\n",
        "import sklearn as sl\n",
        "from sklearn import datasets\n",
        "from sklearn.model_selection import train_test_split\n",
        "import pandas as pd \n",
        "import matplotlib.pyplot as plt\n",
        "import seaborn as sb\n"
      ]
    },
    {
      "cell_type": "code",
      "execution_count": 33,
      "metadata": {
        "id": "Rf3sAKGSUxI7"
      },
      "outputs": [],
      "source": [
        "d = datasets.load_breast_cancer()\n",
        "x = d.data\n",
        "y = d.target"
      ]
    },
    {
      "cell_type": "code",
      "source": [
        "x_train,x_test,y_train,y_test = train_test_split(x,y,test_size=0.2,random_state=0)\n",
        "\n",
        "print('Shape of the training set:'+\" \"+str(x_train.shape))\n",
        "print('Size of the training set:'+\" \"+str(x_train.shape[0]))\n",
        "\n",
        "print('Shape of the testing set:'+\" \"+str(x_test.shape))\n",
        "print('Size of the testing set:'+\" \"+str(x_test.shape[0]))"
      ],
      "metadata": {
        "colab": {
          "base_uri": "https://localhost:8080/"
        },
        "id": "AbxXkpo54XgC",
        "outputId": "ab65a715-e689-441d-9029-fd41907cfd31"
      },
      "execution_count": 34,
      "outputs": [
        {
          "output_type": "stream",
          "name": "stdout",
          "text": [
            "Shape of the training set: (455, 30)\n",
            "Size of the training set: 455\n",
            "Shape of the testing set: (114, 30)\n",
            "Size of the testing set: 114\n"
          ]
        }
      ]
    },
    {
      "cell_type": "code",
      "source": [
        "model = tf.keras.Sequential([\n",
        "    tf.keras.layers.Dense(32 ,activation='relu',input_shape=(30,)),\n",
        "    tf.keras.layers.Dense(32 ,activation='relu'),\n",
        "    tf.keras.layers.Dense(1,activation='sigmoid')\n",
        "])\n",
        "model.summary()"
      ],
      "metadata": {
        "colab": {
          "base_uri": "https://localhost:8080/"
        },
        "id": "c0nJKOMh5AMq",
        "outputId": "43d53b68-a1d4-4006-8884-9b5b600f714c"
      },
      "execution_count": 35,
      "outputs": [
        {
          "output_type": "stream",
          "name": "stdout",
          "text": [
            "Model: \"sequential_3\"\n",
            "_________________________________________________________________\n",
            " Layer (type)                Output Shape              Param #   \n",
            "=================================================================\n",
            " dense_9 (Dense)             (None, 32)                992       \n",
            "                                                                 \n",
            " dense_10 (Dense)            (None, 32)                1056      \n",
            "                                                                 \n",
            " dense_11 (Dense)            (None, 1)                 33        \n",
            "                                                                 \n",
            "=================================================================\n",
            "Total params: 2,081\n",
            "Trainable params: 2,081\n",
            "Non-trainable params: 0\n",
            "_________________________________________________________________\n"
          ]
        }
      ]
    },
    {
      "cell_type": "code",
      "source": [
        "def L(epoch , Ir):\n",
        "  if epoch < 2:\n",
        "    return Ir\n",
        "  else:\n",
        "    return Ir*np.exp(-0.2)\n",
        "  \n",
        "E = tf.keras.callbacks.EarlyStopping(patience=3 , monitor = 'val_acc')\n",
        "L = tf.keras.callbacks.LearningRateScheduler(L)"
      ],
      "metadata": {
        "id": "S1uUK2_NTZOg"
      },
      "execution_count": 52,
      "outputs": []
    },
    {
      "cell_type": "code",
      "source": [
        "model.compile(optimizer='Adam',loss='binary_crossentropy',metrics=['accuracy'])\n",
        "history = model.fit(x_train, y_train , validation_split=0.1,epochs=100,batch_size=32, callbacks=[E, L])"
      ],
      "metadata": {
        "colab": {
          "base_uri": "https://localhost:8080/"
        },
        "id": "O4k3IzWc60BP",
        "outputId": "996f31ec-d9d2-44ad-d89f-6dd80afb5e67"
      },
      "execution_count": 55,
      "outputs": [
        {
          "output_type": "stream",
          "name": "stdout",
          "text": [
            "Epoch 1/100\n",
            " 1/13 [=>............................] - ETA: 8s - loss: 0.3363 - accuracy: 0.8750WARNING:tensorflow:Early stopping conditioned on metric `val_acc` which is not available. Available metrics are: loss,accuracy,val_loss,val_accuracy\n",
            "13/13 [==============================] - 1s 25ms/step - loss: 0.6138 - accuracy: 0.8044 - val_loss: 0.4682 - val_accuracy: 0.8913 - lr: 0.0010\n",
            "Epoch 2/100\n",
            " 1/13 [=>............................] - ETA: 0s - loss: 0.3040 - accuracy: 0.8750WARNING:tensorflow:Early stopping conditioned on metric `val_acc` which is not available. Available metrics are: loss,accuracy,val_loss,val_accuracy\n",
            "13/13 [==============================] - 0s 6ms/step - loss: 0.2797 - accuracy: 0.9144 - val_loss: 0.3659 - val_accuracy: 0.9130 - lr: 0.0010\n",
            "Epoch 3/100\n",
            " 1/13 [=>............................] - ETA: 0s - loss: 0.0353 - accuracy: 1.0000WARNING:tensorflow:Early stopping conditioned on metric `val_acc` which is not available. Available metrics are: loss,accuracy,val_loss,val_accuracy\n",
            "13/13 [==============================] - 0s 6ms/step - loss: 0.1827 - accuracy: 0.9291 - val_loss: 0.3016 - val_accuracy: 0.9130 - lr: 8.1873e-04\n",
            "Epoch 4/100\n",
            " 1/13 [=>............................] - ETA: 0s - loss: 0.0696 - accuracy: 0.9688WARNING:tensorflow:Early stopping conditioned on metric `val_acc` which is not available. Available metrics are: loss,accuracy,val_loss,val_accuracy\n",
            "13/13 [==============================] - 0s 6ms/step - loss: 0.1814 - accuracy: 0.9267 - val_loss: 0.2993 - val_accuracy: 0.9130 - lr: 6.7032e-04\n",
            "Epoch 5/100\n",
            " 1/13 [=>............................] - ETA: 0s - loss: 0.2325 - accuracy: 0.8750WARNING:tensorflow:Early stopping conditioned on metric `val_acc` which is not available. Available metrics are: loss,accuracy,val_loss,val_accuracy\n",
            "13/13 [==============================] - 0s 6ms/step - loss: 0.1924 - accuracy: 0.9169 - val_loss: 0.3120 - val_accuracy: 0.9130 - lr: 5.4881e-04\n",
            "Epoch 6/100\n",
            " 1/13 [=>............................] - ETA: 0s - loss: 0.0888 - accuracy: 0.9688WARNING:tensorflow:Early stopping conditioned on metric `val_acc` which is not available. Available metrics are: loss,accuracy,val_loss,val_accuracy\n",
            "13/13 [==============================] - 0s 6ms/step - loss: 0.1724 - accuracy: 0.9340 - val_loss: 0.2200 - val_accuracy: 0.9130 - lr: 4.4933e-04\n",
            "Epoch 7/100\n",
            " 1/13 [=>............................] - ETA: 0s - loss: 0.2467 - accuracy: 0.9062WARNING:tensorflow:Early stopping conditioned on metric `val_acc` which is not available. Available metrics are: loss,accuracy,val_loss,val_accuracy\n",
            "13/13 [==============================] - 0s 7ms/step - loss: 0.1735 - accuracy: 0.9291 - val_loss: 0.2165 - val_accuracy: 0.9130 - lr: 3.6788e-04\n",
            "Epoch 8/100\n",
            " 1/13 [=>............................] - ETA: 0s - loss: 0.1228 - accuracy: 0.9375WARNING:tensorflow:Early stopping conditioned on metric `val_acc` which is not available. Available metrics are: loss,accuracy,val_loss,val_accuracy\n",
            "13/13 [==============================] - 0s 7ms/step - loss: 0.1645 - accuracy: 0.9291 - val_loss: 0.2465 - val_accuracy: 0.8913 - lr: 3.0119e-04\n",
            "Epoch 9/100\n",
            " 1/13 [=>............................] - ETA: 0s - loss: 0.0620 - accuracy: 0.9688WARNING:tensorflow:Early stopping conditioned on metric `val_acc` which is not available. Available metrics are: loss,accuracy,val_loss,val_accuracy\n",
            "13/13 [==============================] - 0s 6ms/step - loss: 0.1664 - accuracy: 0.9315 - val_loss: 0.2120 - val_accuracy: 0.8913 - lr: 2.4660e-04\n",
            "Epoch 10/100\n",
            "13/13 [==============================] - ETA: 0s - loss: 0.1717 - accuracy: 0.9364WARNING:tensorflow:Early stopping conditioned on metric `val_acc` which is not available. Available metrics are: loss,accuracy,val_loss,val_accuracy\n",
            "13/13 [==============================] - 0s 8ms/step - loss: 0.1717 - accuracy: 0.9364 - val_loss: 0.2459 - val_accuracy: 0.8913 - lr: 2.0190e-04\n",
            "Epoch 11/100\n",
            " 1/13 [=>............................] - ETA: 0s - loss: 0.1219 - accuracy: 0.9062WARNING:tensorflow:Early stopping conditioned on metric `val_acc` which is not available. Available metrics are: loss,accuracy,val_loss,val_accuracy\n",
            "13/13 [==============================] - 0s 6ms/step - loss: 0.1735 - accuracy: 0.9315 - val_loss: 0.2730 - val_accuracy: 0.9130 - lr: 1.6530e-04\n",
            "Epoch 12/100\n",
            " 1/13 [=>............................] - ETA: 0s - loss: 0.0499 - accuracy: 1.0000WARNING:tensorflow:Early stopping conditioned on metric `val_acc` which is not available. Available metrics are: loss,accuracy,val_loss,val_accuracy\n",
            "13/13 [==============================] - 0s 9ms/step - loss: 0.1726 - accuracy: 0.9291 - val_loss: 0.2114 - val_accuracy: 0.9130 - lr: 1.3534e-04\n",
            "Epoch 13/100\n",
            " 1/13 [=>............................] - ETA: 0s - loss: 0.2443 - accuracy: 0.8438WARNING:tensorflow:Early stopping conditioned on metric `val_acc` which is not available. Available metrics are: loss,accuracy,val_loss,val_accuracy\n",
            "13/13 [==============================] - 0s 6ms/step - loss: 0.1803 - accuracy: 0.9291 - val_loss: 0.2567 - val_accuracy: 0.9130 - lr: 1.1080e-04\n",
            "Epoch 14/100\n",
            "12/13 [==========================>...] - ETA: 0s - loss: 0.1642 - accuracy: 0.9297WARNING:tensorflow:Early stopping conditioned on metric `val_acc` which is not available. Available metrics are: loss,accuracy,val_loss,val_accuracy\n",
            "13/13 [==============================] - 0s 8ms/step - loss: 0.1733 - accuracy: 0.9291 - val_loss: 0.2301 - val_accuracy: 0.8913 - lr: 9.0718e-05\n",
            "Epoch 15/100\n",
            " 1/13 [=>............................] - ETA: 0s - loss: 0.1696 - accuracy: 0.9375WARNING:tensorflow:Early stopping conditioned on metric `val_acc` which is not available. Available metrics are: loss,accuracy,val_loss,val_accuracy\n",
            "13/13 [==============================] - 0s 7ms/step - loss: 0.1612 - accuracy: 0.9315 - val_loss: 0.2442 - val_accuracy: 0.9130 - lr: 7.4274e-05\n",
            "Epoch 16/100\n",
            " 1/13 [=>............................] - ETA: 0s - loss: 0.0327 - accuracy: 1.0000WARNING:tensorflow:Early stopping conditioned on metric `val_acc` which is not available. Available metrics are: loss,accuracy,val_loss,val_accuracy\n",
            "13/13 [==============================] - 0s 6ms/step - loss: 0.1639 - accuracy: 0.9242 - val_loss: 0.2105 - val_accuracy: 0.9130 - lr: 6.0810e-05\n",
            "Epoch 17/100\n",
            " 1/13 [=>............................] - ETA: 0s - loss: 0.1049 - accuracy: 0.9688WARNING:tensorflow:Early stopping conditioned on metric `val_acc` which is not available. Available metrics are: loss,accuracy,val_loss,val_accuracy\n",
            "13/13 [==============================] - 0s 6ms/step - loss: 0.1648 - accuracy: 0.9267 - val_loss: 0.2333 - val_accuracy: 0.8913 - lr: 4.9787e-05\n",
            "Epoch 18/100\n",
            " 1/13 [=>............................] - ETA: 0s - loss: 0.1527 - accuracy: 0.9062WARNING:tensorflow:Early stopping conditioned on metric `val_acc` which is not available. Available metrics are: loss,accuracy,val_loss,val_accuracy\n",
            "13/13 [==============================] - 0s 6ms/step - loss: 0.1625 - accuracy: 0.9340 - val_loss: 0.2182 - val_accuracy: 0.9130 - lr: 4.0762e-05\n",
            "Epoch 19/100\n",
            " 1/13 [=>............................] - ETA: 0s - loss: 0.1856 - accuracy: 0.9375WARNING:tensorflow:Early stopping conditioned on metric `val_acc` which is not available. Available metrics are: loss,accuracy,val_loss,val_accuracy\n",
            "13/13 [==============================] - 0s 6ms/step - loss: 0.1639 - accuracy: 0.9315 - val_loss: 0.2407 - val_accuracy: 0.9130 - lr: 3.3373e-05\n",
            "Epoch 20/100\n",
            " 1/13 [=>............................] - ETA: 0s - loss: 0.0431 - accuracy: 1.0000WARNING:tensorflow:Early stopping conditioned on metric `val_acc` which is not available. Available metrics are: loss,accuracy,val_loss,val_accuracy\n",
            "13/13 [==============================] - 0s 5ms/step - loss: 0.1610 - accuracy: 0.9315 - val_loss: 0.2153 - val_accuracy: 0.9130 - lr: 2.7324e-05\n",
            "Epoch 21/100\n",
            " 1/13 [=>............................] - ETA: 0s - loss: 0.1873 - accuracy: 0.9375WARNING:tensorflow:Early stopping conditioned on metric `val_acc` which is not available. Available metrics are: loss,accuracy,val_loss,val_accuracy\n",
            "13/13 [==============================] - 0s 8ms/step - loss: 0.1632 - accuracy: 0.9315 - val_loss: 0.2294 - val_accuracy: 0.8913 - lr: 2.2371e-05\n",
            "Epoch 22/100\n",
            " 1/13 [=>............................] - ETA: 0s - loss: 0.1452 - accuracy: 0.9688WARNING:tensorflow:Early stopping conditioned on metric `val_acc` which is not available. Available metrics are: loss,accuracy,val_loss,val_accuracy\n",
            "13/13 [==============================] - 0s 6ms/step - loss: 0.1588 - accuracy: 0.9389 - val_loss: 0.2183 - val_accuracy: 0.9130 - lr: 1.8316e-05\n",
            "Epoch 23/100\n",
            " 1/13 [=>............................] - ETA: 0s - loss: 0.2631 - accuracy: 0.8438WARNING:tensorflow:Early stopping conditioned on metric `val_acc` which is not available. Available metrics are: loss,accuracy,val_loss,val_accuracy\n",
            "13/13 [==============================] - 0s 6ms/step - loss: 0.1605 - accuracy: 0.9340 - val_loss: 0.2178 - val_accuracy: 0.9130 - lr: 1.4996e-05\n",
            "Epoch 24/100\n",
            " 1/13 [=>............................] - ETA: 0s - loss: 0.2180 - accuracy: 0.9062WARNING:tensorflow:Early stopping conditioned on metric `val_acc` which is not available. Available metrics are: loss,accuracy,val_loss,val_accuracy\n",
            "13/13 [==============================] - 0s 6ms/step - loss: 0.1590 - accuracy: 0.9340 - val_loss: 0.2213 - val_accuracy: 0.8913 - lr: 1.2277e-05\n",
            "Epoch 25/100\n",
            " 1/13 [=>............................] - ETA: 0s - loss: 0.2540 - accuracy: 0.8750WARNING:tensorflow:Early stopping conditioned on metric `val_acc` which is not available. Available metrics are: loss,accuracy,val_loss,val_accuracy\n",
            "13/13 [==============================] - 0s 6ms/step - loss: 0.1589 - accuracy: 0.9364 - val_loss: 0.2243 - val_accuracy: 0.8913 - lr: 1.0052e-05\n",
            "Epoch 26/100\n",
            " 1/13 [=>............................] - ETA: 0s - loss: 0.1583 - accuracy: 0.9375WARNING:tensorflow:Early stopping conditioned on metric `val_acc` which is not available. Available metrics are: loss,accuracy,val_loss,val_accuracy\n",
            "13/13 [==============================] - 0s 6ms/step - loss: 0.1587 - accuracy: 0.9364 - val_loss: 0.2242 - val_accuracy: 0.8913 - lr: 8.2297e-06\n",
            "Epoch 27/100\n",
            " 1/13 [=>............................] - ETA: 0s - loss: 0.0383 - accuracy: 1.0000WARNING:tensorflow:Early stopping conditioned on metric `val_acc` which is not available. Available metrics are: loss,accuracy,val_loss,val_accuracy\n",
            "13/13 [==============================] - 0s 7ms/step - loss: 0.1588 - accuracy: 0.9340 - val_loss: 0.2239 - val_accuracy: 0.8913 - lr: 6.7379e-06\n",
            "Epoch 28/100\n",
            " 1/13 [=>............................] - ETA: 0s - loss: 0.1745 - accuracy: 0.9375WARNING:tensorflow:Early stopping conditioned on metric `val_acc` which is not available. Available metrics are: loss,accuracy,val_loss,val_accuracy\n",
            "13/13 [==============================] - 0s 7ms/step - loss: 0.1588 - accuracy: 0.9364 - val_loss: 0.2225 - val_accuracy: 0.8913 - lr: 5.5166e-06\n",
            "Epoch 29/100\n",
            " 1/13 [=>............................] - ETA: 0s - loss: 0.0891 - accuracy: 0.9375WARNING:tensorflow:Early stopping conditioned on metric `val_acc` which is not available. Available metrics are: loss,accuracy,val_loss,val_accuracy\n",
            "13/13 [==============================] - 0s 7ms/step - loss: 0.1589 - accuracy: 0.9340 - val_loss: 0.2241 - val_accuracy: 0.8913 - lr: 4.5166e-06\n",
            "Epoch 30/100\n",
            " 1/13 [=>............................] - ETA: 0s - loss: 0.1134 - accuracy: 0.9375WARNING:tensorflow:Early stopping conditioned on metric `val_acc` which is not available. Available metrics are: loss,accuracy,val_loss,val_accuracy\n",
            "13/13 [==============================] - 0s 7ms/step - loss: 0.1588 - accuracy: 0.9364 - val_loss: 0.2228 - val_accuracy: 0.8913 - lr: 3.6979e-06\n",
            "Epoch 31/100\n",
            " 1/13 [=>............................] - ETA: 0s - loss: 0.0967 - accuracy: 0.9688WARNING:tensorflow:Early stopping conditioned on metric `val_acc` which is not available. Available metrics are: loss,accuracy,val_loss,val_accuracy\n",
            "13/13 [==============================] - 0s 7ms/step - loss: 0.1588 - accuracy: 0.9364 - val_loss: 0.2219 - val_accuracy: 0.8913 - lr: 3.0276e-06\n",
            "Epoch 32/100\n",
            " 1/13 [=>............................] - ETA: 0s - loss: 0.2115 - accuracy: 0.9062WARNING:tensorflow:Early stopping conditioned on metric `val_acc` which is not available. Available metrics are: loss,accuracy,val_loss,val_accuracy\n",
            "13/13 [==============================] - 0s 7ms/step - loss: 0.1586 - accuracy: 0.9364 - val_loss: 0.2223 - val_accuracy: 0.8913 - lr: 2.4788e-06\n",
            "Epoch 33/100\n",
            " 1/13 [=>............................] - ETA: 0s - loss: 0.2344 - accuracy: 0.8750WARNING:tensorflow:Early stopping conditioned on metric `val_acc` which is not available. Available metrics are: loss,accuracy,val_loss,val_accuracy\n",
            "13/13 [==============================] - 0s 6ms/step - loss: 0.1586 - accuracy: 0.9364 - val_loss: 0.2222 - val_accuracy: 0.8913 - lr: 2.0294e-06\n",
            "Epoch 34/100\n",
            " 1/13 [=>............................] - ETA: 0s - loss: 0.2761 - accuracy: 0.8750WARNING:tensorflow:Early stopping conditioned on metric `val_acc` which is not available. Available metrics are: loss,accuracy,val_loss,val_accuracy\n",
            "13/13 [==============================] - 0s 6ms/step - loss: 0.1586 - accuracy: 0.9364 - val_loss: 0.2227 - val_accuracy: 0.8913 - lr: 1.6616e-06\n",
            "Epoch 35/100\n",
            " 1/13 [=>............................] - ETA: 0s - loss: 0.0946 - accuracy: 0.9375WARNING:tensorflow:Early stopping conditioned on metric `val_acc` which is not available. Available metrics are: loss,accuracy,val_loss,val_accuracy\n",
            "13/13 [==============================] - 0s 8ms/step - loss: 0.1586 - accuracy: 0.9364 - val_loss: 0.2229 - val_accuracy: 0.8913 - lr: 1.3604e-06\n",
            "Epoch 36/100\n",
            "11/13 [========================>.....] - ETA: 0s - loss: 0.1629 - accuracy: 0.9318WARNING:tensorflow:Early stopping conditioned on metric `val_acc` which is not available. Available metrics are: loss,accuracy,val_loss,val_accuracy\n",
            "13/13 [==============================] - 0s 14ms/step - loss: 0.1586 - accuracy: 0.9364 - val_loss: 0.2226 - val_accuracy: 0.8913 - lr: 1.1138e-06\n",
            "Epoch 37/100\n",
            "12/13 [==========================>...] - ETA: 0s - loss: 0.1627 - accuracy: 0.9349WARNING:tensorflow:Early stopping conditioned on metric `val_acc` which is not available. Available metrics are: loss,accuracy,val_loss,val_accuracy\n",
            "13/13 [==============================] - 0s 16ms/step - loss: 0.1585 - accuracy: 0.9364 - val_loss: 0.2227 - val_accuracy: 0.8913 - lr: 9.1188e-07\n",
            "Epoch 38/100\n",
            "10/13 [======================>.......] - ETA: 0s - loss: 0.1386 - accuracy: 0.9500WARNING:tensorflow:Early stopping conditioned on metric `val_acc` which is not available. Available metrics are: loss,accuracy,val_loss,val_accuracy\n",
            "13/13 [==============================] - 0s 17ms/step - loss: 0.1586 - accuracy: 0.9364 - val_loss: 0.2231 - val_accuracy: 0.8913 - lr: 7.4659e-07\n",
            "Epoch 39/100\n",
            " 9/13 [===================>..........] - ETA: 0s - loss: 0.1675 - accuracy: 0.9340WARNING:tensorflow:Early stopping conditioned on metric `val_acc` which is not available. Available metrics are: loss,accuracy,val_loss,val_accuracy\n",
            "13/13 [==============================] - 0s 18ms/step - loss: 0.1586 - accuracy: 0.9364 - val_loss: 0.2227 - val_accuracy: 0.8913 - lr: 6.1125e-07\n",
            "Epoch 40/100\n",
            "10/13 [======================>.......] - ETA: 0s - loss: 0.1507 - accuracy: 0.9406WARNING:tensorflow:Early stopping conditioned on metric `val_acc` which is not available. Available metrics are: loss,accuracy,val_loss,val_accuracy\n",
            "13/13 [==============================] - 0s 13ms/step - loss: 0.1585 - accuracy: 0.9364 - val_loss: 0.2228 - val_accuracy: 0.8913 - lr: 5.0045e-07\n",
            "Epoch 41/100\n",
            "10/13 [======================>.......] - ETA: 0s - loss: 0.1732 - accuracy: 0.9281WARNING:tensorflow:Early stopping conditioned on metric `val_acc` which is not available. Available metrics are: loss,accuracy,val_loss,val_accuracy\n",
            "13/13 [==============================] - 0s 14ms/step - loss: 0.1585 - accuracy: 0.9364 - val_loss: 0.2227 - val_accuracy: 0.8913 - lr: 4.0973e-07\n",
            "Epoch 42/100\n",
            "11/13 [========================>.....] - ETA: 0s - loss: 0.1578 - accuracy: 0.9432WARNING:tensorflow:Early stopping conditioned on metric `val_acc` which is not available. Available metrics are: loss,accuracy,val_loss,val_accuracy\n",
            "13/13 [==============================] - 0s 11ms/step - loss: 0.1585 - accuracy: 0.9364 - val_loss: 0.2228 - val_accuracy: 0.8913 - lr: 3.3546e-07\n",
            "Epoch 43/100\n",
            " 1/13 [=>............................] - ETA: 0s - loss: 0.1651 - accuracy: 0.9062WARNING:tensorflow:Early stopping conditioned on metric `val_acc` which is not available. Available metrics are: loss,accuracy,val_loss,val_accuracy\n",
            "13/13 [==============================] - 0s 6ms/step - loss: 0.1585 - accuracy: 0.9364 - val_loss: 0.2228 - val_accuracy: 0.8913 - lr: 2.7465e-07\n",
            "Epoch 44/100\n",
            " 1/13 [=>............................] - ETA: 0s - loss: 0.1783 - accuracy: 0.9375WARNING:tensorflow:Early stopping conditioned on metric `val_acc` which is not available. Available metrics are: loss,accuracy,val_loss,val_accuracy\n",
            "13/13 [==============================] - 0s 6ms/step - loss: 0.1585 - accuracy: 0.9364 - val_loss: 0.2228 - val_accuracy: 0.8913 - lr: 2.2487e-07\n",
            "Epoch 45/100\n",
            " 1/13 [=>............................] - ETA: 0s - loss: 0.1440 - accuracy: 0.9062WARNING:tensorflow:Early stopping conditioned on metric `val_acc` which is not available. Available metrics are: loss,accuracy,val_loss,val_accuracy\n",
            "13/13 [==============================] - 0s 6ms/step - loss: 0.1585 - accuracy: 0.9364 - val_loss: 0.2228 - val_accuracy: 0.8913 - lr: 1.8411e-07\n",
            "Epoch 46/100\n",
            " 1/13 [=>............................] - ETA: 0s - loss: 0.0797 - accuracy: 1.0000WARNING:tensorflow:Early stopping conditioned on metric `val_acc` which is not available. Available metrics are: loss,accuracy,val_loss,val_accuracy\n",
            "13/13 [==============================] - 0s 6ms/step - loss: 0.1585 - accuracy: 0.9364 - val_loss: 0.2228 - val_accuracy: 0.8913 - lr: 1.5073e-07\n",
            "Epoch 47/100\n",
            " 1/13 [=>............................] - ETA: 0s - loss: 0.2424 - accuracy: 0.9062WARNING:tensorflow:Early stopping conditioned on metric `val_acc` which is not available. Available metrics are: loss,accuracy,val_loss,val_accuracy\n",
            "13/13 [==============================] - 0s 6ms/step - loss: 0.1585 - accuracy: 0.9364 - val_loss: 0.2228 - val_accuracy: 0.8913 - lr: 1.2341e-07\n",
            "Epoch 48/100\n",
            " 1/13 [=>............................] - ETA: 0s - loss: 0.2549 - accuracy: 0.9062WARNING:tensorflow:Early stopping conditioned on metric `val_acc` which is not available. Available metrics are: loss,accuracy,val_loss,val_accuracy\n",
            "13/13 [==============================] - 0s 7ms/step - loss: 0.1585 - accuracy: 0.9364 - val_loss: 0.2228 - val_accuracy: 0.8913 - lr: 1.0104e-07\n",
            "Epoch 49/100\n",
            " 1/13 [=>............................] - ETA: 0s - loss: 0.0935 - accuracy: 0.9375WARNING:tensorflow:Early stopping conditioned on metric `val_acc` which is not available. Available metrics are: loss,accuracy,val_loss,val_accuracy\n",
            "13/13 [==============================] - 0s 6ms/step - loss: 0.1585 - accuracy: 0.9364 - val_loss: 0.2228 - val_accuracy: 0.8913 - lr: 8.2724e-08\n",
            "Epoch 50/100\n",
            " 1/13 [=>............................] - ETA: 0s - loss: 0.0825 - accuracy: 0.9688WARNING:tensorflow:Early stopping conditioned on metric `val_acc` which is not available. Available metrics are: loss,accuracy,val_loss,val_accuracy\n",
            "13/13 [==============================] - 0s 7ms/step - loss: 0.1585 - accuracy: 0.9364 - val_loss: 0.2228 - val_accuracy: 0.8913 - lr: 6.7729e-08\n",
            "Epoch 51/100\n",
            " 1/13 [=>............................] - ETA: 0s - loss: 0.2345 - accuracy: 0.9062WARNING:tensorflow:Early stopping conditioned on metric `val_acc` which is not available. Available metrics are: loss,accuracy,val_loss,val_accuracy\n",
            "13/13 [==============================] - 0s 6ms/step - loss: 0.1585 - accuracy: 0.9364 - val_loss: 0.2228 - val_accuracy: 0.8913 - lr: 5.5452e-08\n",
            "Epoch 52/100\n",
            " 1/13 [=>............................] - ETA: 0s - loss: 0.2823 - accuracy: 0.9062WARNING:tensorflow:Early stopping conditioned on metric `val_acc` which is not available. Available metrics are: loss,accuracy,val_loss,val_accuracy\n",
            "13/13 [==============================] - 0s 6ms/step - loss: 0.1585 - accuracy: 0.9364 - val_loss: 0.2228 - val_accuracy: 0.8913 - lr: 4.5400e-08\n",
            "Epoch 53/100\n",
            " 1/13 [=>............................] - ETA: 0s - loss: 0.3957 - accuracy: 0.8438WARNING:tensorflow:Early stopping conditioned on metric `val_acc` which is not available. Available metrics are: loss,accuracy,val_loss,val_accuracy\n",
            "13/13 [==============================] - 0s 6ms/step - loss: 0.1585 - accuracy: 0.9364 - val_loss: 0.2228 - val_accuracy: 0.8913 - lr: 3.7170e-08\n",
            "Epoch 54/100\n",
            " 1/13 [=>............................] - ETA: 0s - loss: 0.1133 - accuracy: 0.9375WARNING:tensorflow:Early stopping conditioned on metric `val_acc` which is not available. Available metrics are: loss,accuracy,val_loss,val_accuracy\n",
            "13/13 [==============================] - 0s 6ms/step - loss: 0.1585 - accuracy: 0.9364 - val_loss: 0.2228 - val_accuracy: 0.8913 - lr: 3.0432e-08\n",
            "Epoch 55/100\n",
            " 1/13 [=>............................] - ETA: 0s - loss: 0.2101 - accuracy: 0.8750WARNING:tensorflow:Early stopping conditioned on metric `val_acc` which is not available. Available metrics are: loss,accuracy,val_loss,val_accuracy\n",
            "13/13 [==============================] - 0s 6ms/step - loss: 0.1585 - accuracy: 0.9364 - val_loss: 0.2228 - val_accuracy: 0.8913 - lr: 2.4916e-08\n",
            "Epoch 56/100\n",
            " 1/13 [=>............................] - ETA: 0s - loss: 0.1338 - accuracy: 0.9688WARNING:tensorflow:Early stopping conditioned on metric `val_acc` which is not available. Available metrics are: loss,accuracy,val_loss,val_accuracy\n",
            "13/13 [==============================] - 0s 6ms/step - loss: 0.1585 - accuracy: 0.9364 - val_loss: 0.2228 - val_accuracy: 0.8913 - lr: 2.0400e-08\n",
            "Epoch 57/100\n",
            " 1/13 [=>............................] - ETA: 0s - loss: 0.0750 - accuracy: 0.9688WARNING:tensorflow:Early stopping conditioned on metric `val_acc` which is not available. Available metrics are: loss,accuracy,val_loss,val_accuracy\n",
            "13/13 [==============================] - 0s 6ms/step - loss: 0.1585 - accuracy: 0.9364 - val_loss: 0.2228 - val_accuracy: 0.8913 - lr: 1.6702e-08\n",
            "Epoch 58/100\n",
            " 1/13 [=>............................] - ETA: 0s - loss: 0.1273 - accuracy: 0.9375WARNING:tensorflow:Early stopping conditioned on metric `val_acc` which is not available. Available metrics are: loss,accuracy,val_loss,val_accuracy\n",
            "13/13 [==============================] - 0s 8ms/step - loss: 0.1585 - accuracy: 0.9364 - val_loss: 0.2228 - val_accuracy: 0.8913 - lr: 1.3674e-08\n",
            "Epoch 59/100\n",
            " 1/13 [=>............................] - ETA: 0s - loss: 0.1134 - accuracy: 0.9375WARNING:tensorflow:Early stopping conditioned on metric `val_acc` which is not available. Available metrics are: loss,accuracy,val_loss,val_accuracy\n",
            "13/13 [==============================] - 0s 6ms/step - loss: 0.1585 - accuracy: 0.9364 - val_loss: 0.2228 - val_accuracy: 0.8913 - lr: 1.1195e-08\n",
            "Epoch 60/100\n",
            " 1/13 [=>............................] - ETA: 0s - loss: 0.1174 - accuracy: 0.9375WARNING:tensorflow:Early stopping conditioned on metric `val_acc` which is not available. Available metrics are: loss,accuracy,val_loss,val_accuracy\n",
            "13/13 [==============================] - 0s 6ms/step - loss: 0.1585 - accuracy: 0.9364 - val_loss: 0.2228 - val_accuracy: 0.8913 - lr: 9.1661e-09\n",
            "Epoch 61/100\n",
            " 1/13 [=>............................] - ETA: 0s - loss: 0.1494 - accuracy: 0.9688WARNING:tensorflow:Early stopping conditioned on metric `val_acc` which is not available. Available metrics are: loss,accuracy,val_loss,val_accuracy\n",
            "13/13 [==============================] - 0s 6ms/step - loss: 0.1585 - accuracy: 0.9364 - val_loss: 0.2228 - val_accuracy: 0.8913 - lr: 7.5046e-09\n",
            "Epoch 62/100\n",
            " 1/13 [=>............................] - ETA: 0s - loss: 0.0343 - accuracy: 1.0000WARNING:tensorflow:Early stopping conditioned on metric `val_acc` which is not available. Available metrics are: loss,accuracy,val_loss,val_accuracy\n",
            "13/13 [==============================] - 0s 6ms/step - loss: 0.1585 - accuracy: 0.9364 - val_loss: 0.2228 - val_accuracy: 0.8913 - lr: 6.1442e-09\n",
            "Epoch 63/100\n",
            " 1/13 [=>............................] - ETA: 0s - loss: 0.2781 - accuracy: 0.8750WARNING:tensorflow:Early stopping conditioned on metric `val_acc` which is not available. Available metrics are: loss,accuracy,val_loss,val_accuracy\n",
            "13/13 [==============================] - 0s 7ms/step - loss: 0.1585 - accuracy: 0.9364 - val_loss: 0.2228 - val_accuracy: 0.8913 - lr: 5.0305e-09\n",
            "Epoch 64/100\n",
            " 1/13 [=>............................] - ETA: 0s - loss: 0.1019 - accuracy: 0.9375WARNING:tensorflow:Early stopping conditioned on metric `val_acc` which is not available. Available metrics are: loss,accuracy,val_loss,val_accuracy\n",
            "13/13 [==============================] - 0s 8ms/step - loss: 0.1585 - accuracy: 0.9364 - val_loss: 0.2228 - val_accuracy: 0.8913 - lr: 4.1186e-09\n",
            "Epoch 65/100\n",
            " 1/13 [=>............................] - ETA: 0s - loss: 0.1306 - accuracy: 0.9688WARNING:tensorflow:Early stopping conditioned on metric `val_acc` which is not available. Available metrics are: loss,accuracy,val_loss,val_accuracy\n",
            "13/13 [==============================] - 0s 6ms/step - loss: 0.1585 - accuracy: 0.9364 - val_loss: 0.2228 - val_accuracy: 0.8913 - lr: 3.3720e-09\n",
            "Epoch 66/100\n",
            " 1/13 [=>............................] - ETA: 0s - loss: 0.0647 - accuracy: 1.0000WARNING:tensorflow:Early stopping conditioned on metric `val_acc` which is not available. Available metrics are: loss,accuracy,val_loss,val_accuracy\n",
            "13/13 [==============================] - 0s 6ms/step - loss: 0.1585 - accuracy: 0.9364 - val_loss: 0.2228 - val_accuracy: 0.8913 - lr: 2.7608e-09\n",
            "Epoch 67/100\n",
            " 1/13 [=>............................] - ETA: 0s - loss: 0.1045 - accuracy: 0.9375WARNING:tensorflow:Early stopping conditioned on metric `val_acc` which is not available. Available metrics are: loss,accuracy,val_loss,val_accuracy\n",
            "13/13 [==============================] - 0s 6ms/step - loss: 0.1585 - accuracy: 0.9364 - val_loss: 0.2228 - val_accuracy: 0.8913 - lr: 2.2603e-09\n",
            "Epoch 68/100\n",
            " 1/13 [=>............................] - ETA: 0s - loss: 0.1059 - accuracy: 0.9688WARNING:tensorflow:Early stopping conditioned on metric `val_acc` which is not available. Available metrics are: loss,accuracy,val_loss,val_accuracy\n",
            "13/13 [==============================] - 0s 6ms/step - loss: 0.1585 - accuracy: 0.9364 - val_loss: 0.2228 - val_accuracy: 0.8913 - lr: 1.8506e-09\n",
            "Epoch 69/100\n",
            " 1/13 [=>............................] - ETA: 0s - loss: 0.1667 - accuracy: 0.9062WARNING:tensorflow:Early stopping conditioned on metric `val_acc` which is not available. Available metrics are: loss,accuracy,val_loss,val_accuracy\n",
            "13/13 [==============================] - 0s 4ms/step - loss: 0.1585 - accuracy: 0.9364 - val_loss: 0.2228 - val_accuracy: 0.8913 - lr: 1.5151e-09\n",
            "Epoch 70/100\n",
            " 1/13 [=>............................] - ETA: 0s - loss: 0.1566 - accuracy: 0.9375WARNING:tensorflow:Early stopping conditioned on metric `val_acc` which is not available. Available metrics are: loss,accuracy,val_loss,val_accuracy\n",
            "13/13 [==============================] - 0s 5ms/step - loss: 0.1585 - accuracy: 0.9364 - val_loss: 0.2228 - val_accuracy: 0.8913 - lr: 1.2405e-09\n",
            "Epoch 71/100\n",
            " 1/13 [=>............................] - ETA: 0s - loss: 0.1124 - accuracy: 0.9375WARNING:tensorflow:Early stopping conditioned on metric `val_acc` which is not available. Available metrics are: loss,accuracy,val_loss,val_accuracy\n",
            "13/13 [==============================] - 0s 4ms/step - loss: 0.1585 - accuracy: 0.9364 - val_loss: 0.2228 - val_accuracy: 0.8913 - lr: 1.0156e-09\n",
            "Epoch 72/100\n",
            " 1/13 [=>............................] - ETA: 0s - loss: 0.0948 - accuracy: 0.9375WARNING:tensorflow:Early stopping conditioned on metric `val_acc` which is not available. Available metrics are: loss,accuracy,val_loss,val_accuracy\n",
            "13/13 [==============================] - 0s 4ms/step - loss: 0.1585 - accuracy: 0.9364 - val_loss: 0.2228 - val_accuracy: 0.8913 - lr: 8.3153e-10\n",
            "Epoch 73/100\n",
            " 1/13 [=>............................] - ETA: 0s - loss: 0.0493 - accuracy: 1.0000WARNING:tensorflow:Early stopping conditioned on metric `val_acc` which is not available. Available metrics are: loss,accuracy,val_loss,val_accuracy\n",
            "13/13 [==============================] - 0s 5ms/step - loss: 0.1585 - accuracy: 0.9364 - val_loss: 0.2228 - val_accuracy: 0.8913 - lr: 6.8080e-10\n",
            "Epoch 74/100\n",
            " 1/13 [=>............................] - ETA: 0s - loss: 0.1824 - accuracy: 0.9062WARNING:tensorflow:Early stopping conditioned on metric `val_acc` which is not available. Available metrics are: loss,accuracy,val_loss,val_accuracy\n",
            "13/13 [==============================] - 0s 4ms/step - loss: 0.1585 - accuracy: 0.9364 - val_loss: 0.2228 - val_accuracy: 0.8913 - lr: 5.5739e-10\n",
            "Epoch 75/100\n",
            " 1/13 [=>............................] - ETA: 0s - loss: 0.1748 - accuracy: 0.9375WARNING:tensorflow:Early stopping conditioned on metric `val_acc` which is not available. Available metrics are: loss,accuracy,val_loss,val_accuracy\n",
            "13/13 [==============================] - 0s 4ms/step - loss: 0.1585 - accuracy: 0.9364 - val_loss: 0.2228 - val_accuracy: 0.8913 - lr: 4.5635e-10\n",
            "Epoch 76/100\n",
            " 1/13 [=>............................] - ETA: 0s - loss: 0.2412 - accuracy: 0.9062WARNING:tensorflow:Early stopping conditioned on metric `val_acc` which is not available. Available metrics are: loss,accuracy,val_loss,val_accuracy\n",
            "13/13 [==============================] - 0s 4ms/step - loss: 0.1585 - accuracy: 0.9364 - val_loss: 0.2228 - val_accuracy: 0.8913 - lr: 3.7363e-10\n",
            "Epoch 77/100\n",
            " 1/13 [=>............................] - ETA: 0s - loss: 0.2726 - accuracy: 0.8750WARNING:tensorflow:Early stopping conditioned on metric `val_acc` which is not available. Available metrics are: loss,accuracy,val_loss,val_accuracy\n",
            "13/13 [==============================] - 0s 4ms/step - loss: 0.1585 - accuracy: 0.9364 - val_loss: 0.2228 - val_accuracy: 0.8913 - lr: 3.0590e-10\n",
            "Epoch 78/100\n",
            " 1/13 [=>............................] - ETA: 0s - loss: 0.2754 - accuracy: 0.8750WARNING:tensorflow:Early stopping conditioned on metric `val_acc` which is not available. Available metrics are: loss,accuracy,val_loss,val_accuracy\n",
            "13/13 [==============================] - 0s 4ms/step - loss: 0.1585 - accuracy: 0.9364 - val_loss: 0.2228 - val_accuracy: 0.8913 - lr: 2.5045e-10\n",
            "Epoch 79/100\n",
            " 1/13 [=>............................] - ETA: 0s - loss: 0.1475 - accuracy: 0.9688WARNING:tensorflow:Early stopping conditioned on metric `val_acc` which is not available. Available metrics are: loss,accuracy,val_loss,val_accuracy\n",
            "13/13 [==============================] - 0s 4ms/step - loss: 0.1585 - accuracy: 0.9364 - val_loss: 0.2228 - val_accuracy: 0.8913 - lr: 2.0505e-10\n",
            "Epoch 80/100\n",
            " 1/13 [=>............................] - ETA: 0s - loss: 0.3400 - accuracy: 0.8750WARNING:tensorflow:Early stopping conditioned on metric `val_acc` which is not available. Available metrics are: loss,accuracy,val_loss,val_accuracy\n",
            "13/13 [==============================] - 0s 4ms/step - loss: 0.1585 - accuracy: 0.9364 - val_loss: 0.2228 - val_accuracy: 0.8913 - lr: 1.6788e-10\n",
            "Epoch 81/100\n",
            " 1/13 [=>............................] - ETA: 0s - loss: 0.1736 - accuracy: 0.9375WARNING:tensorflow:Early stopping conditioned on metric `val_acc` which is not available. Available metrics are: loss,accuracy,val_loss,val_accuracy\n",
            "13/13 [==============================] - 0s 4ms/step - loss: 0.1585 - accuracy: 0.9364 - val_loss: 0.2228 - val_accuracy: 0.8913 - lr: 1.3745e-10\n",
            "Epoch 82/100\n",
            " 1/13 [=>............................] - ETA: 0s - loss: 0.1524 - accuracy: 0.9688WARNING:tensorflow:Early stopping conditioned on metric `val_acc` which is not available. Available metrics are: loss,accuracy,val_loss,val_accuracy\n",
            "13/13 [==============================] - 0s 4ms/step - loss: 0.1585 - accuracy: 0.9364 - val_loss: 0.2228 - val_accuracy: 0.8913 - lr: 1.1254e-10\n",
            "Epoch 83/100\n",
            " 1/13 [=>............................] - ETA: 0s - loss: 0.0933 - accuracy: 0.9688WARNING:tensorflow:Early stopping conditioned on metric `val_acc` which is not available. Available metrics are: loss,accuracy,val_loss,val_accuracy\n",
            "13/13 [==============================] - 0s 4ms/step - loss: 0.1585 - accuracy: 0.9364 - val_loss: 0.2228 - val_accuracy: 0.8913 - lr: 9.2136e-11\n",
            "Epoch 84/100\n",
            " 1/13 [=>............................] - ETA: 0s - loss: 0.0857 - accuracy: 0.9688WARNING:tensorflow:Early stopping conditioned on metric `val_acc` which is not available. Available metrics are: loss,accuracy,val_loss,val_accuracy\n",
            "13/13 [==============================] - 0s 4ms/step - loss: 0.1585 - accuracy: 0.9364 - val_loss: 0.2228 - val_accuracy: 0.8913 - lr: 7.5435e-11\n",
            "Epoch 85/100\n",
            " 1/13 [=>............................] - ETA: 0s - loss: 0.0976 - accuracy: 0.9688WARNING:tensorflow:Early stopping conditioned on metric `val_acc` which is not available. Available metrics are: loss,accuracy,val_loss,val_accuracy\n",
            "13/13 [==============================] - 0s 4ms/step - loss: 0.1585 - accuracy: 0.9364 - val_loss: 0.2228 - val_accuracy: 0.8913 - lr: 6.1761e-11\n",
            "Epoch 86/100\n",
            " 1/13 [=>............................] - ETA: 0s - loss: 0.2649 - accuracy: 0.8750WARNING:tensorflow:Early stopping conditioned on metric `val_acc` which is not available. Available metrics are: loss,accuracy,val_loss,val_accuracy\n",
            "13/13 [==============================] - 0s 4ms/step - loss: 0.1585 - accuracy: 0.9364 - val_loss: 0.2228 - val_accuracy: 0.8913 - lr: 5.0565e-11\n",
            "Epoch 87/100\n",
            " 1/13 [=>............................] - ETA: 0s - loss: 0.2206 - accuracy: 0.9062WARNING:tensorflow:Early stopping conditioned on metric `val_acc` which is not available. Available metrics are: loss,accuracy,val_loss,val_accuracy\n",
            "13/13 [==============================] - 0s 4ms/step - loss: 0.1585 - accuracy: 0.9364 - val_loss: 0.2228 - val_accuracy: 0.8913 - lr: 4.1399e-11\n",
            "Epoch 88/100\n",
            " 1/13 [=>............................] - ETA: 0s - loss: 0.0835 - accuracy: 1.0000WARNING:tensorflow:Early stopping conditioned on metric `val_acc` which is not available. Available metrics are: loss,accuracy,val_loss,val_accuracy\n",
            "13/13 [==============================] - 0s 4ms/step - loss: 0.1585 - accuracy: 0.9364 - val_loss: 0.2228 - val_accuracy: 0.8913 - lr: 3.3895e-11\n",
            "Epoch 89/100\n",
            " 1/13 [=>............................] - ETA: 0s - loss: 0.1898 - accuracy: 0.9375WARNING:tensorflow:Early stopping conditioned on metric `val_acc` which is not available. Available metrics are: loss,accuracy,val_loss,val_accuracy\n",
            "13/13 [==============================] - 0s 4ms/step - loss: 0.1585 - accuracy: 0.9364 - val_loss: 0.2228 - val_accuracy: 0.8913 - lr: 2.7751e-11\n",
            "Epoch 90/100\n",
            " 1/13 [=>............................] - ETA: 0s - loss: 0.2253 - accuracy: 0.9375WARNING:tensorflow:Early stopping conditioned on metric `val_acc` which is not available. Available metrics are: loss,accuracy,val_loss,val_accuracy\n",
            "13/13 [==============================] - 0s 4ms/step - loss: 0.1585 - accuracy: 0.9364 - val_loss: 0.2228 - val_accuracy: 0.8913 - lr: 2.2720e-11\n",
            "Epoch 91/100\n",
            " 1/13 [=>............................] - ETA: 0s - loss: 0.1864 - accuracy: 0.9062WARNING:tensorflow:Early stopping conditioned on metric `val_acc` which is not available. Available metrics are: loss,accuracy,val_loss,val_accuracy\n",
            "13/13 [==============================] - 0s 4ms/step - loss: 0.1585 - accuracy: 0.9364 - val_loss: 0.2228 - val_accuracy: 0.8913 - lr: 1.8602e-11\n",
            "Epoch 92/100\n",
            " 1/13 [=>............................] - ETA: 0s - loss: 0.2235 - accuracy: 0.9062WARNING:tensorflow:Early stopping conditioned on metric `val_acc` which is not available. Available metrics are: loss,accuracy,val_loss,val_accuracy\n",
            "13/13 [==============================] - 0s 5ms/step - loss: 0.1585 - accuracy: 0.9364 - val_loss: 0.2228 - val_accuracy: 0.8913 - lr: 1.5230e-11\n",
            "Epoch 93/100\n",
            " 1/13 [=>............................] - ETA: 0s - loss: 0.0459 - accuracy: 1.0000WARNING:tensorflow:Early stopping conditioned on metric `val_acc` which is not available. Available metrics are: loss,accuracy,val_loss,val_accuracy\n",
            "13/13 [==============================] - 0s 4ms/step - loss: 0.1585 - accuracy: 0.9364 - val_loss: 0.2228 - val_accuracy: 0.8913 - lr: 1.2469e-11\n",
            "Epoch 94/100\n",
            " 1/13 [=>............................] - ETA: 0s - loss: 0.1686 - accuracy: 0.9062WARNING:tensorflow:Early stopping conditioned on metric `val_acc` which is not available. Available metrics are: loss,accuracy,val_loss,val_accuracy\n",
            "13/13 [==============================] - 0s 4ms/step - loss: 0.1585 - accuracy: 0.9364 - val_loss: 0.2228 - val_accuracy: 0.8913 - lr: 1.0209e-11\n",
            "Epoch 95/100\n",
            " 1/13 [=>............................] - ETA: 0s - loss: 0.0854 - accuracy: 0.9688WARNING:tensorflow:Early stopping conditioned on metric `val_acc` which is not available. Available metrics are: loss,accuracy,val_loss,val_accuracy\n",
            "13/13 [==============================] - 0s 4ms/step - loss: 0.1585 - accuracy: 0.9364 - val_loss: 0.2228 - val_accuracy: 0.8913 - lr: 8.3584e-12\n",
            "Epoch 96/100\n",
            " 1/13 [=>............................] - ETA: 0s - loss: 0.1242 - accuracy: 0.9375WARNING:tensorflow:Early stopping conditioned on metric `val_acc` which is not available. Available metrics are: loss,accuracy,val_loss,val_accuracy\n",
            "13/13 [==============================] - 0s 4ms/step - loss: 0.1585 - accuracy: 0.9364 - val_loss: 0.2228 - val_accuracy: 0.8913 - lr: 6.8433e-12\n",
            "Epoch 97/100\n",
            " 1/13 [=>............................] - ETA: 0s - loss: 0.1450 - accuracy: 0.9688WARNING:tensorflow:Early stopping conditioned on metric `val_acc` which is not available. Available metrics are: loss,accuracy,val_loss,val_accuracy\n",
            "13/13 [==============================] - 0s 4ms/step - loss: 0.1585 - accuracy: 0.9364 - val_loss: 0.2228 - val_accuracy: 0.8913 - lr: 5.6028e-12\n",
            "Epoch 98/100\n",
            " 1/13 [=>............................] - ETA: 0s - loss: 0.0660 - accuracy: 0.9688WARNING:tensorflow:Early stopping conditioned on metric `val_acc` which is not available. Available metrics are: loss,accuracy,val_loss,val_accuracy\n",
            "13/13 [==============================] - 0s 4ms/step - loss: 0.1585 - accuracy: 0.9364 - val_loss: 0.2228 - val_accuracy: 0.8913 - lr: 4.5872e-12\n",
            "Epoch 99/100\n",
            " 1/13 [=>............................] - ETA: 0s - loss: 0.1235 - accuracy: 0.9375WARNING:tensorflow:Early stopping conditioned on metric `val_acc` which is not available. Available metrics are: loss,accuracy,val_loss,val_accuracy\n",
            "13/13 [==============================] - 0s 4ms/step - loss: 0.1585 - accuracy: 0.9364 - val_loss: 0.2228 - val_accuracy: 0.8913 - lr: 3.7557e-12\n",
            "Epoch 100/100\n",
            " 1/13 [=>............................] - ETA: 0s - loss: 0.1564 - accuracy: 0.9688WARNING:tensorflow:Early stopping conditioned on metric `val_acc` which is not available. Available metrics are: loss,accuracy,val_loss,val_accuracy\n",
            "13/13 [==============================] - 0s 5ms/step - loss: 0.1585 - accuracy: 0.9364 - val_loss: 0.2228 - val_accuracy: 0.8913 - lr: 3.0749e-12\n"
          ]
        }
      ]
    },
    {
      "cell_type": "code",
      "source": [
        "y_pred_float = model.predict_step(x_test)  \n",
        "y_pred = np.round(y_pred_float)"
      ],
      "metadata": {
        "id": "mVpearpm8xyh"
      },
      "execution_count": 56,
      "outputs": []
    },
    {
      "cell_type": "code",
      "source": [
        "target_list=['benign','malignant']\n",
        "sl.metrics.classification_report(y_true=y_test,y_pred=y_pred,output_dict = True,target_names=target_list)"
      ],
      "metadata": {
        "colab": {
          "base_uri": "https://localhost:8080/"
        },
        "id": "01MGC88eASmY",
        "outputId": "cbe608fa-0347-44b3-80eb-ffe121fa4bf7"
      },
      "execution_count": 57,
      "outputs": [
        {
          "output_type": "execute_result",
          "data": {
            "text/plain": [
              "{'accuracy': 0.9298245614035088,\n",
              " 'benign': {'f1-score': 0.9111111111111112,\n",
              "  'precision': 0.9534883720930233,\n",
              "  'recall': 0.8723404255319149,\n",
              "  'support': 47},\n",
              " 'macro avg': {'f1-score': 0.9265700483091788,\n",
              "  'precision': 0.9344906649197511,\n",
              "  'recall': 0.9212448396316291,\n",
              "  'support': 114},\n",
              " 'malignant': {'f1-score': 0.9420289855072463,\n",
              "  'precision': 0.9154929577464789,\n",
              "  'recall': 0.9701492537313433,\n",
              "  'support': 67},\n",
              " 'weighted avg': {'f1-score': 0.9292821425544538,\n",
              "  'precision': 0.931157733836721,\n",
              "  'recall': 0.9298245614035088,\n",
              "  'support': 114}}"
            ]
          },
          "metadata": {},
          "execution_count": 57
        }
      ]
    },
    {
      "cell_type": "code",
      "source": [
        "plt.figure(figsize=(10,6))\n",
        "plt.plot(history.history['loss'], label = 'train', color='r')\n",
        "plt.plot(history.history['val_loss'], label = 'validation', color='g')\n",
        "plt.xlabel('epoch')\n",
        "plt.ylabel('loss')\n",
        "plt.xticks(np.arange(0, 100, 1))\n",
        "plt.show()"
      ],
      "metadata": {
        "colab": {
          "base_uri": "https://localhost:8080/",
          "height": 388
        },
        "id": "2NzVXsOnPF2g",
        "outputId": "80d03486-f7e6-4323-f89f-0ecb96d4a083"
      },
      "execution_count": 58,
      "outputs": [
        {
          "output_type": "display_data",
          "data": {
            "text/plain": [
              "<Figure size 720x432 with 1 Axes>"
            ],
            "image/png": "[encoded data removed]"
          },
          "metadata": {
            "needs_background": "light"
          }
        }
      ]
    },
    {
      "cell_type": "code",
      "source": [
        "plt.figure(figsize=(10,6))\n",
        "plt.plot(history.history['accuracy'], label = 'train', color='r')\n",
        "plt.plot(history.history['val_accuracy'], label = 'validation', color='g')\n",
        "plt.xlabel('epoch')\n",
        "plt.ylabel('accuracy')\n",
        "plt.xticks(np.arange(0, 100, 1))\n",
        "plt.show()"
      ],
      "metadata": {
        "colab": {
          "base_uri": "https://localhost:8080/",
          "height": 388
        },
        "id": "6BnbEk7jS-xX",
        "outputId": "83408cd3-4341-4bca-c3c8-48bc15f8f233"
      },
      "execution_count": 59,
      "outputs": [
        {
          "output_type": "display_data",
          "data": {
            "text/plain": [
              "<Figure size 720x432 with 1 Axes>"
            ],
            "image/png": "[encoded data removed]"
          },
          "metadata": {
            "needs_background": "light"
          }
        }
      ]
    },
    {
      "cell_type": "code",
      "source": [
        "CM = sl.metrics.confusion_matrix(y_true=y_test,y_pred=y_pred)\n",
        "sb.heatmap(CM,annot=True )\n",
        "plt.xlabel('Predicted')\n",
        "plt.ylabel('True')\n",
        "plt.show()"
      ],
      "metadata": {
        "colab": {
          "base_uri": "https://localhost:8080/",
          "height": 279
        },
        "id": "F2ZYgN6p-s1A",
        "outputId": "b66075b4-075e-482a-8f1f-58e650b57f03"
      },
      "execution_count": 60,
      "outputs": [
        {
          "output_type": "display_data",
          "data": {
            "text/plain": [
              "<Figure size 432x288 with 2 Axes>"
            ],
            "image/png": "[encoded data removed]"
          },
          "metadata": {
            "needs_background": "light"
          }
        }
      ]
    },
    {
      "cell_type": "code",
      "source": [
        ""
      ],
      "metadata": {
        "id": "YlkHyW7kFN0W"
      },
      "execution_count": null,
      "outputs": []
    }
  ],
  "metadata": {
    "colab": {
      "collapsed_sections": [],
      "name": "RNN.ipynb",
      "provenance": [],
      "authorship_tag": "ABX9TyMscXERo9z+c4Y7vbea8VA1",
      "include_colab_link": true
    },
    "kernelspec": {
      "display_name": "Python 3",
      "name": "python3"
    },
    "language_info": {
      "name": "python"
    }
  },
  "nbformat": 4,
  "nbformat_minor": 0
}