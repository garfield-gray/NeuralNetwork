{
  "cells": [
    {
      "cell_type": "markdown",
      "metadata": {
        "id": "view-in-github",
        "colab_type": "text"
      },
      "source": [
        "<a href=\"https://colab.research.google.com/github/garfield-gray/NeuralNetwork/blob/main/RNN.ipynb\" target=\"_parent\"><img src=\"https://colab.research.google.com/assets/colab-badge.svg\" alt=\"Open In Colab\"/></a>"
      ]
    },
    {
      "cell_type": "markdown",
      "source": [
        "$$\n",
        "In\\;the\\;name\\;of\\;God \n",
        "$$\n",
        "$$\n",
        "Project\\;of\\;ML\\;RNN \n",
        "$$"
      ],
      "metadata": {
        "id": "v6G0ZY1RImur"
      }
    },
    {
      "cell_type": "markdown",
      "source": [
        "note: cells must be excecuted in order cause they've been written so"
      ],
      "metadata": {
        "id": "LlNtIq6JJDo-"
      }
    },
    {
      "cell_type": "code",
      "execution_count": 50,
      "metadata": {
        "id": "HY54IdU3UqZc"
      },
      "outputs": [],
      "source": [
        "import numpy as np\n",
        "import tensorflow as tf\n",
        "\n",
        "import sklearn as sl\n",
        "from sklearn import datasets\n",
        "from sklearn.model_selection import train_test_split\n",
        "import pandas as pd \n",
        "import matplotlib.pyplot as plt\n",
        "import seaborn as sb\n"
      ]
    },
    {
      "cell_type": "markdown",
      "source": [
        "# problem 2"
      ],
      "metadata": {
        "id": "Zfrk460k4V4f"
      }
    },
    {
      "cell_type": "code",
      "execution_count": 51,
      "metadata": {
        "id": "Rf3sAKGSUxI7"
      },
      "outputs": [],
      "source": [
        "d = datasets.load_breast_cancer()\n",
        "x = d.data\n",
        "y = d.target"
      ]
    },
    {
      "cell_type": "code",
      "source": [
        "x_train,x_test,y_train,y_test = train_test_split(x,y,test_size=0.2,random_state=0)\n",
        "\n",
        "print('Shape of the training set:'+\" \"+str(x_train.shape))\n",
        "print('Size of the training set:'+\" \"+str(x_train.shape[0]))\n",
        "\n",
        "print('Shape of the testing set:'+\" \"+str(x_test.shape))\n",
        "print('Size of the testing set:'+\" \"+str(x_test.shape[0]))"
      ],
      "metadata": {
        "colab": {
          "base_uri": "https://localhost:8080/"
        },
        "id": "AbxXkpo54XgC",
        "outputId": "0372110e-6fc9-4798-9695-7cbac62168de"
      },
      "execution_count": 52,
      "outputs": [
        {
          "output_type": "stream",
          "name": "stdout",
          "text": [
            "Shape of the training set: (455, 30)\n",
            "Size of the training set: 455\n",
            "Shape of the testing set: (114, 30)\n",
            "Size of the testing set: 114\n"
          ]
        }
      ]
    },
    {
      "cell_type": "code",
      "source": [
        "plt.figure(figsize = (6,6))\n",
        "sb.countplot(y_train)\n",
        "plt.xlabel(\"Classes\")\n",
        "plt.ylabel(\"Freq\")\n",
        "plt.title(\"Y train\")\n",
        "plt.show()"
      ],
      "metadata": {
        "colab": {
          "base_uri": "https://localhost:8080/",
          "height": 459
        },
        "id": "HuVVOcTiNJKT",
        "outputId": "9101eb77-e3b9-4ec0-a259-05d04335fe35"
      },
      "execution_count": 53,
      "outputs": [
        {
          "output_type": "stream",
          "name": "stderr",
          "text": [
            "/usr/local/lib/python3.7/dist-packages/seaborn/_decorators.py:43: FutureWarning: Pass the following variable as a keyword arg: x. From version 0.12, the only valid positional argument will be `data`, and passing other arguments without an explicit keyword will result in an error or misinterpretation.\n",
            "  FutureWarning\n"
          ]
        },
        {
          "output_type": "display_data",
          "data": {
            "text/plain": [
              "<Figure size 432x432 with 1 Axes>"
            ],
            "image/png": "[encoded data removed]"
          },
          "metadata": {
            "needs_background": "light"
          }
        }
      ]
    },
    {
      "cell_type": "code",
      "source": [
        "model = tf.keras.Sequential([\n",
        "    tf.keras.layers.Dense(32 ,activation='relu',input_shape=(30,)),\n",
        "    tf.keras.layers.Dense(32 ,activation='relu'),\n",
        "    tf.keras.layers.Dense(1,activation='sigmoid')\n",
        "])\n",
        "model.summary()"
      ],
      "metadata": {
        "colab": {
          "base_uri": "https://localhost:8080/"
        },
        "id": "c0nJKOMh5AMq",
        "outputId": "6ce41af7-b564-4063-85b0-0f16aa2898f0"
      },
      "execution_count": 54,
      "outputs": [
        {
          "output_type": "stream",
          "name": "stdout",
          "text": [
            "Model: \"sequential_2\"\n",
            "_________________________________________________________________\n",
            " Layer (type)                Output Shape              Param #   \n",
            "=================================================================\n",
            " dense_4 (Dense)             (None, 32)                992       \n",
            "                                                                 \n",
            " dense_5 (Dense)             (None, 32)                1056      \n",
            "                                                                 \n",
            " dense_6 (Dense)             (None, 1)                 33        \n",
            "                                                                 \n",
            "=================================================================\n",
            "Total params: 2,081\n",
            "Trainable params: 2,081\n",
            "Non-trainable params: 0\n",
            "_________________________________________________________________\n"
          ]
        }
      ]
    },
    {
      "cell_type": "code",
      "source": [
        "def L(epoch , Ir):\n",
        "  if epoch < 2:\n",
        "    return Ir\n",
        "  else:\n",
        "    return Ir*np.exp(-0.2)\n",
        "  \n",
        "E = tf.keras.callbacks.EarlyStopping(patience=3 , monitor = 'val_acc')\n",
        "L = tf.keras.callbacks.LearningRateScheduler(L)"
      ],
      "metadata": {
        "id": "S1uUK2_NTZOg"
      },
      "execution_count": 55,
      "outputs": []
    },
    {
      "cell_type": "code",
      "source": [
        "model.compile(optimizer='Adam',loss='binary_crossentropy',metrics=['accuracy'])\n",
        "history = model.fit(x_train, y_train , validation_split=0.1,epochs=100,batch_size=32, callbacks=[E, L])"
      ],
      "metadata": {
        "colab": {
          "base_uri": "https://localhost:8080/"
        },
        "id": "O4k3IzWc60BP",
        "outputId": "4070485d-6cec-4fa9-ed06-ca578eff5c42"
      },
      "execution_count": 56,
      "outputs": [
        {
          "output_type": "stream",
          "name": "stdout",
          "text": [
            "Epoch 1/100\n",
            " 1/13 [=>............................] - ETA: 4s - loss: 10.9063 - accuracy: 0.4062WARNING:tensorflow:Early stopping conditioned on metric `val_acc` which is not available. Available metrics are: loss,accuracy,val_loss,val_accuracy\n",
            "13/13 [==============================] - 0s 11ms/step - loss: 2.7432 - accuracy: 0.6406 - val_loss: 0.9863 - val_accuracy: 0.8696 - lr: 0.0010\n",
            "Epoch 2/100\n",
            " 1/13 [=>............................] - ETA: 0s - loss: 0.4491 - accuracy: 0.9375WARNING:tensorflow:Early stopping conditioned on metric `val_acc` which is not available. Available metrics are: loss,accuracy,val_loss,val_accuracy\n",
            "13/13 [==============================] - 0s 3ms/step - loss: 0.5557 - accuracy: 0.8704 - val_loss: 0.7232 - val_accuracy: 0.8043 - lr: 0.0010\n",
            "Epoch 3/100\n",
            " 1/13 [=>............................] - ETA: 0s - loss: 0.6017 - accuracy: 0.8438WARNING:tensorflow:Early stopping conditioned on metric `val_acc` which is not available. Available metrics are: loss,accuracy,val_loss,val_accuracy\n",
            "13/13 [==============================] - 0s 3ms/step - loss: 0.4036 - accuracy: 0.8949 - val_loss: 0.6929 - val_accuracy: 0.8261 - lr: 8.1873e-04\n",
            "Epoch 4/100\n",
            " 1/13 [=>............................] - ETA: 0s - loss: 0.5872 - accuracy: 0.8438WARNING:tensorflow:Early stopping conditioned on metric `val_acc` which is not available. Available metrics are: loss,accuracy,val_loss,val_accuracy\n",
            "13/13 [==============================] - 0s 3ms/step - loss: 0.3190 - accuracy: 0.8998 - val_loss: 0.6754 - val_accuracy: 0.8261 - lr: 6.7032e-04\n",
            "Epoch 5/100\n",
            " 1/13 [=>............................] - ETA: 0s - loss: 0.4341 - accuracy: 0.9062WARNING:tensorflow:Early stopping conditioned on metric `val_acc` which is not available. Available metrics are: loss,accuracy,val_loss,val_accuracy\n",
            "13/13 [==============================] - 0s 3ms/step - loss: 0.3321 - accuracy: 0.8900 - val_loss: 0.6644 - val_accuracy: 0.8261 - lr: 5.4881e-04\n",
            "Epoch 6/100\n",
            " 1/13 [=>............................] - ETA: 0s - loss: 0.2001 - accuracy: 0.9062WARNING:tensorflow:Early stopping conditioned on metric `val_acc` which is not available. Available metrics are: loss,accuracy,val_loss,val_accuracy\n",
            "13/13 [==============================] - 0s 4ms/step - loss: 0.2987 - accuracy: 0.8998 - val_loss: 0.6923 - val_accuracy: 0.8696 - lr: 4.4933e-04\n",
            "Epoch 7/100\n",
            " 1/13 [=>............................] - ETA: 0s - loss: 0.2291 - accuracy: 0.9062WARNING:tensorflow:Early stopping conditioned on metric `val_acc` which is not available. Available metrics are: loss,accuracy,val_loss,val_accuracy\n",
            "13/13 [==============================] - 0s 3ms/step - loss: 0.3089 - accuracy: 0.8973 - val_loss: 0.7768 - val_accuracy: 0.8696 - lr: 3.6788e-04\n",
            "Epoch 8/100\n",
            " 1/13 [=>............................] - ETA: 0s - loss: 0.4900 - accuracy: 0.8438WARNING:tensorflow:Early stopping conditioned on metric `val_acc` which is not available. Available metrics are: loss,accuracy,val_loss,val_accuracy\n",
            "13/13 [==============================] - 0s 3ms/step - loss: 0.3239 - accuracy: 0.8973 - val_loss: 0.6523 - val_accuracy: 0.8696 - lr: 3.0119e-04\n",
            "Epoch 9/100\n",
            " 1/13 [=>............................] - ETA: 0s - loss: 0.1267 - accuracy: 0.9688WARNING:tensorflow:Early stopping conditioned on metric `val_acc` which is not available. Available metrics are: loss,accuracy,val_loss,val_accuracy\n",
            "13/13 [==============================] - 0s 3ms/step - loss: 0.2918 - accuracy: 0.9095 - val_loss: 0.6659 - val_accuracy: 0.8696 - lr: 2.4660e-04\n",
            "Epoch 10/100\n",
            " 1/13 [=>............................] - ETA: 0s - loss: 0.3230 - accuracy: 0.9375WARNING:tensorflow:Early stopping conditioned on metric `val_acc` which is not available. Available metrics are: loss,accuracy,val_loss,val_accuracy\n",
            "13/13 [==============================] - 0s 4ms/step - loss: 0.2932 - accuracy: 0.9071 - val_loss: 0.6970 - val_accuracy: 0.8696 - lr: 2.0190e-04\n",
            "Epoch 11/100\n",
            " 1/13 [=>............................] - ETA: 0s - loss: 0.1647 - accuracy: 0.9688WARNING:tensorflow:Early stopping conditioned on metric `val_acc` which is not available. Available metrics are: loss,accuracy,val_loss,val_accuracy\n",
            "13/13 [==============================] - 0s 3ms/step - loss: 0.2882 - accuracy: 0.9046 - val_loss: 0.6516 - val_accuracy: 0.8696 - lr: 1.6530e-04\n",
            "Epoch 12/100\n",
            " 1/13 [=>............................] - ETA: 0s - loss: 0.2632 - accuracy: 0.8750WARNING:tensorflow:Early stopping conditioned on metric `val_acc` which is not available. Available metrics are: loss,accuracy,val_loss,val_accuracy\n",
            "13/13 [==============================] - 0s 3ms/step - loss: 0.2866 - accuracy: 0.9046 - val_loss: 0.6892 - val_accuracy: 0.8696 - lr: 1.3534e-04\n",
            "Epoch 13/100\n",
            " 1/13 [=>............................] - ETA: 0s - loss: 0.3120 - accuracy: 0.9375WARNING:tensorflow:Early stopping conditioned on metric `val_acc` which is not available. Available metrics are: loss,accuracy,val_loss,val_accuracy\n",
            "13/13 [==============================] - 0s 3ms/step - loss: 0.2847 - accuracy: 0.9046 - val_loss: 0.6452 - val_accuracy: 0.8696 - lr: 1.1080e-04\n",
            "Epoch 14/100\n",
            " 1/13 [=>............................] - ETA: 0s - loss: 0.1126 - accuracy: 0.9688WARNING:tensorflow:Early stopping conditioned on metric `val_acc` which is not available. Available metrics are: loss,accuracy,val_loss,val_accuracy\n",
            "13/13 [==============================] - 0s 3ms/step - loss: 0.2854 - accuracy: 0.9046 - val_loss: 0.6864 - val_accuracy: 0.8696 - lr: 9.0718e-05\n",
            "Epoch 15/100\n",
            " 1/13 [=>............................] - ETA: 0s - loss: 0.3061 - accuracy: 0.9375WARNING:tensorflow:Early stopping conditioned on metric `val_acc` which is not available. Available metrics are: loss,accuracy,val_loss,val_accuracy\n",
            "13/13 [==============================] - 0s 3ms/step - loss: 0.2827 - accuracy: 0.8998 - val_loss: 0.6374 - val_accuracy: 0.8696 - lr: 7.4274e-05\n",
            "Epoch 16/100\n",
            " 1/13 [=>............................] - ETA: 0s - loss: 0.1984 - accuracy: 0.9375WARNING:tensorflow:Early stopping conditioned on metric `val_acc` which is not available. Available metrics are: loss,accuracy,val_loss,val_accuracy\n",
            "13/13 [==============================] - 0s 3ms/step - loss: 0.2777 - accuracy: 0.9022 - val_loss: 0.6521 - val_accuracy: 0.8696 - lr: 6.0810e-05\n",
            "Epoch 17/100\n",
            " 1/13 [=>............................] - ETA: 0s - loss: 0.0417 - accuracy: 1.0000WARNING:tensorflow:Early stopping conditioned on metric `val_acc` which is not available. Available metrics are: loss,accuracy,val_loss,val_accuracy\n",
            "13/13 [==============================] - 0s 3ms/step - loss: 0.2752 - accuracy: 0.9120 - val_loss: 0.6654 - val_accuracy: 0.8696 - lr: 4.9787e-05\n",
            "Epoch 18/100\n",
            " 1/13 [=>............................] - ETA: 0s - loss: 0.1246 - accuracy: 0.9375WARNING:tensorflow:Early stopping conditioned on metric `val_acc` which is not available. Available metrics are: loss,accuracy,val_loss,val_accuracy\n",
            "13/13 [==============================] - 0s 3ms/step - loss: 0.2757 - accuracy: 0.9095 - val_loss: 0.6573 - val_accuracy: 0.8696 - lr: 4.0762e-05\n",
            "Epoch 19/100\n",
            " 1/13 [=>............................] - ETA: 0s - loss: 0.2188 - accuracy: 0.8750WARNING:tensorflow:Early stopping conditioned on metric `val_acc` which is not available. Available metrics are: loss,accuracy,val_loss,val_accuracy\n",
            "13/13 [==============================] - 0s 3ms/step - loss: 0.2764 - accuracy: 0.9046 - val_loss: 0.6504 - val_accuracy: 0.8696 - lr: 3.3373e-05\n",
            "Epoch 20/100\n",
            " 1/13 [=>............................] - ETA: 0s - loss: 0.2659 - accuracy: 0.9375WARNING:tensorflow:Early stopping conditioned on metric `val_acc` which is not available. Available metrics are: loss,accuracy,val_loss,val_accuracy\n",
            "13/13 [==============================] - 0s 4ms/step - loss: 0.2751 - accuracy: 0.9071 - val_loss: 0.6449 - val_accuracy: 0.8696 - lr: 2.7324e-05\n",
            "Epoch 21/100\n",
            " 1/13 [=>............................] - ETA: 0s - loss: 0.1666 - accuracy: 0.9062WARNING:tensorflow:Early stopping conditioned on metric `val_acc` which is not available. Available metrics are: loss,accuracy,val_loss,val_accuracy\n",
            "13/13 [==============================] - 0s 4ms/step - loss: 0.2758 - accuracy: 0.9022 - val_loss: 0.6574 - val_accuracy: 0.8696 - lr: 2.2371e-05\n",
            "Epoch 22/100\n",
            " 1/13 [=>............................] - ETA: 0s - loss: 0.1262 - accuracy: 0.9688WARNING:tensorflow:Early stopping conditioned on metric `val_acc` which is not available. Available metrics are: loss,accuracy,val_loss,val_accuracy\n",
            "13/13 [==============================] - 0s 3ms/step - loss: 0.2744 - accuracy: 0.9095 - val_loss: 0.6526 - val_accuracy: 0.8696 - lr: 1.8316e-05\n",
            "Epoch 23/100\n",
            " 1/13 [=>............................] - ETA: 0s - loss: 0.4308 - accuracy: 0.8750WARNING:tensorflow:Early stopping conditioned on metric `val_acc` which is not available. Available metrics are: loss,accuracy,val_loss,val_accuracy\n",
            "13/13 [==============================] - 0s 4ms/step - loss: 0.2748 - accuracy: 0.9120 - val_loss: 0.6453 - val_accuracy: 0.8696 - lr: 1.4996e-05\n",
            "Epoch 24/100\n",
            " 1/13 [=>............................] - ETA: 0s - loss: 0.3698 - accuracy: 0.8750WARNING:tensorflow:Early stopping conditioned on metric `val_acc` which is not available. Available metrics are: loss,accuracy,val_loss,val_accuracy\n",
            "13/13 [==============================] - 0s 4ms/step - loss: 0.2735 - accuracy: 0.9046 - val_loss: 0.6494 - val_accuracy: 0.8696 - lr: 1.2277e-05\n",
            "Epoch 25/100\n",
            " 1/13 [=>............................] - ETA: 0s - loss: 0.1641 - accuracy: 0.9062WARNING:tensorflow:Early stopping conditioned on metric `val_acc` which is not available. Available metrics are: loss,accuracy,val_loss,val_accuracy\n",
            "13/13 [==============================] - 0s 4ms/step - loss: 0.2735 - accuracy: 0.9120 - val_loss: 0.6516 - val_accuracy: 0.8696 - lr: 1.0052e-05\n",
            "Epoch 26/100\n",
            " 1/13 [=>............................] - ETA: 0s - loss: 0.2188 - accuracy: 0.9062WARNING:tensorflow:Early stopping conditioned on metric `val_acc` which is not available. Available metrics are: loss,accuracy,val_loss,val_accuracy\n",
            "13/13 [==============================] - 0s 3ms/step - loss: 0.2735 - accuracy: 0.9120 - val_loss: 0.6480 - val_accuracy: 0.8696 - lr: 8.2297e-06\n",
            "Epoch 27/100\n",
            " 1/13 [=>............................] - ETA: 0s - loss: 0.2396 - accuracy: 0.9062WARNING:tensorflow:Early stopping conditioned on metric `val_acc` which is not available. Available metrics are: loss,accuracy,val_loss,val_accuracy\n",
            "13/13 [==============================] - 0s 3ms/step - loss: 0.2732 - accuracy: 0.9120 - val_loss: 0.6486 - val_accuracy: 0.8696 - lr: 6.7379e-06\n",
            "Epoch 28/100\n",
            " 1/13 [=>............................] - ETA: 0s - loss: 0.4419 - accuracy: 0.8750WARNING:tensorflow:Early stopping conditioned on metric `val_acc` which is not available. Available metrics are: loss,accuracy,val_loss,val_accuracy\n",
            "13/13 [==============================] - 0s 3ms/step - loss: 0.2734 - accuracy: 0.9071 - val_loss: 0.6459 - val_accuracy: 0.8696 - lr: 5.5166e-06\n",
            "Epoch 29/100\n",
            " 1/13 [=>............................] - ETA: 0s - loss: 0.4837 - accuracy: 0.7500WARNING:tensorflow:Early stopping conditioned on metric `val_acc` which is not available. Available metrics are: loss,accuracy,val_loss,val_accuracy\n",
            "13/13 [==============================] - 0s 4ms/step - loss: 0.2732 - accuracy: 0.9095 - val_loss: 0.6476 - val_accuracy: 0.8696 - lr: 4.5166e-06\n",
            "Epoch 30/100\n",
            " 1/13 [=>............................] - ETA: 0s - loss: 0.4186 - accuracy: 0.8750WARNING:tensorflow:Early stopping conditioned on metric `val_acc` which is not available. Available metrics are: loss,accuracy,val_loss,val_accuracy\n",
            "13/13 [==============================] - 0s 4ms/step - loss: 0.2732 - accuracy: 0.9071 - val_loss: 0.6448 - val_accuracy: 0.8696 - lr: 3.6979e-06\n",
            "Epoch 31/100\n",
            " 1/13 [=>............................] - ETA: 0s - loss: 0.1694 - accuracy: 0.9375WARNING:tensorflow:Early stopping conditioned on metric `val_acc` which is not available. Available metrics are: loss,accuracy,val_loss,val_accuracy\n",
            "13/13 [==============================] - 0s 3ms/step - loss: 0.2728 - accuracy: 0.9046 - val_loss: 0.6461 - val_accuracy: 0.8696 - lr: 3.0276e-06\n",
            "Epoch 32/100\n",
            " 1/13 [=>............................] - ETA: 0s - loss: 0.1826 - accuracy: 0.9375WARNING:tensorflow:Early stopping conditioned on metric `val_acc` which is not available. Available metrics are: loss,accuracy,val_loss,val_accuracy\n",
            "13/13 [==============================] - 0s 4ms/step - loss: 0.2730 - accuracy: 0.9120 - val_loss: 0.6476 - val_accuracy: 0.8696 - lr: 2.4788e-06\n",
            "Epoch 33/100\n",
            " 1/13 [=>............................] - ETA: 0s - loss: 0.1310 - accuracy: 0.9375WARNING:tensorflow:Early stopping conditioned on metric `val_acc` which is not available. Available metrics are: loss,accuracy,val_loss,val_accuracy\n",
            "13/13 [==============================] - 0s 4ms/step - loss: 0.2727 - accuracy: 0.9120 - val_loss: 0.6471 - val_accuracy: 0.8696 - lr: 2.0294e-06\n",
            "Epoch 34/100\n",
            " 1/13 [=>............................] - ETA: 0s - loss: 0.0820 - accuracy: 0.9688WARNING:tensorflow:Early stopping conditioned on metric `val_acc` which is not available. Available metrics are: loss,accuracy,val_loss,val_accuracy\n",
            "13/13 [==============================] - 0s 3ms/step - loss: 0.2727 - accuracy: 0.9120 - val_loss: 0.6467 - val_accuracy: 0.8696 - lr: 1.6616e-06\n",
            "Epoch 35/100\n",
            " 1/13 [=>............................] - ETA: 0s - loss: 0.0434 - accuracy: 0.9688WARNING:tensorflow:Early stopping conditioned on metric `val_acc` which is not available. Available metrics are: loss,accuracy,val_loss,val_accuracy\n",
            "13/13 [==============================] - 0s 3ms/step - loss: 0.2727 - accuracy: 0.9120 - val_loss: 0.6470 - val_accuracy: 0.8696 - lr: 1.3604e-06\n",
            "Epoch 36/100\n",
            " 1/13 [=>............................] - ETA: 0s - loss: 0.3996 - accuracy: 0.9375WARNING:tensorflow:Early stopping conditioned on metric `val_acc` which is not available. Available metrics are: loss,accuracy,val_loss,val_accuracy\n",
            "13/13 [==============================] - 0s 4ms/step - loss: 0.2727 - accuracy: 0.9120 - val_loss: 0.6464 - val_accuracy: 0.8696 - lr: 1.1138e-06\n",
            "Epoch 37/100\n",
            " 1/13 [=>............................] - ETA: 0s - loss: 0.3177 - accuracy: 0.9375WARNING:tensorflow:Early stopping conditioned on metric `val_acc` which is not available. Available metrics are: loss,accuracy,val_loss,val_accuracy\n",
            "13/13 [==============================] - 0s 3ms/step - loss: 0.2727 - accuracy: 0.9120 - val_loss: 0.6468 - val_accuracy: 0.8696 - lr: 9.1188e-07\n",
            "Epoch 38/100\n",
            " 1/13 [=>............................] - ETA: 0s - loss: 0.2961 - accuracy: 0.9062WARNING:tensorflow:Early stopping conditioned on metric `val_acc` which is not available. Available metrics are: loss,accuracy,val_loss,val_accuracy\n",
            "13/13 [==============================] - 0s 3ms/step - loss: 0.2726 - accuracy: 0.9120 - val_loss: 0.6468 - val_accuracy: 0.8696 - lr: 7.4659e-07\n",
            "Epoch 39/100\n",
            " 1/13 [=>............................] - ETA: 0s - loss: 0.5738 - accuracy: 0.8125WARNING:tensorflow:Early stopping conditioned on metric `val_acc` which is not available. Available metrics are: loss,accuracy,val_loss,val_accuracy\n",
            "13/13 [==============================] - 0s 4ms/step - loss: 0.2727 - accuracy: 0.9120 - val_loss: 0.6469 - val_accuracy: 0.8696 - lr: 6.1125e-07\n",
            "Epoch 40/100\n",
            " 1/13 [=>............................] - ETA: 0s - loss: 0.4020 - accuracy: 0.9375WARNING:tensorflow:Early stopping conditioned on metric `val_acc` which is not available. Available metrics are: loss,accuracy,val_loss,val_accuracy\n",
            "13/13 [==============================] - 0s 3ms/step - loss: 0.2726 - accuracy: 0.9120 - val_loss: 0.6468 - val_accuracy: 0.8696 - lr: 5.0045e-07\n",
            "Epoch 41/100\n",
            " 1/13 [=>............................] - ETA: 0s - loss: 0.1099 - accuracy: 0.9688WARNING:tensorflow:Early stopping conditioned on metric `val_acc` which is not available. Available metrics are: loss,accuracy,val_loss,val_accuracy\n",
            "13/13 [==============================] - 0s 3ms/step - loss: 0.2726 - accuracy: 0.9120 - val_loss: 0.6467 - val_accuracy: 0.8696 - lr: 4.0973e-07\n",
            "Epoch 42/100\n",
            " 1/13 [=>............................] - ETA: 0s - loss: 0.5529 - accuracy: 0.8438WARNING:tensorflow:Early stopping conditioned on metric `val_acc` which is not available. Available metrics are: loss,accuracy,val_loss,val_accuracy\n",
            "13/13 [==============================] - 0s 4ms/step - loss: 0.2726 - accuracy: 0.9120 - val_loss: 0.6467 - val_accuracy: 0.8696 - lr: 3.3546e-07\n",
            "Epoch 43/100\n",
            " 1/13 [=>............................] - ETA: 0s - loss: 0.3280 - accuracy: 0.9375WARNING:tensorflow:Early stopping conditioned on metric `val_acc` which is not available. Available metrics are: loss,accuracy,val_loss,val_accuracy\n",
            "13/13 [==============================] - 0s 4ms/step - loss: 0.2726 - accuracy: 0.9120 - val_loss: 0.6467 - val_accuracy: 0.8696 - lr: 2.7465e-07\n",
            "Epoch 44/100\n",
            " 1/13 [=>............................] - ETA: 0s - loss: 0.3071 - accuracy: 0.9062WARNING:tensorflow:Early stopping conditioned on metric `val_acc` which is not available. Available metrics are: loss,accuracy,val_loss,val_accuracy\n",
            "13/13 [==============================] - 0s 3ms/step - loss: 0.2726 - accuracy: 0.9120 - val_loss: 0.6466 - val_accuracy: 0.8696 - lr: 2.2487e-07\n",
            "Epoch 45/100\n",
            " 1/13 [=>............................] - ETA: 0s - loss: 0.4706 - accuracy: 0.9062WARNING:tensorflow:Early stopping conditioned on metric `val_acc` which is not available. Available metrics are: loss,accuracy,val_loss,val_accuracy\n",
            "13/13 [==============================] - 0s 4ms/step - loss: 0.2726 - accuracy: 0.9120 - val_loss: 0.6466 - val_accuracy: 0.8696 - lr: 1.8411e-07\n",
            "Epoch 46/100\n",
            " 1/13 [=>............................] - ETA: 0s - loss: 0.2845 - accuracy: 0.8750WARNING:tensorflow:Early stopping conditioned on metric `val_acc` which is not available. Available metrics are: loss,accuracy,val_loss,val_accuracy\n",
            "13/13 [==============================] - 0s 3ms/step - loss: 0.2726 - accuracy: 0.9120 - val_loss: 0.6466 - val_accuracy: 0.8696 - lr: 1.5073e-07\n",
            "Epoch 47/100\n",
            " 1/13 [=>............................] - ETA: 0s - loss: 0.1646 - accuracy: 0.9688WARNING:tensorflow:Early stopping conditioned on metric `val_acc` which is not available. Available metrics are: loss,accuracy,val_loss,val_accuracy\n",
            "13/13 [==============================] - 0s 3ms/step - loss: 0.2726 - accuracy: 0.9120 - val_loss: 0.6466 - val_accuracy: 0.8696 - lr: 1.2341e-07\n",
            "Epoch 48/100\n",
            " 1/13 [=>............................] - ETA: 0s - loss: 0.2734 - accuracy: 0.8750WARNING:tensorflow:Early stopping conditioned on metric `val_acc` which is not available. Available metrics are: loss,accuracy,val_loss,val_accuracy\n",
            "13/13 [==============================] - 0s 3ms/step - loss: 0.2726 - accuracy: 0.9120 - val_loss: 0.6466 - val_accuracy: 0.8696 - lr: 1.0104e-07\n",
            "Epoch 49/100\n",
            " 1/13 [=>............................] - ETA: 0s - loss: 0.2252 - accuracy: 0.9062WARNING:tensorflow:Early stopping conditioned on metric `val_acc` which is not available. Available metrics are: loss,accuracy,val_loss,val_accuracy\n",
            "13/13 [==============================] - 0s 4ms/step - loss: 0.2726 - accuracy: 0.9120 - val_loss: 0.6466 - val_accuracy: 0.8696 - lr: 8.2724e-08\n",
            "Epoch 50/100\n",
            " 1/13 [=>............................] - ETA: 0s - loss: 0.2725 - accuracy: 0.9062WARNING:tensorflow:Early stopping conditioned on metric `val_acc` which is not available. Available metrics are: loss,accuracy,val_loss,val_accuracy\n",
            "13/13 [==============================] - 0s 3ms/step - loss: 0.2726 - accuracy: 0.9120 - val_loss: 0.6466 - val_accuracy: 0.8696 - lr: 6.7729e-08\n",
            "Epoch 51/100\n",
            " 1/13 [=>............................] - ETA: 0s - loss: 0.1700 - accuracy: 0.9375WARNING:tensorflow:Early stopping conditioned on metric `val_acc` which is not available. Available metrics are: loss,accuracy,val_loss,val_accuracy\n",
            "13/13 [==============================] - 0s 3ms/step - loss: 0.2726 - accuracy: 0.9120 - val_loss: 0.6466 - val_accuracy: 0.8696 - lr: 5.5452e-08\n",
            "Epoch 52/100\n",
            " 1/13 [=>............................] - ETA: 0s - loss: 0.3099 - accuracy: 0.8750WARNING:tensorflow:Early stopping conditioned on metric `val_acc` which is not available. Available metrics are: loss,accuracy,val_loss,val_accuracy\n",
            "13/13 [==============================] - 0s 3ms/step - loss: 0.2726 - accuracy: 0.9120 - val_loss: 0.6467 - val_accuracy: 0.8696 - lr: 4.5400e-08\n",
            "Epoch 53/100\n",
            " 1/13 [=>............................] - ETA: 0s - loss: 0.0928 - accuracy: 0.9688WARNING:tensorflow:Early stopping conditioned on metric `val_acc` which is not available. Available metrics are: loss,accuracy,val_loss,val_accuracy\n",
            "13/13 [==============================] - 0s 4ms/step - loss: 0.2726 - accuracy: 0.9120 - val_loss: 0.6467 - val_accuracy: 0.8696 - lr: 3.7170e-08\n",
            "Epoch 54/100\n",
            " 1/13 [=>............................] - ETA: 0s - loss: 0.5388 - accuracy: 0.8125WARNING:tensorflow:Early stopping conditioned on metric `val_acc` which is not available. Available metrics are: loss,accuracy,val_loss,val_accuracy\n",
            "13/13 [==============================] - 0s 3ms/step - loss: 0.2726 - accuracy: 0.9120 - val_loss: 0.6466 - val_accuracy: 0.8696 - lr: 3.0432e-08\n",
            "Epoch 55/100\n",
            " 1/13 [=>............................] - ETA: 0s - loss: 0.2404 - accuracy: 0.9375WARNING:tensorflow:Early stopping conditioned on metric `val_acc` which is not available. Available metrics are: loss,accuracy,val_loss,val_accuracy\n",
            "13/13 [==============================] - 0s 4ms/step - loss: 0.2726 - accuracy: 0.9120 - val_loss: 0.6466 - val_accuracy: 0.8696 - lr: 2.4916e-08\n",
            "Epoch 56/100\n",
            " 1/13 [=>............................] - ETA: 0s - loss: 0.3030 - accuracy: 0.8750WARNING:tensorflow:Early stopping conditioned on metric `val_acc` which is not available. Available metrics are: loss,accuracy,val_loss,val_accuracy\n",
            "13/13 [==============================] - 0s 3ms/step - loss: 0.2726 - accuracy: 0.9120 - val_loss: 0.6466 - val_accuracy: 0.8696 - lr: 2.0400e-08\n",
            "Epoch 57/100\n",
            " 1/13 [=>............................] - ETA: 0s - loss: 0.2485 - accuracy: 0.9062WARNING:tensorflow:Early stopping conditioned on metric `val_acc` which is not available. Available metrics are: loss,accuracy,val_loss,val_accuracy\n",
            "13/13 [==============================] - 0s 3ms/step - loss: 0.2726 - accuracy: 0.9120 - val_loss: 0.6466 - val_accuracy: 0.8696 - lr: 1.6702e-08\n",
            "Epoch 58/100\n",
            " 1/13 [=>............................] - ETA: 0s - loss: 0.0526 - accuracy: 1.0000WARNING:tensorflow:Early stopping conditioned on metric `val_acc` which is not available. Available metrics are: loss,accuracy,val_loss,val_accuracy\n",
            "13/13 [==============================] - 0s 3ms/step - loss: 0.2726 - accuracy: 0.9120 - val_loss: 0.6466 - val_accuracy: 0.8696 - lr: 1.3674e-08\n",
            "Epoch 59/100\n",
            " 1/13 [=>............................] - ETA: 0s - loss: 0.0760 - accuracy: 0.9688WARNING:tensorflow:Early stopping conditioned on metric `val_acc` which is not available. Available metrics are: loss,accuracy,val_loss,val_accuracy\n",
            "13/13 [==============================] - 0s 3ms/step - loss: 0.2726 - accuracy: 0.9120 - val_loss: 0.6466 - val_accuracy: 0.8696 - lr: 1.1195e-08\n",
            "Epoch 60/100\n",
            " 1/13 [=>............................] - ETA: 0s - loss: 0.2419 - accuracy: 0.9062WARNING:tensorflow:Early stopping conditioned on metric `val_acc` which is not available. Available metrics are: loss,accuracy,val_loss,val_accuracy\n",
            "13/13 [==============================] - 0s 3ms/step - loss: 0.2726 - accuracy: 0.9120 - val_loss: 0.6466 - val_accuracy: 0.8696 - lr: 9.1661e-09\n",
            "Epoch 61/100\n",
            " 1/13 [=>............................] - ETA: 0s - loss: 0.2662 - accuracy: 0.8750WARNING:tensorflow:Early stopping conditioned on metric `val_acc` which is not available. Available metrics are: loss,accuracy,val_loss,val_accuracy\n",
            "13/13 [==============================] - 0s 3ms/step - loss: 0.2726 - accuracy: 0.9120 - val_loss: 0.6466 - val_accuracy: 0.8696 - lr: 7.5046e-09\n",
            "Epoch 62/100\n",
            " 1/13 [=>............................] - ETA: 0s - loss: 0.2598 - accuracy: 0.9062WARNING:tensorflow:Early stopping conditioned on metric `val_acc` which is not available. Available metrics are: loss,accuracy,val_loss,val_accuracy\n",
            "13/13 [==============================] - 0s 4ms/step - loss: 0.2726 - accuracy: 0.9120 - val_loss: 0.6466 - val_accuracy: 0.8696 - lr: 6.1442e-09\n",
            "Epoch 63/100\n",
            " 1/13 [=>............................] - ETA: 0s - loss: 0.3098 - accuracy: 0.8750WARNING:tensorflow:Early stopping conditioned on metric `val_acc` which is not available. Available metrics are: loss,accuracy,val_loss,val_accuracy\n",
            "13/13 [==============================] - 0s 4ms/step - loss: 0.2726 - accuracy: 0.9120 - val_loss: 0.6466 - val_accuracy: 0.8696 - lr: 5.0305e-09\n",
            "Epoch 64/100\n",
            " 1/13 [=>............................] - ETA: 0s - loss: 0.1703 - accuracy: 0.9375WARNING:tensorflow:Early stopping conditioned on metric `val_acc` which is not available. Available metrics are: loss,accuracy,val_loss,val_accuracy\n",
            "13/13 [==============================] - 0s 4ms/step - loss: 0.2726 - accuracy: 0.9120 - val_loss: 0.6466 - val_accuracy: 0.8696 - lr: 4.1186e-09\n",
            "Epoch 65/100\n",
            " 1/13 [=>............................] - ETA: 0s - loss: 0.5006 - accuracy: 0.8125WARNING:tensorflow:Early stopping conditioned on metric `val_acc` which is not available. Available metrics are: loss,accuracy,val_loss,val_accuracy\n",
            "13/13 [==============================] - 0s 3ms/step - loss: 0.2726 - accuracy: 0.9120 - val_loss: 0.6466 - val_accuracy: 0.8696 - lr: 3.3720e-09\n",
            "Epoch 66/100\n",
            " 1/13 [=>............................] - ETA: 0s - loss: 0.2923 - accuracy: 0.8750WARNING:tensorflow:Early stopping conditioned on metric `val_acc` which is not available. Available metrics are: loss,accuracy,val_loss,val_accuracy\n",
            "13/13 [==============================] - 0s 4ms/step - loss: 0.2726 - accuracy: 0.9120 - val_loss: 0.6466 - val_accuracy: 0.8696 - lr: 2.7608e-09\n",
            "Epoch 67/100\n",
            " 1/13 [=>............................] - ETA: 0s - loss: 0.2107 - accuracy: 0.9375WARNING:tensorflow:Early stopping conditioned on metric `val_acc` which is not available. Available metrics are: loss,accuracy,val_loss,val_accuracy\n",
            "13/13 [==============================] - 0s 4ms/step - loss: 0.2726 - accuracy: 0.9120 - val_loss: 0.6466 - val_accuracy: 0.8696 - lr: 2.2603e-09\n",
            "Epoch 68/100\n",
            " 1/13 [=>............................] - ETA: 0s - loss: 0.4227 - accuracy: 0.9062WARNING:tensorflow:Early stopping conditioned on metric `val_acc` which is not available. Available metrics are: loss,accuracy,val_loss,val_accuracy\n",
            "13/13 [==============================] - 0s 4ms/step - loss: 0.2726 - accuracy: 0.9120 - val_loss: 0.6466 - val_accuracy: 0.8696 - lr: 1.8506e-09\n",
            "Epoch 69/100\n",
            " 1/13 [=>............................] - ETA: 0s - loss: 0.1293 - accuracy: 0.9688WARNING:tensorflow:Early stopping conditioned on metric `val_acc` which is not available. Available metrics are: loss,accuracy,val_loss,val_accuracy\n",
            "13/13 [==============================] - 0s 4ms/step - loss: 0.2726 - accuracy: 0.9120 - val_loss: 0.6466 - val_accuracy: 0.8696 - lr: 1.5151e-09\n",
            "Epoch 70/100\n",
            " 1/13 [=>............................] - ETA: 0s - loss: 0.4812 - accuracy: 0.8750WARNING:tensorflow:Early stopping conditioned on metric `val_acc` which is not available. Available metrics are: loss,accuracy,val_loss,val_accuracy\n",
            "13/13 [==============================] - 0s 3ms/step - loss: 0.2726 - accuracy: 0.9120 - val_loss: 0.6466 - val_accuracy: 0.8696 - lr: 1.2405e-09\n",
            "Epoch 71/100\n",
            " 1/13 [=>............................] - ETA: 0s - loss: 0.2124 - accuracy: 0.8750WARNING:tensorflow:Early stopping conditioned on metric `val_acc` which is not available. Available metrics are: loss,accuracy,val_loss,val_accuracy\n",
            "13/13 [==============================] - 0s 4ms/step - loss: 0.2726 - accuracy: 0.9120 - val_loss: 0.6466 - val_accuracy: 0.8696 - lr: 1.0156e-09\n",
            "Epoch 72/100\n",
            " 1/13 [=>............................] - ETA: 0s - loss: 0.0783 - accuracy: 0.9688WARNING:tensorflow:Early stopping conditioned on metric `val_acc` which is not available. Available metrics are: loss,accuracy,val_loss,val_accuracy\n",
            "13/13 [==============================] - 0s 4ms/step - loss: 0.2726 - accuracy: 0.9120 - val_loss: 0.6466 - val_accuracy: 0.8696 - lr: 8.3153e-10\n",
            "Epoch 73/100\n",
            " 1/13 [=>............................] - ETA: 0s - loss: 0.3200 - accuracy: 0.8438WARNING:tensorflow:Early stopping conditioned on metric `val_acc` which is not available. Available metrics are: loss,accuracy,val_loss,val_accuracy\n",
            "13/13 [==============================] - 0s 4ms/step - loss: 0.2726 - accuracy: 0.9120 - val_loss: 0.6466 - val_accuracy: 0.8696 - lr: 6.8080e-10\n",
            "Epoch 74/100\n",
            " 1/13 [=>............................] - ETA: 0s - loss: 0.1511 - accuracy: 0.9375WARNING:tensorflow:Early stopping conditioned on metric `val_acc` which is not available. Available metrics are: loss,accuracy,val_loss,val_accuracy\n",
            "13/13 [==============================] - 0s 3ms/step - loss: 0.2726 - accuracy: 0.9120 - val_loss: 0.6466 - val_accuracy: 0.8696 - lr: 5.5739e-10\n",
            "Epoch 75/100\n",
            " 1/13 [=>............................] - ETA: 0s - loss: 0.2783 - accuracy: 0.8750WARNING:tensorflow:Early stopping conditioned on metric `val_acc` which is not available. Available metrics are: loss,accuracy,val_loss,val_accuracy\n",
            "13/13 [==============================] - 0s 4ms/step - loss: 0.2726 - accuracy: 0.9120 - val_loss: 0.6466 - val_accuracy: 0.8696 - lr: 4.5635e-10\n",
            "Epoch 76/100\n",
            " 1/13 [=>............................] - ETA: 0s - loss: 0.4738 - accuracy: 0.8438WARNING:tensorflow:Early stopping conditioned on metric `val_acc` which is not available. Available metrics are: loss,accuracy,val_loss,val_accuracy\n",
            "13/13 [==============================] - 0s 4ms/step - loss: 0.2726 - accuracy: 0.9120 - val_loss: 0.6466 - val_accuracy: 0.8696 - lr: 3.7363e-10\n",
            "Epoch 77/100\n",
            " 1/13 [=>............................] - ETA: 0s - loss: 0.2670 - accuracy: 0.8438WARNING:tensorflow:Early stopping conditioned on metric `val_acc` which is not available. Available metrics are: loss,accuracy,val_loss,val_accuracy\n",
            "13/13 [==============================] - 0s 3ms/step - loss: 0.2726 - accuracy: 0.9120 - val_loss: 0.6466 - val_accuracy: 0.8696 - lr: 3.0590e-10\n",
            "Epoch 78/100\n",
            " 1/13 [=>............................] - ETA: 0s - loss: 0.0194 - accuracy: 1.0000WARNING:tensorflow:Early stopping conditioned on metric `val_acc` which is not available. Available metrics are: loss,accuracy,val_loss,val_accuracy\n",
            "13/13 [==============================] - 0s 3ms/step - loss: 0.2726 - accuracy: 0.9120 - val_loss: 0.6466 - val_accuracy: 0.8696 - lr: 2.5045e-10\n",
            "Epoch 79/100\n",
            " 1/13 [=>............................] - ETA: 0s - loss: 0.2236 - accuracy: 0.8750WARNING:tensorflow:Early stopping conditioned on metric `val_acc` which is not available. Available metrics are: loss,accuracy,val_loss,val_accuracy\n",
            "13/13 [==============================] - 0s 3ms/step - loss: 0.2726 - accuracy: 0.9120 - val_loss: 0.6466 - val_accuracy: 0.8696 - lr: 2.0505e-10\n",
            "Epoch 80/100\n",
            " 1/13 [=>............................] - ETA: 0s - loss: 0.3687 - accuracy: 0.9375WARNING:tensorflow:Early stopping conditioned on metric `val_acc` which is not available. Available metrics are: loss,accuracy,val_loss,val_accuracy\n",
            "13/13 [==============================] - 0s 3ms/step - loss: 0.2726 - accuracy: 0.9120 - val_loss: 0.6466 - val_accuracy: 0.8696 - lr: 1.6788e-10\n",
            "Epoch 81/100\n",
            " 1/13 [=>............................] - ETA: 0s - loss: 0.1993 - accuracy: 0.9375WARNING:tensorflow:Early stopping conditioned on metric `val_acc` which is not available. Available metrics are: loss,accuracy,val_loss,val_accuracy\n",
            "13/13 [==============================] - 0s 3ms/step - loss: 0.2726 - accuracy: 0.9120 - val_loss: 0.6466 - val_accuracy: 0.8696 - lr: 1.3745e-10\n",
            "Epoch 82/100\n",
            " 1/13 [=>............................] - ETA: 0s - loss: 0.2955 - accuracy: 0.8750WARNING:tensorflow:Early stopping conditioned on metric `val_acc` which is not available. Available metrics are: loss,accuracy,val_loss,val_accuracy\n",
            "13/13 [==============================] - 0s 4ms/step - loss: 0.2726 - accuracy: 0.9120 - val_loss: 0.6466 - val_accuracy: 0.8696 - lr: 1.1254e-10\n",
            "Epoch 83/100\n",
            " 1/13 [=>............................] - ETA: 0s - loss: 0.2014 - accuracy: 0.9062WARNING:tensorflow:Early stopping conditioned on metric `val_acc` which is not available. Available metrics are: loss,accuracy,val_loss,val_accuracy\n",
            "13/13 [==============================] - 0s 3ms/step - loss: 0.2726 - accuracy: 0.9120 - val_loss: 0.6466 - val_accuracy: 0.8696 - lr: 9.2136e-11\n",
            "Epoch 84/100\n",
            " 1/13 [=>............................] - ETA: 0s - loss: 0.4252 - accuracy: 0.8438WARNING:tensorflow:Early stopping conditioned on metric `val_acc` which is not available. Available metrics are: loss,accuracy,val_loss,val_accuracy\n",
            "13/13 [==============================] - 0s 3ms/step - loss: 0.2726 - accuracy: 0.9120 - val_loss: 0.6466 - val_accuracy: 0.8696 - lr: 7.5435e-11\n",
            "Epoch 85/100\n",
            " 1/13 [=>............................] - ETA: 0s - loss: 0.1051 - accuracy: 0.9375WARNING:tensorflow:Early stopping conditioned on metric `val_acc` which is not available. Available metrics are: loss,accuracy,val_loss,val_accuracy\n",
            "13/13 [==============================] - 0s 3ms/step - loss: 0.2726 - accuracy: 0.9120 - val_loss: 0.6466 - val_accuracy: 0.8696 - lr: 6.1761e-11\n",
            "Epoch 86/100\n",
            " 1/13 [=>............................] - ETA: 0s - loss: 0.3802 - accuracy: 0.9062WARNING:tensorflow:Early stopping conditioned on metric `val_acc` which is not available. Available metrics are: loss,accuracy,val_loss,val_accuracy\n",
            "13/13 [==============================] - 0s 3ms/step - loss: 0.2726 - accuracy: 0.9120 - val_loss: 0.6466 - val_accuracy: 0.8696 - lr: 5.0565e-11\n",
            "Epoch 87/100\n",
            " 1/13 [=>............................] - ETA: 0s - loss: 0.1675 - accuracy: 0.9375WARNING:tensorflow:Early stopping conditioned on metric `val_acc` which is not available. Available metrics are: loss,accuracy,val_loss,val_accuracy\n",
            "13/13 [==============================] - 0s 4ms/step - loss: 0.2726 - accuracy: 0.9120 - val_loss: 0.6466 - val_accuracy: 0.8696 - lr: 4.1399e-11\n",
            "Epoch 88/100\n",
            " 1/13 [=>............................] - ETA: 0s - loss: 0.2631 - accuracy: 0.8750WARNING:tensorflow:Early stopping conditioned on metric `val_acc` which is not available. Available metrics are: loss,accuracy,val_loss,val_accuracy\n",
            "13/13 [==============================] - 0s 4ms/step - loss: 0.2726 - accuracy: 0.9120 - val_loss: 0.6466 - val_accuracy: 0.8696 - lr: 3.3895e-11\n",
            "Epoch 89/100\n",
            " 1/13 [=>............................] - ETA: 0s - loss: 0.1219 - accuracy: 0.9688WARNING:tensorflow:Early stopping conditioned on metric `val_acc` which is not available. Available metrics are: loss,accuracy,val_loss,val_accuracy\n",
            "13/13 [==============================] - 0s 3ms/step - loss: 0.2726 - accuracy: 0.9120 - val_loss: 0.6466 - val_accuracy: 0.8696 - lr: 2.7751e-11\n",
            "Epoch 90/100\n",
            " 1/13 [=>............................] - ETA: 0s - loss: 0.3402 - accuracy: 0.8750WARNING:tensorflow:Early stopping conditioned on metric `val_acc` which is not available. Available metrics are: loss,accuracy,val_loss,val_accuracy\n",
            "13/13 [==============================] - 0s 3ms/step - loss: 0.2726 - accuracy: 0.9120 - val_loss: 0.6466 - val_accuracy: 0.8696 - lr: 2.2720e-11\n",
            "Epoch 91/100\n",
            " 1/13 [=>............................] - ETA: 0s - loss: 0.1395 - accuracy: 0.9375WARNING:tensorflow:Early stopping conditioned on metric `val_acc` which is not available. Available metrics are: loss,accuracy,val_loss,val_accuracy\n",
            "13/13 [==============================] - 0s 3ms/step - loss: 0.2726 - accuracy: 0.9120 - val_loss: 0.6466 - val_accuracy: 0.8696 - lr: 1.8602e-11\n",
            "Epoch 92/100\n",
            " 1/13 [=>............................] - ETA: 0s - loss: 0.5134 - accuracy: 0.8438WARNING:tensorflow:Early stopping conditioned on metric `val_acc` which is not available. Available metrics are: loss,accuracy,val_loss,val_accuracy\n",
            "13/13 [==============================] - 0s 3ms/step - loss: 0.2726 - accuracy: 0.9120 - val_loss: 0.6466 - val_accuracy: 0.8696 - lr: 1.5230e-11\n",
            "Epoch 93/100\n",
            " 1/13 [=>............................] - ETA: 0s - loss: 0.1450 - accuracy: 0.9375WARNING:tensorflow:Early stopping conditioned on metric `val_acc` which is not available. Available metrics are: loss,accuracy,val_loss,val_accuracy\n",
            "13/13 [==============================] - 0s 3ms/step - loss: 0.2726 - accuracy: 0.9120 - val_loss: 0.6466 - val_accuracy: 0.8696 - lr: 1.2469e-11\n",
            "Epoch 94/100\n",
            " 1/13 [=>............................] - ETA: 0s - loss: 0.5013 - accuracy: 0.8125WARNING:tensorflow:Early stopping conditioned on metric `val_acc` which is not available. Available metrics are: loss,accuracy,val_loss,val_accuracy\n",
            "13/13 [==============================] - 0s 3ms/step - loss: 0.2726 - accuracy: 0.9120 - val_loss: 0.6466 - val_accuracy: 0.8696 - lr: 1.0209e-11\n",
            "Epoch 95/100\n",
            " 1/13 [=>............................] - ETA: 0s - loss: 0.4208 - accuracy: 0.8750WARNING:tensorflow:Early stopping conditioned on metric `val_acc` which is not available. Available metrics are: loss,accuracy,val_loss,val_accuracy\n",
            "13/13 [==============================] - 0s 4ms/step - loss: 0.2726 - accuracy: 0.9120 - val_loss: 0.6466 - val_accuracy: 0.8696 - lr: 8.3584e-12\n",
            "Epoch 96/100\n",
            " 1/13 [=>............................] - ETA: 0s - loss: 0.1006 - accuracy: 0.9375WARNING:tensorflow:Early stopping conditioned on metric `val_acc` which is not available. Available metrics are: loss,accuracy,val_loss,val_accuracy\n",
            "13/13 [==============================] - 0s 3ms/step - loss: 0.2726 - accuracy: 0.9120 - val_loss: 0.6466 - val_accuracy: 0.8696 - lr: 6.8433e-12\n",
            "Epoch 97/100\n",
            " 1/13 [=>............................] - ETA: 0s - loss: 0.4386 - accuracy: 0.8438WARNING:tensorflow:Early stopping conditioned on metric `val_acc` which is not available. Available metrics are: loss,accuracy,val_loss,val_accuracy\n",
            "13/13 [==============================] - 0s 3ms/step - loss: 0.2726 - accuracy: 0.9120 - val_loss: 0.6466 - val_accuracy: 0.8696 - lr: 5.6028e-12\n",
            "Epoch 98/100\n",
            " 1/13 [=>............................] - ETA: 0s - loss: 0.1979 - accuracy: 0.9062WARNING:tensorflow:Early stopping conditioned on metric `val_acc` which is not available. Available metrics are: loss,accuracy,val_loss,val_accuracy\n",
            "13/13 [==============================] - 0s 4ms/step - loss: 0.2726 - accuracy: 0.9120 - val_loss: 0.6466 - val_accuracy: 0.8696 - lr: 4.5872e-12\n",
            "Epoch 99/100\n",
            " 1/13 [=>............................] - ETA: 0s - loss: 0.3300 - accuracy: 0.8750WARNING:tensorflow:Early stopping conditioned on metric `val_acc` which is not available. Available metrics are: loss,accuracy,val_loss,val_accuracy\n",
            "13/13 [==============================] - 0s 3ms/step - loss: 0.2726 - accuracy: 0.9120 - val_loss: 0.6466 - val_accuracy: 0.8696 - lr: 3.7557e-12\n",
            "Epoch 100/100\n",
            " 1/13 [=>............................] - ETA: 0s - loss: 0.0533 - accuracy: 0.9688WARNING:tensorflow:Early stopping conditioned on metric `val_acc` which is not available. Available metrics are: loss,accuracy,val_loss,val_accuracy\n",
            "13/13 [==============================] - 0s 4ms/step - loss: 0.2726 - accuracy: 0.9120 - val_loss: 0.6466 - val_accuracy: 0.8696 - lr: 3.0749e-12\n"
          ]
        }
      ]
    },
    {
      "cell_type": "code",
      "source": [
        "y_pred_float = model.predict_step(x_test)  \n",
        "y_pred = np.round(y_pred_float)"
      ],
      "metadata": {
        "id": "mVpearpm8xyh"
      },
      "execution_count": 57,
      "outputs": []
    },
    {
      "cell_type": "code",
      "source": [
        "target_list=['benign','malignant']\n",
        "sl.metrics.classification_report(y_true=y_test,y_pred=y_pred,output_dict = True,target_names=target_list)"
      ],
      "metadata": {
        "colab": {
          "base_uri": "https://localhost:8080/"
        },
        "id": "01MGC88eASmY",
        "outputId": "a50b7568-d043-4627-a2db-801161e7350b"
      },
      "execution_count": 58,
      "outputs": [
        {
          "output_type": "execute_result",
          "data": {
            "text/plain": [
              "{'accuracy': 0.8596491228070176,\n",
              " 'benign': {'f1-score': 0.8222222222222222,\n",
              "  'precision': 0.8604651162790697,\n",
              "  'recall': 0.7872340425531915,\n",
              "  'support': 47},\n",
              " 'macro avg': {'f1-score': 0.8531400966183575,\n",
              "  'precision': 0.8598100229282672,\n",
              "  'recall': 0.8488409018736107,\n",
              "  'support': 114},\n",
              " 'malignant': {'f1-score': 0.8840579710144928,\n",
              "  'precision': 0.8591549295774648,\n",
              "  'recall': 0.9104477611940298,\n",
              "  'support': 67},\n",
              " 'weighted avg': {'f1-score': 0.8585642851089076,\n",
              "  'precision': 0.8596950942702316,\n",
              "  'recall': 0.8596491228070176,\n",
              "  'support': 114}}"
            ]
          },
          "metadata": {},
          "execution_count": 58
        }
      ]
    },
    {
      "cell_type": "code",
      "source": [
        "plt.figure(figsize=(10,6))\n",
        "plt.plot(history.history['loss'], label = 'train', color='r')\n",
        "plt.plot(history.history['val_loss'], label = 'validation', color='g')\n",
        "plt.xlabel('epoch')\n",
        "plt.ylabel('loss')\n",
        "plt.xticks(np.arange(0, 100, 1))\n",
        "plt.show()"
      ],
      "metadata": {
        "colab": {
          "base_uri": "https://localhost:8080/",
          "height": 388
        },
        "id": "2NzVXsOnPF2g",
        "outputId": "8290f7ec-1191-410a-b0b1-9b914f07a3a0"
      },
      "execution_count": 59,
      "outputs": [
        {
          "output_type": "display_data",
          "data": {
            "text/plain": [
              "<Figure size 720x432 with 1 Axes>"
            ],
            "image/png": "[encoded data removed]"
          },
          "metadata": {
            "needs_background": "light"
          }
        }
      ]
    },
    {
      "cell_type": "code",
      "source": [
        "plt.figure(figsize=(10,6))\n",
        "plt.plot(history.history['accuracy'], label = 'train', color='r')\n",
        "plt.plot(history.history['val_accuracy'], label = 'validation', color='g')\n",
        "plt.xlabel('epoch')\n",
        "plt.ylabel('accuracy')\n",
        "plt.xticks(np.arange(0, 100, 1))\n",
        "plt.show()"
      ],
      "metadata": {
        "colab": {
          "base_uri": "https://localhost:8080/",
          "height": 388
        },
        "id": "6BnbEk7jS-xX",
        "outputId": "04055d38-8bca-41b8-9826-c67edaa192aa"
      },
      "execution_count": 60,
      "outputs": [
        {
          "output_type": "display_data",
          "data": {
            "text/plain": [
              "<Figure size 720x432 with 1 Axes>"
            ],
            "image/png": "[encoded data removed]"
          },
          "metadata": {
            "needs_background": "light"
          }
        }
      ]
    },
    {
      "cell_type": "code",
      "source": [
        "CM = sl.metrics.confusion_matrix(y_true=y_test,y_pred=y_pred)\n",
        "sb.heatmap(CM,annot=True )\n",
        "plt.xlabel('Predicted')\n",
        "plt.ylabel('True')\n",
        "plt.show()"
      ],
      "metadata": {
        "colab": {
          "base_uri": "https://localhost:8080/",
          "height": 279
        },
        "id": "F2ZYgN6p-s1A",
        "outputId": "b334ec12-88a2-417b-d435-ba95cc5c29d6"
      },
      "execution_count": 61,
      "outputs": [
        {
          "output_type": "display_data",
          "data": {
            "text/plain": [
              "<Figure size 432x288 with 2 Axes>"
            ],
            "image/png": "[encoded data removed]"
          },
          "metadata": {
            "needs_background": "light"
          }
        }
      ]
    },
    {
      "cell_type": "markdown",
      "source": [
        "# problem 3"
      ],
      "metadata": {
        "id": "YlkHyW7kFN0W"
      }
    },
    {
      "cell_type": "code",
      "source": [
        "(X_train,Y_train), (X_test, Y_test) = tf.keras.datasets.imdb.load_data(num_words = 15000)"
      ],
      "metadata": {
        "id": "NEOEubXF4m1E"
      },
      "execution_count": 62,
      "outputs": []
    },
    {
      "cell_type": "code",
      "source": [
        "plt.figure(figsize = (6,6))\n",
        "sb.countplot(Y_train)\n",
        "plt.xlabel(\"Classes\")\n",
        "plt.ylabel(\"Freq\")\n",
        "plt.title(\"Y train\")\n",
        "plt.show()"
      ],
      "metadata": {
        "id": "8UStq1rs8gyH",
        "colab": {
          "base_uri": "https://localhost:8080/",
          "height": 459
        },
        "outputId": "4e8676f0-d41d-4161-a402-03e54ebb917d"
      },
      "execution_count": 63,
      "outputs": [
        {
          "output_type": "stream",
          "name": "stderr",
          "text": [
            "/usr/local/lib/python3.7/dist-packages/seaborn/_decorators.py:43: FutureWarning: Pass the following variable as a keyword arg: x. From version 0.12, the only valid positional argument will be `data`, and passing other arguments without an explicit keyword will result in an error or misinterpretation.\n",
            "  FutureWarning\n"
          ]
        },
        {
          "output_type": "display_data",
          "data": {
            "text/plain": [
              "<Figure size 432x432 with 1 Axes>"
            ],
            "image/png": "[encoded data removed]"
          },
          "metadata": {
            "needs_background": "light"
          }
        }
      ]
    },
    {
      "cell_type": "code",
      "source": [
        "from keras.models import Sequential\n",
        "from keras.layers.embeddings import Embedding\n",
        "from keras.layers import SimpleRNN,Dense, Activation\n",
        "from keras.preprocessing.sequence import pad_sequences"
      ],
      "metadata": {
        "id": "BosOkFQ2Q9X3"
      },
      "execution_count": 64,
      "outputs": []
    },
    {
      "cell_type": "code",
      "source": [
        "x_train = pad_sequences(X_train, maxlen = 130)\n",
        "x_test = pad_sequences(X_test, maxlen = 130)\n",
        "\n",
        "print(x_train[5])\n",
        "\n",
        "for i in x_train[0:10]:\n",
        "    print(len(i))\n",
        "    "
      ],
      "metadata": {
        "colab": {
          "base_uri": "https://localhost:8080/"
        },
        "id": "4lJ-pG6HA1Zh",
        "outputId": "32de71b3-3c2a-4965-9aa8-17e7810f1ed2"
      },
      "execution_count": 65,
      "outputs": [
        {
          "output_type": "stream",
          "name": "stdout",
          "text": [
            "[   0    0    0    0    0    0    0    0    0    0    0    0    0    0\n",
            "    0    0    0    0    0    0    0    0    0    0    0    0    0    0\n",
            "    0    0    0    0    0    0    0    0    0    0    0    0    0    0\n",
            "    0    0    0    0    0    0    0    0    0    0    0    0    0    0\n",
            "    0    0    0    0    0    0    0    0    0    0    0    0    0    0\n",
            "    0    0    0    0    0    0    0    0    0    0    0    0    0    0\n",
            "    0    0    0    1  778  128   74   12  630  163   15    4 1766 7982\n",
            " 1051    2   32   85  156   45   40  148  139  121  664  665   10   10\n",
            " 1361  173    4  749    2   16 3804    8    4  226   65   12   43  127\n",
            "   24    2   10   10]\n",
            "130\n",
            "130\n",
            "130\n",
            "130\n",
            "130\n",
            "130\n",
            "130\n",
            "130\n",
            "130\n",
            "130\n"
          ]
        }
      ]
    },
    {
      "cell_type": "markdown",
      "source": [
        "we wanna define what these numbers mean in terms of words"
      ],
      "metadata": {
        "id": "j93u8ZOSDcDk"
      }
    },
    {
      "cell_type": "code",
      "source": [
        "word_index = tf.keras.datasets.imdb.get_word_index()\n",
        "def whatItSay(index = 24):\n",
        "    \n",
        "    reverse_index = dict([(value,key) for (key, value) in word_index.items()])\n",
        "    decode_review = \" \".join([reverse_index.get(i - 3, \"!\") for i in X_train[index]])\n",
        "    print(decode_review)\n",
        "    print(Y_train[index])\n",
        "    return decode_review"
      ],
      "metadata": {
        "id": "fcIJIh7OBpqc"
      },
      "execution_count": 66,
      "outputs": []
    },
    {
      "cell_type": "code",
      "source": [
        "decoded_review = whatItSay(7)"
      ],
      "metadata": {
        "colab": {
          "base_uri": "https://localhost:8080/"
        },
        "id": "p57bgpdGBMXG",
        "outputId": "ff4742e4-a319-40fe-e692-b5b081473969"
      },
      "execution_count": 67,
      "outputs": [
        {
          "output_type": "stream",
          "name": "stdout",
          "text": [
            "! the hamiltons tells the story of the four hamilton siblings teenager francis ! ! twins ! joseph ! darlene ! ! the eldest david samuel who is now the surrogate parent in charge the ! move house a lot ! is unsure why is unhappy with the way things are the fact that his brother's sister kidnap ! murder people in the basement doesn't help relax or calm ! nerves either francis ! something just isn't right when he eventually finds out the truth things will never be the same again br br co written co produced directed by mitchell ! phil ! as the butcher brothers who's only other film director's credit so far is the april ! day 2008 remake enough said this was one of the ! to die ! at the 2006 after dark ! or whatever it's called in keeping with pretty much all the other's i've seen i thought the hamiltons was complete total utter crap i found the character's really poor very unlikable the slow moving story failed to capture my imagination or sustain my interest over it's 85 a half minute too long 86 minute duration the there's the awful twist at the end which had me laughing out loud there's this really big sustained build up to what's inside a ! thing in the hamiltons basement it's eventually revealed to be a little boy with a teddy is that really supposed to scare us is that really supposed to shock us is that really something that is supposed to have us talking about it as the end credits roll is a harmless looking young boy the best ! ending that the makers could come up with the boring plot plods along it's never made clear where the hamiltons get all their money from to buy new houses since none of them seem to work except david in a slaughterhouse i doubt that pays much or why they haven't been caught before now the script tries to mix in every day drama with potent horror it just does a terrible job of combining the two to the extent that neither aspect is memorable or effective a really bad film that i am struggling to say anything good about br br despite being written directed by the extreme sounding butcher brothers there's no gore here there's a bit of blood splatter a few scenes of girls chained up in a basement but nothing you couldn't do at home yourself with a bottle of tomato ketchup a camcorder the film is neither scary since it's got a very middle class suburban setting there's zero atmosphere or mood there's a lesbian suggest incestuous kiss but the hamiltons is low on the exploitation scale there's not much here for the horror crowd br br filmed in ! in california this has that modern low budget look about it it's not badly made but rather forgettable the acting by an unknown to me cast is nothing to write home about i can't say i ever felt anything for anyone br br the hamiltons commits the cardinal sin of being both dull boring from which it never ! add to that an ultra thin story no gore a rubbish ending character's who you don't give a toss about you have a film that did not impress me at all\n",
            "0\n"
          ]
        }
      ]
    },
    {
      "cell_type": "code",
      "source": [
        "decoded_review = whatItSay(3)"
      ],
      "metadata": {
        "colab": {
          "base_uri": "https://localhost:8080/"
        },
        "id": "CfL4Pbc3CVN_",
        "outputId": "d7913164-8384-46c1-873c-2c05dfeb1923"
      },
      "execution_count": 68,
      "outputs": [
        {
          "output_type": "stream",
          "name": "stdout",
          "text": [
            "! the ! ! at storytelling the traditional sort many years after the event i can still see in my ! eye an elderly lady my friend's mother retelling the battle of ! she makes the characters come alive her passion is that of an eye witness one to the events on the ! heath a mile or so from where she lives br br of course it happened many years before she was born but you wouldn't guess from the way she tells it the same story is told in bars the length and ! of scotland as i discussed it with a friend one night in ! a local cut in to give his version the discussion continued to closing time br br stories passed down like this become part of our being who doesn't remember the stories our parents told us when we were children they become our invisible world and as we grow older they maybe still serve as inspiration or as an emotional ! fact and fiction blend with ! role models warning stories ! magic and mystery br br my name is ! like my grandfather and his grandfather before him our protagonist introduces himself to us and also introduces the story that stretches back through generations it produces stories within stories stories that evoke the ! wonder of scotland its rugged mountains ! in ! the stuff of legend yet ! is rooted in reality this is what gives it its special charm it has a rough beauty and authenticity tempered with some of the finest gaelic singing you will ever hear br br ! ! visits his grandfather in hospital shortly before his death he burns with frustration part of him ! to be in the twenty first century to hang out in ! but he is raised on the western ! among a gaelic speaking community br br yet there is a deeper conflict within him he ! to know the truth the truth behind his ! ancient stories where does fiction end and he wants to know the truth behind the death of his parents br br he is pulled to make a last fateful journey to the ! of one of ! most ! mountains can the truth be told or is it all in stories br br in this story about stories we revisit bloody battles poisoned lovers the folklore of old and the sometimes more treacherous folklore of accepted truth in doing so we each connect with ! as he lives the story of his own life br br ! the ! pinnacle is probably the most honest unpretentious and genuinely beautiful film of scotland ever made like ! i got slightly annoyed with the pretext of hanging stories on more stories but also like ! i ! this once i saw the ! picture ' forget the box office pastiche of braveheart and its like you might even ! the ! famous ! of the wicker man to see a film that is true to scotland this one is probably unique if you maybe ! on it deeply enough you might even re evaluate the power of storytelling and the age old question of whether there are some truths that cannot be told but only experienced\n",
            "1\n"
          ]
        }
      ]
    },
    {
      "cell_type": "code",
      "source": [
        "rnn = Sequential()\n",
        "rnn.add(Embedding(15000, 32, input_length = len(x_train[0])))\n",
        "rnn.add(SimpleRNN(16, input_shape = (15000, 130), return_sequences = False, activation = \"relu\"))\n",
        "rnn.add(Dense(1))\n",
        "rnn.add(Activation(\"sigmoid\"))\n",
        "\n",
        "print(rnn.summary())\n",
        "rnn.compile(loss = \"binary_crossentropy\", optimizer = \"rmsprop\", metrics = [\"accuracy\"])"
      ],
      "metadata": {
        "colab": {
          "base_uri": "https://localhost:8080/"
        },
        "id": "4lW5AJKDNaPa",
        "outputId": "a447453a-68ff-4fd8-a194-623b7b4fe46b"
      },
      "execution_count": 69,
      "outputs": [
        {
          "output_type": "stream",
          "name": "stdout",
          "text": [
            "Model: \"sequential_3\"\n",
            "_________________________________________________________________\n",
            " Layer (type)                Output Shape              Param #   \n",
            "=================================================================\n",
            " embedding_1 (Embedding)     (None, 130, 32)           480000    \n",
            "                                                                 \n",
            " simple_rnn_1 (SimpleRNN)    (None, 16)                784       \n",
            "                                                                 \n",
            " dense_7 (Dense)             (None, 1)                 17        \n",
            "                                                                 \n",
            " activation_1 (Activation)   (None, 1)                 0         \n",
            "                                                                 \n",
            "=================================================================\n",
            "Total params: 480,801\n",
            "Trainable params: 480,801\n",
            "Non-trainable params: 0\n",
            "_________________________________________________________________\n",
            "None\n"
          ]
        }
      ]
    },
    {
      "cell_type": "code",
      "source": [
        "def L(epoch , Ir):\n",
        "  if epoch < 2:\n",
        "    return Ir\n",
        "  else:\n",
        "    return Ir*np.exp(-0.2)\n",
        "  \n",
        "E = tf.keras.callbacks.EarlyStopping(patience=3 , monitor = 'val_acc')\n",
        "L = tf.keras.callbacks.LearningRateScheduler(L)\n",
        "M = tf.keras.callbacks.ModelCheckpoint(filepath='/tmp/blah')"
      ],
      "metadata": {
        "id": "FBqmBisWMCaz"
      },
      "execution_count": 70,
      "outputs": []
    },
    {
      "cell_type": "code",
      "source": [
        "history = rnn.fit(x_train, Y_train, validation_split=0.1,epochs = 20, batch_size = 128, verbose = 1, callbacks=[E, L, M])"
      ],
      "metadata": {
        "colab": {
          "base_uri": "https://localhost:8080/"
        },
        "id": "8eX0K5YVRAOH",
        "outputId": "707beff9-b5cd-4791-f593-3c1347da57e5"
      },
      "execution_count": 72,
      "outputs": [
        {
          "output_type": "stream",
          "name": "stdout",
          "text": [
            "Epoch 1/20\n",
            "176/176 [==============================] - ETA: 0s - loss: 0.6136 - accuracy: 0.6646WARNING:tensorflow:Early stopping conditioned on metric `val_acc` which is not available. Available metrics are: loss,accuracy,val_loss,val_accuracy\n",
            "INFO:tensorflow:Assets written to: /tmp/blah/assets\n",
            "176/176 [==============================] - 7s 34ms/step - loss: 0.6136 - accuracy: 0.6646 - val_loss: 0.5028 - val_accuracy: 0.7996 - lr: 0.0010\n",
            "Epoch 2/20\n",
            "175/176 [============================>.] - ETA: 0s - loss: 0.4414 - accuracy: 0.8298WARNING:tensorflow:Early stopping conditioned on metric `val_acc` which is not available. Available metrics are: loss,accuracy,val_loss,val_accuracy\n",
            "INFO:tensorflow:Assets written to: /tmp/blah/assets\n",
            "176/176 [==============================] - 6s 32ms/step - loss: 0.4413 - accuracy: 0.8297 - val_loss: 0.4101 - val_accuracy: 0.8340 - lr: 0.0010\n",
            "Epoch 3/20\n",
            "174/176 [============================>.] - ETA: 0s - loss: 0.3241 - accuracy: 0.8725WARNING:tensorflow:Early stopping conditioned on metric `val_acc` which is not available. Available metrics are: loss,accuracy,val_loss,val_accuracy\n",
            "INFO:tensorflow:Assets written to: /tmp/blah/assets\n",
            "176/176 [==============================] - 6s 32ms/step - loss: 0.3240 - accuracy: 0.8724 - val_loss: 0.3728 - val_accuracy: 0.8408 - lr: 8.1873e-04\n",
            "Epoch 4/20\n",
            "176/176 [==============================] - ETA: 0s - loss: 0.2598 - accuracy: 0.8979WARNING:tensorflow:Early stopping conditioned on metric `val_acc` which is not available. Available metrics are: loss,accuracy,val_loss,val_accuracy\n",
            "INFO:tensorflow:Assets written to: /tmp/blah/assets\n",
            "176/176 [==============================] - 6s 32ms/step - loss: 0.2598 - accuracy: 0.8979 - val_loss: 0.3890 - val_accuracy: 0.8396 - lr: 6.7032e-04\n",
            "Epoch 5/20\n",
            "175/176 [============================>.] - ETA: 0s - loss: 0.2178 - accuracy: 0.9164WARNING:tensorflow:Early stopping conditioned on metric `val_acc` which is not available. Available metrics are: loss,accuracy,val_loss,val_accuracy\n",
            "INFO:tensorflow:Assets written to: /tmp/blah/assets\n",
            "176/176 [==============================] - 6s 34ms/step - loss: 0.2181 - accuracy: 0.9163 - val_loss: 0.3791 - val_accuracy: 0.8476 - lr: 5.4881e-04\n",
            "Epoch 6/20\n",
            "175/176 [============================>.] - ETA: 0s - loss: 0.1868 - accuracy: 0.9309WARNING:tensorflow:Early stopping conditioned on metric `val_acc` which is not available. Available metrics are: loss,accuracy,val_loss,val_accuracy\n",
            "INFO:tensorflow:Assets written to: /tmp/blah/assets\n",
            "176/176 [==============================] - 6s 33ms/step - loss: 0.1868 - accuracy: 0.9309 - val_loss: 0.4330 - val_accuracy: 0.8376 - lr: 4.4933e-04\n",
            "Epoch 7/20\n",
            "175/176 [============================>.] - ETA: 0s - loss: 0.1608 - accuracy: 0.9419WARNING:tensorflow:Early stopping conditioned on metric `val_acc` which is not available. Available metrics are: loss,accuracy,val_loss,val_accuracy\n",
            "INFO:tensorflow:Assets written to: /tmp/blah/assets\n",
            "176/176 [==============================] - 6s 32ms/step - loss: 0.1608 - accuracy: 0.9420 - val_loss: 0.3912 - val_accuracy: 0.8460 - lr: 3.6788e-04\n",
            "Epoch 8/20\n",
            "174/176 [============================>.] - ETA: 0s - loss: 0.1407 - accuracy: 0.9509WARNING:tensorflow:Early stopping conditioned on metric `val_acc` which is not available. Available metrics are: loss,accuracy,val_loss,val_accuracy\n",
            "INFO:tensorflow:Assets written to: /tmp/blah/assets\n",
            "176/176 [==============================] - 6s 32ms/step - loss: 0.1407 - accuracy: 0.9508 - val_loss: 0.4627 - val_accuracy: 0.8384 - lr: 3.0119e-04\n",
            "Epoch 9/20\n",
            "176/176 [==============================] - ETA: 0s - loss: 0.1273 - accuracy: 0.9560WARNING:tensorflow:Early stopping conditioned on metric `val_acc` which is not available. Available metrics are: loss,accuracy,val_loss,val_accuracy\n",
            "INFO:tensorflow:Assets written to: /tmp/blah/assets\n",
            "176/176 [==============================] - 6s 34ms/step - loss: 0.1273 - accuracy: 0.9560 - val_loss: 0.3844 - val_accuracy: 0.8500 - lr: 2.4660e-04\n",
            "Epoch 10/20\n",
            "175/176 [============================>.] - ETA: 0s - loss: 0.1151 - accuracy: 0.9615WARNING:tensorflow:Early stopping conditioned on metric `val_acc` which is not available. Available metrics are: loss,accuracy,val_loss,val_accuracy\n",
            "INFO:tensorflow:Assets written to: /tmp/blah/assets\n",
            "176/176 [==============================] - 6s 32ms/step - loss: 0.1153 - accuracy: 0.9613 - val_loss: 0.4276 - val_accuracy: 0.8504 - lr: 2.0190e-04\n",
            "Epoch 11/20\n",
            "174/176 [============================>.] - ETA: 0s - loss: 0.1049 - accuracy: 0.9651WARNING:tensorflow:Early stopping conditioned on metric `val_acc` which is not available. Available metrics are: loss,accuracy,val_loss,val_accuracy\n",
            "INFO:tensorflow:Assets written to: /tmp/blah/assets\n",
            "176/176 [==============================] - 6s 33ms/step - loss: 0.1052 - accuracy: 0.9649 - val_loss: 0.4219 - val_accuracy: 0.8504 - lr: 1.6530e-04\n",
            "Epoch 12/20\n",
            "176/176 [==============================] - ETA: 0s - loss: 0.0983 - accuracy: 0.9683WARNING:tensorflow:Early stopping conditioned on metric `val_acc` which is not available. Available metrics are: loss,accuracy,val_loss,val_accuracy\n",
            "INFO:tensorflow:Assets written to: /tmp/blah/assets\n",
            "176/176 [==============================] - 6s 32ms/step - loss: 0.0983 - accuracy: 0.9683 - val_loss: 0.4524 - val_accuracy: 0.8536 - lr: 1.3534e-04\n",
            "Epoch 13/20\n",
            "174/176 [============================>.] - ETA: 0s - loss: 0.0930 - accuracy: 0.9700WARNING:tensorflow:Early stopping conditioned on metric `val_acc` which is not available. Available metrics are: loss,accuracy,val_loss,val_accuracy\n",
            "INFO:tensorflow:Assets written to: /tmp/blah/assets\n",
            "176/176 [==============================] - 6s 35ms/step - loss: 0.0926 - accuracy: 0.9701 - val_loss: 0.4475 - val_accuracy: 0.8520 - lr: 1.1080e-04\n",
            "Epoch 14/20\n",
            "176/176 [==============================] - ETA: 0s - loss: 0.0873 - accuracy: 0.9728WARNING:tensorflow:Early stopping conditioned on metric `val_acc` which is not available. Available metrics are: loss,accuracy,val_loss,val_accuracy\n",
            "INFO:tensorflow:Assets written to: /tmp/blah/assets\n",
            "176/176 [==============================] - 6s 33ms/step - loss: 0.0873 - accuracy: 0.9728 - val_loss: 0.4681 - val_accuracy: 0.8504 - lr: 9.0718e-05\n",
            "Epoch 15/20\n",
            "175/176 [============================>.] - ETA: 0s - loss: 0.0841 - accuracy: 0.9737WARNING:tensorflow:Early stopping conditioned on metric `val_acc` which is not available. Available metrics are: loss,accuracy,val_loss,val_accuracy\n",
            "INFO:tensorflow:Assets written to: /tmp/blah/assets\n",
            "176/176 [==============================] - 6s 32ms/step - loss: 0.0838 - accuracy: 0.9739 - val_loss: 0.4626 - val_accuracy: 0.8508 - lr: 7.4274e-05\n",
            "Epoch 16/20\n",
            "175/176 [============================>.] - ETA: 0s - loss: 0.0805 - accuracy: 0.9751WARNING:tensorflow:Early stopping conditioned on metric `val_acc` which is not available. Available metrics are: loss,accuracy,val_loss,val_accuracy\n",
            "INFO:tensorflow:Assets written to: /tmp/blah/assets\n",
            "176/176 [==============================] - 6s 32ms/step - loss: 0.0806 - accuracy: 0.9751 - val_loss: 0.4827 - val_accuracy: 0.8488 - lr: 6.0810e-05\n",
            "Epoch 17/20\n",
            "176/176 [==============================] - ETA: 0s - loss: 0.0776 - accuracy: 0.9763WARNING:tensorflow:Early stopping conditioned on metric `val_acc` which is not available. Available metrics are: loss,accuracy,val_loss,val_accuracy\n",
            "INFO:tensorflow:Assets written to: /tmp/blah/assets\n",
            "176/176 [==============================] - 6s 34ms/step - loss: 0.0776 - accuracy: 0.9763 - val_loss: 0.4813 - val_accuracy: 0.8468 - lr: 4.9787e-05\n",
            "Epoch 18/20\n",
            "176/176 [==============================] - ETA: 0s - loss: 0.0756 - accuracy: 0.9774WARNING:tensorflow:Early stopping conditioned on metric `val_acc` which is not available. Available metrics are: loss,accuracy,val_loss,val_accuracy\n",
            "INFO:tensorflow:Assets written to: /tmp/blah/assets\n",
            "176/176 [==============================] - 6s 32ms/step - loss: 0.0756 - accuracy: 0.9774 - val_loss: 0.4740 - val_accuracy: 0.8480 - lr: 4.0762e-05\n",
            "Epoch 19/20\n",
            "174/176 [============================>.] - ETA: 0s - loss: 0.0739 - accuracy: 0.9776WARNING:tensorflow:Early stopping conditioned on metric `val_acc` which is not available. Available metrics are: loss,accuracy,val_loss,val_accuracy\n",
            "INFO:tensorflow:Assets written to: /tmp/blah/assets\n",
            "176/176 [==============================] - 6s 32ms/step - loss: 0.0738 - accuracy: 0.9776 - val_loss: 0.4910 - val_accuracy: 0.8472 - lr: 3.3373e-05\n",
            "Epoch 20/20\n",
            "176/176 [==============================] - ETA: 0s - loss: 0.0723 - accuracy: 0.9783WARNING:tensorflow:Early stopping conditioned on metric `val_acc` which is not available. Available metrics are: loss,accuracy,val_loss,val_accuracy\n",
            "INFO:tensorflow:Assets written to: /tmp/blah/assets\n",
            "176/176 [==============================] - 6s 32ms/step - loss: 0.0723 - accuracy: 0.9783 - val_loss: 0.4794 - val_accuracy: 0.8460 - lr: 2.7324e-05\n"
          ]
        }
      ]
    },
    {
      "cell_type": "code",
      "source": [
        "score = rnn.evaluate(x_test, Y_test)\n",
        "print(\"Accuracy: %\",score[1]*100)"
      ],
      "metadata": {
        "id": "1ME98bHgRWpG",
        "colab": {
          "base_uri": "https://localhost:8080/"
        },
        "outputId": "3d271aa9-2b10-4bb3-c34f-89ca1d0dae71"
      },
      "execution_count": 73,
      "outputs": [
        {
          "output_type": "stream",
          "name": "stdout",
          "text": [
            "782/782 [==============================] - 4s 5ms/step - loss: 0.4914 - accuracy: 0.8355\n",
            "Accuracy: % 83.55200290679932\n"
          ]
        }
      ]
    },
    {
      "cell_type": "code",
      "source": [
        "plt.figure(figsize=(10,6))\n",
        "plt.plot(history.history[\"accuracy\"], label = \"Train\", color = 'r')\n",
        "plt.plot(history.history[\"val_accuracy\"], label = \"Test\", color = 'g')\n",
        "plt.title(\"Accuracy\")\n",
        "plt.ylabel(\"Accuracy\")\n",
        "plt.xlabel(\"Epochs\")\n",
        "plt.legend()\n",
        "plt.show()"
      ],
      "metadata": {
        "colab": {
          "base_uri": "https://localhost:8080/",
          "height": 404
        },
        "id": "WVDIR4raDuk-",
        "outputId": "956fff71-1b6a-43c6-cd57-5affc08d6d3b"
      },
      "execution_count": 74,
      "outputs": [
        {
          "output_type": "display_data",
          "data": {
            "text/plain": [
              "<Figure size 720x432 with 1 Axes>"
            ],
            "image/png": "[encoded data removed]"
          },
          "metadata": {
            "needs_background": "light"
          }
        }
      ]
    },
    {
      "cell_type": "code",
      "source": [
        "plt.figure(figsize=(10,6))\n",
        "plt.plot(history.history[\"loss\"], label = \"Train\", color = 'r')\n",
        "plt.plot(history.history[\"val_loss\"], label = \"Test\", color = 'g')\n",
        "plt.title(\"Loss\")\n",
        "plt.ylabel(\"Loss\")\n",
        "plt.xlabel(\"Epochs\")\n",
        "plt.legend()\n",
        "plt.show()"
      ],
      "metadata": {
        "colab": {
          "base_uri": "https://localhost:8080/",
          "height": 404
        },
        "id": "GhWJeFnwEKn9",
        "outputId": "ffad76aa-3a83-4b5f-d290-e43a281cbb64"
      },
      "execution_count": 75,
      "outputs": [
        {
          "output_type": "display_data",
          "data": {
            "text/plain": [
              "<Figure size 720x432 with 1 Axes>"
            ],
            "image/png": "[encoded data removed]"
          },
          "metadata": {
            "needs_background": "light"
          }
        }
      ]
    },
    {
      "cell_type": "code",
      "source": [
        "y_pred_float = rnn.predict(x_test)\n",
        "y_pred = np.round(y_pred_float)"
      ],
      "metadata": {
        "id": "E33x-FzMGB7h"
      },
      "execution_count": 76,
      "outputs": []
    },
    {
      "cell_type": "code",
      "source": [
        "CM = sl.metrics.confusion_matrix(y_true=Y_test,y_pred=y_pred)\n",
        "sb.heatmap(CM,annot=True )\n",
        "plt.xlabel('Predicted')\n",
        "plt.ylabel('True')\n",
        "plt.show()"
      ],
      "metadata": {
        "colab": {
          "base_uri": "https://localhost:8080/",
          "height": 279
        },
        "id": "cJ2nrG2QFlf-",
        "outputId": "2d25aa03-850a-445e-f8c7-9c9676b3e9cb"
      },
      "execution_count": 77,
      "outputs": [
        {
          "output_type": "display_data",
          "data": {
            "text/plain": [
              "<Figure size 432x288 with 2 Axes>"
            ],
            "image/png": "[encoded data removed]"
          },
          "metadata": {
            "needs_background": "light"
          }
        }
      ]
    },
    {
      "cell_type": "code",
      "source": [
        ""
      ],
      "metadata": {
        "id": "vbNOTg4KGee2"
      },
      "execution_count": null,
      "outputs": []
    },
    {
      "cell_type": "code",
      "source": [
        ""
      ],
      "metadata": {
        "id": "ZCWl06BqH6J6"
      },
      "execution_count": null,
      "outputs": []
    },
    {
      "cell_type": "markdown",
      "source": [
        "# Problem 4"
      ],
      "metadata": {
        "id": "qqKGH76HH7Af"
      }
    },
    {
      "cell_type": "code",
      "source": [
        "from keras.layers import GRU"
      ],
      "metadata": {
        "id": "LznECE-Qdtej"
      },
      "execution_count": 79,
      "outputs": []
    },
    {
      "cell_type": "code",
      "source": [
        "gru = Sequential()\n",
        "gru.add(Embedding(15000, 32, input_length = len(x_train[0])))\n",
        "gru.add(GRU(16, input_shape = (15000, 130), return_sequences = False, activation = \"relu\"))\n",
        "gru.add(Dense(1))\n",
        "gru.add(Activation(\"sigmoid\"))\n",
        "\n",
        "print(gru.summary())\n",
        "gru.compile(loss = \"binary_crossentropy\", optimizer = \"rmsprop\", metrics = [\"accuracy\"])"
      ],
      "metadata": {
        "id": "lqHOJUQJIAQG",
        "colab": {
          "base_uri": "https://localhost:8080/"
        },
        "outputId": "53d40de3-6997-43ac-f027-bba6a52ccdb6"
      },
      "execution_count": 80,
      "outputs": [
        {
          "output_type": "stream",
          "name": "stdout",
          "text": [
            "Model: \"sequential_5\"\n",
            "_________________________________________________________________\n",
            " Layer (type)                Output Shape              Param #   \n",
            "=================================================================\n",
            " embedding_3 (Embedding)     (None, 130, 32)           480000    \n",
            "                                                                 \n",
            " gru (GRU)                   (None, 16)                2400      \n",
            "                                                                 \n",
            " dense_8 (Dense)             (None, 1)                 17        \n",
            "                                                                 \n",
            " activation_2 (Activation)   (None, 1)                 0         \n",
            "                                                                 \n",
            "=================================================================\n",
            "Total params: 482,417\n",
            "Trainable params: 482,417\n",
            "Non-trainable params: 0\n",
            "_________________________________________________________________\n",
            "None\n"
          ]
        }
      ]
    },
    {
      "cell_type": "code",
      "source": [
        "history4 = gru.fit(x_train, Y_train, validation_split=0.1,epochs = 20, batch_size = 128, verbose = 1, callbacks=[E, L, M])"
      ],
      "metadata": {
        "colab": {
          "base_uri": "https://localhost:8080/"
        },
        "id": "ZipMa7atePVS",
        "outputId": "c0f47c7a-a739-49f6-ccf2-e2f9d3cb3767"
      },
      "execution_count": 85,
      "outputs": [
        {
          "output_type": "stream",
          "name": "stdout",
          "text": [
            "Epoch 1/20\n",
            "176/176 [==============================] - ETA: 0s - loss: 0.8214 - accuracy: 0.6173WARNING:tensorflow:Early stopping conditioned on metric `val_acc` which is not available. Available metrics are: loss,accuracy,val_loss,val_accuracy\n",
            "INFO:tensorflow:Assets written to: /tmp/blah/assets\n"
          ]
        },
        {
          "output_type": "stream",
          "name": "stderr",
          "text": [
            "WARNING:absl:<keras.layers.recurrent.GRUCell object at 0x7f4841cbcf10> has the same name 'GRUCell' as a built-in Keras object. Consider renaming <class 'keras.layers.recurrent.GRUCell'> to avoid naming conflicts when loading with `tf.keras.models.load_model`. If renaming is not possible, pass the object in the `custom_objects` parameter of the load function.\n"
          ]
        },
        {
          "output_type": "stream",
          "name": "stdout",
          "text": [
            "\b\b\b\b\b\b\b\b\b\b\b\b\b\b\b\b\b\b\b\b\b\b\b\b\b\b\b\b\b\b\b\b\b\b\b\b\b\b\b\b\b\b\b\b\b\b\b\b\b\b\b\b\b\b\b\b\b\b\b\b\b\b\b\b\b\b\b\b\b\b\b\b\b\b\b\b\b\b\b\b\b\b\b\b\r176/176 [==============================] - 11s 56ms/step - loss: 0.8214 - accuracy: 0.6173 - val_loss: 0.5911 - val_accuracy: 0.6976 - lr: 0.0010\n",
            "Epoch 2/20\n",
            "176/176 [==============================] - ETA: 0s - loss: 0.5952 - accuracy: 0.7584WARNING:tensorflow:Early stopping conditioned on metric `val_acc` which is not available. Available metrics are: loss,accuracy,val_loss,val_accuracy\n"
          ]
        },
        {
          "output_type": "stream",
          "name": "stderr",
          "text": [
            "WARNING:tensorflow:Early stopping conditioned on metric `val_acc` which is not available. Available metrics are: loss,accuracy,val_loss,val_accuracy\n"
          ]
        },
        {
          "output_type": "stream",
          "name": "stdout",
          "text": [
            "INFO:tensorflow:Assets written to: /tmp/blah/assets\n"
          ]
        },
        {
          "output_type": "stream",
          "name": "stderr",
          "text": [
            "INFO:tensorflow:Assets written to: /tmp/blah/assets\n",
            "WARNING:absl:<keras.layers.recurrent.GRUCell object at 0x7f4841cbcf10> has the same name 'GRUCell' as a built-in Keras object. Consider renaming <class 'keras.layers.recurrent.GRUCell'> to avoid naming conflicts when loading with `tf.keras.models.load_model`. If renaming is not possible, pass the object in the `custom_objects` parameter of the load function.\n"
          ]
        },
        {
          "output_type": "stream",
          "name": "stdout",
          "text": [
            "\b\b\b\b\b\b\b\b\b\b\b\b\b\b\b\b\b\b\b\b\b\b\b\b\b\b\b\b\b\b\b\b\b\b\b\b\b\b\b\b\b\b\b\b\b\b\b\b\b\b\b\b\b\b\b\b\b\b\b\b\b\b\b\b\b\b\b\b\b\b\b\b\b\b\b\b\b\b\b\b\b\b\b\b\r176/176 [==============================] - 9s 54ms/step - loss: 0.5952 - accuracy: 0.7584 - val_loss: 0.5010 - val_accuracy: 0.7552 - lr: 0.0010\n",
            "Epoch 3/20\n",
            "175/176 [============================>.] - ETA: 0s - loss: 0.3838 - accuracy: 0.8310WARNING:tensorflow:Early stopping conditioned on metric `val_acc` which is not available. Available metrics are: loss,accuracy,val_loss,val_accuracy\n"
          ]
        },
        {
          "output_type": "stream",
          "name": "stderr",
          "text": [
            "WARNING:tensorflow:Early stopping conditioned on metric `val_acc` which is not available. Available metrics are: loss,accuracy,val_loss,val_accuracy\n"
          ]
        },
        {
          "output_type": "stream",
          "name": "stdout",
          "text": [
            "INFO:tensorflow:Assets written to: /tmp/blah/assets\n"
          ]
        },
        {
          "output_type": "stream",
          "name": "stderr",
          "text": [
            "INFO:tensorflow:Assets written to: /tmp/blah/assets\n",
            "WARNING:absl:<keras.layers.recurrent.GRUCell object at 0x7f4841cbcf10> has the same name 'GRUCell' as a built-in Keras object. Consider renaming <class 'keras.layers.recurrent.GRUCell'> to avoid naming conflicts when loading with `tf.keras.models.load_model`. If renaming is not possible, pass the object in the `custom_objects` parameter of the load function.\n"
          ]
        },
        {
          "output_type": "stream",
          "name": "stdout",
          "text": [
            "\b\b\b\b\b\b\b\b\b\b\b\b\b\b\b\b\b\b\b\b\b\b\b\b\b\b\b\b\b\b\b\b\b\b\b\b\b\b\b\b\b\b\b\b\b\b\b\b\b\b\b\b\b\b\b\b\b\b\b\b\b\b\b\b\b\b\b\b\b\b\b\b\b\b\b\b\b\b\b\b\b\b\b\b\r176/176 [==============================] - 10s 54ms/step - loss: 0.3832 - accuracy: 0.8312 - val_loss: 0.3489 - val_accuracy: 0.8472 - lr: 8.1873e-04\n",
            "Epoch 4/20\n",
            "176/176 [==============================] - ETA: 0s - loss: 0.2765 - accuracy: 0.8823WARNING:tensorflow:Early stopping conditioned on metric `val_acc` which is not available. Available metrics are: loss,accuracy,val_loss,val_accuracy\n"
          ]
        },
        {
          "output_type": "stream",
          "name": "stderr",
          "text": [
            "WARNING:tensorflow:Early stopping conditioned on metric `val_acc` which is not available. Available metrics are: loss,accuracy,val_loss,val_accuracy\n"
          ]
        },
        {
          "output_type": "stream",
          "name": "stdout",
          "text": [
            "INFO:tensorflow:Assets written to: /tmp/blah/assets\n"
          ]
        },
        {
          "output_type": "stream",
          "name": "stderr",
          "text": [
            "INFO:tensorflow:Assets written to: /tmp/blah/assets\n",
            "WARNING:absl:<keras.layers.recurrent.GRUCell object at 0x7f4841cbcf10> has the same name 'GRUCell' as a built-in Keras object. Consider renaming <class 'keras.layers.recurrent.GRUCell'> to avoid naming conflicts when loading with `tf.keras.models.load_model`. If renaming is not possible, pass the object in the `custom_objects` parameter of the load function.\n"
          ]
        },
        {
          "output_type": "stream",
          "name": "stdout",
          "text": [
            "\b\b\b\b\b\b\b\b\b\b\b\b\b\b\b\b\b\b\b\b\b\b\b\b\b\b\b\b\b\b\b\b\b\b\b\b\b\b\b\b\b\b\b\b\b\b\b\b\b\b\b\b\b\b\b\b\b\b\b\b\b\b\b\b\b\b\b\b\b\b\b\b\b\b\b\b\b\b\b\b\b\b\b\b\r176/176 [==============================] - 10s 56ms/step - loss: 0.2765 - accuracy: 0.8823 - val_loss: 0.3164 - val_accuracy: 0.8644 - lr: 6.7032e-04\n",
            "Epoch 5/20\n",
            "176/176 [==============================] - ETA: 0s - loss: 0.2317 - accuracy: 0.9063WARNING:tensorflow:Early stopping conditioned on metric `val_acc` which is not available. Available metrics are: loss,accuracy,val_loss,val_accuracy\n"
          ]
        },
        {
          "output_type": "stream",
          "name": "stderr",
          "text": [
            "WARNING:tensorflow:Early stopping conditioned on metric `val_acc` which is not available. Available metrics are: loss,accuracy,val_loss,val_accuracy\n"
          ]
        },
        {
          "output_type": "stream",
          "name": "stdout",
          "text": [
            "INFO:tensorflow:Assets written to: /tmp/blah/assets\n"
          ]
        },
        {
          "output_type": "stream",
          "name": "stderr",
          "text": [
            "INFO:tensorflow:Assets written to: /tmp/blah/assets\n",
            "WARNING:absl:<keras.layers.recurrent.GRUCell object at 0x7f4841cbcf10> has the same name 'GRUCell' as a built-in Keras object. Consider renaming <class 'keras.layers.recurrent.GRUCell'> to avoid naming conflicts when loading with `tf.keras.models.load_model`. If renaming is not possible, pass the object in the `custom_objects` parameter of the load function.\n"
          ]
        },
        {
          "output_type": "stream",
          "name": "stdout",
          "text": [
            "\b\b\b\b\b\b\b\b\b\b\b\b\b\b\b\b\b\b\b\b\b\b\b\b\b\b\b\b\b\b\b\b\b\b\b\b\b\b\b\b\b\b\b\b\b\b\b\b\b\b\b\b\b\b\b\b\b\b\b\b\b\b\b\b\b\b\b\b\b\b\b\b\b\b\b\b\b\b\b\b\b\b\b\b\r176/176 [==============================] - 10s 57ms/step - loss: 0.2317 - accuracy: 0.9063 - val_loss: 0.3135 - val_accuracy: 0.8744 - lr: 5.4881e-04\n",
            "Epoch 6/20\n",
            "176/176 [==============================] - ETA: 0s - loss: 0.2007 - accuracy: 0.9210WARNING:tensorflow:Early stopping conditioned on metric `val_acc` which is not available. Available metrics are: loss,accuracy,val_loss,val_accuracy\n"
          ]
        },
        {
          "output_type": "stream",
          "name": "stderr",
          "text": [
            "WARNING:tensorflow:Early stopping conditioned on metric `val_acc` which is not available. Available metrics are: loss,accuracy,val_loss,val_accuracy\n"
          ]
        },
        {
          "output_type": "stream",
          "name": "stdout",
          "text": [
            "INFO:tensorflow:Assets written to: /tmp/blah/assets\n"
          ]
        },
        {
          "output_type": "stream",
          "name": "stderr",
          "text": [
            "INFO:tensorflow:Assets written to: /tmp/blah/assets\n",
            "WARNING:absl:<keras.layers.recurrent.GRUCell object at 0x7f4841cbcf10> has the same name 'GRUCell' as a built-in Keras object. Consider renaming <class 'keras.layers.recurrent.GRUCell'> to avoid naming conflicts when loading with `tf.keras.models.load_model`. If renaming is not possible, pass the object in the `custom_objects` parameter of the load function.\n"
          ]
        },
        {
          "output_type": "stream",
          "name": "stdout",
          "text": [
            "\b\b\b\b\b\b\b\b\b\b\b\b\b\b\b\b\b\b\b\b\b\b\b\b\b\b\b\b\b\b\b\b\b\b\b\b\b\b\b\b\b\b\b\b\b\b\b\b\b\b\b\b\b\b\b\b\b\b\b\b\b\b\b\b\b\b\b\b\b\b\b\b\b\b\b\b\b\b\b\b\b\b\b\b\r176/176 [==============================] - 10s 57ms/step - loss: 0.2007 - accuracy: 0.9210 - val_loss: 0.3190 - val_accuracy: 0.8748 - lr: 4.4933e-04\n",
            "Epoch 7/20\n",
            "176/176 [==============================] - ETA: 0s - loss: 0.1781 - accuracy: 0.9318WARNING:tensorflow:Early stopping conditioned on metric `val_acc` which is not available. Available metrics are: loss,accuracy,val_loss,val_accuracy\n"
          ]
        },
        {
          "output_type": "stream",
          "name": "stderr",
          "text": [
            "WARNING:tensorflow:Early stopping conditioned on metric `val_acc` which is not available. Available metrics are: loss,accuracy,val_loss,val_accuracy\n"
          ]
        },
        {
          "output_type": "stream",
          "name": "stdout",
          "text": [
            "INFO:tensorflow:Assets written to: /tmp/blah/assets\n"
          ]
        },
        {
          "output_type": "stream",
          "name": "stderr",
          "text": [
            "INFO:tensorflow:Assets written to: /tmp/blah/assets\n",
            "WARNING:absl:<keras.layers.recurrent.GRUCell object at 0x7f4841cbcf10> has the same name 'GRUCell' as a built-in Keras object. Consider renaming <class 'keras.layers.recurrent.GRUCell'> to avoid naming conflicts when loading with `tf.keras.models.load_model`. If renaming is not possible, pass the object in the `custom_objects` parameter of the load function.\n"
          ]
        },
        {
          "output_type": "stream",
          "name": "stdout",
          "text": [
            "\b\b\b\b\b\b\b\b\b\b\b\b\b\b\b\b\b\b\b\b\b\b\b\b\b\b\b\b\b\b\b\b\b\b\b\b\b\b\b\b\b\b\b\b\b\b\b\b\b\b\b\b\b\b\b\b\b\b\b\b\b\b\b\b\b\b\b\b\b\b\b\b\b\b\b\b\b\b\b\b\b\b\b\b\r176/176 [==============================] - 10s 55ms/step - loss: 0.1781 - accuracy: 0.9318 - val_loss: 0.3201 - val_accuracy: 0.8732 - lr: 3.6788e-04\n",
            "Epoch 8/20\n",
            "176/176 [==============================] - ETA: 0s - loss: 0.1614 - accuracy: 0.9392WARNING:tensorflow:Early stopping conditioned on metric `val_acc` which is not available. Available metrics are: loss,accuracy,val_loss,val_accuracy\n"
          ]
        },
        {
          "output_type": "stream",
          "name": "stderr",
          "text": [
            "WARNING:tensorflow:Early stopping conditioned on metric `val_acc` which is not available. Available metrics are: loss,accuracy,val_loss,val_accuracy\n"
          ]
        },
        {
          "output_type": "stream",
          "name": "stdout",
          "text": [
            "INFO:tensorflow:Assets written to: /tmp/blah/assets\n"
          ]
        },
        {
          "output_type": "stream",
          "name": "stderr",
          "text": [
            "INFO:tensorflow:Assets written to: /tmp/blah/assets\n",
            "WARNING:absl:<keras.layers.recurrent.GRUCell object at 0x7f4841cbcf10> has the same name 'GRUCell' as a built-in Keras object. Consider renaming <class 'keras.layers.recurrent.GRUCell'> to avoid naming conflicts when loading with `tf.keras.models.load_model`. If renaming is not possible, pass the object in the `custom_objects` parameter of the load function.\n"
          ]
        },
        {
          "output_type": "stream",
          "name": "stdout",
          "text": [
            "\b\b\b\b\b\b\b\b\b\b\b\b\b\b\b\b\b\b\b\b\b\b\b\b\b\b\b\b\b\b\b\b\b\b\b\b\b\b\b\b\b\b\b\b\b\b\b\b\b\b\b\b\b\b\b\b\b\b\b\b\b\b\b\b\b\b\b\b\b\b\b\b\b\b\b\b\b\b\b\b\b\b\b\b\r176/176 [==============================] - 11s 60ms/step - loss: 0.1614 - accuracy: 0.9392 - val_loss: 0.3270 - val_accuracy: 0.8768 - lr: 3.0119e-04\n",
            "Epoch 9/20\n",
            "175/176 [============================>.] - ETA: 0s - loss: 0.1491 - accuracy: 0.9449WARNING:tensorflow:Early stopping conditioned on metric `val_acc` which is not available. Available metrics are: loss,accuracy,val_loss,val_accuracy\n"
          ]
        },
        {
          "output_type": "stream",
          "name": "stderr",
          "text": [
            "WARNING:tensorflow:Early stopping conditioned on metric `val_acc` which is not available. Available metrics are: loss,accuracy,val_loss,val_accuracy\n"
          ]
        },
        {
          "output_type": "stream",
          "name": "stdout",
          "text": [
            "INFO:tensorflow:Assets written to: /tmp/blah/assets\n"
          ]
        },
        {
          "output_type": "stream",
          "name": "stderr",
          "text": [
            "INFO:tensorflow:Assets written to: /tmp/blah/assets\n",
            "WARNING:absl:<keras.layers.recurrent.GRUCell object at 0x7f4841cbcf10> has the same name 'GRUCell' as a built-in Keras object. Consider renaming <class 'keras.layers.recurrent.GRUCell'> to avoid naming conflicts when loading with `tf.keras.models.load_model`. If renaming is not possible, pass the object in the `custom_objects` parameter of the load function.\n"
          ]
        },
        {
          "output_type": "stream",
          "name": "stdout",
          "text": [
            "\b\b\b\b\b\b\b\b\b\b\b\b\b\b\b\b\b\b\b\b\b\b\b\b\b\b\b\b\b\b\b\b\b\b\b\b\b\b\b\b\b\b\b\b\b\b\b\b\b\b\b\b\b\b\b\b\b\b\b\b\b\b\b\b\b\b\b\b\b\b\b\b\b\b\b\b\b\b\b\b\b\b\b\b\r176/176 [==============================] - 10s 58ms/step - loss: 0.1492 - accuracy: 0.9448 - val_loss: 0.3220 - val_accuracy: 0.8724 - lr: 2.4660e-04\n",
            "Epoch 10/20\n",
            "175/176 [============================>.] - ETA: 0s - loss: 0.1387 - accuracy: 0.9498WARNING:tensorflow:Early stopping conditioned on metric `val_acc` which is not available. Available metrics are: loss,accuracy,val_loss,val_accuracy\n"
          ]
        },
        {
          "output_type": "stream",
          "name": "stderr",
          "text": [
            "WARNING:tensorflow:Early stopping conditioned on metric `val_acc` which is not available. Available metrics are: loss,accuracy,val_loss,val_accuracy\n"
          ]
        },
        {
          "output_type": "stream",
          "name": "stdout",
          "text": [
            "INFO:tensorflow:Assets written to: /tmp/blah/assets\n"
          ]
        },
        {
          "output_type": "stream",
          "name": "stderr",
          "text": [
            "INFO:tensorflow:Assets written to: /tmp/blah/assets\n",
            "WARNING:absl:<keras.layers.recurrent.GRUCell object at 0x7f4841cbcf10> has the same name 'GRUCell' as a built-in Keras object. Consider renaming <class 'keras.layers.recurrent.GRUCell'> to avoid naming conflicts when loading with `tf.keras.models.load_model`. If renaming is not possible, pass the object in the `custom_objects` parameter of the load function.\n"
          ]
        },
        {
          "output_type": "stream",
          "name": "stdout",
          "text": [
            "\b\b\b\b\b\b\b\b\b\b\b\b\b\b\b\b\b\b\b\b\b\b\b\b\b\b\b\b\b\b\b\b\b\b\b\b\b\b\b\b\b\b\b\b\b\b\b\b\b\b\b\b\b\b\b\b\b\b\b\b\b\b\b\b\b\b\b\b\b\b\b\b\b\b\b\b\b\b\b\b\b\b\b\b\r176/176 [==============================] - 11s 62ms/step - loss: 0.1387 - accuracy: 0.9498 - val_loss: 0.3337 - val_accuracy: 0.8692 - lr: 2.0190e-04\n",
            "Epoch 11/20\n",
            "176/176 [==============================] - ETA: 0s - loss: 0.1316 - accuracy: 0.9538WARNING:tensorflow:Early stopping conditioned on metric `val_acc` which is not available. Available metrics are: loss,accuracy,val_loss,val_accuracy\n"
          ]
        },
        {
          "output_type": "stream",
          "name": "stderr",
          "text": [
            "WARNING:tensorflow:Early stopping conditioned on metric `val_acc` which is not available. Available metrics are: loss,accuracy,val_loss,val_accuracy\n"
          ]
        },
        {
          "output_type": "stream",
          "name": "stdout",
          "text": [
            "INFO:tensorflow:Assets written to: /tmp/blah/assets\n"
          ]
        },
        {
          "output_type": "stream",
          "name": "stderr",
          "text": [
            "INFO:tensorflow:Assets written to: /tmp/blah/assets\n",
            "WARNING:absl:<keras.layers.recurrent.GRUCell object at 0x7f4841cbcf10> has the same name 'GRUCell' as a built-in Keras object. Consider renaming <class 'keras.layers.recurrent.GRUCell'> to avoid naming conflicts when loading with `tf.keras.models.load_model`. If renaming is not possible, pass the object in the `custom_objects` parameter of the load function.\n"
          ]
        },
        {
          "output_type": "stream",
          "name": "stdout",
          "text": [
            "\b\b\b\b\b\b\b\b\b\b\b\b\b\b\b\b\b\b\b\b\b\b\b\b\b\b\b\b\b\b\b\b\b\b\b\b\b\b\b\b\b\b\b\b\b\b\b\b\b\b\b\b\b\b\b\b\b\b\b\b\b\b\b\b\b\b\b\b\b\b\b\b\b\b\b\b\b\b\b\b\b\b\b\b\r176/176 [==============================] - 17s 99ms/step - loss: 0.1316 - accuracy: 0.9538 - val_loss: 0.3716 - val_accuracy: 0.8708 - lr: 1.6530e-04\n",
            "Epoch 12/20\n",
            "175/176 [============================>.] - ETA: 0s - loss: 0.1253 - accuracy: 0.9571WARNING:tensorflow:Early stopping conditioned on metric `val_acc` which is not available. Available metrics are: loss,accuracy,val_loss,val_accuracy\n"
          ]
        },
        {
          "output_type": "stream",
          "name": "stderr",
          "text": [
            "WARNING:tensorflow:Early stopping conditioned on metric `val_acc` which is not available. Available metrics are: loss,accuracy,val_loss,val_accuracy\n"
          ]
        },
        {
          "output_type": "stream",
          "name": "stdout",
          "text": [
            "INFO:tensorflow:Assets written to: /tmp/blah/assets\n"
          ]
        },
        {
          "output_type": "stream",
          "name": "stderr",
          "text": [
            "INFO:tensorflow:Assets written to: /tmp/blah/assets\n",
            "WARNING:absl:<keras.layers.recurrent.GRUCell object at 0x7f4841cbcf10> has the same name 'GRUCell' as a built-in Keras object. Consider renaming <class 'keras.layers.recurrent.GRUCell'> to avoid naming conflicts when loading with `tf.keras.models.load_model`. If renaming is not possible, pass the object in the `custom_objects` parameter of the load function.\n"
          ]
        },
        {
          "output_type": "stream",
          "name": "stdout",
          "text": [
            "\b\b\b\b\b\b\b\b\b\b\b\b\b\b\b\b\b\b\b\b\b\b\b\b\b\b\b\b\b\b\b\b\b\b\b\b\b\b\b\b\b\b\b\b\b\b\b\b\b\b\b\b\b\b\b\b\b\b\b\b\b\b\b\b\b\b\b\b\b\b\b\b\b\b\b\b\b\b\b\b\b\b\b\b\r176/176 [==============================] - 10s 57ms/step - loss: 0.1252 - accuracy: 0.9571 - val_loss: 0.3547 - val_accuracy: 0.8716 - lr: 1.3534e-04\n",
            "Epoch 13/20\n",
            "175/176 [============================>.] - ETA: 0s - loss: 0.1198 - accuracy: 0.9590WARNING:tensorflow:Early stopping conditioned on metric `val_acc` which is not available. Available metrics are: loss,accuracy,val_loss,val_accuracy\n"
          ]
        },
        {
          "output_type": "stream",
          "name": "stderr",
          "text": [
            "WARNING:tensorflow:Early stopping conditioned on metric `val_acc` which is not available. Available metrics are: loss,accuracy,val_loss,val_accuracy\n"
          ]
        },
        {
          "output_type": "stream",
          "name": "stdout",
          "text": [
            "INFO:tensorflow:Assets written to: /tmp/blah/assets\n"
          ]
        },
        {
          "output_type": "stream",
          "name": "stderr",
          "text": [
            "INFO:tensorflow:Assets written to: /tmp/blah/assets\n",
            "WARNING:absl:<keras.layers.recurrent.GRUCell object at 0x7f4841cbcf10> has the same name 'GRUCell' as a built-in Keras object. Consider renaming <class 'keras.layers.recurrent.GRUCell'> to avoid naming conflicts when loading with `tf.keras.models.load_model`. If renaming is not possible, pass the object in the `custom_objects` parameter of the load function.\n"
          ]
        },
        {
          "output_type": "stream",
          "name": "stdout",
          "text": [
            "\b\b\b\b\b\b\b\b\b\b\b\b\b\b\b\b\b\b\b\b\b\b\b\b\b\b\b\b\b\b\b\b\b\b\b\b\b\b\b\b\b\b\b\b\b\b\b\b\b\b\b\b\b\b\b\b\b\b\b\b\b\b\b\b\b\b\b\b\b\b\b\b\b\b\b\b\b\b\b\b\b\b\b\b\r176/176 [==============================] - 10s 54ms/step - loss: 0.1199 - accuracy: 0.9589 - val_loss: 0.3630 - val_accuracy: 0.8720 - lr: 1.1080e-04\n",
            "Epoch 14/20\n",
            "176/176 [==============================] - ETA: 0s - loss: 0.1157 - accuracy: 0.9607WARNING:tensorflow:Early stopping conditioned on metric `val_acc` which is not available. Available metrics are: loss,accuracy,val_loss,val_accuracy\n"
          ]
        },
        {
          "output_type": "stream",
          "name": "stderr",
          "text": [
            "WARNING:tensorflow:Early stopping conditioned on metric `val_acc` which is not available. Available metrics are: loss,accuracy,val_loss,val_accuracy\n"
          ]
        },
        {
          "output_type": "stream",
          "name": "stdout",
          "text": [
            "INFO:tensorflow:Assets written to: /tmp/blah/assets\n"
          ]
        },
        {
          "output_type": "stream",
          "name": "stderr",
          "text": [
            "INFO:tensorflow:Assets written to: /tmp/blah/assets\n",
            "WARNING:absl:<keras.layers.recurrent.GRUCell object at 0x7f4841cbcf10> has the same name 'GRUCell' as a built-in Keras object. Consider renaming <class 'keras.layers.recurrent.GRUCell'> to avoid naming conflicts when loading with `tf.keras.models.load_model`. If renaming is not possible, pass the object in the `custom_objects` parameter of the load function.\n"
          ]
        },
        {
          "output_type": "stream",
          "name": "stdout",
          "text": [
            "\b\b\b\b\b\b\b\b\b\b\b\b\b\b\b\b\b\b\b\b\b\b\b\b\b\b\b\b\b\b\b\b\b\b\b\b\b\b\b\b\b\b\b\b\b\b\b\b\b\b\b\b\b\b\b\b\b\b\b\b\b\b\b\b\b\b\b\b\b\b\b\b\b\b\b\b\b\b\b\b\b\b\b\b\r176/176 [==============================] - 9s 53ms/step - loss: 0.1157 - accuracy: 0.9607 - val_loss: 0.3669 - val_accuracy: 0.8708 - lr: 9.0718e-05\n",
            "Epoch 15/20\n",
            "175/176 [============================>.] - ETA: 0s - loss: 0.1122 - accuracy: 0.9615WARNING:tensorflow:Early stopping conditioned on metric `val_acc` which is not available. Available metrics are: loss,accuracy,val_loss,val_accuracy\n"
          ]
        },
        {
          "output_type": "stream",
          "name": "stderr",
          "text": [
            "WARNING:tensorflow:Early stopping conditioned on metric `val_acc` which is not available. Available metrics are: loss,accuracy,val_loss,val_accuracy\n"
          ]
        },
        {
          "output_type": "stream",
          "name": "stdout",
          "text": [
            "INFO:tensorflow:Assets written to: /tmp/blah/assets\n"
          ]
        },
        {
          "output_type": "stream",
          "name": "stderr",
          "text": [
            "INFO:tensorflow:Assets written to: /tmp/blah/assets\n",
            "WARNING:absl:<keras.layers.recurrent.GRUCell object at 0x7f4841cbcf10> has the same name 'GRUCell' as a built-in Keras object. Consider renaming <class 'keras.layers.recurrent.GRUCell'> to avoid naming conflicts when loading with `tf.keras.models.load_model`. If renaming is not possible, pass the object in the `custom_objects` parameter of the load function.\n"
          ]
        },
        {
          "output_type": "stream",
          "name": "stdout",
          "text": [
            "\b\b\b\b\b\b\b\b\b\b\b\b\b\b\b\b\b\b\b\b\b\b\b\b\b\b\b\b\b\b\b\b\b\b\b\b\b\b\b\b\b\b\b\b\b\b\b\b\b\b\b\b\b\b\b\b\b\b\b\b\b\b\b\b\b\b\b\b\b\b\b\b\b\b\b\b\b\b\b\b\b\b\b\b\r176/176 [==============================] - 9s 53ms/step - loss: 0.1123 - accuracy: 0.9615 - val_loss: 0.3658 - val_accuracy: 0.8704 - lr: 7.4274e-05\n",
            "Epoch 16/20\n",
            "175/176 [============================>.] - ETA: 0s - loss: 0.1099 - accuracy: 0.9629WARNING:tensorflow:Early stopping conditioned on metric `val_acc` which is not available. Available metrics are: loss,accuracy,val_loss,val_accuracy\n"
          ]
        },
        {
          "output_type": "stream",
          "name": "stderr",
          "text": [
            "WARNING:tensorflow:Early stopping conditioned on metric `val_acc` which is not available. Available metrics are: loss,accuracy,val_loss,val_accuracy\n"
          ]
        },
        {
          "output_type": "stream",
          "name": "stdout",
          "text": [
            "INFO:tensorflow:Assets written to: /tmp/blah/assets\n"
          ]
        },
        {
          "output_type": "stream",
          "name": "stderr",
          "text": [
            "INFO:tensorflow:Assets written to: /tmp/blah/assets\n",
            "WARNING:absl:<keras.layers.recurrent.GRUCell object at 0x7f4841cbcf10> has the same name 'GRUCell' as a built-in Keras object. Consider renaming <class 'keras.layers.recurrent.GRUCell'> to avoid naming conflicts when loading with `tf.keras.models.load_model`. If renaming is not possible, pass the object in the `custom_objects` parameter of the load function.\n"
          ]
        },
        {
          "output_type": "stream",
          "name": "stdout",
          "text": [
            "\b\b\b\b\b\b\b\b\b\b\b\b\b\b\b\b\b\b\b\b\b\b\b\b\b\b\b\b\b\b\b\b\b\b\b\b\b\b\b\b\b\b\b\b\b\b\b\b\b\b\b\b\b\b\b\b\b\b\b\b\b\b\b\b\b\b\b\b\b\b\b\b\b\b\b\b\b\b\b\b\b\b\b\b\r176/176 [==============================] - 10s 56ms/step - loss: 0.1096 - accuracy: 0.9630 - val_loss: 0.3780 - val_accuracy: 0.8708 - lr: 6.0810e-05\n",
            "Epoch 17/20\n",
            "176/176 [==============================] - ETA: 0s - loss: 0.1076 - accuracy: 0.9639WARNING:tensorflow:Early stopping conditioned on metric `val_acc` which is not available. Available metrics are: loss,accuracy,val_loss,val_accuracy\n"
          ]
        },
        {
          "output_type": "stream",
          "name": "stderr",
          "text": [
            "WARNING:tensorflow:Early stopping conditioned on metric `val_acc` which is not available. Available metrics are: loss,accuracy,val_loss,val_accuracy\n"
          ]
        },
        {
          "output_type": "stream",
          "name": "stdout",
          "text": [
            "INFO:tensorflow:Assets written to: /tmp/blah/assets\n"
          ]
        },
        {
          "output_type": "stream",
          "name": "stderr",
          "text": [
            "INFO:tensorflow:Assets written to: /tmp/blah/assets\n",
            "WARNING:absl:<keras.layers.recurrent.GRUCell object at 0x7f4841cbcf10> has the same name 'GRUCell' as a built-in Keras object. Consider renaming <class 'keras.layers.recurrent.GRUCell'> to avoid naming conflicts when loading with `tf.keras.models.load_model`. If renaming is not possible, pass the object in the `custom_objects` parameter of the load function.\n"
          ]
        },
        {
          "output_type": "stream",
          "name": "stdout",
          "text": [
            "\b\b\b\b\b\b\b\b\b\b\b\b\b\b\b\b\b\b\b\b\b\b\b\b\b\b\b\b\b\b\b\b\b\b\b\b\b\b\b\b\b\b\b\b\b\b\b\b\b\b\b\b\b\b\b\b\b\b\b\b\b\b\b\b\b\b\b\b\b\b\b\b\b\b\b\b\b\b\b\b\b\b\b\b\r176/176 [==============================] - 10s 54ms/step - loss: 0.1076 - accuracy: 0.9639 - val_loss: 0.3779 - val_accuracy: 0.8692 - lr: 4.9787e-05\n",
            "Epoch 18/20\n",
            "175/176 [============================>.] - ETA: 0s - loss: 0.1059 - accuracy: 0.9644WARNING:tensorflow:Early stopping conditioned on metric `val_acc` which is not available. Available metrics are: loss,accuracy,val_loss,val_accuracy\n"
          ]
        },
        {
          "output_type": "stream",
          "name": "stderr",
          "text": [
            "WARNING:tensorflow:Early stopping conditioned on metric `val_acc` which is not available. Available metrics are: loss,accuracy,val_loss,val_accuracy\n"
          ]
        },
        {
          "output_type": "stream",
          "name": "stdout",
          "text": [
            "INFO:tensorflow:Assets written to: /tmp/blah/assets\n"
          ]
        },
        {
          "output_type": "stream",
          "name": "stderr",
          "text": [
            "INFO:tensorflow:Assets written to: /tmp/blah/assets\n",
            "WARNING:absl:<keras.layers.recurrent.GRUCell object at 0x7f4841cbcf10> has the same name 'GRUCell' as a built-in Keras object. Consider renaming <class 'keras.layers.recurrent.GRUCell'> to avoid naming conflicts when loading with `tf.keras.models.load_model`. If renaming is not possible, pass the object in the `custom_objects` parameter of the load function.\n"
          ]
        },
        {
          "output_type": "stream",
          "name": "stdout",
          "text": [
            "\b\b\b\b\b\b\b\b\b\b\b\b\b\b\b\b\b\b\b\b\b\b\b\b\b\b\b\b\b\b\b\b\b\b\b\b\b\b\b\b\b\b\b\b\b\b\b\b\b\b\b\b\b\b\b\b\b\b\b\b\b\b\b\b\b\b\b\b\b\b\b\b\b\b\b\b\b\b\b\b\b\b\b\b\r176/176 [==============================] - 9s 54ms/step - loss: 0.1060 - accuracy: 0.9644 - val_loss: 0.3790 - val_accuracy: 0.8692 - lr: 4.0762e-05\n",
            "Epoch 19/20\n",
            "175/176 [============================>.] - ETA: 0s - loss: 0.1042 - accuracy: 0.9650WARNING:tensorflow:Early stopping conditioned on metric `val_acc` which is not available. Available metrics are: loss,accuracy,val_loss,val_accuracy\n"
          ]
        },
        {
          "output_type": "stream",
          "name": "stderr",
          "text": [
            "WARNING:tensorflow:Early stopping conditioned on metric `val_acc` which is not available. Available metrics are: loss,accuracy,val_loss,val_accuracy\n"
          ]
        },
        {
          "output_type": "stream",
          "name": "stdout",
          "text": [
            "INFO:tensorflow:Assets written to: /tmp/blah/assets\n"
          ]
        },
        {
          "output_type": "stream",
          "name": "stderr",
          "text": [
            "INFO:tensorflow:Assets written to: /tmp/blah/assets\n",
            "WARNING:absl:<keras.layers.recurrent.GRUCell object at 0x7f4841cbcf10> has the same name 'GRUCell' as a built-in Keras object. Consider renaming <class 'keras.layers.recurrent.GRUCell'> to avoid naming conflicts when loading with `tf.keras.models.load_model`. If renaming is not possible, pass the object in the `custom_objects` parameter of the load function.\n"
          ]
        },
        {
          "output_type": "stream",
          "name": "stdout",
          "text": [
            "\b\b\b\b\b\b\b\b\b\b\b\b\b\b\b\b\b\b\b\b\b\b\b\b\b\b\b\b\b\b\b\b\b\b\b\b\b\b\b\b\b\b\b\b\b\b\b\b\b\b\b\b\b\b\b\b\b\b\b\b\b\b\b\b\b\b\b\b\b\b\b\b\b\b\b\b\b\b\b\b\b\b\b\b\r176/176 [==============================] - 9s 54ms/step - loss: 0.1045 - accuracy: 0.9649 - val_loss: 0.3747 - val_accuracy: 0.8684 - lr: 3.3373e-05\n",
            "Epoch 20/20\n",
            "175/176 [============================>.] - ETA: 0s - loss: 0.1033 - accuracy: 0.9658WARNING:tensorflow:Early stopping conditioned on metric `val_acc` which is not available. Available metrics are: loss,accuracy,val_loss,val_accuracy\n"
          ]
        },
        {
          "output_type": "stream",
          "name": "stderr",
          "text": [
            "WARNING:tensorflow:Early stopping conditioned on metric `val_acc` which is not available. Available metrics are: loss,accuracy,val_loss,val_accuracy\n"
          ]
        },
        {
          "output_type": "stream",
          "name": "stdout",
          "text": [
            "INFO:tensorflow:Assets written to: /tmp/blah/assets\n"
          ]
        },
        {
          "output_type": "stream",
          "name": "stderr",
          "text": [
            "INFO:tensorflow:Assets written to: /tmp/blah/assets\n",
            "WARNING:absl:<keras.layers.recurrent.GRUCell object at 0x7f4841cbcf10> has the same name 'GRUCell' as a built-in Keras object. Consider renaming <class 'keras.layers.recurrent.GRUCell'> to avoid naming conflicts when loading with `tf.keras.models.load_model`. If renaming is not possible, pass the object in the `custom_objects` parameter of the load function.\n"
          ]
        },
        {
          "output_type": "stream",
          "name": "stdout",
          "text": [
            "\b\b\b\b\b\b\b\b\b\b\b\b\b\b\b\b\b\b\b\b\b\b\b\b\b\b\b\b\b\b\b\b\b\b\b\b\b\b\b\b\b\b\b\b\b\b\b\b\b\b\b\b\b\b\b\b\b\b\b\b\b\b\b\b\b\b\b\b\b\b\b\b\b\b\b\b\b\b\b\b\b\b\b\b\r176/176 [==============================] - 10s 56ms/step - loss: 0.1034 - accuracy: 0.9657 - val_loss: 0.3808 - val_accuracy: 0.8684 - lr: 2.7324e-05\n"
          ]
        }
      ]
    },
    {
      "cell_type": "code",
      "source": [
        "score = gru.evaluate(x_test, Y_test)\n",
        "print(\"Accuracy: %\",score[1]*100)"
      ],
      "metadata": {
        "colab": {
          "base_uri": "https://localhost:8080/"
        },
        "id": "5CrCLJXYebrw",
        "outputId": "c88f7410-db6d-4fbd-de85-62de51eeaa6e"
      },
      "execution_count": 86,
      "outputs": [
        {
          "output_type": "stream",
          "name": "stdout",
          "text": [
            "782/782 [==============================] - 6s 7ms/step - loss: 0.3995 - accuracy: 0.8608\n",
            "Accuracy: % 86.0759973526001\n"
          ]
        }
      ]
    },
    {
      "cell_type": "code",
      "source": [
        "plt.figure(figsize=(10,6))\n",
        "plt.plot(history4.history[\"accuracy\"], label = \"Train\", color = 'r')\n",
        "plt.plot(history4.history[\"val_accuracy\"], label = \"Val\", color = 'g')\n",
        "plt.title(\"Accuracy\")\n",
        "plt.ylabel(\"Accuracy\")\n",
        "plt.xlabel(\"Epochs\")\n",
        "plt.legend()\n",
        "plt.show()"
      ],
      "metadata": {
        "colab": {
          "base_uri": "https://localhost:8080/",
          "height": 404
        },
        "id": "pFu9hpWEe66i",
        "outputId": "ac77c871-eed6-4365-92ae-06afa324dbff"
      },
      "execution_count": 91,
      "outputs": [
        {
          "output_type": "display_data",
          "data": {
            "text/plain": [
              "<Figure size 720x432 with 1 Axes>"
            ],
            "image/png": "[encoded data removed]"
          },
          "metadata": {
            "needs_background": "light"
          }
        }
      ]
    },
    {
      "cell_type": "code",
      "source": [
        "plt.figure(figsize=(10,6))\n",
        "plt.plot(history4.history[\"loss\"], label = \"Train\", color = 'r')\n",
        "plt.plot(history4.history[\"val_loss\"], label = \"Val\", color = 'g')\n",
        "plt.title(\"Loss\")\n",
        "plt.ylabel(\"Loss\")\n",
        "plt.xlabel(\"Epochs\")\n",
        "plt.legend()\n",
        "plt.show()"
      ],
      "metadata": {
        "colab": {
          "base_uri": "https://localhost:8080/",
          "height": 404
        },
        "id": "-02bkzyXfEoA",
        "outputId": "01c510c5-4912-44b7-c357-4d3e30e0fef9"
      },
      "execution_count": 92,
      "outputs": [
        {
          "output_type": "display_data",
          "data": {
            "text/plain": [
              "<Figure size 720x432 with 1 Axes>"
            ],
            "image/png": "[encoded data removed]"
          },
          "metadata": {
            "needs_background": "light"
          }
        }
      ]
    },
    {
      "cell_type": "markdown",
      "source": [
        "well from 4th epoch it's getting overfitted, means less epoches could help"
      ],
      "metadata": {
        "id": "0__jtPzXhaPO"
      }
    },
    {
      "cell_type": "markdown",
      "source": [
        "which means we're doing this problem again!!=)"
      ],
      "metadata": {
        "id": "rpuJyjuSh_lY"
      }
    },
    {
      "cell_type": "code",
      "source": [
        "y_pred_float = gru.predict(x_test)\n",
        "y_pred = np.round(y_pred_float)"
      ],
      "metadata": {
        "id": "fkKbx2cVgdAb"
      },
      "execution_count": 89,
      "outputs": []
    },
    {
      "cell_type": "code",
      "source": [
        "CM = sl.metrics.confusion_matrix(y_true=Y_test,y_pred=y_pred)\n",
        "sb.heatmap(CM,annot=True )\n",
        "plt.xlabel('Predicted')\n",
        "plt.ylabel('True')\n",
        "plt.show()"
      ],
      "metadata": {
        "colab": {
          "base_uri": "https://localhost:8080/",
          "height": 279
        },
        "id": "bNNsolFFgl9G",
        "outputId": "1d9eea9e-d80f-4d9e-a71c-87a7d7c26543"
      },
      "execution_count": 90,
      "outputs": [
        {
          "output_type": "display_data",
          "data": {
            "text/plain": [
              "<Figure size 432x288 with 2 Axes>"
            ],
            "image/png": "[encoded data removed]"
          },
          "metadata": {
            "needs_background": "light"
          }
        }
      ]
    },
    {
      "cell_type": "markdown",
      "source": [
        "# Problem 4 enhanced"
      ],
      "metadata": {
        "id": "7LJqYaYpjeQO"
      }
    },
    {
      "cell_type": "code",
      "source": [
        "history4 = gru.fit(x_train, Y_train, validation_split=0.1,epochs = 4, batch_size = 128, verbose = 1, callbacks=[E, L, M])"
      ],
      "metadata": {
        "colab": {
          "base_uri": "https://localhost:8080/"
        },
        "id": "4nCaKffZgr13",
        "outputId": "1ef8103d-8f06-4e85-c6dd-b203d25a08ca"
      },
      "execution_count": 93,
      "outputs": [
        {
          "output_type": "stream",
          "name": "stdout",
          "text": [
            "Epoch 1/4\n",
            "176/176 [==============================] - ETA: 0s - loss: 0.1026 - accuracy: 0.9660WARNING:tensorflow:Early stopping conditioned on metric `val_acc` which is not available. Available metrics are: loss,accuracy,val_loss,val_accuracy\n"
          ]
        },
        {
          "output_type": "stream",
          "name": "stderr",
          "text": [
            "WARNING:tensorflow:Early stopping conditioned on metric `val_acc` which is not available. Available metrics are: loss,accuracy,val_loss,val_accuracy\n"
          ]
        },
        {
          "output_type": "stream",
          "name": "stdout",
          "text": [
            "INFO:tensorflow:Assets written to: /tmp/blah/assets\n"
          ]
        },
        {
          "output_type": "stream",
          "name": "stderr",
          "text": [
            "INFO:tensorflow:Assets written to: /tmp/blah/assets\n",
            "WARNING:absl:<keras.layers.recurrent.GRUCell object at 0x7f4841cbcf10> has the same name 'GRUCell' as a built-in Keras object. Consider renaming <class 'keras.layers.recurrent.GRUCell'> to avoid naming conflicts when loading with `tf.keras.models.load_model`. If renaming is not possible, pass the object in the `custom_objects` parameter of the load function.\n"
          ]
        },
        {
          "output_type": "stream",
          "name": "stdout",
          "text": [
            "\b\b\b\b\b\b\b\b\b\b\b\b\b\b\b\b\b\b\b\b\b\b\b\b\b\b\b\b\b\b\b\b\b\b\b\b\b\b\b\b\b\b\b\b\b\b\b\b\b\b\b\b\b\b\b\b\b\b\b\b\b\b\b\b\b\b\b\b\b\b\b\b\b\b\b\b\b\b\b\b\b\b\b\b\r176/176 [==============================] - 11s 60ms/step - loss: 0.1026 - accuracy: 0.9660 - val_loss: 0.3864 - val_accuracy: 0.8696 - lr: 2.7324e-05\n",
            "Epoch 2/4\n",
            "176/176 [==============================] - ETA: 0s - loss: 0.1018 - accuracy: 0.9659WARNING:tensorflow:Early stopping conditioned on metric `val_acc` which is not available. Available metrics are: loss,accuracy,val_loss,val_accuracy\n"
          ]
        },
        {
          "output_type": "stream",
          "name": "stderr",
          "text": [
            "WARNING:tensorflow:Early stopping conditioned on metric `val_acc` which is not available. Available metrics are: loss,accuracy,val_loss,val_accuracy\n"
          ]
        },
        {
          "output_type": "stream",
          "name": "stdout",
          "text": [
            "INFO:tensorflow:Assets written to: /tmp/blah/assets\n"
          ]
        },
        {
          "output_type": "stream",
          "name": "stderr",
          "text": [
            "INFO:tensorflow:Assets written to: /tmp/blah/assets\n",
            "WARNING:absl:<keras.layers.recurrent.GRUCell object at 0x7f4841cbcf10> has the same name 'GRUCell' as a built-in Keras object. Consider renaming <class 'keras.layers.recurrent.GRUCell'> to avoid naming conflicts when loading with `tf.keras.models.load_model`. If renaming is not possible, pass the object in the `custom_objects` parameter of the load function.\n"
          ]
        },
        {
          "output_type": "stream",
          "name": "stdout",
          "text": [
            "\b\b\b\b\b\b\b\b\b\b\b\b\b\b\b\b\b\b\b\b\b\b\b\b\b\b\b\b\b\b\b\b\b\b\b\b\b\b\b\b\b\b\b\b\b\b\b\b\b\b\b\b\b\b\b\b\b\b\b\b\b\b\b\b\b\b\b\b\b\b\b\b\b\b\b\b\b\b\b\b\b\b\b\b\r176/176 [==============================] - 10s 57ms/step - loss: 0.1018 - accuracy: 0.9659 - val_loss: 0.3853 - val_accuracy: 0.8696 - lr: 2.7324e-05\n",
            "Epoch 3/4\n",
            "176/176 [==============================] - ETA: 0s - loss: 0.1008 - accuracy: 0.9664WARNING:tensorflow:Early stopping conditioned on metric `val_acc` which is not available. Available metrics are: loss,accuracy,val_loss,val_accuracy\n"
          ]
        },
        {
          "output_type": "stream",
          "name": "stderr",
          "text": [
            "WARNING:tensorflow:Early stopping conditioned on metric `val_acc` which is not available. Available metrics are: loss,accuracy,val_loss,val_accuracy\n"
          ]
        },
        {
          "output_type": "stream",
          "name": "stdout",
          "text": [
            "INFO:tensorflow:Assets written to: /tmp/blah/assets\n"
          ]
        },
        {
          "output_type": "stream",
          "name": "stderr",
          "text": [
            "INFO:tensorflow:Assets written to: /tmp/blah/assets\n",
            "WARNING:absl:<keras.layers.recurrent.GRUCell object at 0x7f4841cbcf10> has the same name 'GRUCell' as a built-in Keras object. Consider renaming <class 'keras.layers.recurrent.GRUCell'> to avoid naming conflicts when loading with `tf.keras.models.load_model`. If renaming is not possible, pass the object in the `custom_objects` parameter of the load function.\n"
          ]
        },
        {
          "output_type": "stream",
          "name": "stdout",
          "text": [
            "\b\b\b\b\b\b\b\b\b\b\b\b\b\b\b\b\b\b\b\b\b\b\b\b\b\b\b\b\b\b\b\b\b\b\b\b\b\b\b\b\b\b\b\b\b\b\b\b\b\b\b\b\b\b\b\b\b\b\b\b\b\b\b\b\b\b\b\b\b\b\b\b\b\b\b\b\b\b\b\b\b\b\b\b\r176/176 [==============================] - 11s 63ms/step - loss: 0.1008 - accuracy: 0.9664 - val_loss: 0.3967 - val_accuracy: 0.8688 - lr: 2.2371e-05\n",
            "Epoch 4/4\n",
            "175/176 [============================>.] - ETA: 0s - loss: 0.1000 - accuracy: 0.9663WARNING:tensorflow:Early stopping conditioned on metric `val_acc` which is not available. Available metrics are: loss,accuracy,val_loss,val_accuracy\n"
          ]
        },
        {
          "output_type": "stream",
          "name": "stderr",
          "text": [
            "WARNING:tensorflow:Early stopping conditioned on metric `val_acc` which is not available. Available metrics are: loss,accuracy,val_loss,val_accuracy\n"
          ]
        },
        {
          "output_type": "stream",
          "name": "stdout",
          "text": [
            "INFO:tensorflow:Assets written to: /tmp/blah/assets\n"
          ]
        },
        {
          "output_type": "stream",
          "name": "stderr",
          "text": [
            "INFO:tensorflow:Assets written to: /tmp/blah/assets\n",
            "WARNING:absl:<keras.layers.recurrent.GRUCell object at 0x7f4841cbcf10> has the same name 'GRUCell' as a built-in Keras object. Consider renaming <class 'keras.layers.recurrent.GRUCell'> to avoid naming conflicts when loading with `tf.keras.models.load_model`. If renaming is not possible, pass the object in the `custom_objects` parameter of the load function.\n"
          ]
        },
        {
          "output_type": "stream",
          "name": "stdout",
          "text": [
            "\b\b\b\b\b\b\b\b\b\b\b\b\b\b\b\b\b\b\b\b\b\b\b\b\b\b\b\b\b\b\b\b\b\b\b\b\b\b\b\b\b\b\b\b\b\b\b\b\b\b\b\b\b\b\b\b\b\b\b\b\b\b\b\b\b\b\b\b\b\b\b\b\b\b\b\b\b\b\b\b\b\b\b\b\r176/176 [==============================] - 10s 54ms/step - loss: 0.1001 - accuracy: 0.9663 - val_loss: 0.3901 - val_accuracy: 0.8692 - lr: 1.8316e-05\n"
          ]
        }
      ]
    },
    {
      "cell_type": "code",
      "source": [
        "score = gru.evaluate(x_test, Y_test)\n",
        "print(\"Accuracy: %\",score[1]*100)"
      ],
      "metadata": {
        "colab": {
          "base_uri": "https://localhost:8080/"
        },
        "id": "e-on0N_5iNqY",
        "outputId": "60d78bba-32f4-42d2-a154-3f593e909b90"
      },
      "execution_count": 94,
      "outputs": [
        {
          "output_type": "stream",
          "name": "stdout",
          "text": [
            "782/782 [==============================] - 6s 8ms/step - loss: 0.4114 - accuracy: 0.8589\n",
            "Accuracy: % 85.88799834251404\n"
          ]
        }
      ]
    },
    {
      "cell_type": "code",
      "source": [
        "plt.figure(figsize=(10,6))\n",
        "plt.plot(history4.history[\"accuracy\"], label = \"Train\", color = 'r')\n",
        "plt.plot(history4.history[\"val_accuracy\"], label = \"Val\", color = 'g')\n",
        "plt.title(\"Accuracy\")\n",
        "plt.ylabel(\"Accuracy\")\n",
        "plt.xlabel(\"Epochs\")\n",
        "plt.legend()\n",
        "plt.show()"
      ],
      "metadata": {
        "colab": {
          "base_uri": "https://localhost:8080/",
          "height": 404
        },
        "id": "TxWuntYfiirp",
        "outputId": "9013dd19-138e-4b86-cd1c-87b9a0425c19"
      },
      "execution_count": 97,
      "outputs": [
        {
          "output_type": "display_data",
          "data": {
            "text/plain": [
              "<Figure size 720x432 with 1 Axes>"
            ],
            "image/png": "[encoded data removed]"
          },
          "metadata": {
            "needs_background": "light"
          }
        }
      ]
    },
    {
      "cell_type": "code",
      "source": [
        "plt.figure(figsize=(10,6))\n",
        "plt.plot(history4.history[\"loss\"], label = \"Train\", color = 'r')\n",
        "plt.plot(history4.history[\"val_loss\"], label = \"Val\", color = 'g')\n",
        "plt.title(\"Loss\")\n",
        "plt.ylabel(\"Loss\")\n",
        "plt.xlabel(\"Epochs\")\n",
        "plt.legend()\n",
        "plt.show()"
      ],
      "metadata": {
        "colab": {
          "base_uri": "https://localhost:8080/",
          "height": 404
        },
        "id": "7LlXkxCaitkK",
        "outputId": "4d94f4ba-0941-4d09-dbb4-3ccd3c5189e6"
      },
      "execution_count": 98,
      "outputs": [
        {
          "output_type": "display_data",
          "data": {
            "text/plain": [
              "<Figure size 720x432 with 1 Axes>"
            ],
            "image/png": "[encoded data removed]"
          },
          "metadata": {
            "needs_background": "light"
          }
        }
      ]
    },
    {
      "cell_type": "code",
      "source": [
        "y_pred_float = gru.predict(x_test)\n",
        "y_pred = np.round(y_pred_float)"
      ],
      "metadata": {
        "id": "WlJdpdv_i2a0"
      },
      "execution_count": 99,
      "outputs": []
    },
    {
      "cell_type": "code",
      "source": [
        "CM = sl.metrics.confusion_matrix(y_true=Y_test,y_pred=y_pred)\n",
        "sb.heatmap(CM,annot=True )\n",
        "plt.xlabel('Predicted')\n",
        "plt.ylabel('True')\n",
        "plt.show()"
      ],
      "metadata": {
        "colab": {
          "base_uri": "https://localhost:8080/",
          "height": 279
        },
        "id": "TAl61T7HjS67",
        "outputId": "199f80bb-3cd3-4fd9-c3ef-49c8393d65a8"
      },
      "execution_count": 100,
      "outputs": [
        {
          "output_type": "display_data",
          "data": {
            "text/plain": [
              "<Figure size 432x288 with 2 Axes>"
            ],
            "image/png": "[encoded data removed]"
          },
          "metadata": {
            "needs_background": "light"
          }
        }
      ]
    },
    {
      "cell_type": "code",
      "source": [
        ""
      ],
      "metadata": {
        "id": "jPMSfItijXfa"
      },
      "execution_count": null,
      "outputs": []
    },
    {
      "cell_type": "code",
      "source": [
        ""
      ],
      "metadata": {
        "id": "f6BF8fM7lFq1"
      },
      "execution_count": null,
      "outputs": []
    },
    {
      "cell_type": "markdown",
      "source": [
        "# Problem 5"
      ],
      "metadata": {
        "id": "k0CdXM66lGAB"
      }
    },
    {
      "cell_type": "code",
      "source": [
        "from keras.layers import LSTM"
      ],
      "metadata": {
        "id": "7SdBrcislJNl"
      },
      "execution_count": 101,
      "outputs": []
    },
    {
      "cell_type": "code",
      "source": [
        "lstm = Sequential()\n",
        "lstm.add(Embedding(15000, 32, input_length = len(x_train[0])))\n",
        "lstm.add(GRU(16, input_shape = (15000, 130), return_sequences = False, activation = \"relu\"))\n",
        "lstm.add(Dense(1))\n",
        "lstm.add(Activation(\"sigmoid\"))\n",
        "\n",
        "print(lstm.summary())\n",
        "lstm.compile(loss = \"binary_crossentropy\", optimizer = \"rmsprop\", metrics = [\"accuracy\"])"
      ],
      "metadata": {
        "colab": {
          "base_uri": "https://localhost:8080/"
        },
        "id": "KQgRBOdIlXGa",
        "outputId": "62298103-e52a-4205-c1df-9a6f22c8d6b1"
      },
      "execution_count": 102,
      "outputs": [
        {
          "output_type": "stream",
          "name": "stdout",
          "text": [
            "Model: \"sequential_6\"\n",
            "_________________________________________________________________\n",
            " Layer (type)                Output Shape              Param #   \n",
            "=================================================================\n",
            " embedding_4 (Embedding)     (None, 130, 32)           480000    \n",
            "                                                                 \n",
            " gru_1 (GRU)                 (None, 16)                2400      \n",
            "                                                                 \n",
            " dense_9 (Dense)             (None, 1)                 17        \n",
            "                                                                 \n",
            " activation_3 (Activation)   (None, 1)                 0         \n",
            "                                                                 \n",
            "=================================================================\n",
            "Total params: 482,417\n",
            "Trainable params: 482,417\n",
            "Non-trainable params: 0\n",
            "_________________________________________________________________\n",
            "None\n"
          ]
        }
      ]
    },
    {
      "cell_type": "code",
      "source": [
        "history5 = lstm.fit(x_train, Y_train, validation_split=0.1,epochs = 20, batch_size = 128, verbose = 1, callbacks=[E, L, M])"
      ],
      "metadata": {
        "colab": {
          "base_uri": "https://localhost:8080/"
        },
        "id": "2WflweGwlwW3",
        "outputId": "9d84f757-31e5-4c5f-f3f3-6e8bacf7f061"
      },
      "execution_count": 103,
      "outputs": [
        {
          "output_type": "stream",
          "name": "stdout",
          "text": [
            "Epoch 1/20\n",
            "176/176 [==============================] - ETA: 0s - loss: 3.8142 - accuracy: 0.6421WARNING:tensorflow:Early stopping conditioned on metric `val_acc` which is not available. Available metrics are: loss,accuracy,val_loss,val_accuracy\n"
          ]
        },
        {
          "output_type": "stream",
          "name": "stderr",
          "text": [
            "WARNING:tensorflow:Early stopping conditioned on metric `val_acc` which is not available. Available metrics are: loss,accuracy,val_loss,val_accuracy\n"
          ]
        },
        {
          "output_type": "stream",
          "name": "stdout",
          "text": [
            "INFO:tensorflow:Assets written to: /tmp/blah/assets\n"
          ]
        },
        {
          "output_type": "stream",
          "name": "stderr",
          "text": [
            "INFO:tensorflow:Assets written to: /tmp/blah/assets\n",
            "WARNING:absl:<keras.layers.recurrent.GRUCell object at 0x7f48455fc550> has the same name 'GRUCell' as a built-in Keras object. Consider renaming <class 'keras.layers.recurrent.GRUCell'> to avoid naming conflicts when loading with `tf.keras.models.load_model`. If renaming is not possible, pass the object in the `custom_objects` parameter of the load function.\n"
          ]
        },
        {
          "output_type": "stream",
          "name": "stdout",
          "text": [
            "\b\b\b\b\b\b\b\b\b\b\b\b\b\b\b\b\b\b\b\b\b\b\b\b\b\b\b\b\b\b\b\b\b\b\b\b\b\b\b\b\b\b\b\b\b\b\b\b\b\b\b\b\b\b\b\b\b\b\b\b\b\b\b\b\b\b\b\b\b\b\b\b\b\b\b\b\b\b\b\b\b\b\b\b\r176/176 [==============================] - 12s 57ms/step - loss: 3.8142 - accuracy: 0.6421 - val_loss: 1.4682 - val_accuracy: 0.7268 - lr: 0.0010\n",
            "Epoch 2/20\n",
            "176/176 [==============================] - ETA: 0s - loss: 0.8925 - accuracy: 0.7643WARNING:tensorflow:Early stopping conditioned on metric `val_acc` which is not available. Available metrics are: loss,accuracy,val_loss,val_accuracy\n"
          ]
        },
        {
          "output_type": "stream",
          "name": "stderr",
          "text": [
            "WARNING:tensorflow:Early stopping conditioned on metric `val_acc` which is not available. Available metrics are: loss,accuracy,val_loss,val_accuracy\n"
          ]
        },
        {
          "output_type": "stream",
          "name": "stdout",
          "text": [
            "INFO:tensorflow:Assets written to: /tmp/blah/assets\n"
          ]
        },
        {
          "output_type": "stream",
          "name": "stderr",
          "text": [
            "INFO:tensorflow:Assets written to: /tmp/blah/assets\n",
            "WARNING:absl:<keras.layers.recurrent.GRUCell object at 0x7f48455fc550> has the same name 'GRUCell' as a built-in Keras object. Consider renaming <class 'keras.layers.recurrent.GRUCell'> to avoid naming conflicts when loading with `tf.keras.models.load_model`. If renaming is not possible, pass the object in the `custom_objects` parameter of the load function.\n"
          ]
        },
        {
          "output_type": "stream",
          "name": "stdout",
          "text": [
            "\b\b\b\b\b\b\b\b\b\b\b\b\b\b\b\b\b\b\b\b\b\b\b\b\b\b\b\b\b\b\b\b\b\b\b\b\b\b\b\b\b\b\b\b\b\b\b\b\b\b\b\b\b\b\b\b\b\b\b\b\b\b\b\b\b\b\b\b\b\b\b\b\b\b\b\b\b\b\b\b\b\b\b\b\r176/176 [==============================] - 10s 54ms/step - loss: 0.8925 - accuracy: 0.7643 - val_loss: 0.4848 - val_accuracy: 0.7700 - lr: 0.0010\n",
            "Epoch 3/20\n",
            "176/176 [==============================] - ETA: 0s - loss: 0.4027 - accuracy: 0.8325WARNING:tensorflow:Early stopping conditioned on metric `val_acc` which is not available. Available metrics are: loss,accuracy,val_loss,val_accuracy\n"
          ]
        },
        {
          "output_type": "stream",
          "name": "stderr",
          "text": [
            "WARNING:tensorflow:Early stopping conditioned on metric `val_acc` which is not available. Available metrics are: loss,accuracy,val_loss,val_accuracy\n"
          ]
        },
        {
          "output_type": "stream",
          "name": "stdout",
          "text": [
            "INFO:tensorflow:Assets written to: /tmp/blah/assets\n"
          ]
        },
        {
          "output_type": "stream",
          "name": "stderr",
          "text": [
            "INFO:tensorflow:Assets written to: /tmp/blah/assets\n",
            "WARNING:absl:<keras.layers.recurrent.GRUCell object at 0x7f48455fc550> has the same name 'GRUCell' as a built-in Keras object. Consider renaming <class 'keras.layers.recurrent.GRUCell'> to avoid naming conflicts when loading with `tf.keras.models.load_model`. If renaming is not possible, pass the object in the `custom_objects` parameter of the load function.\n"
          ]
        },
        {
          "output_type": "stream",
          "name": "stdout",
          "text": [
            "\b\b\b\b\b\b\b\b\b\b\b\b\b\b\b\b\b\b\b\b\b\b\b\b\b\b\b\b\b\b\b\b\b\b\b\b\b\b\b\b\b\b\b\b\b\b\b\b\b\b\b\b\b\b\b\b\b\b\b\b\b\b\b\b\b\b\b\b\b\b\b\b\b\b\b\b\b\b\b\b\b\b\b\b\r176/176 [==============================] - 15s 86ms/step - loss: 0.4027 - accuracy: 0.8325 - val_loss: 0.3720 - val_accuracy: 0.8324 - lr: 8.1873e-04\n",
            "Epoch 4/20\n",
            "175/176 [============================>.] - ETA: 0s - loss: 0.2805 - accuracy: 0.8851WARNING:tensorflow:Early stopping conditioned on metric `val_acc` which is not available. Available metrics are: loss,accuracy,val_loss,val_accuracy\n"
          ]
        },
        {
          "output_type": "stream",
          "name": "stderr",
          "text": [
            "WARNING:tensorflow:Early stopping conditioned on metric `val_acc` which is not available. Available metrics are: loss,accuracy,val_loss,val_accuracy\n"
          ]
        },
        {
          "output_type": "stream",
          "name": "stdout",
          "text": [
            "INFO:tensorflow:Assets written to: /tmp/blah/assets\n"
          ]
        },
        {
          "output_type": "stream",
          "name": "stderr",
          "text": [
            "INFO:tensorflow:Assets written to: /tmp/blah/assets\n",
            "WARNING:absl:<keras.layers.recurrent.GRUCell object at 0x7f48455fc550> has the same name 'GRUCell' as a built-in Keras object. Consider renaming <class 'keras.layers.recurrent.GRUCell'> to avoid naming conflicts when loading with `tf.keras.models.load_model`. If renaming is not possible, pass the object in the `custom_objects` parameter of the load function.\n"
          ]
        },
        {
          "output_type": "stream",
          "name": "stdout",
          "text": [
            "\b\b\b\b\b\b\b\b\b\b\b\b\b\b\b\b\b\b\b\b\b\b\b\b\b\b\b\b\b\b\b\b\b\b\b\b\b\b\b\b\b\b\b\b\b\b\b\b\b\b\b\b\b\b\b\b\b\b\b\b\b\b\b\b\b\b\b\b\b\b\b\b\b\b\b\b\b\b\b\b\b\b\b\b\r176/176 [==============================] - 10s 54ms/step - loss: 0.2802 - accuracy: 0.8853 - val_loss: 0.3248 - val_accuracy: 0.8608 - lr: 6.7032e-04\n",
            "Epoch 5/20\n",
            "175/176 [============================>.] - ETA: 0s - loss: 0.2359 - accuracy: 0.9049WARNING:tensorflow:Early stopping conditioned on metric `val_acc` which is not available. Available metrics are: loss,accuracy,val_loss,val_accuracy\n"
          ]
        },
        {
          "output_type": "stream",
          "name": "stderr",
          "text": [
            "WARNING:tensorflow:Early stopping conditioned on metric `val_acc` which is not available. Available metrics are: loss,accuracy,val_loss,val_accuracy\n"
          ]
        },
        {
          "output_type": "stream",
          "name": "stdout",
          "text": [
            "INFO:tensorflow:Assets written to: /tmp/blah/assets\n"
          ]
        },
        {
          "output_type": "stream",
          "name": "stderr",
          "text": [
            "INFO:tensorflow:Assets written to: /tmp/blah/assets\n",
            "WARNING:absl:<keras.layers.recurrent.GRUCell object at 0x7f48455fc550> has the same name 'GRUCell' as a built-in Keras object. Consider renaming <class 'keras.layers.recurrent.GRUCell'> to avoid naming conflicts when loading with `tf.keras.models.load_model`. If renaming is not possible, pass the object in the `custom_objects` parameter of the load function.\n"
          ]
        },
        {
          "output_type": "stream",
          "name": "stdout",
          "text": [
            "\b\b\b\b\b\b\b\b\b\b\b\b\b\b\b\b\b\b\b\b\b\b\b\b\b\b\b\b\b\b\b\b\b\b\b\b\b\b\b\b\b\b\b\b\b\b\b\b\b\b\b\b\b\b\b\b\b\b\b\b\b\b\b\b\b\b\b\b\b\b\b\b\b\b\b\b\b\b\b\b\b\b\b\b\r176/176 [==============================] - 10s 56ms/step - loss: 0.2363 - accuracy: 0.9047 - val_loss: 0.3317 - val_accuracy: 0.8660 - lr: 5.4881e-04\n",
            "Epoch 6/20\n",
            "176/176 [==============================] - ETA: 0s - loss: 0.2031 - accuracy: 0.9212WARNING:tensorflow:Early stopping conditioned on metric `val_acc` which is not available. Available metrics are: loss,accuracy,val_loss,val_accuracy\n"
          ]
        },
        {
          "output_type": "stream",
          "name": "stderr",
          "text": [
            "WARNING:tensorflow:Early stopping conditioned on metric `val_acc` which is not available. Available metrics are: loss,accuracy,val_loss,val_accuracy\n"
          ]
        },
        {
          "output_type": "stream",
          "name": "stdout",
          "text": [
            "INFO:tensorflow:Assets written to: /tmp/blah/assets\n"
          ]
        },
        {
          "output_type": "stream",
          "name": "stderr",
          "text": [
            "INFO:tensorflow:Assets written to: /tmp/blah/assets\n",
            "WARNING:absl:<keras.layers.recurrent.GRUCell object at 0x7f48455fc550> has the same name 'GRUCell' as a built-in Keras object. Consider renaming <class 'keras.layers.recurrent.GRUCell'> to avoid naming conflicts when loading with `tf.keras.models.load_model`. If renaming is not possible, pass the object in the `custom_objects` parameter of the load function.\n"
          ]
        },
        {
          "output_type": "stream",
          "name": "stdout",
          "text": [
            "\b\b\b\b\b\b\b\b\b\b\b\b\b\b\b\b\b\b\b\b\b\b\b\b\b\b\b\b\b\b\b\b\b\b\b\b\b\b\b\b\b\b\b\b\b\b\b\b\b\b\b\b\b\b\b\b\b\b\b\b\b\b\b\b\b\b\b\b\b\b\b\b\b\b\b\b\b\b\b\b\b\b\b\b\r176/176 [==============================] - 10s 55ms/step - loss: 0.2031 - accuracy: 0.9212 - val_loss: 0.3585 - val_accuracy: 0.8580 - lr: 4.4933e-04\n",
            "Epoch 7/20\n",
            "176/176 [==============================] - ETA: 0s - loss: 0.1832 - accuracy: 0.9304WARNING:tensorflow:Early stopping conditioned on metric `val_acc` which is not available. Available metrics are: loss,accuracy,val_loss,val_accuracy\n"
          ]
        },
        {
          "output_type": "stream",
          "name": "stderr",
          "text": [
            "WARNING:tensorflow:Early stopping conditioned on metric `val_acc` which is not available. Available metrics are: loss,accuracy,val_loss,val_accuracy\n"
          ]
        },
        {
          "output_type": "stream",
          "name": "stdout",
          "text": [
            "INFO:tensorflow:Assets written to: /tmp/blah/assets\n"
          ]
        },
        {
          "output_type": "stream",
          "name": "stderr",
          "text": [
            "INFO:tensorflow:Assets written to: /tmp/blah/assets\n",
            "WARNING:absl:<keras.layers.recurrent.GRUCell object at 0x7f48455fc550> has the same name 'GRUCell' as a built-in Keras object. Consider renaming <class 'keras.layers.recurrent.GRUCell'> to avoid naming conflicts when loading with `tf.keras.models.load_model`. If renaming is not possible, pass the object in the `custom_objects` parameter of the load function.\n"
          ]
        },
        {
          "output_type": "stream",
          "name": "stdout",
          "text": [
            "\b\b\b\b\b\b\b\b\b\b\b\b\b\b\b\b\b\b\b\b\b\b\b\b\b\b\b\b\b\b\b\b\b\b\b\b\b\b\b\b\b\b\b\b\b\b\b\b\b\b\b\b\b\b\b\b\b\b\b\b\b\b\b\b\b\b\b\b\b\b\b\b\b\b\b\b\b\b\b\b\b\b\b\b\r176/176 [==============================] - 10s 55ms/step - loss: 0.1832 - accuracy: 0.9304 - val_loss: 0.3151 - val_accuracy: 0.8696 - lr: 3.6788e-04\n",
            "Epoch 8/20\n",
            "176/176 [==============================] - ETA: 0s - loss: 0.1673 - accuracy: 0.9381WARNING:tensorflow:Early stopping conditioned on metric `val_acc` which is not available. Available metrics are: loss,accuracy,val_loss,val_accuracy\n"
          ]
        },
        {
          "output_type": "stream",
          "name": "stderr",
          "text": [
            "WARNING:tensorflow:Early stopping conditioned on metric `val_acc` which is not available. Available metrics are: loss,accuracy,val_loss,val_accuracy\n"
          ]
        },
        {
          "output_type": "stream",
          "name": "stdout",
          "text": [
            "INFO:tensorflow:Assets written to: /tmp/blah/assets\n"
          ]
        },
        {
          "output_type": "stream",
          "name": "stderr",
          "text": [
            "INFO:tensorflow:Assets written to: /tmp/blah/assets\n",
            "WARNING:absl:<keras.layers.recurrent.GRUCell object at 0x7f48455fc550> has the same name 'GRUCell' as a built-in Keras object. Consider renaming <class 'keras.layers.recurrent.GRUCell'> to avoid naming conflicts when loading with `tf.keras.models.load_model`. If renaming is not possible, pass the object in the `custom_objects` parameter of the load function.\n"
          ]
        },
        {
          "output_type": "stream",
          "name": "stdout",
          "text": [
            "\b\b\b\b\b\b\b\b\b\b\b\b\b\b\b\b\b\b\b\b\b\b\b\b\b\b\b\b\b\b\b\b\b\b\b\b\b\b\b\b\b\b\b\b\b\b\b\b\b\b\b\b\b\b\b\b\b\b\b\b\b\b\b\b\b\b\b\b\b\b\b\b\b\b\b\b\b\b\b\b\b\b\b\b\r176/176 [==============================] - 9s 54ms/step - loss: 0.1673 - accuracy: 0.9381 - val_loss: 0.3298 - val_accuracy: 0.8724 - lr: 3.0119e-04\n",
            "Epoch 9/20\n",
            "176/176 [==============================] - ETA: 0s - loss: 0.1552 - accuracy: 0.9433WARNING:tensorflow:Early stopping conditioned on metric `val_acc` which is not available. Available metrics are: loss,accuracy,val_loss,val_accuracy\n"
          ]
        },
        {
          "output_type": "stream",
          "name": "stderr",
          "text": [
            "WARNING:tensorflow:Early stopping conditioned on metric `val_acc` which is not available. Available metrics are: loss,accuracy,val_loss,val_accuracy\n"
          ]
        },
        {
          "output_type": "stream",
          "name": "stdout",
          "text": [
            "INFO:tensorflow:Assets written to: /tmp/blah/assets\n"
          ]
        },
        {
          "output_type": "stream",
          "name": "stderr",
          "text": [
            "INFO:tensorflow:Assets written to: /tmp/blah/assets\n",
            "WARNING:absl:<keras.layers.recurrent.GRUCell object at 0x7f48455fc550> has the same name 'GRUCell' as a built-in Keras object. Consider renaming <class 'keras.layers.recurrent.GRUCell'> to avoid naming conflicts when loading with `tf.keras.models.load_model`. If renaming is not possible, pass the object in the `custom_objects` parameter of the load function.\n"
          ]
        },
        {
          "output_type": "stream",
          "name": "stdout",
          "text": [
            "\b\b\b\b\b\b\b\b\b\b\b\b\b\b\b\b\b\b\b\b\b\b\b\b\b\b\b\b\b\b\b\b\b\b\b\b\b\b\b\b\b\b\b\b\b\b\b\b\b\b\b\b\b\b\b\b\b\b\b\b\b\b\b\b\b\b\b\b\b\b\b\b\b\b\b\b\b\b\b\b\b\b\b\b\r176/176 [==============================] - 10s 59ms/step - loss: 0.1552 - accuracy: 0.9433 - val_loss: 0.3307 - val_accuracy: 0.8712 - lr: 2.4660e-04\n",
            "Epoch 10/20\n",
            "175/176 [============================>.] - ETA: 0s - loss: 0.1461 - accuracy: 0.9490WARNING:tensorflow:Early stopping conditioned on metric `val_acc` which is not available. Available metrics are: loss,accuracy,val_loss,val_accuracy\n"
          ]
        },
        {
          "output_type": "stream",
          "name": "stderr",
          "text": [
            "WARNING:tensorflow:Early stopping conditioned on metric `val_acc` which is not available. Available metrics are: loss,accuracy,val_loss,val_accuracy\n"
          ]
        },
        {
          "output_type": "stream",
          "name": "stdout",
          "text": [
            "INFO:tensorflow:Assets written to: /tmp/blah/assets\n"
          ]
        },
        {
          "output_type": "stream",
          "name": "stderr",
          "text": [
            "INFO:tensorflow:Assets written to: /tmp/blah/assets\n",
            "WARNING:absl:<keras.layers.recurrent.GRUCell object at 0x7f48455fc550> has the same name 'GRUCell' as a built-in Keras object. Consider renaming <class 'keras.layers.recurrent.GRUCell'> to avoid naming conflicts when loading with `tf.keras.models.load_model`. If renaming is not possible, pass the object in the `custom_objects` parameter of the load function.\n"
          ]
        },
        {
          "output_type": "stream",
          "name": "stdout",
          "text": [
            "\b\b\b\b\b\b\b\b\b\b\b\b\b\b\b\b\b\b\b\b\b\b\b\b\b\b\b\b\b\b\b\b\b\b\b\b\b\b\b\b\b\b\b\b\b\b\b\b\b\b\b\b\b\b\b\b\b\b\b\b\b\b\b\b\b\b\b\b\b\b\b\b\b\b\b\b\b\b\b\b\b\b\b\b\r176/176 [==============================] - 10s 57ms/step - loss: 0.1463 - accuracy: 0.9489 - val_loss: 0.3397 - val_accuracy: 0.8732 - lr: 2.0190e-04\n",
            "Epoch 11/20\n",
            "175/176 [============================>.] - ETA: 0s - loss: 0.1376 - accuracy: 0.9519WARNING:tensorflow:Early stopping conditioned on metric `val_acc` which is not available. Available metrics are: loss,accuracy,val_loss,val_accuracy\n"
          ]
        },
        {
          "output_type": "stream",
          "name": "stderr",
          "text": [
            "WARNING:tensorflow:Early stopping conditioned on metric `val_acc` which is not available. Available metrics are: loss,accuracy,val_loss,val_accuracy\n"
          ]
        },
        {
          "output_type": "stream",
          "name": "stdout",
          "text": [
            "INFO:tensorflow:Assets written to: /tmp/blah/assets\n"
          ]
        },
        {
          "output_type": "stream",
          "name": "stderr",
          "text": [
            "INFO:tensorflow:Assets written to: /tmp/blah/assets\n",
            "WARNING:absl:<keras.layers.recurrent.GRUCell object at 0x7f48455fc550> has the same name 'GRUCell' as a built-in Keras object. Consider renaming <class 'keras.layers.recurrent.GRUCell'> to avoid naming conflicts when loading with `tf.keras.models.load_model`. If renaming is not possible, pass the object in the `custom_objects` parameter of the load function.\n"
          ]
        },
        {
          "output_type": "stream",
          "name": "stdout",
          "text": [
            "\b\b\b\b\b\b\b\b\b\b\b\b\b\b\b\b\b\b\b\b\b\b\b\b\b\b\b\b\b\b\b\b\b\b\b\b\b\b\b\b\b\b\b\b\b\b\b\b\b\b\b\b\b\b\b\b\b\b\b\b\b\b\b\b\b\b\b\b\b\b\b\b\b\b\b\b\b\b\b\b\b\b\b\b\r176/176 [==============================] - 10s 54ms/step - loss: 0.1376 - accuracy: 0.9518 - val_loss: 0.3528 - val_accuracy: 0.8716 - lr: 1.6530e-04\n",
            "Epoch 12/20\n",
            "176/176 [==============================] - ETA: 0s - loss: 0.1328 - accuracy: 0.9538WARNING:tensorflow:Early stopping conditioned on metric `val_acc` which is not available. Available metrics are: loss,accuracy,val_loss,val_accuracy\n"
          ]
        },
        {
          "output_type": "stream",
          "name": "stderr",
          "text": [
            "WARNING:tensorflow:Early stopping conditioned on metric `val_acc` which is not available. Available metrics are: loss,accuracy,val_loss,val_accuracy\n"
          ]
        },
        {
          "output_type": "stream",
          "name": "stdout",
          "text": [
            "INFO:tensorflow:Assets written to: /tmp/blah/assets\n"
          ]
        },
        {
          "output_type": "stream",
          "name": "stderr",
          "text": [
            "INFO:tensorflow:Assets written to: /tmp/blah/assets\n",
            "WARNING:absl:<keras.layers.recurrent.GRUCell object at 0x7f48455fc550> has the same name 'GRUCell' as a built-in Keras object. Consider renaming <class 'keras.layers.recurrent.GRUCell'> to avoid naming conflicts when loading with `tf.keras.models.load_model`. If renaming is not possible, pass the object in the `custom_objects` parameter of the load function.\n"
          ]
        },
        {
          "output_type": "stream",
          "name": "stdout",
          "text": [
            "\b\b\b\b\b\b\b\b\b\b\b\b\b\b\b\b\b\b\b\b\b\b\b\b\b\b\b\b\b\b\b\b\b\b\b\b\b\b\b\b\b\b\b\b\b\b\b\b\b\b\b\b\b\b\b\b\b\b\b\b\b\b\b\b\b\b\b\b\b\b\b\b\b\b\b\b\b\b\b\b\b\b\b\b\r176/176 [==============================] - 10s 54ms/step - loss: 0.1328 - accuracy: 0.9538 - val_loss: 0.3664 - val_accuracy: 0.8692 - lr: 1.3534e-04\n",
            "Epoch 13/20\n",
            "175/176 [============================>.] - ETA: 0s - loss: 0.1278 - accuracy: 0.9562WARNING:tensorflow:Early stopping conditioned on metric `val_acc` which is not available. Available metrics are: loss,accuracy,val_loss,val_accuracy\n"
          ]
        },
        {
          "output_type": "stream",
          "name": "stderr",
          "text": [
            "WARNING:tensorflow:Early stopping conditioned on metric `val_acc` which is not available. Available metrics are: loss,accuracy,val_loss,val_accuracy\n"
          ]
        },
        {
          "output_type": "stream",
          "name": "stdout",
          "text": [
            "INFO:tensorflow:Assets written to: /tmp/blah/assets\n"
          ]
        },
        {
          "output_type": "stream",
          "name": "stderr",
          "text": [
            "INFO:tensorflow:Assets written to: /tmp/blah/assets\n",
            "WARNING:absl:<keras.layers.recurrent.GRUCell object at 0x7f48455fc550> has the same name 'GRUCell' as a built-in Keras object. Consider renaming <class 'keras.layers.recurrent.GRUCell'> to avoid naming conflicts when loading with `tf.keras.models.load_model`. If renaming is not possible, pass the object in the `custom_objects` parameter of the load function.\n"
          ]
        },
        {
          "output_type": "stream",
          "name": "stdout",
          "text": [
            "\b\b\b\b\b\b\b\b\b\b\b\b\b\b\b\b\b\b\b\b\b\b\b\b\b\b\b\b\b\b\b\b\b\b\b\b\b\b\b\b\b\b\b\b\b\b\b\b\b\b\b\b\b\b\b\b\b\b\b\b\b\b\b\b\b\b\b\b\b\b\b\b\b\b\b\b\b\b\b\b\b\b\b\b\r176/176 [==============================] - 10s 59ms/step - loss: 0.1279 - accuracy: 0.9560 - val_loss: 0.3562 - val_accuracy: 0.8684 - lr: 1.1080e-04\n",
            "Epoch 14/20\n",
            "175/176 [============================>.] - ETA: 0s - loss: 0.1240 - accuracy: 0.9581WARNING:tensorflow:Early stopping conditioned on metric `val_acc` which is not available. Available metrics are: loss,accuracy,val_loss,val_accuracy\n"
          ]
        },
        {
          "output_type": "stream",
          "name": "stderr",
          "text": [
            "WARNING:tensorflow:Early stopping conditioned on metric `val_acc` which is not available. Available metrics are: loss,accuracy,val_loss,val_accuracy\n"
          ]
        },
        {
          "output_type": "stream",
          "name": "stdout",
          "text": [
            "INFO:tensorflow:Assets written to: /tmp/blah/assets\n"
          ]
        },
        {
          "output_type": "stream",
          "name": "stderr",
          "text": [
            "INFO:tensorflow:Assets written to: /tmp/blah/assets\n",
            "WARNING:absl:<keras.layers.recurrent.GRUCell object at 0x7f48455fc550> has the same name 'GRUCell' as a built-in Keras object. Consider renaming <class 'keras.layers.recurrent.GRUCell'> to avoid naming conflicts when loading with `tf.keras.models.load_model`. If renaming is not possible, pass the object in the `custom_objects` parameter of the load function.\n"
          ]
        },
        {
          "output_type": "stream",
          "name": "stdout",
          "text": [
            "\b\b\b\b\b\b\b\b\b\b\b\b\b\b\b\b\b\b\b\b\b\b\b\b\b\b\b\b\b\b\b\b\b\b\b\b\b\b\b\b\b\b\b\b\b\b\b\b\b\b\b\b\b\b\b\b\b\b\b\b\b\b\b\b\b\b\b\b\b\b\b\b\b\b\b\b\b\b\b\b\b\b\b\b\r176/176 [==============================] - 9s 54ms/step - loss: 0.1238 - accuracy: 0.9582 - val_loss: 0.3643 - val_accuracy: 0.8688 - lr: 9.0718e-05\n",
            "Epoch 15/20\n",
            "175/176 [============================>.] - ETA: 0s - loss: 0.1207 - accuracy: 0.9588WARNING:tensorflow:Early stopping conditioned on metric `val_acc` which is not available. Available metrics are: loss,accuracy,val_loss,val_accuracy\n"
          ]
        },
        {
          "output_type": "stream",
          "name": "stderr",
          "text": [
            "WARNING:tensorflow:Early stopping conditioned on metric `val_acc` which is not available. Available metrics are: loss,accuracy,val_loss,val_accuracy\n"
          ]
        },
        {
          "output_type": "stream",
          "name": "stdout",
          "text": [
            "INFO:tensorflow:Assets written to: /tmp/blah/assets\n"
          ]
        },
        {
          "output_type": "stream",
          "name": "stderr",
          "text": [
            "INFO:tensorflow:Assets written to: /tmp/blah/assets\n",
            "WARNING:absl:<keras.layers.recurrent.GRUCell object at 0x7f48455fc550> has the same name 'GRUCell' as a built-in Keras object. Consider renaming <class 'keras.layers.recurrent.GRUCell'> to avoid naming conflicts when loading with `tf.keras.models.load_model`. If renaming is not possible, pass the object in the `custom_objects` parameter of the load function.\n"
          ]
        },
        {
          "output_type": "stream",
          "name": "stdout",
          "text": [
            "\b\b\b\b\b\b\b\b\b\b\b\b\b\b\b\b\b\b\b\b\b\b\b\b\b\b\b\b\b\b\b\b\b\b\b\b\b\b\b\b\b\b\b\b\b\b\b\b\b\b\b\b\b\b\b\b\b\b\b\b\b\b\b\b\b\b\b\b\b\b\b\b\b\b\b\b\b\b\b\b\b\b\b\b\r176/176 [==============================] - 10s 54ms/step - loss: 0.1205 - accuracy: 0.9588 - val_loss: 0.3690 - val_accuracy: 0.8700 - lr: 7.4274e-05\n",
            "Epoch 16/20\n",
            "175/176 [============================>.] - ETA: 0s - loss: 0.1183 - accuracy: 0.9601WARNING:tensorflow:Early stopping conditioned on metric `val_acc` which is not available. Available metrics are: loss,accuracy,val_loss,val_accuracy\n"
          ]
        },
        {
          "output_type": "stream",
          "name": "stderr",
          "text": [
            "WARNING:tensorflow:Early stopping conditioned on metric `val_acc` which is not available. Available metrics are: loss,accuracy,val_loss,val_accuracy\n"
          ]
        },
        {
          "output_type": "stream",
          "name": "stdout",
          "text": [
            "INFO:tensorflow:Assets written to: /tmp/blah/assets\n"
          ]
        },
        {
          "output_type": "stream",
          "name": "stderr",
          "text": [
            "INFO:tensorflow:Assets written to: /tmp/blah/assets\n",
            "WARNING:absl:<keras.layers.recurrent.GRUCell object at 0x7f48455fc550> has the same name 'GRUCell' as a built-in Keras object. Consider renaming <class 'keras.layers.recurrent.GRUCell'> to avoid naming conflicts when loading with `tf.keras.models.load_model`. If renaming is not possible, pass the object in the `custom_objects` parameter of the load function.\n"
          ]
        },
        {
          "output_type": "stream",
          "name": "stdout",
          "text": [
            "\b\b\b\b\b\b\b\b\b\b\b\b\b\b\b\b\b\b\b\b\b\b\b\b\b\b\b\b\b\b\b\b\b\b\b\b\b\b\b\b\b\b\b\b\b\b\b\b\b\b\b\b\b\b\b\b\b\b\b\b\b\b\b\b\b\b\b\b\b\b\b\b\b\b\b\b\b\b\b\b\b\b\b\b\r176/176 [==============================] - 10s 56ms/step - loss: 0.1181 - accuracy: 0.9601 - val_loss: 0.3806 - val_accuracy: 0.8684 - lr: 6.0810e-05\n",
            "Epoch 17/20\n",
            "175/176 [============================>.] - ETA: 0s - loss: 0.1161 - accuracy: 0.9610WARNING:tensorflow:Early stopping conditioned on metric `val_acc` which is not available. Available metrics are: loss,accuracy,val_loss,val_accuracy\n"
          ]
        },
        {
          "output_type": "stream",
          "name": "stderr",
          "text": [
            "WARNING:tensorflow:Early stopping conditioned on metric `val_acc` which is not available. Available metrics are: loss,accuracy,val_loss,val_accuracy\n"
          ]
        },
        {
          "output_type": "stream",
          "name": "stdout",
          "text": [
            "INFO:tensorflow:Assets written to: /tmp/blah/assets\n"
          ]
        },
        {
          "output_type": "stream",
          "name": "stderr",
          "text": [
            "INFO:tensorflow:Assets written to: /tmp/blah/assets\n",
            "WARNING:absl:<keras.layers.recurrent.GRUCell object at 0x7f48455fc550> has the same name 'GRUCell' as a built-in Keras object. Consider renaming <class 'keras.layers.recurrent.GRUCell'> to avoid naming conflicts when loading with `tf.keras.models.load_model`. If renaming is not possible, pass the object in the `custom_objects` parameter of the load function.\n"
          ]
        },
        {
          "output_type": "stream",
          "name": "stdout",
          "text": [
            "\b\b\b\b\b\b\b\b\b\b\b\b\b\b\b\b\b\b\b\b\b\b\b\b\b\b\b\b\b\b\b\b\b\b\b\b\b\b\b\b\b\b\b\b\b\b\b\b\b\b\b\b\b\b\b\b\b\b\b\b\b\b\b\b\b\b\b\b\b\b\b\b\b\b\b\b\b\b\b\b\b\b\b\b\r176/176 [==============================] - 10s 54ms/step - loss: 0.1161 - accuracy: 0.9609 - val_loss: 0.3767 - val_accuracy: 0.8680 - lr: 4.9787e-05\n",
            "Epoch 18/20\n",
            "175/176 [============================>.] - ETA: 0s - loss: 0.1146 - accuracy: 0.9616WARNING:tensorflow:Early stopping conditioned on metric `val_acc` which is not available. Available metrics are: loss,accuracy,val_loss,val_accuracy\n"
          ]
        },
        {
          "output_type": "stream",
          "name": "stderr",
          "text": [
            "WARNING:tensorflow:Early stopping conditioned on metric `val_acc` which is not available. Available metrics are: loss,accuracy,val_loss,val_accuracy\n"
          ]
        },
        {
          "output_type": "stream",
          "name": "stdout",
          "text": [
            "INFO:tensorflow:Assets written to: /tmp/blah/assets\n"
          ]
        },
        {
          "output_type": "stream",
          "name": "stderr",
          "text": [
            "INFO:tensorflow:Assets written to: /tmp/blah/assets\n",
            "WARNING:absl:<keras.layers.recurrent.GRUCell object at 0x7f48455fc550> has the same name 'GRUCell' as a built-in Keras object. Consider renaming <class 'keras.layers.recurrent.GRUCell'> to avoid naming conflicts when loading with `tf.keras.models.load_model`. If renaming is not possible, pass the object in the `custom_objects` parameter of the load function.\n"
          ]
        },
        {
          "output_type": "stream",
          "name": "stdout",
          "text": [
            "\b\b\b\b\b\b\b\b\b\b\b\b\b\b\b\b\b\b\b\b\b\b\b\b\b\b\b\b\b\b\b\b\b\b\b\b\b\b\b\b\b\b\b\b\b\b\b\b\b\b\b\b\b\b\b\b\b\b\b\b\b\b\b\b\b\b\b\b\b\b\b\b\b\b\b\b\b\b\b\b\b\b\b\b\r176/176 [==============================] - 10s 55ms/step - loss: 0.1146 - accuracy: 0.9616 - val_loss: 0.3784 - val_accuracy: 0.8676 - lr: 4.0762e-05\n",
            "Epoch 19/20\n",
            "176/176 [==============================] - ETA: 0s - loss: 0.1133 - accuracy: 0.9623WARNING:tensorflow:Early stopping conditioned on metric `val_acc` which is not available. Available metrics are: loss,accuracy,val_loss,val_accuracy\n"
          ]
        },
        {
          "output_type": "stream",
          "name": "stderr",
          "text": [
            "WARNING:tensorflow:Early stopping conditioned on metric `val_acc` which is not available. Available metrics are: loss,accuracy,val_loss,val_accuracy\n"
          ]
        },
        {
          "output_type": "stream",
          "name": "stdout",
          "text": [
            "INFO:tensorflow:Assets written to: /tmp/blah/assets\n"
          ]
        },
        {
          "output_type": "stream",
          "name": "stderr",
          "text": [
            "INFO:tensorflow:Assets written to: /tmp/blah/assets\n",
            "WARNING:absl:<keras.layers.recurrent.GRUCell object at 0x7f48455fc550> has the same name 'GRUCell' as a built-in Keras object. Consider renaming <class 'keras.layers.recurrent.GRUCell'> to avoid naming conflicts when loading with `tf.keras.models.load_model`. If renaming is not possible, pass the object in the `custom_objects` parameter of the load function.\n"
          ]
        },
        {
          "output_type": "stream",
          "name": "stdout",
          "text": [
            "\b\b\b\b\b\b\b\b\b\b\b\b\b\b\b\b\b\b\b\b\b\b\b\b\b\b\b\b\b\b\b\b\b\b\b\b\b\b\b\b\b\b\b\b\b\b\b\b\b\b\b\b\b\b\b\b\b\b\b\b\b\b\b\b\b\b\b\b\b\b\b\b\b\b\b\b\b\b\b\b\b\b\b\b\r176/176 [==============================] - 10s 55ms/step - loss: 0.1133 - accuracy: 0.9623 - val_loss: 0.3808 - val_accuracy: 0.8680 - lr: 3.3373e-05\n",
            "Epoch 20/20\n",
            "176/176 [==============================] - ETA: 0s - loss: 0.1120 - accuracy: 0.9630WARNING:tensorflow:Early stopping conditioned on metric `val_acc` which is not available. Available metrics are: loss,accuracy,val_loss,val_accuracy\n"
          ]
        },
        {
          "output_type": "stream",
          "name": "stderr",
          "text": [
            "WARNING:tensorflow:Early stopping conditioned on metric `val_acc` which is not available. Available metrics are: loss,accuracy,val_loss,val_accuracy\n"
          ]
        },
        {
          "output_type": "stream",
          "name": "stdout",
          "text": [
            "INFO:tensorflow:Assets written to: /tmp/blah/assets\n"
          ]
        },
        {
          "output_type": "stream",
          "name": "stderr",
          "text": [
            "INFO:tensorflow:Assets written to: /tmp/blah/assets\n",
            "WARNING:absl:<keras.layers.recurrent.GRUCell object at 0x7f48455fc550> has the same name 'GRUCell' as a built-in Keras object. Consider renaming <class 'keras.layers.recurrent.GRUCell'> to avoid naming conflicts when loading with `tf.keras.models.load_model`. If renaming is not possible, pass the object in the `custom_objects` parameter of the load function.\n"
          ]
        },
        {
          "output_type": "stream",
          "name": "stdout",
          "text": [
            "\b\b\b\b\b\b\b\b\b\b\b\b\b\b\b\b\b\b\b\b\b\b\b\b\b\b\b\b\b\b\b\b\b\b\b\b\b\b\b\b\b\b\b\b\b\b\b\b\b\b\b\b\b\b\b\b\b\b\b\b\b\b\b\b\b\b\b\b\b\b\b\b\b\b\b\b\b\b\b\b\b\b\b\b\r176/176 [==============================] - 10s 57ms/step - loss: 0.1120 - accuracy: 0.9630 - val_loss: 0.3913 - val_accuracy: 0.8680 - lr: 2.7324e-05\n"
          ]
        }
      ]
    },
    {
      "cell_type": "code",
      "source": [
        "score = lstm.evaluate(x_test, Y_test)\n",
        "print(\"Accuracy: %\",score[1]*100)"
      ],
      "metadata": {
        "colab": {
          "base_uri": "https://localhost:8080/"
        },
        "id": "Bp56DCupl5Qa",
        "outputId": "337fcef8-f935-4d9e-afaf-d8c8716ac8c4"
      },
      "execution_count": 104,
      "outputs": [
        {
          "output_type": "stream",
          "name": "stdout",
          "text": [
            "782/782 [==============================] - 9s 12ms/step - loss: 0.3989 - accuracy: 0.8589\n",
            "Accuracy: % 85.88799834251404\n"
          ]
        }
      ]
    },
    {
      "cell_type": "code",
      "source": [
        "plt.figure(figsize=(10,6))\n",
        "plt.plot(history5.history[\"accuracy\"], label = \"Train\", color = 'r')\n",
        "plt.plot(history5.history[\"val_accuracy\"], label = \"Val\", color = 'g')\n",
        "plt.title(\"Accuracy\")\n",
        "plt.ylabel(\"Accuracy\")\n",
        "plt.xlabel(\"Epochs\")\n",
        "plt.legend()\n",
        "plt.show()"
      ],
      "metadata": {
        "colab": {
          "base_uri": "https://localhost:8080/",
          "height": 404
        },
        "id": "mxogKfs-mvZV",
        "outputId": "c3a2ee82-7a30-415c-f58c-4d72e079772b"
      },
      "execution_count": 105,
      "outputs": [
        {
          "output_type": "display_data",
          "data": {
            "text/plain": [
              "<Figure size 720x432 with 1 Axes>"
            ],
            "image/png": "[encoded data removed]"
          },
          "metadata": {
            "needs_background": "light"
          }
        }
      ]
    },
    {
      "cell_type": "code",
      "source": [
        "plt.figure(figsize=(10,6))\n",
        "plt.plot(history5.history[\"loss\"], label = \"Train\", color = 'r')\n",
        "plt.plot(history5.history[\"val_loss\"], label = \"Val\", color = 'g')\n",
        "plt.title(\"Loss\")\n",
        "plt.ylabel(\"Loss\")\n",
        "plt.xlabel(\"Epochs\")\n",
        "plt.legend()\n",
        "plt.show()"
      ],
      "metadata": {
        "colab": {
          "base_uri": "https://localhost:8080/",
          "height": 404
        },
        "id": "yo9dzq9Jm7M1",
        "outputId": "23f7cf75-490a-4a88-e60d-39885c3b5f40"
      },
      "execution_count": 106,
      "outputs": [
        {
          "output_type": "display_data",
          "data": {
            "text/plain": [
              "<Figure size 720x432 with 1 Axes>"
            ],
            "image/png": "[encoded data removed]"
          },
          "metadata": {
            "needs_background": "light"
          }
        }
      ]
    },
    {
      "cell_type": "code",
      "source": [
        "y_pred_float = lstm.predict(x_test)\n",
        "y_pred = np.round(y_pred_float)"
      ],
      "metadata": {
        "id": "v2RoCFj2nCx_"
      },
      "execution_count": 107,
      "outputs": []
    },
    {
      "cell_type": "code",
      "source": [
        "CM = sl.metrics.confusion_matrix(y_true=Y_test,y_pred=y_pred)\n",
        "sb.heatmap(CM,annot=True )\n",
        "plt.xlabel('Predicted')\n",
        "plt.ylabel('True')\n",
        "plt.show()"
      ],
      "metadata": {
        "colab": {
          "base_uri": "https://localhost:8080/",
          "height": 279
        },
        "id": "Mc0nMdI-nLLh",
        "outputId": "074d2040-1efb-4dbd-9452-0c902ebbb1b9"
      },
      "execution_count": 108,
      "outputs": [
        {
          "output_type": "display_data",
          "data": {
            "text/plain": [
              "<Figure size 432x288 with 2 Axes>"
            ],
            "image/png": "[encoded data removed]"
          },
          "metadata": {
            "needs_background": "light"
          }
        }
      ]
    },
    {
      "cell_type": "code",
      "source": [
        ""
      ],
      "metadata": {
        "id": "Gms0RwWSnREY"
      },
      "execution_count": null,
      "outputs": []
    }
  ],
  "metadata": {
    "colab": {
      "collapsed_sections": [],
      "name": "RNN.ipynb",
      "provenance": [],
      "authorship_tag": "ABX9TyPsEXimN2bY7AuNQiLCVAgu",
      "include_colab_link": true
    },
    "kernelspec": {
      "display_name": "Python 3",
      "name": "python3"
    },
    "language_info": {
      "name": "python"
    }
  },
  "nbformat": 4,
  "nbformat_minor": 0
}