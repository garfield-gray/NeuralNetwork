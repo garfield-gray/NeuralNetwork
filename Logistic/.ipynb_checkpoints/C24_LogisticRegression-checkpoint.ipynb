{
 "cells": [
  {
   "cell_type": "markdown",
   "metadata": {
    "id": "zO0dmGsw--iJ"
   },
   "source": [
    "# Example 24.3"
   ]
  },
  {
   "cell_type": "code",
   "execution_count": null,
   "metadata": {
    "id": "LLB5vD6jqdnu"
   },
   "outputs": [],
   "source": [
    "from sklearn import datasets\n",
    "from sklearn.decomposition import PCA\n",
    "import numpy as np\n",
    "from numpy import array,hstack,ones,zeros,arange,random,exp\n",
    "\n",
    "data = datasets.load_iris()\n",
    "D = data.data\n",
    "Dr = PCA(0.95).fit_transform(D)\n",
    "n,d = Dr.shape\n",
    "k = 3\n",
    "\n",
    "dict = {0:[1,0,0],\n",
    "        1:[0,1,0],\n",
    "        2:[0,0,1]}\n",
    "Y = array(list(map(lambda x:dict[x],data.target)))\n",
    "X = hstack((ones((n,1)),Dr))\n",
    "\n",
    "def Pij(Wj,Xi):\n",
    "    return exp(Wj.T @ Xi)/sum(exp(Wj.T @ Xi))\n",
    "\n",
    "W0 = np.random.randn(k,d+1)\n",
    "W = W0.copy()\n",
    "\n",
    "i = 10\n",
    "Pij\n",
    "# eta,eps = 0.005,1e-4\n",
    "# epoch = 1\n",
    "\n",
    "# while True:\n",
    "#     ii = arange(n)\n",
    "#     random.shuffle(ii)\n",
    "#     for i in ii:\n",
    "#         W[:2] = W0[:2] + eta*((Y[i]-exp(W0@X[i])/sum(exp(W0@X[i]))).reshape((k,1))*X[i].reshape((1,d+1)))[:2]\n",
    "#         chg = np.all(abs(W[:2]-W0[:2])) < eps\n",
    "#         W0 = W.copy()\n",
    "#     epoch += 1\n",
    "#     if (chg) | (epoch > 1e3): break\n",
    "    \n",
    "# print(W.round(3))"
   ]
  },
  {
   "cell_type": "code",
   "execution_count": 1,
   "metadata": {
    "id": "2LOKzYxxGaec"
   },
   "outputs": [
    {
     "name": "stdout",
     "output_type": "stream",
     "text": [
      "[[ 0.031 -9.267  3.002]\n",
      " [ 6.393 -4.764  2.967]\n",
      " [ 0.     0.     0.   ]]\n"
     ]
    }
   ],
   "source": [
    "from sklearn import datasets\n",
    "from sklearn.decomposition import PCA\n",
    "import numpy as np\n",
    "from numpy import array,hstack,ones,zeros,arange,random,exp\n",
    "\n",
    "data = datasets.load_iris()\n",
    "D = data.data\n",
    "Dr = PCA(0.95).fit_transform(D)\n",
    "n,d = Dr.shape\n",
    "k = 3\n",
    "\n",
    "dict = {0:[1,0,0],\n",
    "        1:[0,1,0],\n",
    "        2:[0,0,1]}\n",
    "Y = array(list(map(lambda x:dict[x],data.target)))\n",
    "X = hstack((ones((n,1)),Dr))\n",
    "\n",
    "W0 = zeros((k,d+1))\n",
    "W = W0.copy()\n",
    "\n",
    "eta,eps = 0.005,1e-4\n",
    "epoch = 1\n",
    "\n",
    "while True:\n",
    "    ii = arange(n)\n",
    "    random.shuffle(ii)\n",
    "    for i in ii:\n",
    "        W[:2] = W0[:2] + eta*((Y[i]-exp(W0@X[i])/sum(exp(W0@X[i]))).reshape((k,1))*X[i].reshape((1,d+1)))[:2]\n",
    "        chg = np.all(abs(W[:2]-W0[:2])) < eps\n",
    "        W0 = W.copy()\n",
    "    epoch += 1\n",
    "    if (chg) | (epoch > 1e3): break\n",
    "    \n",
    "print(W.round(3))"
   ]
  },
  {
   "cell_type": "code",
   "execution_count": 3,
   "metadata": {
    "id": "aM0N0nUgrnHT"
   },
   "outputs": [
    {
     "data": {
      "text/plain": [
       "(array([0. , 0.8, 0.2]), array([0, 1, 0]))"
      ]
     },
     "execution_count": 3,
     "metadata": {},
     "output_type": "execute_result"
    }
   ],
   "source": [
    "i = 87\n",
    "(exp(W@X[i])/sum(exp(W@X[i]))).round(2),Y[i]"
   ]
  },
  {
   "cell_type": "code",
   "execution_count": null,
   "metadata": {
    "id": "j87MP1APIeeE"
   },
   "outputs": [],
   "source": [
    "Y[i] , exp(W0.T @ X[i])/exp(W0.T @ X[i]).sum()"
   ]
  },
  {
   "cell_type": "code",
   "execution_count": null,
   "metadata": {
    "id": "n1uEkQ0WKKlR"
   },
   "outputs": [],
   "source": []
  }
 ],
 "metadata": {
  "colab": {
   "collapsed_sections": [],
   "name": "C24_LogisticRegression.ipynb",
   "private_outputs": true,
   "provenance": []
  },
  "kernelspec": {
   "display_name": "Python 3 (ipykernel)",
   "language": "python",
   "name": "python3"
  },
  "language_info": {
   "codemirror_mode": {
    "name": "ipython",
    "version": 3
   },
   "file_extension": ".py",
   "mimetype": "text/x-python",
   "name": "python",
   "nbconvert_exporter": "python",
   "pygments_lexer": "ipython3",
   "version": "3.8.12"
  }
 },
 "nbformat": 4,
 "nbformat_minor": 1
}
