{
 "cells": [
  {
   "cell_type": "markdown",
   "id": "dd38d60f",
   "metadata": {},
   "source": [
    "$$\n",
    "In\\;the\\;name\\;of\\;God\n",
    "$$\n",
    "Logistc regression"
   ]
  },
  {
   "cell_type": "code",
   "execution_count": 9,
   "id": "2a17224e",
   "metadata": {},
   "outputs": [],
   "source": [
    "import numpy as np\n",
    "import matplotlib.pyplot as plt\n",
    "import random"
   ]
  },
  {
   "cell_type": "code",
   "execution_count": 10,
   "id": "3ac6cafc",
   "metadata": {},
   "outputs": [],
   "source": [
    "def randcir(X, Y, r): # X & Y represent the center & r is for radius\n",
    "    while True:\n",
    "        x = random.random()*2 -1\n",
    "        y = random.random()*2 -1\n",
    "        if x*x + y*y < 1:\n",
    "            return (x*r+X, y*r+Y)\n",
    "        "
   ]
  },
  {
   "cell_type": "code",
   "execution_count": 11,
   "id": "211e787a",
   "metadata": {},
   "outputs": [
    {
     "data": {
      "text/plain": [
       "(1.4950743360416043, 2.2368280206155635)"
      ]
     },
     "execution_count": 11,
     "metadata": {},
     "output_type": "execute_result"
    }
   ],
   "source": [
    "randcir(2, 2, 1)"
   ]
  },
  {
   "cell_type": "code",
   "execution_count": 31,
   "id": "abd0e919",
   "metadata": {},
   "outputs": [
    {
     "data": {
      "image/png": "[encoded data removed]",
      "text/plain": [
       "<Figure size 720x648 with 1 Axes>"
      ]
     },
     "metadata": {
      "needs_background": "light"
     },
     "output_type": "display_data"
    }
   ],
   "source": [
    "l = []\n",
    "w = []\n",
    "for i in range(100):\n",
    "    x, y = randcir(2, 2, 1)\n",
    "    l.append(x)\n",
    "    w.append(y)\n",
    "    \n",
    "for i in range(100):\n",
    "    x, y = randcir(0, 2, 1)\n",
    "    l.append(x)\n",
    "    w.append(y)\n",
    "    \n",
    "    \n",
    "for i in range(100):\n",
    "    x, y = randcir(2, 0, 1)\n",
    "    l.append(x)\n",
    "    w.append(y)\n",
    "\n",
    "plt.figure(figsize=(10,9))    \n",
    "plt.scatter(l, w)\n",
    "\n",
    "plt.show()"
   ]
  },
  {
   "cell_type": "code",
   "execution_count": 12,
   "id": "a842607e",
   "metadata": {},
   "outputs": [],
   "source": [
    "l = []\n",
    "l.append(4)"
   ]
  },
  {
   "cell_type": "code",
   "execution_count": 14,
   "id": "65a0e1a5",
   "metadata": {},
   "outputs": [],
   "source": [
    "l.append(8)"
   ]
  },
  {
   "cell_type": "code",
   "execution_count": 15,
   "id": "ac94a533",
   "metadata": {},
   "outputs": [
    {
     "data": {
      "text/plain": [
       "[4, 8]"
      ]
     },
     "execution_count": 15,
     "metadata": {},
     "output_type": "execute_result"
    }
   ],
   "source": [
    "l"
   ]
  },
  {
   "cell_type": "code",
   "execution_count": null,
   "id": "b20a338b",
   "metadata": {},
   "outputs": [],
   "source": []
  }
 ],
 "metadata": {
  "kernelspec": {
   "display_name": "Python 3 (ipykernel)",
   "language": "python",
   "name": "python3"
  },
  "language_info": {
   "codemirror_mode": {
    "name": "ipython",
    "version": 3
   },
   "file_extension": ".py",
   "mimetype": "text/x-python",
   "name": "python",
   "nbconvert_exporter": "python",
   "pygments_lexer": "ipython3",
   "version": "3.8.12"
  }
 },
 "nbformat": 4,
 "nbformat_minor": 5
}
