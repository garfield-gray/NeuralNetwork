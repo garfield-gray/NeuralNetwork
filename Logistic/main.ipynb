{
 "cells": [
  {
   "cell_type": "markdown",
   "id": "dd38d60f",
   "metadata": {},
   "source": [
    "$$\n",
    "In\\;the\\;name\\;of\\;God \n",
    "\\\\HW2\\;NeuralNetwork\n",
    "\\\\Abbas\\;Mohamadiyan\\;810898059\n",
    "$$"
   ]
  },
  {
   "cell_type": "code",
   "execution_count": 1,
   "id": "2a17224e",
   "metadata": {},
   "outputs": [],
   "source": [
    "import numpy as np\n",
    "import matplotlib.pyplot as plt\n",
    "import random"
   ]
  },
  {
   "cell_type": "code",
   "execution_count": 8,
   "id": "3ac6cafc",
   "metadata": {},
   "outputs": [],
   "source": [
    "def randcir(X, Y, r): # X & Y represent the center & r is for radius\n",
    "    while True:\n",
    "        x = random.random()*2 -1\n",
    "        y = random.random()*2 -1\n",
    "        if x*x + y*y < 1:\n",
    "            return (x*r+X, y*r+Y)\n",
    "        "
   ]
  },
  {
   "cell_type": "code",
   "execution_count": 9,
   "id": "abd0e919",
   "metadata": {},
   "outputs": [
    {
     "data": {
      "image/png": "[encoded data removed]",
      "text/plain": [
       "<Figure size 720x648 with 1 Axes>"
      ]
     },
     "metadata": {
      "needs_background": "light"
     },
     "output_type": "display_data"
    }
   ],
   "source": [
    "l = []\n",
    "w = []\n",
    "y0 = []\n",
    "for i in range(100):\n",
    "    x, y = randcir(2, 2, 1)\n",
    "    l.append(x)\n",
    "    w.append(y)\n",
    "    y0.append(0)\n",
    "    \n",
    "for i in range(100):\n",
    "    x, y = randcir(0, 2, 1)\n",
    "    l.append(x)\n",
    "    w.append(y)\n",
    "    y0.append(1)\n",
    "    \n",
    "for i in range(100):\n",
    "    x, y = randcir(2, 0, 1)\n",
    "    l.append(x)\n",
    "    w.append(y)\n",
    "    y0.append(2)\n",
    "    \n",
    "plt.figure(figsize=(10,9))    \n",
    "plt.scatter(l, w)\n",
    "\n",
    "plt.show()"
   ]
  },
  {
   "cell_type": "code",
   "execution_count": 10,
   "id": "230c48e6",
   "metadata": {},
   "outputs": [],
   "source": [
    "Dy = np.hstack((l, w, y0))\n",
    "Dy = np.reshape(Dy, (300, 3), order='F') #the order 'F' was a tough one!\n",
    "np.random.shuffle(Dy)\n",
    "D = Dy[:,0:2]\n",
    "ys = Dy[:,2]\n",
    "n,d = D.shape\n",
    "k = 3\n",
    "Dic = {0:[1,0,0],\n",
    "       1:[0,1,0],\n",
    "       2:[0,0,1]}\n",
    "\n",
    "Y = np.array(list(map(lambda x:Dic[x],ys)))\n",
    "X = np.hstack((np.ones((n,1)),D))\n"
   ]
  },
  {
   "cell_type": "code",
   "execution_count": 11,
   "id": "ddaeee4e",
   "metadata": {},
   "outputs": [
    {
     "name": "stdout",
     "output_type": "stream",
     "text": [
      "(210, 3)\n",
      "(45, 3)\n",
      "(45, 3)\n"
     ]
    }
   ],
   "source": [
    "trsize = int(0.7*n)\n",
    "vasize = int(0.85*n)\n",
    "Xt = X[0:trsize, :] ; Yt = Y[0:trsize]\n",
    "Xv = X[trsize:vasize, :] ; Yv = Y[trsize:vasize]\n",
    "Xte = X[vasize:n, :] ; Yte = Y[vasize:n]\n",
    "print(Xt.shape)\n",
    "print(Xv.shape)\n",
    "print(Xte.shape)"
   ]
  },
  {
   "cell_type": "code",
   "execution_count": 12,
   "id": "ba88aa8d",
   "metadata": {},
   "outputs": [
    {
     "name": "stdout",
     "output_type": "stream",
     "text": [
      "[ True  True  True]\n",
      "[ True  True  True]\n",
      "[ True  True  True]\n"
     ]
    }
   ],
   "source": [
    "print(X[209,:] == Xt[209,:])\n",
    "print(X[210,:] == Xv[0,:])\n",
    "print(X[255,:] == Xte[0,:])"
   ]
  },
  {
   "cell_type": "code",
   "execution_count": 13,
   "id": "2a790994",
   "metadata": {},
   "outputs": [
    {
     "name": "stdout",
     "output_type": "stream",
     "text": [
      "[[-6.036 -0.523  7.234]\n",
      " [ 3.023 -9.353  7.169]\n",
      " [ 0.     0.     0.   ]]\n"
     ]
    }
   ],
   "source": [
    "W0 = np.zeros((k,d+1))\n",
    "W = W0.copy()\n",
    "\n",
    "eta,eps = 0.005,1e-4\n",
    "epoch = 1\n",
    "\n",
    "\n",
    "while True:\n",
    "    ii = np.arange(trsize)\n",
    "    np.random.shuffle(ii)\n",
    "    for i in ii:\n",
    "        W[:2] = W0[:2] + eta*((Yt[i]-np.exp(W0@Xt[i])/sum(np.exp(W0@Xt[i]))).reshape((k,1))*Xt[i].reshape((1,d+1)))[:2]\n",
    "        chg = np.all(abs(W[:2]-W0[:2])) < eps\n",
    "        W0 = W.copy()\n",
    "    epoch += 1\n",
    "    if (chg) | (epoch > 1e3): break\n",
    "    \n",
    "print(W.round(3))"
   ]
  },
  {
   "cell_type": "code",
   "execution_count": 14,
   "id": "244c9d4a",
   "metadata": {},
   "outputs": [
    {
     "data": {
      "text/plain": [
       "(array([0.18, 0.  , 0.82]), array([0, 0, 1]))"
      ]
     },
     "execution_count": 14,
     "metadata": {},
     "output_type": "execute_result"
    }
   ],
   "source": [
    "i = 22\n",
    "(np.exp(W@Xt[i])/sum(np.exp(W@Xt[i]))).round(2),Yt[i]"
   ]
  },
  {
   "cell_type": "markdown",
   "id": "33fa1057",
   "metadata": {},
   "source": [
    "$$\n",
    "sorry\n",
    "\\\\I\\;ran\\;out\\;of\\;time\n",
    "$$"
   ]
  },
  {
   "cell_type": "code",
   "execution_count": 28,
   "id": "f6efbd65",
   "metadata": {},
   "outputs": [
    {
     "name": "stdout",
     "output_type": "stream",
     "text": [
      "[[-6.03590145 -0.52334749  7.23396964]\n",
      " [ 3.02322791 -9.35280633  7.16929269]\n",
      " [ 0.          0.          0.        ]]\n",
      "[1.         1.29494867 1.68662268]\n"
     ]
    },
    {
     "data": {
      "text/plain": [
       "array([5.48736769, 3.00371541, 0.        ])"
      ]
     },
     "execution_count": 28,
     "metadata": {},
     "output_type": "execute_result"
    }
   ],
   "source": [
    "print(W)\n",
    "print(Xt[67])\n",
    "W@Xt[67]"
   ]
  },
  {
   "cell_type": "code",
   "execution_count": null,
   "id": "d0483194",
   "metadata": {},
   "outputs": [],
   "source": []
  },
  {
   "cell_type": "code",
   "execution_count": 3,
   "id": "0609b775",
   "metadata": {},
   "outputs": [],
   "source": [
    "W0 = np.zeros((3,3))\n",
    "W = W0.copy()\n"
   ]
  },
  {
   "cell_type": "code",
   "execution_count": 7,
   "id": "f3805a42",
   "metadata": {},
   "outputs": [
    {
     "data": {
      "text/plain": [
       "array([[0., 0., 0.],\n",
       "       [0., 0., 0.]])"
      ]
     },
     "execution_count": 7,
     "metadata": {},
     "output_type": "execute_result"
    }
   ],
   "source": [
    "W[:2]"
   ]
  },
  {
   "cell_type": "code",
   "execution_count": null,
   "id": "71245d2a",
   "metadata": {},
   "outputs": [],
   "source": []
  }
 ],
 "metadata": {
  "kernelspec": {
   "display_name": "Python 3 (ipykernel)",
   "language": "python",
   "name": "python3"
  },
  "language_info": {
   "codemirror_mode": {
    "name": "ipython",
    "version": 3
   },
   "file_extension": ".py",
   "mimetype": "text/x-python",
   "name": "python",
   "nbconvert_exporter": "python",
   "pygments_lexer": "ipython3",
   "version": "3.8.12"
  }
 },
 "nbformat": 4,
 "nbformat_minor": 5
}
